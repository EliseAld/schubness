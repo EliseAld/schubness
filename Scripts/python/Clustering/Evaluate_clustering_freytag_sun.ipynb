{
 "cells": [
  {
   "cell_type": "code",
   "execution_count": 1,
   "metadata": {},
   "outputs": [],
   "source": [
    "import sys\n",
    "sys.path.append('..')\n",
    "import os\n",
    "import sklearn.metrics.cluster\n",
    "import sklearn.cluster\n",
    "import seaborn as sns\n",
    "import scanpy as sc\n",
    "import sklearn as sk\n",
    "from sklearn.neighbors import NearestNeighbors\n",
    "import matplotlib as mpl\n",
    "from matplotlib import pyplot as plt\n",
    "import skdim\n",
    "import seaborn as sns\n",
    "import time\n",
    "import numpy as np\n",
    "import pandas as pd\n",
    "import pickle\n",
    "import rpy2.robjects as ro\n",
    "import rpy2.robjects.numpy2ri\n",
    "import rpy2.robjects.packages as rpackages\n",
    "import utils\n",
    "import anndata2ri\n",
    "import gc\n",
    "import benchmark_common_functions\n",
    "from itertools import product\n",
    "\n",
    "anndata2ri.activate()\n",
    "ro.numpy2ri.activate()\n",
    "readRDS = ro.r['readRDS']\n",
    "%load_ext rpy2.ipython"
   ]
  },
  {
   "cell_type": "markdown",
   "metadata": {},
   "source": [
    "# Run raw datasets"
   ]
  },
  {
   "cell_type": "code",
   "execution_count": 2,
   "metadata": {},
   "outputs": [],
   "source": [
    "rootdir = '../data/Freytag_datasets/'\n",
    "exclude=['sce_full_PBMC3k1.rds', 'sce_full_PBMC3k2.rds', 'sce_full_PBMC4k1.rds', 'sce_full_PBMC4k2.rds']\n",
    "fnames = os.listdir(rootdir)\n",
    "fnames = [f for f in fnames if f not in exclude and 'labels' not in f]\n",
    "\n",
    "resdir = '../results/Freytag_datasets/'\n",
    "\n",
    "#get_res_path_raw = lambda fname: f'{resdir}{fname}_norm{do_norm}_scale{norm_scale}_pca{do_pca}_ncomps{n_comps}_{metric}_weighted{weighted}_knn{n_neighbors}_seed{seed}.pkl'\n",
    "get_res_path_raw = lambda fname: f'{resdir}{fname}_norm{do_norm}_scale{norm_scale}_pca{do_pca}_ncomps{n_comps}_{metric}_weighted{weighted}_knn_sqrt_seed{seed}.pkl'\n",
    "get_res_path_raw_sc = lambda fname: f'{resdir}{fname}_norm{do_norm}_scale{norm_scale}_pca{do_pca}_ncomps{n_comps}_{metric}_weighted{weighted}_knn_sqrt_seed{seed}_scanpyhubness.pkl'"
   ]
  },
  {
   "cell_type": "code",
   "execution_count": 3,
   "metadata": {},
   "outputs": [],
   "source": [
    "#fixed params\n",
    "do_log = True\n",
    "do_pca = True\n",
    "n_neighbors = 10\n",
    "seed = 0\n",
    "\n",
    "#vary params\n",
    "metric=('cosine','euclidean')\n",
    "n_comps=(25,50,100,500)\n",
    "weighted=(True,)\n",
    "do_norm = ('duo','seurat',)#,'zheng17')\n",
    "norm_scale = (True,False)\n",
    "params_list = list(product(metric,n_comps,weighted,do_norm,norm_scale))"
   ]
  },
  {
   "cell_type": "code",
   "execution_count": 4,
   "metadata": {},
   "outputs": [
    {
     "name": "stdout",
     "output_type": "stream",
     "text": [
      "cosine 25 True duo True\n",
      "cosine 25 True duo False\n",
      "cosine 25 True seurat True\n",
      "cosine 25 True seurat False\n",
      "cosine 50 True duo True\n",
      "cosine 50 True duo False\n",
      "cosine 50 True seurat True\n",
      "cosine 50 True seurat False\n",
      "cosine 100 True duo True\n",
      "cosine 100 True duo False\n",
      "cosine 100 True seurat True\n",
      "cosine 100 True seurat False\n",
      "cosine 500 True duo True\n",
      "cosine 500 True duo False\n",
      "cosine 500 True seurat True\n",
      "cosine 500 True seurat False\n",
      "euclidean 25 True duo True\n",
      "euclidean 25 True duo False\n",
      "euclidean 25 True seurat True\n",
      "euclidean 25 True seurat False\n",
      "euclidean 50 True duo True\n",
      "euclidean 50 True duo False\n",
      "euclidean 50 True seurat True\n",
      "euclidean 50 True seurat False\n",
      "euclidean 100 True duo True\n",
      "euclidean 100 True duo False\n",
      "euclidean 100 True seurat True\n",
      "euclidean 100 True seurat False\n",
      "euclidean 500 True duo True\n",
      "euclidean 500 True duo False\n",
      "euclidean 500 True seurat True\n",
      "euclidean 500 True seurat False\n"
     ]
    }
   ],
   "source": [
    "for metric,n_comps,weighted,do_norm,norm_scale in params_list:\n",
    "    print(metric,n_comps,weighted,do_norm,norm_scale)\n",
    "    for fname in fnames:\n",
    "        if get_res_path_raw(fname).split('/')[-1] in os.listdir(resdir):\n",
    "            continue\n",
    "        print('\\t\\t'+fname.split('/')[-1])\n",
    "        \n",
    "        if 'PBMC' in fname:\n",
    "            adata = sc.read(rootdir+fname).T\n",
    "            adata.obs['phenoid'] = pd.read_csv(rootdir+fname[:-4]+'_labels.csv')['x'].values        \n",
    "        else:\n",
    "            adata = readRDS(rootdir+fname)\n",
    "            \n",
    "        results_dict = benchmark_common_functions.clustering_analysis(\n",
    "            adata,\n",
    "            true_labels = adata.obs['phenoid'],\n",
    "            do_norm = do_norm,\n",
    "            norm_scale = norm_scale,\n",
    "            do_log = do_log,\n",
    "            do_pca = do_pca,\n",
    "            n_neighbors=int(round(np.sqrt(len(adata)))),\n",
    "            n_clusters= adata.obs['phenoid'].nunique(),\n",
    "            metric=metric,\n",
    "            weighted=weighted,  #weighted adjmat for louvain/leiden clustering ?\n",
    "            seed=seed,\n",
    "            n_comps=n_comps\n",
    "        )\n",
    "\n",
    "        with open(get_res_path_raw(fname.split('/')[-1]),'wb') as f:\n",
    "            pickle.dump(results_dict,f)\n",
    "        %xdel adata\n",
    "        gc.collect()"
   ]
  },
  {
   "cell_type": "code",
   "execution_count": 4,
   "metadata": {},
   "outputs": [
    {
     "name": "stdout",
     "output_type": "stream",
     "text": [
      "cosine 25 True duo True\n",
      "\t\tsce_full_ChuBatch1.rds\n"
     ]
    },
    {
     "name": "stderr",
     "output_type": "stream",
     "text": [
      "/home/jo/anaconda3/envs/w/lib/python3.7/site-packages/pandas/core/arrays/categorical.py:2487: FutureWarning: The `inplace` parameter in pandas.Categorical.remove_unused_categories is deprecated and will be removed in a future version.\n",
      "  res = method(*args, **kwargs)\n"
     ]
    },
    {
     "name": "stdout",
     "output_type": "stream",
     "text": [
      "\t\tduo norm retained 5000 genes\n",
      "\t\t\tScoring: 0.41 mn\n",
      "\t\tsce_full_ChuBatch2.rds\n"
     ]
    },
    {
     "name": "stderr",
     "output_type": "stream",
     "text": [
      "/home/jo/anaconda3/envs/w/lib/python3.7/site-packages/pandas/core/arrays/categorical.py:2487: FutureWarning: The `inplace` parameter in pandas.Categorical.remove_unused_categories is deprecated and will be removed in a future version.\n",
      "  res = method(*args, **kwargs)\n"
     ]
    },
    {
     "name": "stdout",
     "output_type": "stream",
     "text": [
      "\t\tduo norm retained 5000 genes\n",
      "\t\t\tScoring: 0.12 mn\n",
      "\t\tsce_full_FreytagGold.rds\n"
     ]
    },
    {
     "name": "stderr",
     "output_type": "stream",
     "text": [
      "/home/jo/anaconda3/envs/w/lib/python3.7/site-packages/pandas/core/arrays/categorical.py:2487: FutureWarning: The `inplace` parameter in pandas.Categorical.remove_unused_categories is deprecated and will be removed in a future version.\n",
      "  res = method(*args, **kwargs)\n"
     ]
    },
    {
     "name": "stdout",
     "output_type": "stream",
     "text": [
      "\t\tduo norm retained 5000 genes\n",
      "\t\t\tScoring: 0.36 mn\n",
      "\t\tsce_full_PBMC3k1.csv\n",
      "\t\tduo norm retained 5000 genes\n",
      "\t\t\tScoring: 0.58 mn\n",
      "\t\tsce_full_PBMC3k2.csv\n",
      "\t\tduo norm retained 5000 genes\n",
      "\t\t\tScoring: 0.4 mn\n",
      "\t\tsce_full_PBMC4k1.csv\n",
      "\t\tduo norm retained 5000 genes\n",
      "\t\t\tScoring: 1.18 mn\n",
      "\t\tsce_full_PBMC4k2.csv\n",
      "\t\tduo norm retained 5000 genes\n",
      "\t\t\tScoring: 0.48 mn\n",
      "cosine 25 True duo False\n",
      "\t\tsce_full_ChuBatch1.rds\n"
     ]
    },
    {
     "name": "stderr",
     "output_type": "stream",
     "text": [
      "/home/jo/anaconda3/envs/w/lib/python3.7/site-packages/pandas/core/arrays/categorical.py:2487: FutureWarning: The `inplace` parameter in pandas.Categorical.remove_unused_categories is deprecated and will be removed in a future version.\n",
      "  res = method(*args, **kwargs)\n"
     ]
    },
    {
     "name": "stdout",
     "output_type": "stream",
     "text": [
      "\t\tduo norm retained 5000 genes\n",
      "\t\t\tScoring: 0.05 mn\n",
      "\t\tsce_full_ChuBatch2.rds\n"
     ]
    },
    {
     "name": "stderr",
     "output_type": "stream",
     "text": [
      "/home/jo/anaconda3/envs/w/lib/python3.7/site-packages/pandas/core/arrays/categorical.py:2487: FutureWarning: The `inplace` parameter in pandas.Categorical.remove_unused_categories is deprecated and will be removed in a future version.\n",
      "  res = method(*args, **kwargs)\n"
     ]
    },
    {
     "name": "stdout",
     "output_type": "stream",
     "text": [
      "\t\tduo norm retained 5000 genes\n",
      "\t\t\tScoring: 0.18 mn\n",
      "\t\tsce_full_FreytagGold.rds\n"
     ]
    },
    {
     "name": "stderr",
     "output_type": "stream",
     "text": [
      "/home/jo/anaconda3/envs/w/lib/python3.7/site-packages/pandas/core/arrays/categorical.py:2487: FutureWarning: The `inplace` parameter in pandas.Categorical.remove_unused_categories is deprecated and will be removed in a future version.\n",
      "  res = method(*args, **kwargs)\n"
     ]
    },
    {
     "name": "stdout",
     "output_type": "stream",
     "text": [
      "\t\tduo norm retained 5000 genes\n",
      "\t\t\tScoring: 0.14 mn\n",
      "\t\tsce_full_PBMC3k1.csv\n",
      "\t\tduo norm retained 5000 genes\n",
      "\t\t\tScoring: 0.64 mn\n",
      "\t\tsce_full_PBMC3k2.csv\n",
      "\t\tduo norm retained 5000 genes\n",
      "\t\t\tScoring: 0.54 mn\n",
      "\t\tsce_full_PBMC4k1.csv\n",
      "\t\tduo norm retained 5000 genes\n",
      "\t\t\tScoring: 0.81 mn\n",
      "\t\tsce_full_PBMC4k2.csv\n",
      "\t\tduo norm retained 5000 genes\n",
      "\t\t\tScoring: 0.66 mn\n",
      "cosine 25 True seurat True\n",
      "\t\tsce_full_ChuBatch1.rds\n"
     ]
    },
    {
     "name": "stderr",
     "output_type": "stream",
     "text": [
      "/home/jo/anaconda3/envs/w/lib/python3.7/site-packages/pandas/core/arrays/categorical.py:2487: FutureWarning: The `inplace` parameter in pandas.Categorical.remove_unused_categories is deprecated and will be removed in a future version.\n",
      "  res = method(*args, **kwargs)\n"
     ]
    },
    {
     "name": "stdout",
     "output_type": "stream",
     "text": [
      "\t\tseurat norm retained 5448 genes\n",
      "\t\t\tScoring: 0.03 mn\n",
      "\t\tsce_full_ChuBatch2.rds\n"
     ]
    },
    {
     "name": "stderr",
     "output_type": "stream",
     "text": [
      "/home/jo/anaconda3/envs/w/lib/python3.7/site-packages/pandas/core/arrays/categorical.py:2487: FutureWarning: The `inplace` parameter in pandas.Categorical.remove_unused_categories is deprecated and will be removed in a future version.\n",
      "  res = method(*args, **kwargs)\n"
     ]
    },
    {
     "name": "stdout",
     "output_type": "stream",
     "text": [
      "\t\tseurat norm retained 5445 genes\n",
      "\t\t\tScoring: 0.09 mn\n",
      "\t\tsce_full_FreytagGold.rds\n"
     ]
    },
    {
     "name": "stderr",
     "output_type": "stream",
     "text": [
      "/home/jo/anaconda3/envs/w/lib/python3.7/site-packages/pandas/core/arrays/categorical.py:2487: FutureWarning: The `inplace` parameter in pandas.Categorical.remove_unused_categories is deprecated and will be removed in a future version.\n",
      "  res = method(*args, **kwargs)\n"
     ]
    },
    {
     "name": "stdout",
     "output_type": "stream",
     "text": [
      "\t\tseurat norm retained 4033 genes\n",
      "\t\t\tScoring: 0.2 mn\n",
      "\t\tsce_full_PBMC3k1.csv\n",
      "\t\tseurat norm retained 2404 genes\n",
      "\t\t\tScoring: 1.0 mn\n",
      "\t\tsce_full_PBMC3k2.csv\n",
      "\t\tseurat norm retained 1852 genes\n",
      "\t\t\tScoring: 0.3 mn\n",
      "\t\tsce_full_PBMC4k1.csv\n",
      "\t\tseurat norm retained 2234 genes\n",
      "\t\t\tScoring: 0.61 mn\n",
      "\t\tsce_full_PBMC4k2.csv\n",
      "\t\tseurat norm retained 1757 genes\n",
      "\t\t\tScoring: 0.4 mn\n",
      "cosine 25 True seurat False\n",
      "\t\tsce_full_ChuBatch1.rds\n"
     ]
    },
    {
     "name": "stderr",
     "output_type": "stream",
     "text": [
      "/home/jo/anaconda3/envs/w/lib/python3.7/site-packages/pandas/core/arrays/categorical.py:2487: FutureWarning: The `inplace` parameter in pandas.Categorical.remove_unused_categories is deprecated and will be removed in a future version.\n",
      "  res = method(*args, **kwargs)\n"
     ]
    },
    {
     "name": "stdout",
     "output_type": "stream",
     "text": [
      "\t\tseurat norm retained 5448 genes\n",
      "\t\t\tScoring: 0.13 mn\n",
      "\t\tsce_full_ChuBatch2.rds\n"
     ]
    },
    {
     "name": "stderr",
     "output_type": "stream",
     "text": [
      "/home/jo/anaconda3/envs/w/lib/python3.7/site-packages/pandas/core/arrays/categorical.py:2487: FutureWarning: The `inplace` parameter in pandas.Categorical.remove_unused_categories is deprecated and will be removed in a future version.\n",
      "  res = method(*args, **kwargs)\n"
     ]
    },
    {
     "name": "stdout",
     "output_type": "stream",
     "text": [
      "\t\tseurat norm retained 5445 genes\n",
      "\t\t\tScoring: 0.07 mn\n",
      "\t\tsce_full_FreytagGold.rds\n"
     ]
    },
    {
     "name": "stderr",
     "output_type": "stream",
     "text": [
      "/home/jo/anaconda3/envs/w/lib/python3.7/site-packages/pandas/core/arrays/categorical.py:2487: FutureWarning: The `inplace` parameter in pandas.Categorical.remove_unused_categories is deprecated and will be removed in a future version.\n",
      "  res = method(*args, **kwargs)\n"
     ]
    },
    {
     "name": "stdout",
     "output_type": "stream",
     "text": [
      "\t\tseurat norm retained 4033 genes\n",
      "\t\t\tScoring: 0.36 mn\n",
      "\t\tsce_full_PBMC3k1.csv\n",
      "\t\tseurat norm retained 2404 genes\n",
      "\t\t\tScoring: 0.46 mn\n",
      "\t\tsce_full_PBMC3k2.csv\n",
      "\t\tseurat norm retained 1852 genes\n",
      "\t\t\tScoring: 0.36 mn\n",
      "\t\tsce_full_PBMC4k1.csv\n",
      "\t\tseurat norm retained 2234 genes\n",
      "\t\t\tScoring: 0.61 mn\n",
      "\t\tsce_full_PBMC4k2.csv\n",
      "\t\tseurat norm retained 1757 genes\n",
      "\t\t\tScoring: 0.48 mn\n",
      "cosine 50 True duo True\n",
      "\t\tsce_full_ChuBatch1.rds\n"
     ]
    },
    {
     "name": "stderr",
     "output_type": "stream",
     "text": [
      "/home/jo/anaconda3/envs/w/lib/python3.7/site-packages/pandas/core/arrays/categorical.py:2487: FutureWarning: The `inplace` parameter in pandas.Categorical.remove_unused_categories is deprecated and will be removed in a future version.\n",
      "  res = method(*args, **kwargs)\n"
     ]
    },
    {
     "name": "stdout",
     "output_type": "stream",
     "text": [
      "\t\tduo norm retained 5000 genes\n",
      "\t\t\tScoring: 0.18 mn\n",
      "\t\tsce_full_ChuBatch2.rds\n"
     ]
    },
    {
     "name": "stderr",
     "output_type": "stream",
     "text": [
      "/home/jo/anaconda3/envs/w/lib/python3.7/site-packages/pandas/core/arrays/categorical.py:2487: FutureWarning: The `inplace` parameter in pandas.Categorical.remove_unused_categories is deprecated and will be removed in a future version.\n",
      "  res = method(*args, **kwargs)\n"
     ]
    },
    {
     "name": "stdout",
     "output_type": "stream",
     "text": [
      "\t\tduo norm retained 5000 genes\n",
      "\t\t\tScoring: 0.12 mn\n",
      "\t\tsce_full_FreytagGold.rds\n"
     ]
    },
    {
     "name": "stderr",
     "output_type": "stream",
     "text": [
      "/home/jo/anaconda3/envs/w/lib/python3.7/site-packages/pandas/core/arrays/categorical.py:2487: FutureWarning: The `inplace` parameter in pandas.Categorical.remove_unused_categories is deprecated and will be removed in a future version.\n",
      "  res = method(*args, **kwargs)\n"
     ]
    },
    {
     "name": "stdout",
     "output_type": "stream",
     "text": [
      "\t\tduo norm retained 5000 genes\n",
      "\t\t\tScoring: 0.14 mn\n",
      "\t\tsce_full_PBMC3k1.csv\n",
      "\t\tduo norm retained 5000 genes\n",
      "\t\t\tScoring: 0.77 mn\n",
      "\t\tsce_full_PBMC3k2.csv\n",
      "\t\tduo norm retained 5000 genes\n",
      "\t\t\tScoring: 0.7 mn\n",
      "\t\tsce_full_PBMC4k1.csv\n",
      "\t\tduo norm retained 5000 genes\n",
      "\t\t\tScoring: 0.76 mn\n",
      "\t\tsce_full_PBMC4k2.csv\n",
      "\t\tduo norm retained 5000 genes\n",
      "\t\t\tScoring: 0.49 mn\n",
      "cosine 50 True duo False\n",
      "\t\tsce_full_ChuBatch1.rds\n"
     ]
    },
    {
     "name": "stderr",
     "output_type": "stream",
     "text": [
      "/home/jo/anaconda3/envs/w/lib/python3.7/site-packages/pandas/core/arrays/categorical.py:2487: FutureWarning: The `inplace` parameter in pandas.Categorical.remove_unused_categories is deprecated and will be removed in a future version.\n",
      "  res = method(*args, **kwargs)\n"
     ]
    },
    {
     "name": "stdout",
     "output_type": "stream",
     "text": [
      "\t\tduo norm retained 5000 genes\n",
      "\t\t\tScoring: 0.19 mn\n",
      "\t\tsce_full_ChuBatch2.rds\n"
     ]
    },
    {
     "name": "stderr",
     "output_type": "stream",
     "text": [
      "/home/jo/anaconda3/envs/w/lib/python3.7/site-packages/pandas/core/arrays/categorical.py:2487: FutureWarning: The `inplace` parameter in pandas.Categorical.remove_unused_categories is deprecated and will be removed in a future version.\n",
      "  res = method(*args, **kwargs)\n"
     ]
    },
    {
     "name": "stdout",
     "output_type": "stream",
     "text": [
      "\t\tduo norm retained 5000 genes\n",
      "\t\t\tScoring: 0.13 mn\n",
      "\t\tsce_full_FreytagGold.rds\n"
     ]
    },
    {
     "name": "stderr",
     "output_type": "stream",
     "text": [
      "/home/jo/anaconda3/envs/w/lib/python3.7/site-packages/pandas/core/arrays/categorical.py:2487: FutureWarning: The `inplace` parameter in pandas.Categorical.remove_unused_categories is deprecated and will be removed in a future version.\n",
      "  res = method(*args, **kwargs)\n"
     ]
    },
    {
     "name": "stdout",
     "output_type": "stream",
     "text": [
      "\t\tduo norm retained 5000 genes\n",
      "\t\t\tScoring: 0.25 mn\n",
      "\t\tsce_full_PBMC3k1.csv\n",
      "\t\tduo norm retained 5000 genes\n",
      "\t\t\tScoring: 0.96 mn\n",
      "\t\tsce_full_PBMC3k2.csv\n",
      "\t\tduo norm retained 5000 genes\n",
      "\t\t\tScoring: 0.66 mn\n",
      "\t\tsce_full_PBMC4k1.csv\n",
      "\t\tduo norm retained 5000 genes\n",
      "\t\t\tScoring: 1.04 mn\n",
      "\t\tsce_full_PBMC4k2.csv\n",
      "\t\tduo norm retained 5000 genes\n",
      "\t\t\tScoring: 0.64 mn\n",
      "cosine 50 True seurat True\n",
      "\t\tsce_full_ChuBatch1.rds\n"
     ]
    },
    {
     "name": "stderr",
     "output_type": "stream",
     "text": [
      "/home/jo/anaconda3/envs/w/lib/python3.7/site-packages/pandas/core/arrays/categorical.py:2487: FutureWarning: The `inplace` parameter in pandas.Categorical.remove_unused_categories is deprecated and will be removed in a future version.\n",
      "  res = method(*args, **kwargs)\n"
     ]
    },
    {
     "name": "stdout",
     "output_type": "stream",
     "text": [
      "\t\tseurat norm retained 5448 genes\n",
      "\t\t\tScoring: 0.05 mn\n",
      "\t\tsce_full_ChuBatch2.rds\n"
     ]
    },
    {
     "name": "stderr",
     "output_type": "stream",
     "text": [
      "/home/jo/anaconda3/envs/w/lib/python3.7/site-packages/pandas/core/arrays/categorical.py:2487: FutureWarning: The `inplace` parameter in pandas.Categorical.remove_unused_categories is deprecated and will be removed in a future version.\n",
      "  res = method(*args, **kwargs)\n"
     ]
    },
    {
     "name": "stdout",
     "output_type": "stream",
     "text": [
      "\t\tseurat norm retained 5445 genes\n",
      "\t\t\tScoring: 0.05 mn\n",
      "\t\tsce_full_FreytagGold.rds\n"
     ]
    },
    {
     "name": "stderr",
     "output_type": "stream",
     "text": [
      "/home/jo/anaconda3/envs/w/lib/python3.7/site-packages/pandas/core/arrays/categorical.py:2487: FutureWarning: The `inplace` parameter in pandas.Categorical.remove_unused_categories is deprecated and will be removed in a future version.\n",
      "  res = method(*args, **kwargs)\n"
     ]
    },
    {
     "name": "stdout",
     "output_type": "stream",
     "text": [
      "\t\tseurat norm retained 4033 genes\n",
      "\t\t\tScoring: 0.24 mn\n",
      "\t\tsce_full_PBMC3k1.csv\n",
      "\t\tseurat norm retained 2404 genes\n",
      "\t\t\tScoring: 0.7 mn\n",
      "\t\tsce_full_PBMC3k2.csv\n",
      "\t\tseurat norm retained 1852 genes\n",
      "\t\t\tScoring: 0.44 mn\n",
      "\t\tsce_full_PBMC4k1.csv\n",
      "\t\tseurat norm retained 2234 genes\n",
      "\t\t\tScoring: 0.85 mn\n",
      "\t\tsce_full_PBMC4k2.csv\n",
      "\t\tseurat norm retained 1757 genes\n",
      "\t\t\tScoring: 1.41 mn\n",
      "cosine 50 True seurat False\n",
      "\t\tsce_full_ChuBatch1.rds\n"
     ]
    },
    {
     "name": "stderr",
     "output_type": "stream",
     "text": [
      "/home/jo/anaconda3/envs/w/lib/python3.7/site-packages/pandas/core/arrays/categorical.py:2487: FutureWarning: The `inplace` parameter in pandas.Categorical.remove_unused_categories is deprecated and will be removed in a future version.\n",
      "  res = method(*args, **kwargs)\n"
     ]
    },
    {
     "name": "stdout",
     "output_type": "stream",
     "text": [
      "\t\tseurat norm retained 5448 genes\n",
      "\t\t\tScoring: 0.08 mn\n",
      "\t\tsce_full_ChuBatch2.rds\n"
     ]
    },
    {
     "name": "stderr",
     "output_type": "stream",
     "text": [
      "/home/jo/anaconda3/envs/w/lib/python3.7/site-packages/pandas/core/arrays/categorical.py:2487: FutureWarning: The `inplace` parameter in pandas.Categorical.remove_unused_categories is deprecated and will be removed in a future version.\n",
      "  res = method(*args, **kwargs)\n"
     ]
    },
    {
     "name": "stdout",
     "output_type": "stream",
     "text": [
      "\t\tseurat norm retained 5445 genes\n",
      "\t\t\tScoring: 0.1 mn\n",
      "\t\tsce_full_FreytagGold.rds\n"
     ]
    },
    {
     "name": "stderr",
     "output_type": "stream",
     "text": [
      "/home/jo/anaconda3/envs/w/lib/python3.7/site-packages/pandas/core/arrays/categorical.py:2487: FutureWarning: The `inplace` parameter in pandas.Categorical.remove_unused_categories is deprecated and will be removed in a future version.\n",
      "  res = method(*args, **kwargs)\n"
     ]
    },
    {
     "name": "stdout",
     "output_type": "stream",
     "text": [
      "\t\tseurat norm retained 4033 genes\n",
      "\t\t\tScoring: 0.1 mn\n",
      "\t\tsce_full_PBMC3k1.csv\n",
      "\t\tseurat norm retained 2404 genes\n",
      "\t\t\tScoring: 0.61 mn\n",
      "\t\tsce_full_PBMC3k2.csv\n",
      "\t\tseurat norm retained 1852 genes\n",
      "\t\t\tScoring: 0.42 mn\n",
      "\t\tsce_full_PBMC4k1.csv\n",
      "\t\tseurat norm retained 2234 genes\n",
      "\t\t\tScoring: 0.53 mn\n",
      "\t\tsce_full_PBMC4k2.csv\n",
      "\t\tseurat norm retained 1757 genes\n",
      "\t\t\tScoring: 0.68 mn\n",
      "cosine 100 True duo True\n",
      "\t\tsce_full_ChuBatch1.rds\n"
     ]
    },
    {
     "name": "stderr",
     "output_type": "stream",
     "text": [
      "/home/jo/anaconda3/envs/w/lib/python3.7/site-packages/pandas/core/arrays/categorical.py:2487: FutureWarning: The `inplace` parameter in pandas.Categorical.remove_unused_categories is deprecated and will be removed in a future version.\n",
      "  res = method(*args, **kwargs)\n"
     ]
    },
    {
     "name": "stdout",
     "output_type": "stream",
     "text": [
      "\t\tduo norm retained 5000 genes\n",
      "\t\t\tScoring: 0.14 mn\n",
      "\t\tsce_full_ChuBatch2.rds\n"
     ]
    },
    {
     "name": "stderr",
     "output_type": "stream",
     "text": [
      "/home/jo/anaconda3/envs/w/lib/python3.7/site-packages/pandas/core/arrays/categorical.py:2487: FutureWarning: The `inplace` parameter in pandas.Categorical.remove_unused_categories is deprecated and will be removed in a future version.\n",
      "  res = method(*args, **kwargs)\n"
     ]
    },
    {
     "name": "stdout",
     "output_type": "stream",
     "text": [
      "\t\tduo norm retained 5000 genes\n",
      "\t\t\tScoring: 0.11 mn\n",
      "\t\tsce_full_FreytagGold.rds\n"
     ]
    },
    {
     "name": "stderr",
     "output_type": "stream",
     "text": [
      "/home/jo/anaconda3/envs/w/lib/python3.7/site-packages/pandas/core/arrays/categorical.py:2487: FutureWarning: The `inplace` parameter in pandas.Categorical.remove_unused_categories is deprecated and will be removed in a future version.\n",
      "  res = method(*args, **kwargs)\n"
     ]
    },
    {
     "name": "stdout",
     "output_type": "stream",
     "text": [
      "\t\tduo norm retained 5000 genes\n",
      "\t\t\tScoring: 0.48 mn\n",
      "\t\tsce_full_PBMC3k1.csv\n",
      "\t\tduo norm retained 5000 genes\n",
      "\t\t\tScoring: 0.68 mn\n",
      "\t\tsce_full_PBMC3k2.csv\n",
      "\t\tduo norm retained 5000 genes\n",
      "\t\t\tScoring: 0.62 mn\n",
      "\t\tsce_full_PBMC4k1.csv\n",
      "\t\tduo norm retained 5000 genes\n",
      "\t\t\tScoring: 0.94 mn\n",
      "\t\tsce_full_PBMC4k2.csv\n",
      "\t\tduo norm retained 5000 genes\n",
      "\t\t\tScoring: 0.86 mn\n",
      "cosine 100 True duo False\n",
      "\t\tsce_full_ChuBatch1.rds\n"
     ]
    },
    {
     "name": "stderr",
     "output_type": "stream",
     "text": [
      "/home/jo/anaconda3/envs/w/lib/python3.7/site-packages/pandas/core/arrays/categorical.py:2487: FutureWarning: The `inplace` parameter in pandas.Categorical.remove_unused_categories is deprecated and will be removed in a future version.\n",
      "  res = method(*args, **kwargs)\n"
     ]
    },
    {
     "name": "stdout",
     "output_type": "stream",
     "text": [
      "\t\tduo norm retained 5000 genes\n",
      "\t\t\tScoring: 0.07 mn\n",
      "\t\tsce_full_ChuBatch2.rds\n"
     ]
    },
    {
     "name": "stderr",
     "output_type": "stream",
     "text": [
      "/home/jo/anaconda3/envs/w/lib/python3.7/site-packages/pandas/core/arrays/categorical.py:2487: FutureWarning: The `inplace` parameter in pandas.Categorical.remove_unused_categories is deprecated and will be removed in a future version.\n",
      "  res = method(*args, **kwargs)\n"
     ]
    },
    {
     "name": "stdout",
     "output_type": "stream",
     "text": [
      "\t\tduo norm retained 5000 genes\n",
      "\t\t\tScoring: 0.05 mn\n",
      "\t\tsce_full_FreytagGold.rds\n"
     ]
    },
    {
     "name": "stderr",
     "output_type": "stream",
     "text": [
      "/home/jo/anaconda3/envs/w/lib/python3.7/site-packages/pandas/core/arrays/categorical.py:2487: FutureWarning: The `inplace` parameter in pandas.Categorical.remove_unused_categories is deprecated and will be removed in a future version.\n",
      "  res = method(*args, **kwargs)\n"
     ]
    },
    {
     "name": "stdout",
     "output_type": "stream",
     "text": [
      "\t\tduo norm retained 5000 genes\n",
      "\t\t\tScoring: 0.13 mn\n",
      "\t\tsce_full_PBMC3k1.csv\n",
      "\t\tduo norm retained 5000 genes\n",
      "\t\t\tScoring: 0.49 mn\n",
      "\t\tsce_full_PBMC3k2.csv\n",
      "\t\tduo norm retained 5000 genes\n",
      "\t\t\tScoring: 0.33 mn\n",
      "\t\tsce_full_PBMC4k1.csv\n",
      "\t\tduo norm retained 5000 genes\n",
      "\t\t\tScoring: 0.69 mn\n",
      "\t\tsce_full_PBMC4k2.csv\n",
      "\t\tduo norm retained 5000 genes\n",
      "\t\t\tScoring: 0.71 mn\n",
      "cosine 100 True seurat True\n",
      "\t\tsce_full_ChuBatch1.rds\n"
     ]
    },
    {
     "name": "stderr",
     "output_type": "stream",
     "text": [
      "/home/jo/anaconda3/envs/w/lib/python3.7/site-packages/pandas/core/arrays/categorical.py:2487: FutureWarning: The `inplace` parameter in pandas.Categorical.remove_unused_categories is deprecated and will be removed in a future version.\n",
      "  res = method(*args, **kwargs)\n"
     ]
    },
    {
     "name": "stdout",
     "output_type": "stream",
     "text": [
      "\t\tseurat norm retained 5448 genes\n",
      "\t\t\tScoring: 0.07 mn\n",
      "\t\tsce_full_ChuBatch2.rds\n"
     ]
    },
    {
     "name": "stderr",
     "output_type": "stream",
     "text": [
      "/home/jo/anaconda3/envs/w/lib/python3.7/site-packages/pandas/core/arrays/categorical.py:2487: FutureWarning: The `inplace` parameter in pandas.Categorical.remove_unused_categories is deprecated and will be removed in a future version.\n",
      "  res = method(*args, **kwargs)\n"
     ]
    },
    {
     "name": "stdout",
     "output_type": "stream",
     "text": [
      "\t\tseurat norm retained 5445 genes\n",
      "\t\t\tScoring: 0.14 mn\n",
      "\t\tsce_full_FreytagGold.rds\n"
     ]
    },
    {
     "name": "stderr",
     "output_type": "stream",
     "text": [
      "/home/jo/anaconda3/envs/w/lib/python3.7/site-packages/pandas/core/arrays/categorical.py:2487: FutureWarning: The `inplace` parameter in pandas.Categorical.remove_unused_categories is deprecated and will be removed in a future version.\n",
      "  res = method(*args, **kwargs)\n"
     ]
    },
    {
     "name": "stdout",
     "output_type": "stream",
     "text": [
      "\t\tseurat norm retained 4033 genes\n",
      "\t\t\tScoring: 0.23 mn\n",
      "\t\tsce_full_PBMC3k1.csv\n",
      "\t\tseurat norm retained 2404 genes\n",
      "\t\t\tScoring: 0.74 mn\n",
      "\t\tsce_full_PBMC3k2.csv\n",
      "\t\tseurat norm retained 1852 genes\n",
      "\t\t\tScoring: 0.43 mn\n",
      "\t\tsce_full_PBMC4k1.csv\n",
      "\t\tseurat norm retained 2234 genes\n",
      "\t\t\tScoring: 1.35 mn\n",
      "\t\tsce_full_PBMC4k2.csv\n",
      "\t\tseurat norm retained 1757 genes\n",
      "\t\t\tScoring: 1.39 mn\n",
      "cosine 100 True seurat False\n",
      "\t\tsce_full_ChuBatch1.rds\n"
     ]
    },
    {
     "name": "stderr",
     "output_type": "stream",
     "text": [
      "/home/jo/anaconda3/envs/w/lib/python3.7/site-packages/pandas/core/arrays/categorical.py:2487: FutureWarning: The `inplace` parameter in pandas.Categorical.remove_unused_categories is deprecated and will be removed in a future version.\n",
      "  res = method(*args, **kwargs)\n"
     ]
    },
    {
     "name": "stdout",
     "output_type": "stream",
     "text": [
      "\t\tseurat norm retained 5448 genes\n",
      "\t\t\tScoring: 0.29 mn\n",
      "\t\tsce_full_ChuBatch2.rds\n"
     ]
    },
    {
     "name": "stderr",
     "output_type": "stream",
     "text": [
      "/home/jo/anaconda3/envs/w/lib/python3.7/site-packages/pandas/core/arrays/categorical.py:2487: FutureWarning: The `inplace` parameter in pandas.Categorical.remove_unused_categories is deprecated and will be removed in a future version.\n",
      "  res = method(*args, **kwargs)\n"
     ]
    },
    {
     "name": "stdout",
     "output_type": "stream",
     "text": [
      "\t\tseurat norm retained 5445 genes\n",
      "\t\t\tScoring: 0.77 mn\n",
      "\t\tsce_full_FreytagGold.rds\n"
     ]
    },
    {
     "name": "stderr",
     "output_type": "stream",
     "text": [
      "/home/jo/anaconda3/envs/w/lib/python3.7/site-packages/pandas/core/arrays/categorical.py:2487: FutureWarning: The `inplace` parameter in pandas.Categorical.remove_unused_categories is deprecated and will be removed in a future version.\n",
      "  res = method(*args, **kwargs)\n"
     ]
    },
    {
     "name": "stdout",
     "output_type": "stream",
     "text": [
      "\t\tseurat norm retained 4033 genes\n",
      "\t\t\tScoring: 0.28 mn\n",
      "\t\tsce_full_PBMC3k1.csv\n",
      "\t\tseurat norm retained 2404 genes\n",
      "\t\t\tScoring: 1.02 mn\n",
      "\t\tsce_full_PBMC3k2.csv\n",
      "\t\tseurat norm retained 1852 genes\n",
      "\t\t\tScoring: 0.32 mn\n",
      "\t\tsce_full_PBMC4k1.csv\n",
      "\t\tseurat norm retained 2234 genes\n",
      "\t\t\tScoring: 1.32 mn\n",
      "\t\tsce_full_PBMC4k2.csv\n",
      "\t\tseurat norm retained 1757 genes\n",
      "\t\t\tScoring: 1.08 mn\n",
      "cosine 500 True duo True\n",
      "\t\tsce_full_ChuBatch1.rds\n"
     ]
    },
    {
     "name": "stderr",
     "output_type": "stream",
     "text": [
      "/home/jo/anaconda3/envs/w/lib/python3.7/site-packages/pandas/core/arrays/categorical.py:2487: FutureWarning: The `inplace` parameter in pandas.Categorical.remove_unused_categories is deprecated and will be removed in a future version.\n",
      "  res = method(*args, **kwargs)\n"
     ]
    },
    {
     "name": "stdout",
     "output_type": "stream",
     "text": [
      "\t\tduo norm retained 5000 genes\n",
      "\t\t\tScoring: 0.54 mn\n",
      "\t\tsce_full_ChuBatch2.rds\n"
     ]
    },
    {
     "name": "stderr",
     "output_type": "stream",
     "text": [
      "/home/jo/anaconda3/envs/w/lib/python3.7/site-packages/pandas/core/arrays/categorical.py:2487: FutureWarning: The `inplace` parameter in pandas.Categorical.remove_unused_categories is deprecated and will be removed in a future version.\n",
      "  res = method(*args, **kwargs)\n"
     ]
    },
    {
     "name": "stdout",
     "output_type": "stream",
     "text": [
      "\t\tduo norm retained 5000 genes\n",
      "\t\t\tScoring: 0.38 mn\n",
      "\t\tsce_full_FreytagGold.rds\n"
     ]
    },
    {
     "name": "stderr",
     "output_type": "stream",
     "text": [
      "/home/jo/anaconda3/envs/w/lib/python3.7/site-packages/pandas/core/arrays/categorical.py:2487: FutureWarning: The `inplace` parameter in pandas.Categorical.remove_unused_categories is deprecated and will be removed in a future version.\n",
      "  res = method(*args, **kwargs)\n"
     ]
    },
    {
     "name": "stdout",
     "output_type": "stream",
     "text": [
      "\t\tduo norm retained 5000 genes\n",
      "\t\t\tScoring: 0.44 mn\n",
      "\t\tsce_full_PBMC3k1.csv\n",
      "\t\tduo norm retained 5000 genes\n",
      "\t\t\tScoring: 2.03 mn\n",
      "\t\tsce_full_PBMC3k2.csv\n",
      "\t\tduo norm retained 5000 genes\n",
      "\t\t\tScoring: 2.23 mn\n",
      "\t\tsce_full_PBMC4k1.csv\n",
      "\t\tduo norm retained 5000 genes\n",
      "\t\t\tScoring: 2.6 mn\n",
      "\t\tsce_full_PBMC4k2.csv\n",
      "\t\tduo norm retained 5000 genes\n",
      "\t\t\tScoring: 1.55 mn\n",
      "cosine 500 True duo False\n",
      "\t\tsce_full_ChuBatch1.rds\n"
     ]
    },
    {
     "name": "stderr",
     "output_type": "stream",
     "text": [
      "/home/jo/anaconda3/envs/w/lib/python3.7/site-packages/pandas/core/arrays/categorical.py:2487: FutureWarning: The `inplace` parameter in pandas.Categorical.remove_unused_categories is deprecated and will be removed in a future version.\n",
      "  res = method(*args, **kwargs)\n"
     ]
    },
    {
     "name": "stdout",
     "output_type": "stream",
     "text": [
      "\t\tduo norm retained 5000 genes\n",
      "\t\t\tScoring: 0.05 mn\n",
      "\t\tsce_full_ChuBatch2.rds\n"
     ]
    },
    {
     "name": "stderr",
     "output_type": "stream",
     "text": [
      "/home/jo/anaconda3/envs/w/lib/python3.7/site-packages/pandas/core/arrays/categorical.py:2487: FutureWarning: The `inplace` parameter in pandas.Categorical.remove_unused_categories is deprecated and will be removed in a future version.\n",
      "  res = method(*args, **kwargs)\n"
     ]
    },
    {
     "name": "stdout",
     "output_type": "stream",
     "text": [
      "\t\tduo norm retained 5000 genes\n",
      "\t\t\tScoring: 0.12 mn\n",
      "\t\tsce_full_FreytagGold.rds\n"
     ]
    },
    {
     "name": "stderr",
     "output_type": "stream",
     "text": [
      "/home/jo/anaconda3/envs/w/lib/python3.7/site-packages/pandas/core/arrays/categorical.py:2487: FutureWarning: The `inplace` parameter in pandas.Categorical.remove_unused_categories is deprecated and will be removed in a future version.\n",
      "  res = method(*args, **kwargs)\n"
     ]
    },
    {
     "name": "stdout",
     "output_type": "stream",
     "text": [
      "\t\tduo norm retained 5000 genes\n",
      "\t\t\tScoring: 0.36 mn\n",
      "\t\tsce_full_PBMC3k1.csv\n",
      "\t\tduo norm retained 5000 genes\n",
      "\t\t\tScoring: 1.76 mn\n",
      "\t\tsce_full_PBMC3k2.csv\n",
      "\t\tduo norm retained 5000 genes\n",
      "\t\t\tScoring: 1.8 mn\n",
      "\t\tsce_full_PBMC4k1.csv\n",
      "\t\tduo norm retained 5000 genes\n",
      "\t\t\tScoring: 1.89 mn\n",
      "\t\tsce_full_PBMC4k2.csv\n",
      "\t\tduo norm retained 5000 genes\n",
      "\t\t\tScoring: 2.18 mn\n",
      "cosine 500 True seurat True\n",
      "\t\tsce_full_ChuBatch1.rds\n"
     ]
    },
    {
     "name": "stderr",
     "output_type": "stream",
     "text": [
      "/home/jo/anaconda3/envs/w/lib/python3.7/site-packages/pandas/core/arrays/categorical.py:2487: FutureWarning: The `inplace` parameter in pandas.Categorical.remove_unused_categories is deprecated and will be removed in a future version.\n",
      "  res = method(*args, **kwargs)\n"
     ]
    },
    {
     "name": "stdout",
     "output_type": "stream",
     "text": [
      "\t\tseurat norm retained 5448 genes\n",
      "\t\t\tScoring: 0.16 mn\n",
      "\t\tsce_full_ChuBatch2.rds\n"
     ]
    },
    {
     "name": "stderr",
     "output_type": "stream",
     "text": [
      "/home/jo/anaconda3/envs/w/lib/python3.7/site-packages/pandas/core/arrays/categorical.py:2487: FutureWarning: The `inplace` parameter in pandas.Categorical.remove_unused_categories is deprecated and will be removed in a future version.\n",
      "  res = method(*args, **kwargs)\n"
     ]
    },
    {
     "name": "stdout",
     "output_type": "stream",
     "text": [
      "\t\tseurat norm retained 5445 genes\n",
      "\t\t\tScoring: 0.12 mn\n",
      "\t\tsce_full_FreytagGold.rds\n"
     ]
    },
    {
     "name": "stderr",
     "output_type": "stream",
     "text": [
      "/home/jo/anaconda3/envs/w/lib/python3.7/site-packages/pandas/core/arrays/categorical.py:2487: FutureWarning: The `inplace` parameter in pandas.Categorical.remove_unused_categories is deprecated and will be removed in a future version.\n",
      "  res = method(*args, **kwargs)\n"
     ]
    },
    {
     "name": "stdout",
     "output_type": "stream",
     "text": [
      "\t\tseurat norm retained 4033 genes\n",
      "\t\t\tScoring: 0.94 mn\n",
      "\t\tsce_full_PBMC3k1.csv\n",
      "\t\tseurat norm retained 2404 genes\n",
      "\t\t\tScoring: 1.25 mn\n",
      "\t\tsce_full_PBMC3k2.csv\n",
      "\t\tseurat norm retained 1852 genes\n",
      "\t\t\tScoring: 0.74 mn\n",
      "\t\tsce_full_PBMC4k1.csv\n",
      "\t\tseurat norm retained 2234 genes\n",
      "\t\t\tScoring: 1.82 mn\n",
      "\t\tsce_full_PBMC4k2.csv\n",
      "\t\tseurat norm retained 1757 genes\n",
      "\t\t\tScoring: 1.06 mn\n",
      "cosine 500 True seurat False\n",
      "\t\tsce_full_ChuBatch1.rds\n"
     ]
    },
    {
     "name": "stderr",
     "output_type": "stream",
     "text": [
      "/home/jo/anaconda3/envs/w/lib/python3.7/site-packages/pandas/core/arrays/categorical.py:2487: FutureWarning: The `inplace` parameter in pandas.Categorical.remove_unused_categories is deprecated and will be removed in a future version.\n",
      "  res = method(*args, **kwargs)\n"
     ]
    },
    {
     "name": "stdout",
     "output_type": "stream",
     "text": [
      "\t\tseurat norm retained 5448 genes\n",
      "\t\t\tScoring: 0.11 mn\n",
      "\t\tsce_full_ChuBatch2.rds\n"
     ]
    },
    {
     "name": "stderr",
     "output_type": "stream",
     "text": [
      "/home/jo/anaconda3/envs/w/lib/python3.7/site-packages/pandas/core/arrays/categorical.py:2487: FutureWarning: The `inplace` parameter in pandas.Categorical.remove_unused_categories is deprecated and will be removed in a future version.\n",
      "  res = method(*args, **kwargs)\n"
     ]
    },
    {
     "name": "stdout",
     "output_type": "stream",
     "text": [
      "\t\tseurat norm retained 5445 genes\n",
      "\t\t\tScoring: 0.11 mn\n",
      "\t\tsce_full_FreytagGold.rds\n"
     ]
    },
    {
     "name": "stderr",
     "output_type": "stream",
     "text": [
      "/home/jo/anaconda3/envs/w/lib/python3.7/site-packages/pandas/core/arrays/categorical.py:2487: FutureWarning: The `inplace` parameter in pandas.Categorical.remove_unused_categories is deprecated and will be removed in a future version.\n",
      "  res = method(*args, **kwargs)\n"
     ]
    },
    {
     "name": "stdout",
     "output_type": "stream",
     "text": [
      "\t\tseurat norm retained 4033 genes\n",
      "\t\t\tScoring: 0.81 mn\n",
      "\t\tsce_full_PBMC3k1.csv\n",
      "\t\tseurat norm retained 2404 genes\n",
      "\t\t\tScoring: 1.85 mn\n",
      "\t\tsce_full_PBMC3k2.csv\n",
      "\t\tseurat norm retained 1852 genes\n",
      "\t\t\tScoring: 0.6 mn\n",
      "\t\tsce_full_PBMC4k1.csv\n",
      "\t\tseurat norm retained 2234 genes\n",
      "\t\t\tScoring: 1.67 mn\n",
      "\t\tsce_full_PBMC4k2.csv\n",
      "\t\tseurat norm retained 1757 genes\n",
      "\t\t\tScoring: 0.79 mn\n",
      "euclidean 25 True duo True\n",
      "\t\tsce_full_ChuBatch1.rds\n"
     ]
    },
    {
     "name": "stderr",
     "output_type": "stream",
     "text": [
      "/home/jo/anaconda3/envs/w/lib/python3.7/site-packages/pandas/core/arrays/categorical.py:2487: FutureWarning: The `inplace` parameter in pandas.Categorical.remove_unused_categories is deprecated and will be removed in a future version.\n",
      "  res = method(*args, **kwargs)\n"
     ]
    },
    {
     "name": "stdout",
     "output_type": "stream",
     "text": [
      "\t\tduo norm retained 5000 genes\n",
      "\t\t\tScoring: 0.08 mn\n",
      "\t\tsce_full_ChuBatch2.rds\n"
     ]
    },
    {
     "name": "stderr",
     "output_type": "stream",
     "text": [
      "/home/jo/anaconda3/envs/w/lib/python3.7/site-packages/pandas/core/arrays/categorical.py:2487: FutureWarning: The `inplace` parameter in pandas.Categorical.remove_unused_categories is deprecated and will be removed in a future version.\n",
      "  res = method(*args, **kwargs)\n"
     ]
    },
    {
     "name": "stdout",
     "output_type": "stream",
     "text": [
      "\t\tduo norm retained 5000 genes\n",
      "\t\t\tScoring: 0.03 mn\n",
      "\t\tsce_full_FreytagGold.rds\n"
     ]
    },
    {
     "name": "stderr",
     "output_type": "stream",
     "text": [
      "/home/jo/anaconda3/envs/w/lib/python3.7/site-packages/pandas/core/arrays/categorical.py:2487: FutureWarning: The `inplace` parameter in pandas.Categorical.remove_unused_categories is deprecated and will be removed in a future version.\n",
      "  res = method(*args, **kwargs)\n"
     ]
    },
    {
     "name": "stdout",
     "output_type": "stream",
     "text": [
      "\t\tduo norm retained 5000 genes\n",
      "\t\t\tScoring: 0.05 mn\n",
      "\t\tsce_full_PBMC3k1.csv\n",
      "\t\tduo norm retained 5000 genes\n",
      "\t\t\tScoring: 0.33 mn\n",
      "\t\tsce_full_PBMC3k2.csv\n",
      "\t\tduo norm retained 5000 genes\n",
      "\t\t\tScoring: 0.15 mn\n",
      "\t\tsce_full_PBMC4k1.csv\n",
      "\t\tduo norm retained 5000 genes\n",
      "\t\t\tScoring: 0.71 mn\n",
      "\t\tsce_full_PBMC4k2.csv\n",
      "\t\tduo norm retained 5000 genes\n",
      "\t\t\tScoring: 0.47 mn\n",
      "euclidean 25 True duo False\n",
      "\t\tsce_full_ChuBatch1.rds\n"
     ]
    },
    {
     "name": "stderr",
     "output_type": "stream",
     "text": [
      "/home/jo/anaconda3/envs/w/lib/python3.7/site-packages/pandas/core/arrays/categorical.py:2487: FutureWarning: The `inplace` parameter in pandas.Categorical.remove_unused_categories is deprecated and will be removed in a future version.\n",
      "  res = method(*args, **kwargs)\n"
     ]
    },
    {
     "name": "stdout",
     "output_type": "stream",
     "text": [
      "\t\tduo norm retained 5000 genes\n",
      "\t\t\tScoring: 0.07 mn\n",
      "\t\tsce_full_ChuBatch2.rds\n"
     ]
    },
    {
     "name": "stderr",
     "output_type": "stream",
     "text": [
      "/home/jo/anaconda3/envs/w/lib/python3.7/site-packages/pandas/core/arrays/categorical.py:2487: FutureWarning: The `inplace` parameter in pandas.Categorical.remove_unused_categories is deprecated and will be removed in a future version.\n",
      "  res = method(*args, **kwargs)\n"
     ]
    },
    {
     "name": "stdout",
     "output_type": "stream",
     "text": [
      "\t\tduo norm retained 5000 genes\n",
      "\t\t\tScoring: 0.03 mn\n",
      "\t\tsce_full_FreytagGold.rds\n"
     ]
    },
    {
     "name": "stderr",
     "output_type": "stream",
     "text": [
      "/home/jo/anaconda3/envs/w/lib/python3.7/site-packages/pandas/core/arrays/categorical.py:2487: FutureWarning: The `inplace` parameter in pandas.Categorical.remove_unused_categories is deprecated and will be removed in a future version.\n",
      "  res = method(*args, **kwargs)\n"
     ]
    },
    {
     "name": "stdout",
     "output_type": "stream",
     "text": [
      "\t\tduo norm retained 5000 genes\n",
      "\t\t\tScoring: 0.16 mn\n",
      "\t\tsce_full_PBMC3k1.csv\n",
      "\t\tduo norm retained 5000 genes\n",
      "\t\t\tScoring: 0.31 mn\n",
      "\t\tsce_full_PBMC3k2.csv\n",
      "\t\tduo norm retained 5000 genes\n",
      "\t\t\tScoring: 0.27 mn\n",
      "\t\tsce_full_PBMC4k1.csv\n",
      "\t\tduo norm retained 5000 genes\n",
      "\t\t\tScoring: 0.93 mn\n",
      "\t\tsce_full_PBMC4k2.csv\n",
      "\t\tduo norm retained 5000 genes\n",
      "\t\t\tScoring: 0.53 mn\n",
      "euclidean 25 True seurat True\n",
      "\t\tsce_full_ChuBatch1.rds\n"
     ]
    },
    {
     "name": "stderr",
     "output_type": "stream",
     "text": [
      "/home/jo/anaconda3/envs/w/lib/python3.7/site-packages/pandas/core/arrays/categorical.py:2487: FutureWarning: The `inplace` parameter in pandas.Categorical.remove_unused_categories is deprecated and will be removed in a future version.\n",
      "  res = method(*args, **kwargs)\n"
     ]
    },
    {
     "name": "stdout",
     "output_type": "stream",
     "text": [
      "\t\tseurat norm retained 5448 genes\n",
      "\t\t\tScoring: 0.06 mn\n",
      "\t\tsce_full_ChuBatch2.rds\n"
     ]
    },
    {
     "name": "stderr",
     "output_type": "stream",
     "text": [
      "/home/jo/anaconda3/envs/w/lib/python3.7/site-packages/pandas/core/arrays/categorical.py:2487: FutureWarning: The `inplace` parameter in pandas.Categorical.remove_unused_categories is deprecated and will be removed in a future version.\n",
      "  res = method(*args, **kwargs)\n"
     ]
    },
    {
     "name": "stdout",
     "output_type": "stream",
     "text": [
      "\t\tseurat norm retained 5445 genes\n",
      "\t\t\tScoring: 0.06 mn\n",
      "\t\tsce_full_FreytagGold.rds\n"
     ]
    },
    {
     "name": "stderr",
     "output_type": "stream",
     "text": [
      "/home/jo/anaconda3/envs/w/lib/python3.7/site-packages/pandas/core/arrays/categorical.py:2487: FutureWarning: The `inplace` parameter in pandas.Categorical.remove_unused_categories is deprecated and will be removed in a future version.\n",
      "  res = method(*args, **kwargs)\n"
     ]
    },
    {
     "name": "stdout",
     "output_type": "stream",
     "text": [
      "\t\tseurat norm retained 4033 genes\n",
      "\t\t\tScoring: 0.06 mn\n",
      "\t\tsce_full_PBMC3k1.csv\n",
      "\t\tseurat norm retained 2404 genes\n",
      "\t\t\tScoring: 0.26 mn\n",
      "\t\tsce_full_PBMC3k2.csv\n",
      "\t\tseurat norm retained 1852 genes\n",
      "\t\t\tScoring: 0.19 mn\n",
      "\t\tsce_full_PBMC4k1.csv\n",
      "\t\tseurat norm retained 2234 genes\n",
      "\t\t\tScoring: 0.41 mn\n",
      "\t\tsce_full_PBMC4k2.csv\n",
      "\t\tseurat norm retained 1757 genes\n",
      "\t\t\tScoring: 0.53 mn\n",
      "euclidean 25 True seurat False\n",
      "\t\tsce_full_ChuBatch1.rds\n"
     ]
    },
    {
     "name": "stderr",
     "output_type": "stream",
     "text": [
      "/home/jo/anaconda3/envs/w/lib/python3.7/site-packages/pandas/core/arrays/categorical.py:2487: FutureWarning: The `inplace` parameter in pandas.Categorical.remove_unused_categories is deprecated and will be removed in a future version.\n",
      "  res = method(*args, **kwargs)\n"
     ]
    },
    {
     "name": "stdout",
     "output_type": "stream",
     "text": [
      "\t\tseurat norm retained 5448 genes\n",
      "\t\t\tScoring: 0.11 mn\n",
      "\t\tsce_full_ChuBatch2.rds\n"
     ]
    },
    {
     "name": "stderr",
     "output_type": "stream",
     "text": [
      "/home/jo/anaconda3/envs/w/lib/python3.7/site-packages/pandas/core/arrays/categorical.py:2487: FutureWarning: The `inplace` parameter in pandas.Categorical.remove_unused_categories is deprecated and will be removed in a future version.\n",
      "  res = method(*args, **kwargs)\n"
     ]
    },
    {
     "name": "stdout",
     "output_type": "stream",
     "text": [
      "\t\tseurat norm retained 5445 genes\n",
      "\t\t\tScoring: 0.09 mn\n",
      "\t\tsce_full_FreytagGold.rds\n"
     ]
    },
    {
     "name": "stderr",
     "output_type": "stream",
     "text": [
      "/home/jo/anaconda3/envs/w/lib/python3.7/site-packages/pandas/core/arrays/categorical.py:2487: FutureWarning: The `inplace` parameter in pandas.Categorical.remove_unused_categories is deprecated and will be removed in a future version.\n",
      "  res = method(*args, **kwargs)\n"
     ]
    },
    {
     "name": "stdout",
     "output_type": "stream",
     "text": [
      "\t\tseurat norm retained 4033 genes\n",
      "\t\t\tScoring: 0.33 mn\n",
      "\t\tsce_full_PBMC3k1.csv\n",
      "\t\tseurat norm retained 2404 genes\n",
      "\t\t\tScoring: 0.35 mn\n",
      "\t\tsce_full_PBMC3k2.csv\n",
      "\t\tseurat norm retained 1852 genes\n",
      "\t\t\tScoring: 0.24 mn\n",
      "\t\tsce_full_PBMC4k1.csv\n",
      "\t\tseurat norm retained 2234 genes\n",
      "\t\t\tScoring: 0.44 mn\n",
      "\t\tsce_full_PBMC4k2.csv\n",
      "\t\tseurat norm retained 1757 genes\n",
      "\t\t\tScoring: 0.39 mn\n",
      "euclidean 50 True duo True\n",
      "\t\tsce_full_ChuBatch1.rds\n"
     ]
    },
    {
     "name": "stderr",
     "output_type": "stream",
     "text": [
      "/home/jo/anaconda3/envs/w/lib/python3.7/site-packages/pandas/core/arrays/categorical.py:2487: FutureWarning: The `inplace` parameter in pandas.Categorical.remove_unused_categories is deprecated and will be removed in a future version.\n",
      "  res = method(*args, **kwargs)\n"
     ]
    },
    {
     "name": "stdout",
     "output_type": "stream",
     "text": [
      "\t\tduo norm retained 5000 genes\n",
      "\t\t\tScoring: 0.04 mn\n",
      "\t\tsce_full_ChuBatch2.rds\n"
     ]
    },
    {
     "name": "stderr",
     "output_type": "stream",
     "text": [
      "/home/jo/anaconda3/envs/w/lib/python3.7/site-packages/pandas/core/arrays/categorical.py:2487: FutureWarning: The `inplace` parameter in pandas.Categorical.remove_unused_categories is deprecated and will be removed in a future version.\n",
      "  res = method(*args, **kwargs)\n"
     ]
    },
    {
     "name": "stdout",
     "output_type": "stream",
     "text": [
      "\t\tduo norm retained 5000 genes\n",
      "\t\t\tScoring: 0.09 mn\n",
      "\t\tsce_full_FreytagGold.rds\n"
     ]
    },
    {
     "name": "stderr",
     "output_type": "stream",
     "text": [
      "/home/jo/anaconda3/envs/w/lib/python3.7/site-packages/pandas/core/arrays/categorical.py:2487: FutureWarning: The `inplace` parameter in pandas.Categorical.remove_unused_categories is deprecated and will be removed in a future version.\n",
      "  res = method(*args, **kwargs)\n"
     ]
    },
    {
     "name": "stdout",
     "output_type": "stream",
     "text": [
      "\t\tduo norm retained 5000 genes\n",
      "\t\t\tScoring: 0.07 mn\n",
      "\t\tsce_full_PBMC3k1.csv\n",
      "\t\tduo norm retained 5000 genes\n",
      "\t\t\tScoring: 0.29 mn\n",
      "\t\tsce_full_PBMC3k2.csv\n",
      "\t\tduo norm retained 5000 genes\n",
      "\t\t\tScoring: 0.41 mn\n",
      "\t\tsce_full_PBMC4k1.csv\n",
      "\t\tduo norm retained 5000 genes\n",
      "\t\t\tScoring: 0.87 mn\n",
      "\t\tsce_full_PBMC4k2.csv\n",
      "\t\tduo norm retained 5000 genes\n",
      "\t\t\tScoring: 0.44 mn\n",
      "euclidean 50 True duo False\n",
      "\t\tsce_full_ChuBatch1.rds\n"
     ]
    },
    {
     "name": "stderr",
     "output_type": "stream",
     "text": [
      "/home/jo/anaconda3/envs/w/lib/python3.7/site-packages/pandas/core/arrays/categorical.py:2487: FutureWarning: The `inplace` parameter in pandas.Categorical.remove_unused_categories is deprecated and will be removed in a future version.\n",
      "  res = method(*args, **kwargs)\n"
     ]
    },
    {
     "name": "stdout",
     "output_type": "stream",
     "text": [
      "\t\tduo norm retained 5000 genes\n",
      "\t\t\tScoring: 0.09 mn\n",
      "\t\tsce_full_ChuBatch2.rds\n"
     ]
    },
    {
     "name": "stderr",
     "output_type": "stream",
     "text": [
      "/home/jo/anaconda3/envs/w/lib/python3.7/site-packages/pandas/core/arrays/categorical.py:2487: FutureWarning: The `inplace` parameter in pandas.Categorical.remove_unused_categories is deprecated and will be removed in a future version.\n",
      "  res = method(*args, **kwargs)\n"
     ]
    },
    {
     "name": "stdout",
     "output_type": "stream",
     "text": [
      "\t\tduo norm retained 5000 genes\n",
      "\t\t\tScoring: 0.04 mn\n",
      "\t\tsce_full_FreytagGold.rds\n"
     ]
    },
    {
     "name": "stderr",
     "output_type": "stream",
     "text": [
      "/home/jo/anaconda3/envs/w/lib/python3.7/site-packages/pandas/core/arrays/categorical.py:2487: FutureWarning: The `inplace` parameter in pandas.Categorical.remove_unused_categories is deprecated and will be removed in a future version.\n",
      "  res = method(*args, **kwargs)\n"
     ]
    },
    {
     "name": "stdout",
     "output_type": "stream",
     "text": [
      "\t\tduo norm retained 5000 genes\n",
      "\t\t\tScoring: 0.12 mn\n",
      "\t\tsce_full_PBMC3k1.csv\n",
      "\t\tduo norm retained 5000 genes\n",
      "\t\t\tScoring: 0.42 mn\n",
      "\t\tsce_full_PBMC3k2.csv\n",
      "\t\tduo norm retained 5000 genes\n",
      "\t\t\tScoring: 0.28 mn\n",
      "\t\tsce_full_PBMC4k1.csv\n",
      "\t\tduo norm retained 5000 genes\n",
      "\t\t\tScoring: 1.04 mn\n",
      "\t\tsce_full_PBMC4k2.csv\n",
      "\t\tduo norm retained 5000 genes\n",
      "\t\t\tScoring: 0.32 mn\n",
      "euclidean 50 True seurat True\n",
      "\t\tsce_full_ChuBatch1.rds\n"
     ]
    },
    {
     "name": "stderr",
     "output_type": "stream",
     "text": [
      "/home/jo/anaconda3/envs/w/lib/python3.7/site-packages/pandas/core/arrays/categorical.py:2487: FutureWarning: The `inplace` parameter in pandas.Categorical.remove_unused_categories is deprecated and will be removed in a future version.\n",
      "  res = method(*args, **kwargs)\n"
     ]
    },
    {
     "name": "stdout",
     "output_type": "stream",
     "text": [
      "\t\tseurat norm retained 5448 genes\n",
      "\t\t\tScoring: 0.12 mn\n",
      "\t\tsce_full_ChuBatch2.rds\n"
     ]
    },
    {
     "name": "stderr",
     "output_type": "stream",
     "text": [
      "/home/jo/anaconda3/envs/w/lib/python3.7/site-packages/pandas/core/arrays/categorical.py:2487: FutureWarning: The `inplace` parameter in pandas.Categorical.remove_unused_categories is deprecated and will be removed in a future version.\n",
      "  res = method(*args, **kwargs)\n"
     ]
    },
    {
     "name": "stdout",
     "output_type": "stream",
     "text": [
      "\t\tseurat norm retained 5445 genes\n",
      "\t\t\tScoring: 0.13 mn\n",
      "\t\tsce_full_FreytagGold.rds\n"
     ]
    },
    {
     "name": "stderr",
     "output_type": "stream",
     "text": [
      "/home/jo/anaconda3/envs/w/lib/python3.7/site-packages/pandas/core/arrays/categorical.py:2487: FutureWarning: The `inplace` parameter in pandas.Categorical.remove_unused_categories is deprecated and will be removed in a future version.\n",
      "  res = method(*args, **kwargs)\n"
     ]
    },
    {
     "name": "stdout",
     "output_type": "stream",
     "text": [
      "\t\tseurat norm retained 4033 genes\n",
      "\t\t\tScoring: 0.17 mn\n",
      "\t\tsce_full_PBMC3k1.csv\n",
      "\t\tseurat norm retained 2404 genes\n",
      "\t\t\tScoring: 0.28 mn\n",
      "\t\tsce_full_PBMC3k2.csv\n",
      "\t\tseurat norm retained 1852 genes\n",
      "\t\t\tScoring: 0.55 mn\n",
      "\t\tsce_full_PBMC4k1.csv\n",
      "\t\tseurat norm retained 2234 genes\n",
      "\t\t\tScoring: 0.95 mn\n",
      "\t\tsce_full_PBMC4k2.csv\n",
      "\t\tseurat norm retained 1757 genes\n",
      "\t\t\tScoring: 0.33 mn\n",
      "euclidean 50 True seurat False\n",
      "\t\tsce_full_ChuBatch1.rds\n"
     ]
    },
    {
     "name": "stderr",
     "output_type": "stream",
     "text": [
      "/home/jo/anaconda3/envs/w/lib/python3.7/site-packages/pandas/core/arrays/categorical.py:2487: FutureWarning: The `inplace` parameter in pandas.Categorical.remove_unused_categories is deprecated and will be removed in a future version.\n",
      "  res = method(*args, **kwargs)\n"
     ]
    },
    {
     "name": "stdout",
     "output_type": "stream",
     "text": [
      "\t\tseurat norm retained 5448 genes\n",
      "\t\t\tScoring: 0.03 mn\n",
      "\t\tsce_full_ChuBatch2.rds\n"
     ]
    },
    {
     "name": "stderr",
     "output_type": "stream",
     "text": [
      "/home/jo/anaconda3/envs/w/lib/python3.7/site-packages/pandas/core/arrays/categorical.py:2487: FutureWarning: The `inplace` parameter in pandas.Categorical.remove_unused_categories is deprecated and will be removed in a future version.\n",
      "  res = method(*args, **kwargs)\n"
     ]
    },
    {
     "name": "stdout",
     "output_type": "stream",
     "text": [
      "\t\tseurat norm retained 5445 genes\n",
      "\t\t\tScoring: 0.07 mn\n",
      "\t\tsce_full_FreytagGold.rds\n"
     ]
    },
    {
     "name": "stderr",
     "output_type": "stream",
     "text": [
      "/home/jo/anaconda3/envs/w/lib/python3.7/site-packages/pandas/core/arrays/categorical.py:2487: FutureWarning: The `inplace` parameter in pandas.Categorical.remove_unused_categories is deprecated and will be removed in a future version.\n",
      "  res = method(*args, **kwargs)\n"
     ]
    },
    {
     "name": "stdout",
     "output_type": "stream",
     "text": [
      "\t\tseurat norm retained 4033 genes\n",
      "\t\t\tScoring: 0.24 mn\n",
      "\t\tsce_full_PBMC3k1.csv\n",
      "\t\tseurat norm retained 2404 genes\n",
      "\t\t\tScoring: 0.3 mn\n",
      "\t\tsce_full_PBMC3k2.csv\n",
      "\t\tseurat norm retained 1852 genes\n",
      "\t\t\tScoring: 0.5 mn\n",
      "\t\tsce_full_PBMC4k1.csv\n",
      "\t\tseurat norm retained 2234 genes\n",
      "\t\t\tScoring: 0.5 mn\n",
      "\t\tsce_full_PBMC4k2.csv\n",
      "\t\tseurat norm retained 1757 genes\n",
      "\t\t\tScoring: 0.4 mn\n",
      "euclidean 100 True duo True\n",
      "\t\tsce_full_ChuBatch1.rds\n"
     ]
    },
    {
     "name": "stderr",
     "output_type": "stream",
     "text": [
      "/home/jo/anaconda3/envs/w/lib/python3.7/site-packages/pandas/core/arrays/categorical.py:2487: FutureWarning: The `inplace` parameter in pandas.Categorical.remove_unused_categories is deprecated and will be removed in a future version.\n",
      "  res = method(*args, **kwargs)\n"
     ]
    },
    {
     "name": "stdout",
     "output_type": "stream",
     "text": [
      "\t\tduo norm retained 5000 genes\n",
      "\t\t\tScoring: 0.03 mn\n",
      "\t\tsce_full_ChuBatch2.rds\n"
     ]
    },
    {
     "name": "stderr",
     "output_type": "stream",
     "text": [
      "/home/jo/anaconda3/envs/w/lib/python3.7/site-packages/pandas/core/arrays/categorical.py:2487: FutureWarning: The `inplace` parameter in pandas.Categorical.remove_unused_categories is deprecated and will be removed in a future version.\n",
      "  res = method(*args, **kwargs)\n"
     ]
    },
    {
     "name": "stdout",
     "output_type": "stream",
     "text": [
      "\t\tduo norm retained 5000 genes\n",
      "\t\t\tScoring: 0.06 mn\n",
      "\t\tsce_full_FreytagGold.rds\n"
     ]
    },
    {
     "name": "stderr",
     "output_type": "stream",
     "text": [
      "/home/jo/anaconda3/envs/w/lib/python3.7/site-packages/pandas/core/arrays/categorical.py:2487: FutureWarning: The `inplace` parameter in pandas.Categorical.remove_unused_categories is deprecated and will be removed in a future version.\n",
      "  res = method(*args, **kwargs)\n"
     ]
    },
    {
     "name": "stdout",
     "output_type": "stream",
     "text": [
      "\t\tduo norm retained 5000 genes\n",
      "\t\t\tScoring: 0.07 mn\n",
      "\t\tsce_full_PBMC3k1.csv\n",
      "\t\tduo norm retained 5000 genes\n",
      "\t\t\tScoring: 1.92 mn\n",
      "\t\tsce_full_PBMC3k2.csv\n",
      "\t\tduo norm retained 5000 genes\n",
      "\t\t\tScoring: 0.39 mn\n",
      "\t\tsce_full_PBMC4k1.csv\n",
      "\t\tduo norm retained 5000 genes\n",
      "\t\t\tScoring: 2.51 mn\n",
      "\t\tsce_full_PBMC4k2.csv\n",
      "\t\tduo norm retained 5000 genes\n",
      "\t\t\tScoring: 1.19 mn\n",
      "euclidean 100 True duo False\n",
      "\t\tsce_full_ChuBatch1.rds\n"
     ]
    },
    {
     "name": "stderr",
     "output_type": "stream",
     "text": [
      "/home/jo/anaconda3/envs/w/lib/python3.7/site-packages/pandas/core/arrays/categorical.py:2487: FutureWarning: The `inplace` parameter in pandas.Categorical.remove_unused_categories is deprecated and will be removed in a future version.\n",
      "  res = method(*args, **kwargs)\n"
     ]
    },
    {
     "name": "stdout",
     "output_type": "stream",
     "text": [
      "\t\tduo norm retained 5000 genes\n",
      "\t\t\tScoring: 0.09 mn\n",
      "\t\tsce_full_ChuBatch2.rds\n"
     ]
    },
    {
     "name": "stderr",
     "output_type": "stream",
     "text": [
      "/home/jo/anaconda3/envs/w/lib/python3.7/site-packages/pandas/core/arrays/categorical.py:2487: FutureWarning: The `inplace` parameter in pandas.Categorical.remove_unused_categories is deprecated and will be removed in a future version.\n",
      "  res = method(*args, **kwargs)\n"
     ]
    },
    {
     "name": "stdout",
     "output_type": "stream",
     "text": [
      "\t\tduo norm retained 5000 genes\n",
      "\t\t\tScoring: 0.11 mn\n",
      "\t\tsce_full_FreytagGold.rds\n"
     ]
    },
    {
     "name": "stderr",
     "output_type": "stream",
     "text": [
      "/home/jo/anaconda3/envs/w/lib/python3.7/site-packages/pandas/core/arrays/categorical.py:2487: FutureWarning: The `inplace` parameter in pandas.Categorical.remove_unused_categories is deprecated and will be removed in a future version.\n",
      "  res = method(*args, **kwargs)\n"
     ]
    },
    {
     "name": "stdout",
     "output_type": "stream",
     "text": [
      "\t\tduo norm retained 5000 genes\n",
      "\t\t\tScoring: 0.14 mn\n",
      "\t\tsce_full_PBMC3k1.csv\n",
      "\t\tduo norm retained 5000 genes\n",
      "\t\t\tScoring: 0.67 mn\n",
      "\t\tsce_full_PBMC3k2.csv\n",
      "\t\tduo norm retained 5000 genes\n",
      "\t\t\tScoring: 0.46 mn\n",
      "\t\tsce_full_PBMC4k1.csv\n",
      "\t\tduo norm retained 5000 genes\n",
      "\t\t\tScoring: 0.55 mn\n",
      "\t\tsce_full_PBMC4k2.csv\n",
      "\t\tduo norm retained 5000 genes\n",
      "\t\t\tScoring: 0.48 mn\n",
      "euclidean 100 True seurat True\n",
      "\t\tsce_full_ChuBatch1.rds\n"
     ]
    },
    {
     "name": "stderr",
     "output_type": "stream",
     "text": [
      "/home/jo/anaconda3/envs/w/lib/python3.7/site-packages/pandas/core/arrays/categorical.py:2487: FutureWarning: The `inplace` parameter in pandas.Categorical.remove_unused_categories is deprecated and will be removed in a future version.\n",
      "  res = method(*args, **kwargs)\n"
     ]
    },
    {
     "name": "stdout",
     "output_type": "stream",
     "text": [
      "\t\tseurat norm retained 5448 genes\n",
      "\t\t\tScoring: 0.07 mn\n",
      "\t\tsce_full_ChuBatch2.rds\n"
     ]
    },
    {
     "name": "stderr",
     "output_type": "stream",
     "text": [
      "/home/jo/anaconda3/envs/w/lib/python3.7/site-packages/pandas/core/arrays/categorical.py:2487: FutureWarning: The `inplace` parameter in pandas.Categorical.remove_unused_categories is deprecated and will be removed in a future version.\n",
      "  res = method(*args, **kwargs)\n"
     ]
    },
    {
     "name": "stdout",
     "output_type": "stream",
     "text": [
      "\t\tseurat norm retained 5445 genes\n",
      "\t\t\tScoring: 0.04 mn\n",
      "\t\tsce_full_FreytagGold.rds\n"
     ]
    },
    {
     "name": "stderr",
     "output_type": "stream",
     "text": [
      "/home/jo/anaconda3/envs/w/lib/python3.7/site-packages/pandas/core/arrays/categorical.py:2487: FutureWarning: The `inplace` parameter in pandas.Categorical.remove_unused_categories is deprecated and will be removed in a future version.\n",
      "  res = method(*args, **kwargs)\n"
     ]
    },
    {
     "name": "stdout",
     "output_type": "stream",
     "text": [
      "\t\tseurat norm retained 4033 genes\n",
      "\t\t\tScoring: 0.16 mn\n",
      "\t\tsce_full_PBMC3k1.csv\n",
      "\t\tseurat norm retained 2404 genes\n",
      "\t\t\tScoring: 0.3 mn\n",
      "\t\tsce_full_PBMC3k2.csv\n",
      "\t\tseurat norm retained 1852 genes\n",
      "\t\t\tScoring: 0.28 mn\n",
      "\t\tsce_full_PBMC4k1.csv\n",
      "\t\tseurat norm retained 2234 genes\n",
      "\t\t\tScoring: 0.84 mn\n",
      "\t\tsce_full_PBMC4k2.csv\n",
      "\t\tseurat norm retained 1757 genes\n",
      "\t\t\tScoring: 0.43 mn\n",
      "euclidean 100 True seurat False\n",
      "\t\tsce_full_ChuBatch1.rds\n"
     ]
    },
    {
     "name": "stderr",
     "output_type": "stream",
     "text": [
      "/home/jo/anaconda3/envs/w/lib/python3.7/site-packages/pandas/core/arrays/categorical.py:2487: FutureWarning: The `inplace` parameter in pandas.Categorical.remove_unused_categories is deprecated and will be removed in a future version.\n",
      "  res = method(*args, **kwargs)\n"
     ]
    },
    {
     "name": "stdout",
     "output_type": "stream",
     "text": [
      "\t\tseurat norm retained 5448 genes\n",
      "\t\t\tScoring: 0.06 mn\n",
      "\t\tsce_full_ChuBatch2.rds\n"
     ]
    },
    {
     "name": "stderr",
     "output_type": "stream",
     "text": [
      "/home/jo/anaconda3/envs/w/lib/python3.7/site-packages/pandas/core/arrays/categorical.py:2487: FutureWarning: The `inplace` parameter in pandas.Categorical.remove_unused_categories is deprecated and will be removed in a future version.\n",
      "  res = method(*args, **kwargs)\n"
     ]
    },
    {
     "name": "stdout",
     "output_type": "stream",
     "text": [
      "\t\tseurat norm retained 5445 genes\n",
      "\t\t\tScoring: 0.05 mn\n",
      "\t\tsce_full_FreytagGold.rds\n"
     ]
    },
    {
     "name": "stderr",
     "output_type": "stream",
     "text": [
      "/home/jo/anaconda3/envs/w/lib/python3.7/site-packages/pandas/core/arrays/categorical.py:2487: FutureWarning: The `inplace` parameter in pandas.Categorical.remove_unused_categories is deprecated and will be removed in a future version.\n",
      "  res = method(*args, **kwargs)\n"
     ]
    },
    {
     "name": "stdout",
     "output_type": "stream",
     "text": [
      "\t\tseurat norm retained 4033 genes\n",
      "\t\t\tScoring: 0.08 mn\n",
      "\t\tsce_full_PBMC3k1.csv\n",
      "\t\tseurat norm retained 2404 genes\n",
      "\t\t\tScoring: 0.32 mn\n",
      "\t\tsce_full_PBMC3k2.csv\n",
      "\t\tseurat norm retained 1852 genes\n",
      "\t\t\tScoring: 0.24 mn\n",
      "\t\tsce_full_PBMC4k1.csv\n",
      "\t\tseurat norm retained 2234 genes\n",
      "\t\t\tScoring: 0.34 mn\n",
      "\t\tsce_full_PBMC4k2.csv\n",
      "\t\tseurat norm retained 1757 genes\n",
      "\t\t\tScoring: 0.26 mn\n",
      "euclidean 500 True duo True\n",
      "\t\tsce_full_ChuBatch1.rds\n"
     ]
    },
    {
     "name": "stderr",
     "output_type": "stream",
     "text": [
      "/home/jo/anaconda3/envs/w/lib/python3.7/site-packages/pandas/core/arrays/categorical.py:2487: FutureWarning: The `inplace` parameter in pandas.Categorical.remove_unused_categories is deprecated and will be removed in a future version.\n",
      "  res = method(*args, **kwargs)\n"
     ]
    },
    {
     "name": "stdout",
     "output_type": "stream",
     "text": [
      "\t\tduo norm retained 5000 genes\n",
      "\t\t\tScoring: 0.04 mn\n",
      "\t\tsce_full_ChuBatch2.rds\n"
     ]
    },
    {
     "name": "stderr",
     "output_type": "stream",
     "text": [
      "/home/jo/anaconda3/envs/w/lib/python3.7/site-packages/pandas/core/arrays/categorical.py:2487: FutureWarning: The `inplace` parameter in pandas.Categorical.remove_unused_categories is deprecated and will be removed in a future version.\n",
      "  res = method(*args, **kwargs)\n"
     ]
    },
    {
     "name": "stdout",
     "output_type": "stream",
     "text": [
      "\t\tduo norm retained 5000 genes\n",
      "\t\t\tScoring: 0.04 mn\n",
      "\t\tsce_full_FreytagGold.rds\n"
     ]
    },
    {
     "name": "stderr",
     "output_type": "stream",
     "text": [
      "/home/jo/anaconda3/envs/w/lib/python3.7/site-packages/pandas/core/arrays/categorical.py:2487: FutureWarning: The `inplace` parameter in pandas.Categorical.remove_unused_categories is deprecated and will be removed in a future version.\n",
      "  res = method(*args, **kwargs)\n"
     ]
    },
    {
     "name": "stdout",
     "output_type": "stream",
     "text": [
      "\t\tduo norm retained 5000 genes\n",
      "\t\t\tScoring: 0.19 mn\n",
      "\t\tsce_full_PBMC3k1.csv\n",
      "\t\tduo norm retained 5000 genes\n",
      "\t\t\tScoring: 0.67 mn\n",
      "\t\tsce_full_PBMC3k2.csv\n",
      "\t\tduo norm retained 5000 genes\n",
      "\t\t\tScoring: 0.62 mn\n",
      "\t\tsce_full_PBMC4k1.csv\n",
      "\t\tduo norm retained 5000 genes\n",
      "\t\t\tScoring: 1.25 mn\n",
      "\t\tsce_full_PBMC4k2.csv\n",
      "\t\tduo norm retained 5000 genes\n",
      "\t\t\tScoring: 1.22 mn\n",
      "euclidean 500 True duo False\n",
      "\t\tsce_full_ChuBatch1.rds\n"
     ]
    },
    {
     "name": "stderr",
     "output_type": "stream",
     "text": [
      "/home/jo/anaconda3/envs/w/lib/python3.7/site-packages/pandas/core/arrays/categorical.py:2487: FutureWarning: The `inplace` parameter in pandas.Categorical.remove_unused_categories is deprecated and will be removed in a future version.\n",
      "  res = method(*args, **kwargs)\n"
     ]
    },
    {
     "name": "stdout",
     "output_type": "stream",
     "text": [
      "\t\tduo norm retained 5000 genes\n",
      "\t\t\tScoring: 0.07 mn\n",
      "\t\tsce_full_ChuBatch2.rds\n"
     ]
    },
    {
     "name": "stderr",
     "output_type": "stream",
     "text": [
      "/home/jo/anaconda3/envs/w/lib/python3.7/site-packages/pandas/core/arrays/categorical.py:2487: FutureWarning: The `inplace` parameter in pandas.Categorical.remove_unused_categories is deprecated and will be removed in a future version.\n",
      "  res = method(*args, **kwargs)\n"
     ]
    },
    {
     "name": "stdout",
     "output_type": "stream",
     "text": [
      "\t\tduo norm retained 5000 genes\n",
      "\t\t\tScoring: 0.08 mn\n",
      "\t\tsce_full_FreytagGold.rds\n"
     ]
    },
    {
     "name": "stderr",
     "output_type": "stream",
     "text": [
      "/home/jo/anaconda3/envs/w/lib/python3.7/site-packages/pandas/core/arrays/categorical.py:2487: FutureWarning: The `inplace` parameter in pandas.Categorical.remove_unused_categories is deprecated and will be removed in a future version.\n",
      "  res = method(*args, **kwargs)\n"
     ]
    },
    {
     "name": "stdout",
     "output_type": "stream",
     "text": [
      "\t\tduo norm retained 5000 genes\n",
      "\t\t\tScoring: 0.26 mn\n",
      "\t\tsce_full_PBMC3k1.csv\n",
      "\t\tduo norm retained 5000 genes\n",
      "\t\t\tScoring: 0.74 mn\n",
      "\t\tsce_full_PBMC3k2.csv\n",
      "\t\tduo norm retained 5000 genes\n",
      "\t\t\tScoring: 0.52 mn\n",
      "\t\tsce_full_PBMC4k1.csv\n",
      "\t\tduo norm retained 5000 genes\n",
      "\t\t\tScoring: 1.21 mn\n",
      "\t\tsce_full_PBMC4k2.csv\n",
      "\t\tduo norm retained 5000 genes\n",
      "\t\t\tScoring: 0.99 mn\n",
      "euclidean 500 True seurat True\n",
      "\t\tsce_full_ChuBatch1.rds\n"
     ]
    },
    {
     "name": "stderr",
     "output_type": "stream",
     "text": [
      "/home/jo/anaconda3/envs/w/lib/python3.7/site-packages/pandas/core/arrays/categorical.py:2487: FutureWarning: The `inplace` parameter in pandas.Categorical.remove_unused_categories is deprecated and will be removed in a future version.\n",
      "  res = method(*args, **kwargs)\n"
     ]
    },
    {
     "name": "stdout",
     "output_type": "stream",
     "text": [
      "\t\tseurat norm retained 5448 genes\n",
      "\t\t\tScoring: 0.08 mn\n",
      "\t\tsce_full_ChuBatch2.rds\n"
     ]
    },
    {
     "name": "stderr",
     "output_type": "stream",
     "text": [
      "/home/jo/anaconda3/envs/w/lib/python3.7/site-packages/pandas/core/arrays/categorical.py:2487: FutureWarning: The `inplace` parameter in pandas.Categorical.remove_unused_categories is deprecated and will be removed in a future version.\n",
      "  res = method(*args, **kwargs)\n"
     ]
    },
    {
     "name": "stdout",
     "output_type": "stream",
     "text": [
      "\t\tseurat norm retained 5445 genes\n",
      "\t\t\tScoring: 0.05 mn\n",
      "\t\tsce_full_FreytagGold.rds\n"
     ]
    },
    {
     "name": "stderr",
     "output_type": "stream",
     "text": [
      "/home/jo/anaconda3/envs/w/lib/python3.7/site-packages/pandas/core/arrays/categorical.py:2487: FutureWarning: The `inplace` parameter in pandas.Categorical.remove_unused_categories is deprecated and will be removed in a future version.\n",
      "  res = method(*args, **kwargs)\n"
     ]
    },
    {
     "name": "stdout",
     "output_type": "stream",
     "text": [
      "\t\tseurat norm retained 4033 genes\n",
      "\t\t\tScoring: 0.27 mn\n",
      "\t\tsce_full_PBMC3k1.csv\n",
      "\t\tseurat norm retained 2404 genes\n",
      "\t\t\tScoring: 0.86 mn\n",
      "\t\tsce_full_PBMC3k2.csv\n",
      "\t\tseurat norm retained 1852 genes\n",
      "\t\t\tScoring: 0.36 mn\n",
      "\t\tsce_full_PBMC4k1.csv\n",
      "\t\tseurat norm retained 2234 genes\n",
      "\t\t\tScoring: 0.95 mn\n",
      "\t\tsce_full_PBMC4k2.csv\n",
      "\t\tseurat norm retained 1757 genes\n",
      "\t\t\tScoring: 0.64 mn\n",
      "euclidean 500 True seurat False\n",
      "\t\tsce_full_ChuBatch1.rds\n"
     ]
    },
    {
     "name": "stderr",
     "output_type": "stream",
     "text": [
      "/home/jo/anaconda3/envs/w/lib/python3.7/site-packages/pandas/core/arrays/categorical.py:2487: FutureWarning: The `inplace` parameter in pandas.Categorical.remove_unused_categories is deprecated and will be removed in a future version.\n",
      "  res = method(*args, **kwargs)\n"
     ]
    },
    {
     "name": "stdout",
     "output_type": "stream",
     "text": [
      "\t\tseurat norm retained 5448 genes\n",
      "\t\t\tScoring: 0.03 mn\n",
      "\t\tsce_full_ChuBatch2.rds\n"
     ]
    },
    {
     "name": "stderr",
     "output_type": "stream",
     "text": [
      "/home/jo/anaconda3/envs/w/lib/python3.7/site-packages/pandas/core/arrays/categorical.py:2487: FutureWarning: The `inplace` parameter in pandas.Categorical.remove_unused_categories is deprecated and will be removed in a future version.\n",
      "  res = method(*args, **kwargs)\n"
     ]
    },
    {
     "name": "stdout",
     "output_type": "stream",
     "text": [
      "\t\tseurat norm retained 5445 genes\n",
      "\t\t\tScoring: 0.06 mn\n",
      "\t\tsce_full_FreytagGold.rds\n"
     ]
    },
    {
     "name": "stderr",
     "output_type": "stream",
     "text": [
      "/home/jo/anaconda3/envs/w/lib/python3.7/site-packages/pandas/core/arrays/categorical.py:2487: FutureWarning: The `inplace` parameter in pandas.Categorical.remove_unused_categories is deprecated and will be removed in a future version.\n",
      "  res = method(*args, **kwargs)\n"
     ]
    },
    {
     "name": "stdout",
     "output_type": "stream",
     "text": [
      "\t\tseurat norm retained 4033 genes\n",
      "\t\t\tScoring: 0.24 mn\n",
      "\t\tsce_full_PBMC3k1.csv\n",
      "\t\tseurat norm retained 2404 genes\n",
      "\t\t\tScoring: 0.4 mn\n",
      "\t\tsce_full_PBMC3k2.csv\n",
      "\t\tseurat norm retained 1852 genes\n",
      "\t\t\tScoring: 0.54 mn\n",
      "\t\tsce_full_PBMC4k1.csv\n",
      "\t\tseurat norm retained 2234 genes\n",
      "\t\t\tScoring: 0.8 mn\n",
      "\t\tsce_full_PBMC4k2.csv\n",
      "\t\tseurat norm retained 1757 genes\n",
      "\t\t\tScoring: 0.43 mn\n"
     ]
    }
   ],
   "source": [
    "for metric,n_comps,weighted,do_norm,norm_scale in params_list:\n",
    "    print(metric,n_comps,weighted,do_norm,norm_scale)\n",
    "    for fname in fnames:\n",
    "        if get_res_path_raw_sc(fname).split('/')[-1] in os.listdir(resdir):\n",
    "            continue\n",
    "        print('\\t\\t'+fname.split('/')[-1])\n",
    "        \n",
    "        if 'PBMC' in fname:\n",
    "            adata = sc.read(rootdir+fname).T\n",
    "            adata.obs['phenoid'] = pd.read_csv(rootdir+fname[:-4]+'_labels.csv')['x'].values        \n",
    "        else:\n",
    "            adata = readRDS(rootdir+fname)\n",
    "            \n",
    "        results_dict = benchmark_common_functions.scanpy_hubness_analysis(\n",
    "            adata,\n",
    "            do_norm = do_norm,\n",
    "            norm_scale = norm_scale,\n",
    "            do_log = do_log,\n",
    "            do_pca = do_pca,\n",
    "            n_neighbors=int(round(np.sqrt(len(adata)))),\n",
    "            metric=metric,\n",
    "            weighted=weighted,  #weighted adjmat for louvain/leiden clustering ?\n",
    "            seed=seed,\n",
    "            n_comps=n_comps\n",
    "        )\n",
    "\n",
    "        with open(get_res_path_raw_sc(fname.split('/')[-1]),'wb') as f:\n",
    "            pickle.dump(results_dict,f)\n",
    "        %xdel adata\n",
    "        gc.collect()"
   ]
  },
  {
   "cell_type": "code",
   "execution_count": null,
   "metadata": {},
   "outputs": [],
   "source": []
  }
 ],
 "metadata": {
  "kernelspec": {
   "display_name": "Python (w)",
   "language": "python",
   "name": "w"
  },
  "language_info": {
   "codemirror_mode": {
    "name": "ipython",
    "version": 3
   },
   "file_extension": ".py",
   "mimetype": "text/x-python",
   "name": "python",
   "nbconvert_exporter": "python",
   "pygments_lexer": "ipython3",
   "version": "3.7.6"
  }
 },
 "nbformat": 4,
 "nbformat_minor": 4
}
