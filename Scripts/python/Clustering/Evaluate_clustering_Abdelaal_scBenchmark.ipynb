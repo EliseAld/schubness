{
 "cells": [
  {
   "cell_type": "code",
   "execution_count": 1,
   "metadata": {},
   "outputs": [
    {
     "name": "stderr",
     "output_type": "stream",
     "text": [
      "/home/jo/anaconda3/envs/w/lib/python3.7/site-packages/outdated/utils.py:18: OutdatedPackageWarning: The package pingouin is out of date. Your version is 0.3.7, the latest is 0.3.10.\n",
      "Set the environment variable OUTDATED_IGNORE=1 to disable these warnings.\n",
      "  **kwargs\n"
     ]
    }
   ],
   "source": [
    "import sys\n",
    "sys.path.append('..')\n",
    "import os\n",
    "import sklearn.metrics.cluster\n",
    "import sklearn.cluster\n",
    "import seaborn as sns\n",
    "import scanpy as sc\n",
    "import sklearn as sk\n",
    "from sklearn.neighbors import NearestNeighbors\n",
    "import matplotlib as mpl\n",
    "from matplotlib import pyplot as plt\n",
    "import seaborn as sns\n",
    "import time\n",
    "import numpy as np\n",
    "import pandas as pd\n",
    "import pickle\n",
    "import utils\n",
    "import anndata\n",
    "import gc\n",
    "import benchmark_common_functions\n",
    "import csv\n",
    "from itertools import product\n",
    "import pingouin as pg"
   ]
  },
  {
   "cell_type": "code",
   "execution_count": 2,
   "metadata": {},
   "outputs": [],
   "source": [
    "base_folder = '../data/scRNAseq_Benchmark_datasets/Intra-dataset/'\n",
    "base_folder2 = '../data/scRNAseq_Benchmark_datasets/Inter-dataset/'\n",
    "resdir = '../results/scRNAseq_Benchmark_datasets/'\n",
    "\n",
    "get_res_path = lambda fname: f'{resdir}{fname}_norm{do_norm}_scale{norm_scale}_pca{do_pca}_ncomps{n_comps}_{metric}_weighted{weighted}_knn_sqrt_seed{seed}.pkl'\n",
    "get_res_path_sc = lambda fname: f'{resdir}{fname}_norm{do_norm}_scale{norm_scale}_pca{do_pca}_ncomps{n_comps}_{metric}_weighted{weighted}_knn_sqrt_seed{seed}_scanpyhubness.pkl'\n",
    "\n",
    "all_data_paths = dict(\n",
    "    #AMB\n",
    "    AMB3={'data':base_folder+'AMB/Filtered_mouse_allen_brain_data.csv',\n",
    "         'labels':base_folder+'AMB/Labels.csv',\n",
    "         'labels_key':'Class'},\n",
    "    \n",
    "    AMB16={'data':base_folder+'AMB/Filtered_mouse_allen_brain_data.csv',\n",
    "         'labels':base_folder+'AMB/Labels.csv',\n",
    "         'labels_key':'Subclass'},\n",
    "    \n",
    "    AMB92={'data':base_folder+'AMB/Filtered_mouse_allen_brain_data.csv',\n",
    "         'labels':base_folder+'AMB/Labels.csv',\n",
    "         'labels_key':'cluster'},\n",
    "    \n",
    "    #CellBench\n",
    "    cellbench1={'data':base_folder+'CellBench/10x_5cl/10x_5cl_data.csv',\n",
    "                'labels':base_folder+'CellBench/10x_5cl/Labels.csv',\n",
    "                'labels_key':'x'},\n",
    "    \n",
    "    cellbench2={'data':base_folder+'CellBench/CelSeq2_5cl/CelSeq2_5cl_data.csv',\n",
    "                'labels':base_folder+'CellBench/CelSeq2_5cl/Labels.csv',\n",
    "                'labels_key':'x'},\n",
    "\n",
    "    #Pancreatic\n",
    "    BaronHuman={'data':base_folder+'Pancreatic_data/Baron Human/Filtered_Baron_HumanPancreas_data.csv',\n",
    "            'labels':base_folder+'Pancreatic_data/Baron Human/Labels.csv',\n",
    "            'labels_key':'x'},\n",
    "    BaronMouse={'data':base_folder+'Pancreatic_data/Baron Mouse/Filtered_MousePancreas_data.csv',\n",
    "                'labels':base_folder+'Pancreatic_data/Baron Mouse/Labels.csv',\n",
    "                'labels_key':'x'},\n",
    "    Muraro={'data':base_folder+'Pancreatic_data/Muraro/Filtered_Muraro_HumanPancreas_data.csv',\n",
    "                'labels':base_folder+'Pancreatic_data/Muraro/Labels.csv',\n",
    "           'labels_key':'x'},\n",
    "    Segerstolpe={'data':base_folder+'Pancreatic_data/Segerstolpe/Filtered_Segerstolpe_HumanPancreas_data.csv',\n",
    "                'labels':base_folder+'Pancreatic_data/Segerstolpe/Labels.csv',\n",
    "                'labels_key':'x'},\n",
    "    Xin={'data':base_folder+'Pancreatic_data/Xin/Filtered_Xin_HumanPancreas_data.csv',\n",
    "                'labels':base_folder+'Pancreatic_data/Xin/Labels.csv',\n",
    "            'labels_key':'x'},\n",
    "    #TM\n",
    "    TM={'data':base_folder+'TM/Filtered_TM_data.csv',\n",
    "        'labels':base_folder+'TM/Labels.csv',\n",
    "        'labels_key':'x'},\n",
    "    #Zheng\n",
    "    Zhengsorted={'data':base_folder+'Zheng sorted/Filtered_DownSampled_SortedPBMC_data.csv',\n",
    "    'labels':base_folder+'Zheng sorted/Labels.csv',\n",
    "    'labels_key':'x'},\n",
    "    \n",
    "    Zheng68k={'data':base_folder+'Zheng 68K/Filtered_68K_PBMC_data.csv',\n",
    "    'labels':base_folder+'Zheng 68K/Labels.csv',\n",
    "    'labels_key':'x'},\n",
    "    \n",
    "    #PbmcBench\n",
    "    PbmcBench_10Xv2={'data':base_folder2+'PbmcBench/10Xv2/10Xv2_pbmc1.csv',\n",
    "            'labels':base_folder2+'PbmcBench/10Xv2/10Xv2_pbmc1Labels.csv'},\n",
    "    PbmcBench_10Xv3={'data':base_folder2+'PbmcBench/10Xv3/10Xv3_pbmc1.csv',\n",
    "            'labels':base_folder2+'10Xv3/10Xv3_pbmc1Labels.csv'},\n",
    "    PbmcBench_CELseq={'data':base_folder2+'PbmcBench/CEL-Seq/CL_pbmc1.csv',\n",
    "            'labels':base_folder2+'PbmcBench/CEL-Seq/CL_pbmc1Labels.csv'},\n",
    "    PbmcBench_Dropseq={'data':base_folder2+'PbmcBench/Drop-Seq/DR_pbmc1.csv',\n",
    "            'labels':base_folder2+'PbmcBench/Drop-Seq/DR_pbmc1Labels.csv'},\n",
    "    PbmcBench_inDrop={'data':base_folder2+'PbmcBench/inDrop/iD_pbmc1.csv',\n",
    "            'labels':base_folder2+'PbmcBench/inDrop/iD_pbmc1Labels.csv'},\n",
    "    PbmcBench_SeqWell={'data':base_folder2+'PbmcBench/Seq-Well/SW_pbmc1.csv',\n",
    "            'labels':base_folder2+'PbmcBench/Seq-Well/SW_pbmc1Labels.csv'},\n",
    "    \n",
    "    PbmcBench_SmartSeq2={'data':base_folder2+'PbmcBench/Smart-Seq2/SM2_pbmc1.csv',\n",
    "            'labels':base_folder2+'PbmcBench/Smart-Seq2/SM2_pbmc1Labels.csv'},\n",
    "    \n",
    "    #SCINA data : moignard, Paul (ignored for now)\n",
    "    #VISP, ALM, MTG\n",
    ")"
   ]
  },
  {
   "cell_type": "markdown",
   "metadata": {},
   "source": [
    "# Run datasets"
   ]
  },
  {
   "cell_type": "code",
   "execution_count": 4,
   "metadata": {},
   "outputs": [],
   "source": [
    "fnames=[i for i in all_data_paths.keys() if 'Pbmc' not in i and 'AMB' not in i and 'TM' not in i and 'Zheng' not in i]"
   ]
  },
  {
   "cell_type": "code",
   "execution_count": 5,
   "metadata": {},
   "outputs": [],
   "source": [
    "#fixed params\n",
    "do_log = True #already done with do_norm\n",
    "do_pca = True\n",
    "#n_neighbors = 10\n",
    "seed = 0\n",
    "\n",
    "#vary params\n",
    "metric=('cosine','euclidean')\n",
    "n_comps=(25,50,100,500)\n",
    "weighted=(True,)\n",
    "do_norm = ('duo','seurat')\n",
    "norm_scale = (True,False)\n",
    "params_list = list(product(metric,n_comps,weighted,do_norm,norm_scale))"
   ]
  },
  {
   "cell_type": "code",
   "execution_count": 5,
   "metadata": {
    "tags": []
   },
   "outputs": [
    {
     "name": "stdout",
     "output_type": "stream",
     "text": [
      "cosine 25 True duo True\n",
      "cosine 25 True duo False\n",
      "cosine 25 True seurat True\n",
      "cosine 25 True seurat False\n",
      "cosine 50 True duo True\n",
      "cosine 50 True duo False\n",
      "cosine 50 True seurat True\n",
      "cosine 50 True seurat False\n",
      "cosine 100 True duo True\n",
      "cosine 100 True duo False\n",
      "cosine 100 True seurat True\n",
      "cosine 100 True seurat False\n",
      "cosine 500 True duo True\n",
      "cosine 500 True duo False\n",
      "cosine 500 True seurat True\n",
      "cosine 500 True seurat False\n",
      "euclidean 25 True duo True\n",
      "euclidean 25 True duo False\n",
      "euclidean 25 True seurat True\n",
      "euclidean 25 True seurat False\n",
      "euclidean 50 True duo True\n",
      "euclidean 50 True duo False\n",
      "euclidean 50 True seurat True\n",
      "euclidean 50 True seurat False\n",
      "euclidean 100 True duo True\n",
      "euclidean 100 True duo False\n",
      "euclidean 100 True seurat True\n",
      "euclidean 100 True seurat False\n",
      "euclidean 500 True duo True\n",
      "euclidean 500 True duo False\n",
      "euclidean 500 True seurat True\n",
      "euclidean 500 True seurat False\n"
     ]
    }
   ],
   "source": [
    "for metric,n_comps,weighted,do_norm,norm_scale in params_list:\n",
    "    print(metric,n_comps,weighted,do_norm,norm_scale)\n",
    "    for fname in fnames:\n",
    "        if get_res_path(fname).split('/')[-1] in os.listdir(resdir):\n",
    "            continue\n",
    "        print('\\t\\t'+fname)\n",
    "        adata = sc.read_csv(all_data_paths[fname]['data'])\n",
    "        adata.obs['labels'] = pd.read_csv(all_data_paths[fname]['labels'])[all_data_paths[fname]['labels_key']].values\n",
    "\n",
    "        results_dict = benchmark_common_functions.clustering_analysis(\n",
    "            adata,\n",
    "            true_labels = adata.obs['labels'],\n",
    "            do_norm = do_norm,\n",
    "            norm_scale = norm_scale,\n",
    "            do_log = do_log,\n",
    "            do_pca = do_pca,\n",
    "            n_neighbors=int(round(np.sqrt(len(adata)))),\n",
    "            n_clusters= adata.obs['labels'].nunique(),\n",
    "            metric=metric,\n",
    "            weighted=weighted,  #weighted adjmat for louvain/leiden clustering ?\n",
    "            seed=seed,\n",
    "            n_comps=n_comps\n",
    "        )\n",
    "\n",
    "        with open(get_res_path(fname),'wb') as f:\n",
    "            pickle.dump(results_dict,f)\n",
    "        %xdel adata\n",
    "        gc.collect()"
   ]
  },
  {
   "cell_type": "code",
   "execution_count": 6,
   "metadata": {
    "tags": []
   },
   "outputs": [
    {
     "name": "stdout",
     "output_type": "stream",
     "text": [
      "cosine 25 True duo True\n",
      "\t\tcellbench1\n",
      "\t\tduo norm retained 5000 genes\n",
      "\t\t\tScoring: 0.25 mn\n",
      "\t\tcellbench2\n",
      "\t\tduo norm retained 5000 genes\n",
      "\t\t\tScoring: 0.03 mn\n",
      "\t\tBaronHuman\n",
      "\t\tduo norm retained 5000 genes\n",
      "\t\t\tScoring: 0.67 mn\n",
      "\t\tBaronMouse\n",
      "\t\tduo norm retained 5000 genes\n",
      "\t\t\tScoring: 0.05 mn\n",
      "\t\tMuraro\n",
      "\t\tduo norm retained 5000 genes\n",
      "\t\t\tScoring: 0.08 mn\n",
      "\t\tSegerstolpe\n",
      "\t\tduo norm retained 5000 genes\n",
      "\t\t\tScoring: 0.11 mn\n",
      "\t\tXin\n",
      "\t\tduo norm retained 5000 genes\n",
      "\t\t\tScoring: 0.05 mn\n",
      "cosine 25 True duo False\n",
      "\t\tcellbench1\n",
      "\t\tduo norm retained 5000 genes\n",
      "\t\t\tScoring: 0.15 mn\n",
      "\t\tcellbench2\n",
      "\t\tduo norm retained 5000 genes\n",
      "\t\t\tScoring: 0.02 mn\n",
      "\t\tBaronHuman\n",
      "\t\tduo norm retained 5000 genes\n",
      "\t\t\tScoring: 0.44 mn\n",
      "\t\tBaronMouse\n",
      "\t\tduo norm retained 5000 genes\n",
      "\t\t\tScoring: 0.07 mn\n",
      "\t\tMuraro\n",
      "\t\tduo norm retained 5000 genes\n",
      "\t\t\tScoring: 0.08 mn\n",
      "\t\tSegerstolpe\n",
      "\t\tduo norm retained 5000 genes\n",
      "\t\t\tScoring: 0.22 mn\n",
      "\t\tXin\n",
      "\t\tduo norm retained 5000 genes\n",
      "\t\t\tScoring: 0.06 mn\n",
      "cosine 25 True seurat True\n",
      "\t\tcellbench1\n",
      "\t\tseurat norm retained 1795 genes\n",
      "\t\t\tScoring: 0.25 mn\n",
      "\t\tcellbench2\n",
      "\t\tseurat norm retained 2793 genes\n",
      "\t\t\tScoring: 0.02 mn\n",
      "\t\tBaronHuman\n",
      "\t\tseurat norm retained 1952 genes\n",
      "\t\t\tScoring: 0.5 mn\n",
      "\t\tBaronMouse\n",
      "\t\tseurat norm retained 2867 genes\n",
      "\t\t\tScoring: 0.09 mn\n",
      "\t\tMuraro\n",
      "\t\tseurat norm retained 2318 genes\n",
      "\t\t\tScoring: 0.13 mn\n",
      "\t\tSegerstolpe\n",
      "\t\tseurat norm retained 5786 genes\n",
      "\t\t\tScoring: 0.12 mn\n",
      "\t\tXin\n",
      "\t\tseurat norm retained 9505 genes\n",
      "\t\t\tScoring: 0.08 mn\n",
      "cosine 25 True seurat False\n",
      "\t\tcellbench1\n",
      "\t\tseurat norm retained 1795 genes\n",
      "\t\t\tScoring: 0.24 mn\n",
      "\t\tcellbench2\n",
      "\t\tseurat norm retained 2793 genes\n",
      "\t\t\tScoring: 0.02 mn\n",
      "\t\tBaronHuman\n",
      "\t\tseurat norm retained 1952 genes\n",
      "\t\t\tScoring: 0.53 mn\n",
      "\t\tBaronMouse\n",
      "\t\tseurat norm retained 2867 genes\n",
      "\t\t\tScoring: 0.12 mn\n",
      "\t\tMuraro\n",
      "\t\tseurat norm retained 2318 genes\n",
      "\t\t\tScoring: 0.12 mn\n",
      "\t\tSegerstolpe\n",
      "\t\tseurat norm retained 5786 genes\n",
      "\t\t\tScoring: 0.15 mn\n",
      "\t\tXin\n",
      "\t\tseurat norm retained 9505 genes\n",
      "\t\t\tScoring: 0.09 mn\n",
      "cosine 50 True duo True\n",
      "\t\tcellbench1\n",
      "\t\tduo norm retained 5000 genes\n",
      "\t\t\tScoring: 0.23 mn\n",
      "\t\tcellbench2\n",
      "\t\tduo norm retained 5000 genes\n",
      "\t\t\tScoring: 0.03 mn\n",
      "\t\tBaronHuman\n",
      "\t\tduo norm retained 5000 genes\n",
      "\t\t\tScoring: 0.65 mn\n",
      "\t\tBaronMouse\n",
      "\t\tduo norm retained 5000 genes\n",
      "\t\t\tScoring: 0.09 mn\n",
      "\t\tMuraro\n",
      "\t\tduo norm retained 5000 genes\n",
      "\t\t\tScoring: 0.1 mn\n",
      "\t\tSegerstolpe\n",
      "\t\tduo norm retained 5000 genes\n",
      "\t\t\tScoring: 0.13 mn\n",
      "\t\tXin\n",
      "\t\tduo norm retained 5000 genes\n",
      "\t\t\tScoring: 0.07 mn\n",
      "cosine 50 True duo False\n",
      "\t\tcellbench1\n",
      "\t\tduo norm retained 5000 genes\n",
      "\t\t\tScoring: 0.22 mn\n",
      "\t\tcellbench2\n",
      "\t\tduo norm retained 5000 genes\n",
      "\t\t\tScoring: 0.02 mn\n",
      "\t\tBaronHuman\n",
      "\t\tduo norm retained 5000 genes\n",
      "\t\t\tScoring: 0.56 mn\n",
      "\t\tBaronMouse\n",
      "\t\tduo norm retained 5000 genes\n",
      "\t\t\tScoring: 0.08 mn\n",
      "\t\tMuraro\n",
      "\t\tduo norm retained 5000 genes\n",
      "\t\t\tScoring: 0.12 mn\n",
      "\t\tSegerstolpe\n",
      "\t\tduo norm retained 5000 genes\n",
      "\t\t\tScoring: 0.13 mn\n",
      "\t\tXin\n",
      "\t\tduo norm retained 5000 genes\n",
      "\t\t\tScoring: 0.1 mn\n",
      "cosine 50 True seurat True\n",
      "\t\tcellbench1\n",
      "\t\tseurat norm retained 1795 genes\n",
      "\t\t\tScoring: 0.21 mn\n",
      "\t\tcellbench2\n",
      "\t\tseurat norm retained 2793 genes\n",
      "\t\t\tScoring: 0.02 mn\n",
      "\t\tBaronHuman\n",
      "\t\tseurat norm retained 1952 genes\n",
      "\t\t\tScoring: 0.54 mn\n",
      "\t\tBaronMouse\n",
      "\t\tseurat norm retained 2867 genes\n",
      "\t\t\tScoring: 0.07 mn\n",
      "\t\tMuraro\n",
      "\t\tseurat norm retained 2318 genes\n",
      "\t\t\tScoring: 0.14 mn\n",
      "\t\tSegerstolpe\n",
      "\t\tseurat norm retained 5786 genes\n",
      "\t\t\tScoring: 0.12 mn\n",
      "\t\tXin\n",
      "\t\tseurat norm retained 9505 genes\n",
      "\t\t\tScoring: 0.11 mn\n",
      "cosine 50 True seurat False\n",
      "\t\tcellbench1\n",
      "\t\tseurat norm retained 1795 genes\n",
      "\t\t\tScoring: 0.18 mn\n",
      "\t\tcellbench2\n",
      "\t\tseurat norm retained 2793 genes\n",
      "\t\t\tScoring: 0.02 mn\n",
      "\t\tBaronHuman\n",
      "\t\tseurat norm retained 1952 genes\n",
      "\t\t\tScoring: 0.57 mn\n",
      "\t\tBaronMouse\n",
      "\t\tseurat norm retained 2867 genes\n",
      "\t\t\tScoring: 0.07 mn\n",
      "\t\tMuraro\n",
      "\t\tseurat norm retained 2318 genes\n",
      "\t\t\tScoring: 0.15 mn\n",
      "\t\tSegerstolpe\n",
      "\t\tseurat norm retained 5786 genes\n",
      "\t\t\tScoring: 0.15 mn\n",
      "\t\tXin\n",
      "\t\tseurat norm retained 9505 genes\n",
      "\t\t\tScoring: 0.1 mn\n",
      "cosine 100 True duo True\n",
      "\t\tcellbench1\n",
      "\t\tduo norm retained 5000 genes\n",
      "\t\t\tScoring: 0.32 mn\n",
      "\t\tcellbench2\n",
      "\t\tduo norm retained 5000 genes\n",
      "\t\t\tScoring: 0.03 mn\n",
      "\t\tBaronHuman\n",
      "\t\tduo norm retained 5000 genes\n",
      "\t\t\tScoring: 0.78 mn\n",
      "\t\tBaronMouse\n",
      "\t\tduo norm retained 5000 genes\n",
      "\t\t\tScoring: 0.14 mn\n",
      "\t\tMuraro\n",
      "\t\tduo norm retained 5000 genes\n",
      "\t\t\tScoring: 0.14 mn\n",
      "\t\tSegerstolpe\n",
      "\t\tduo norm retained 5000 genes\n",
      "\t\t\tScoring: 0.17 mn\n",
      "\t\tXin\n",
      "\t\tduo norm retained 5000 genes\n",
      "\t\t\tScoring: 0.12 mn\n",
      "cosine 100 True duo False\n",
      "\t\tcellbench1\n",
      "\t\tduo norm retained 5000 genes\n",
      "\t\t\tScoring: 0.29 mn\n",
      "\t\tcellbench2\n",
      "\t\tduo norm retained 5000 genes\n",
      "\t\t\tScoring: 0.03 mn\n",
      "\t\tBaronHuman\n",
      "\t\tduo norm retained 5000 genes\n",
      "\t\t\tScoring: 0.78 mn\n",
      "\t\tBaronMouse\n",
      "\t\tduo norm retained 5000 genes\n",
      "\t\t\tScoring: 0.13 mn\n",
      "\t\tMuraro\n",
      "\t\tduo norm retained 5000 genes\n",
      "\t\t\tScoring: 0.21 mn\n",
      "\t\tSegerstolpe\n",
      "\t\tduo norm retained 5000 genes\n",
      "\t\t\tScoring: 0.24 mn\n",
      "\t\tXin\n",
      "\t\tduo norm retained 5000 genes\n",
      "\t\t\tScoring: 0.13 mn\n",
      "cosine 100 True seurat True\n",
      "\t\tcellbench1\n",
      "\t\tseurat norm retained 1795 genes\n",
      "\t\t\tScoring: 0.23 mn\n",
      "\t\tcellbench2\n",
      "\t\tseurat norm retained 2793 genes\n",
      "\t\t\tScoring: 0.12 mn\n",
      "\t\tBaronHuman\n",
      "\t\tseurat norm retained 1952 genes\n",
      "\t\t\tScoring: 0.59 mn\n",
      "\t\tBaronMouse\n",
      "\t\tseurat norm retained 2867 genes\n",
      "\t\t\tScoring: 0.13 mn\n",
      "\t\tMuraro\n",
      "\t\tseurat norm retained 2318 genes\n",
      "\t\t\tScoring: 0.21 mn\n",
      "\t\tSegerstolpe\n",
      "\t\tseurat norm retained 5786 genes\n",
      "\t\t\tScoring: 0.19 mn\n",
      "\t\tXin\n",
      "\t\tseurat norm retained 9505 genes\n",
      "\t\t\tScoring: 0.2 mn\n",
      "cosine 100 True seurat False\n",
      "\t\tcellbench1\n",
      "\t\tseurat norm retained 1795 genes\n",
      "\t\t\tScoring: 0.21 mn\n",
      "\t\tcellbench2\n",
      "\t\tseurat norm retained 2793 genes\n",
      "\t\t\tScoring: 0.03 mn\n",
      "\t\tBaronHuman\n",
      "\t\tseurat norm retained 1952 genes\n",
      "\t\t\tScoring: 0.58 mn\n",
      "\t\tBaronMouse\n",
      "\t\tseurat norm retained 2867 genes\n",
      "\t\t\tScoring: 0.12 mn\n",
      "\t\tMuraro\n",
      "\t\tseurat norm retained 2318 genes\n",
      "\t\t\tScoring: 0.17 mn\n",
      "\t\tSegerstolpe\n",
      "\t\tseurat norm retained 5786 genes\n",
      "\t\t\tScoring: 0.18 mn\n",
      "\t\tXin\n",
      "\t\tseurat norm retained 9505 genes\n",
      "\t\t\tScoring: 0.21 mn\n",
      "cosine 500 True duo True\n",
      "\t\tcellbench1\n",
      "\t\tduo norm retained 5000 genes\n",
      "\t\t\tScoring: 0.89 mn\n",
      "\t\tcellbench2\n",
      "\t\tduo norm retained 5000 genes\n",
      "\t\t\tScoring: 0.19 mn\n",
      "\t\tBaronHuman\n",
      "\t\tduo norm retained 5000 genes\n",
      "\t\t\tScoring: 1.27 mn\n",
      "\t\tBaronMouse\n",
      "\t\tduo norm retained 5000 genes\n",
      "\t\t\tScoring: 0.31 mn\n",
      "\t\tMuraro\n",
      "\t\tduo norm retained 5000 genes\n",
      "\t\t\tScoring: 0.36 mn\n",
      "\t\tSegerstolpe\n",
      "\t\tduo norm retained 5000 genes\n",
      "\t\t\tScoring: 0.41 mn\n",
      "\t\tXin\n",
      "\t\tduo norm retained 5000 genes\n",
      "\t\t\tScoring: 0.27 mn\n",
      "cosine 500 True duo False\n",
      "\t\tcellbench1\n",
      "\t\tduo norm retained 5000 genes\n",
      "\t\t\tScoring: 0.63 mn\n",
      "\t\tcellbench2\n",
      "\t\tduo norm retained 5000 genes\n",
      "\t\t\tScoring: 0.23 mn\n",
      "\t\tBaronHuman\n",
      "\t\tduo norm retained 5000 genes\n",
      "\t\t\tScoring: 1.42 mn\n",
      "\t\tBaronMouse\n",
      "\t\tduo norm retained 5000 genes\n",
      "\t\t\tScoring: 0.43 mn\n",
      "\t\tMuraro\n",
      "\t\tduo norm retained 5000 genes\n",
      "\t\t\tScoring: 0.43 mn\n",
      "\t\tSegerstolpe\n",
      "\t\tduo norm retained 5000 genes\n",
      "\t\t\tScoring: 0.4 mn\n",
      "\t\tXin\n",
      "\t\tduo norm retained 5000 genes\n",
      "\t\t\tScoring: 0.32 mn\n",
      "cosine 500 True seurat True\n",
      "\t\tcellbench1\n",
      "\t\tseurat norm retained 1795 genes\n",
      "\t\t\tScoring: 0.46 mn\n",
      "\t\tcellbench2\n",
      "\t\tseurat norm retained 2793 genes\n",
      "\t\t\tScoring: 0.07 mn\n",
      "\t\tBaronHuman\n",
      "\t\tseurat norm retained 1952 genes\n",
      "\t\t\tScoring: 0.97 mn\n",
      "\t\tBaronMouse\n",
      "\t\tseurat norm retained 2867 genes\n",
      "\t\t\tScoring: 0.37 mn\n",
      "\t\tMuraro\n",
      "\t\tseurat norm retained 2318 genes\n",
      "\t\t\tScoring: 0.38 mn\n",
      "\t\tSegerstolpe\n",
      "\t\tseurat norm retained 5786 genes\n",
      "\t\t\tScoring: 0.52 mn\n",
      "\t\tXin\n",
      "\t\tseurat norm retained 9505 genes\n",
      "\t\t\tScoring: 0.44 mn\n",
      "cosine 500 True seurat False\n",
      "\t\tcellbench1\n",
      "\t\tseurat norm retained 1795 genes\n",
      "\t\t\tScoring: 0.47 mn\n",
      "\t\tcellbench2\n",
      "\t\tseurat norm retained 2793 genes\n",
      "\t\t\tScoring: 0.39 mn\n",
      "\t\tBaronHuman\n",
      "\t\tseurat norm retained 1952 genes\n",
      "\t\t\tScoring: 1.19 mn\n",
      "\t\tBaronMouse\n",
      "\t\tseurat norm retained 2867 genes\n",
      "\t\t\tScoring: 0.35 mn\n",
      "\t\tMuraro\n",
      "\t\tseurat norm retained 2318 genes\n",
      "\t\t\tScoring: 0.37 mn\n",
      "\t\tSegerstolpe\n",
      "\t\tseurat norm retained 5786 genes\n",
      "\t\t\tScoring: 0.94 mn\n",
      "\t\tXin\n",
      "\t\tseurat norm retained 9505 genes\n",
      "\t\t\tScoring: 0.54 mn\n",
      "euclidean 25 True duo True\n",
      "\t\tcellbench1\n",
      "\t\tduo norm retained 5000 genes\n",
      "\t\t\tScoring: 0.21 mn\n",
      "\t\tcellbench2\n",
      "\t\tduo norm retained 5000 genes\n",
      "\t\t\tScoring: 0.02 mn\n",
      "\t\tBaronHuman\n",
      "\t\tduo norm retained 5000 genes\n",
      "\t\t\tScoring: 0.71 mn\n",
      "\t\tBaronMouse\n",
      "\t\tduo norm retained 5000 genes\n",
      "\t\t\tScoring: 0.17 mn\n",
      "\t\tMuraro\n",
      "\t\tduo norm retained 5000 genes\n",
      "\t\t\tScoring: 0.11 mn\n",
      "\t\tSegerstolpe\n",
      "\t\tduo norm retained 5000 genes\n",
      "\t\t\tScoring: 0.1 mn\n",
      "\t\tXin\n",
      "\t\tduo norm retained 5000 genes\n",
      "\t\t\tScoring: 0.07 mn\n",
      "euclidean 25 True duo False\n",
      "\t\tcellbench1\n",
      "\t\tduo norm retained 5000 genes\n",
      "\t\t\tScoring: 0.16 mn\n",
      "\t\tcellbench2\n",
      "\t\tduo norm retained 5000 genes\n",
      "\t\t\tScoring: 0.02 mn\n",
      "\t\tBaronHuman\n",
      "\t\tduo norm retained 5000 genes\n",
      "\t\t\tScoring: 0.6 mn\n",
      "\t\tBaronMouse\n",
      "\t\tduo norm retained 5000 genes\n",
      "\t\t\tScoring: 0.06 mn\n",
      "\t\tMuraro\n",
      "\t\tduo norm retained 5000 genes\n",
      "\t\t\tScoring: 0.11 mn\n",
      "\t\tSegerstolpe\n",
      "\t\tduo norm retained 5000 genes\n",
      "\t\t\tScoring: 0.16 mn\n",
      "\t\tXin\n",
      "\t\tduo norm retained 5000 genes\n",
      "\t\t\tScoring: 0.11 mn\n",
      "euclidean 25 True seurat True\n",
      "\t\tcellbench1\n",
      "\t\tseurat norm retained 1795 genes\n",
      "\t\t\tScoring: 0.19 mn\n",
      "\t\tcellbench2\n",
      "\t\tseurat norm retained 2793 genes\n",
      "\t\t\tScoring: 0.02 mn\n",
      "\t\tBaronHuman\n",
      "\t\tseurat norm retained 1952 genes\n",
      "\t\t\tScoring: 0.71 mn\n",
      "\t\tBaronMouse\n",
      "\t\tseurat norm retained 2867 genes\n",
      "\t\t\tScoring: 0.08 mn\n",
      "\t\tMuraro\n",
      "\t\tseurat norm retained 2318 genes\n",
      "\t\t\tScoring: 0.09 mn\n",
      "\t\tSegerstolpe\n",
      "\t\tseurat norm retained 5786 genes\n",
      "\t\t\tScoring: 0.12 mn\n",
      "\t\tXin\n",
      "\t\tseurat norm retained 9505 genes\n",
      "\t\t\tScoring: 0.11 mn\n",
      "euclidean 25 True seurat False\n",
      "\t\tcellbench1\n",
      "\t\tseurat norm retained 1795 genes\n",
      "\t\t\tScoring: 0.19 mn\n",
      "\t\tcellbench2\n",
      "\t\tseurat norm retained 2793 genes\n",
      "\t\t\tScoring: 0.02 mn\n",
      "\t\tBaronHuman\n",
      "\t\tseurat norm retained 1952 genes\n",
      "\t\t\tScoring: 0.51 mn\n",
      "\t\tBaronMouse\n",
      "\t\tseurat norm retained 2867 genes\n",
      "\t\t\tScoring: 0.07 mn\n",
      "\t\tMuraro\n",
      "\t\tseurat norm retained 2318 genes\n",
      "\t\t\tScoring: 0.1 mn\n",
      "\t\tSegerstolpe\n",
      "\t\tseurat norm retained 5786 genes\n",
      "\t\t\tScoring: 0.11 mn\n",
      "\t\tXin\n",
      "\t\tseurat norm retained 9505 genes\n",
      "\t\t\tScoring: 0.09 mn\n",
      "euclidean 50 True duo True\n",
      "\t\tcellbench1\n",
      "\t\tduo norm retained 5000 genes\n",
      "\t\t\tScoring: 0.25 mn\n",
      "\t\tcellbench2\n",
      "\t\tduo norm retained 5000 genes\n",
      "\t\t\tScoring: 0.04 mn\n",
      "\t\tBaronHuman\n",
      "\t\tduo norm retained 5000 genes\n",
      "\t\t\tScoring: 0.54 mn\n",
      "\t\tBaronMouse\n",
      "\t\tduo norm retained 5000 genes\n",
      "\t\t\tScoring: 0.09 mn\n",
      "\t\tMuraro\n",
      "\t\tduo norm retained 5000 genes\n",
      "\t\t\tScoring: 0.16 mn\n",
      "\t\tSegerstolpe\n",
      "\t\tduo norm retained 5000 genes\n",
      "\t\t\tScoring: 0.14 mn\n",
      "\t\tXin\n",
      "\t\tduo norm retained 5000 genes\n",
      "\t\t\tScoring: 0.15 mn\n",
      "euclidean 50 True duo False\n",
      "\t\tcellbench1\n",
      "\t\tduo norm retained 5000 genes\n",
      "\t\t\tScoring: 0.2 mn\n",
      "\t\tcellbench2\n",
      "\t\tduo norm retained 5000 genes\n",
      "\t\t\tScoring: 0.07 mn\n",
      "\t\tBaronHuman\n",
      "\t\tduo norm retained 5000 genes\n",
      "\t\t\tScoring: 0.57 mn\n",
      "\t\tBaronMouse\n",
      "\t\tduo norm retained 5000 genes\n",
      "\t\t\tScoring: 0.13 mn\n",
      "\t\tMuraro\n",
      "\t\tduo norm retained 5000 genes\n",
      "\t\t\tScoring: 0.15 mn\n",
      "\t\tSegerstolpe\n",
      "\t\tduo norm retained 5000 genes\n",
      "\t\t\tScoring: 0.15 mn\n",
      "\t\tXin\n",
      "\t\tduo norm retained 5000 genes\n",
      "\t\t\tScoring: 0.12 mn\n",
      "euclidean 50 True seurat True\n",
      "\t\tcellbench1\n",
      "\t\tseurat norm retained 1795 genes\n",
      "\t\t\tScoring: 0.23 mn\n",
      "\t\tcellbench2\n",
      "\t\tseurat norm retained 2793 genes\n",
      "\t\t\tScoring: 0.1 mn\n",
      "\t\tBaronHuman\n",
      "\t\tseurat norm retained 1952 genes\n",
      "\t\t\tScoring: 0.5 mn\n",
      "\t\tBaronMouse\n",
      "\t\tseurat norm retained 2867 genes\n",
      "\t\t\tScoring: 0.12 mn\n",
      "\t\tMuraro\n",
      "\t\tseurat norm retained 2318 genes\n",
      "\t\t\tScoring: 0.14 mn\n",
      "\t\tSegerstolpe\n",
      "\t\tseurat norm retained 5786 genes\n",
      "\t\t\tScoring: 0.15 mn\n",
      "\t\tXin\n",
      "\t\tseurat norm retained 9505 genes\n",
      "\t\t\tScoring: 0.13 mn\n",
      "euclidean 50 True seurat False\n",
      "\t\tcellbench1\n",
      "\t\tseurat norm retained 1795 genes\n",
      "\t\t\tScoring: 0.19 mn\n",
      "\t\tcellbench2\n",
      "\t\tseurat norm retained 2793 genes\n",
      "\t\t\tScoring: 0.04 mn\n",
      "\t\tBaronHuman\n",
      "\t\tseurat norm retained 1952 genes\n",
      "\t\t\tScoring: 0.43 mn\n",
      "\t\tBaronMouse\n",
      "\t\tseurat norm retained 2867 genes\n",
      "\t\t\tScoring: 0.11 mn\n",
      "\t\tMuraro\n",
      "\t\tseurat norm retained 2318 genes\n",
      "\t\t\tScoring: 0.08 mn\n",
      "\t\tSegerstolpe\n",
      "\t\tseurat norm retained 5786 genes\n",
      "\t\t\tScoring: 0.12 mn\n",
      "\t\tXin\n",
      "\t\tseurat norm retained 9505 genes\n",
      "\t\t\tScoring: 0.09 mn\n",
      "euclidean 100 True duo True\n",
      "\t\tcellbench1\n",
      "\t\tduo norm retained 5000 genes\n",
      "\t\t\tScoring: 0.25 mn\n",
      "\t\tcellbench2\n",
      "\t\tduo norm retained 5000 genes\n",
      "\t\t\tScoring: 0.02 mn\n",
      "\t\tBaronHuman\n",
      "\t\tduo norm retained 5000 genes\n",
      "\t\t\tScoring: 0.63 mn\n",
      "\t\tBaronMouse\n",
      "\t\tduo norm retained 5000 genes\n",
      "\t\t\tScoring: 0.16 mn\n",
      "\t\tMuraro\n",
      "\t\tduo norm retained 5000 genes\n",
      "\t\t\tScoring: 0.15 mn\n",
      "\t\tSegerstolpe\n",
      "\t\tduo norm retained 5000 genes\n",
      "\t\t\tScoring: 0.15 mn\n",
      "\t\tXin\n",
      "\t\tduo norm retained 5000 genes\n",
      "\t\t\tScoring: 0.1 mn\n",
      "euclidean 100 True duo False\n",
      "\t\tcellbench1\n",
      "\t\tduo norm retained 5000 genes\n",
      "\t\t\tScoring: 0.25 mn\n",
      "\t\tcellbench2\n",
      "\t\tduo norm retained 5000 genes\n",
      "\t\t\tScoring: 0.03 mn\n",
      "\t\tBaronHuman\n",
      "\t\tduo norm retained 5000 genes\n",
      "\t\t\tScoring: 0.56 mn\n",
      "\t\tBaronMouse\n",
      "\t\tduo norm retained 5000 genes\n",
      "\t\t\tScoring: 0.17 mn\n",
      "\t\tMuraro\n",
      "\t\tduo norm retained 5000 genes\n",
      "\t\t\tScoring: 0.15 mn\n",
      "\t\tSegerstolpe\n",
      "\t\tduo norm retained 5000 genes\n",
      "\t\t\tScoring: 0.16 mn\n",
      "\t\tXin\n",
      "\t\tduo norm retained 5000 genes\n",
      "\t\t\tScoring: 0.1 mn\n",
      "euclidean 100 True seurat True\n",
      "\t\tcellbench1\n",
      "\t\tseurat norm retained 1795 genes\n",
      "\t\t\tScoring: 0.21 mn\n",
      "\t\tcellbench2\n",
      "\t\tseurat norm retained 2793 genes\n",
      "\t\t\tScoring: 0.02 mn\n",
      "\t\tBaronHuman\n",
      "\t\tseurat norm retained 1952 genes\n",
      "\t\t\tScoring: 0.51 mn\n",
      "\t\tBaronMouse\n",
      "\t\tseurat norm retained 2867 genes\n",
      "\t\t\tScoring: 0.08 mn\n",
      "\t\tMuraro\n",
      "\t\tseurat norm retained 2318 genes\n",
      "\t\t\tScoring: 0.11 mn\n",
      "\t\tSegerstolpe\n",
      "\t\tseurat norm retained 5786 genes\n",
      "\t\t\tScoring: 0.15 mn\n",
      "\t\tXin\n",
      "\t\tseurat norm retained 9505 genes\n",
      "\t\t\tScoring: 0.13 mn\n",
      "euclidean 100 True seurat False\n",
      "\t\tcellbench1\n",
      "\t\tseurat norm retained 1795 genes\n",
      "\t\t\tScoring: 0.18 mn\n",
      "\t\tcellbench2\n",
      "\t\tseurat norm retained 2793 genes\n",
      "\t\t\tScoring: 0.03 mn\n",
      "\t\tBaronHuman\n",
      "\t\tseurat norm retained 1952 genes\n",
      "\t\t\tScoring: 0.46 mn\n",
      "\t\tBaronMouse\n",
      "\t\tseurat norm retained 2867 genes\n",
      "\t\t\tScoring: 0.07 mn\n",
      "\t\tMuraro\n",
      "\t\tseurat norm retained 2318 genes\n",
      "\t\t\tScoring: 0.21 mn\n",
      "\t\tSegerstolpe\n",
      "\t\tseurat norm retained 5786 genes\n",
      "\t\t\tScoring: 0.15 mn\n",
      "\t\tXin\n",
      "\t\tseurat norm retained 9505 genes\n",
      "\t\t\tScoring: 0.13 mn\n",
      "euclidean 500 True duo True\n",
      "\t\tcellbench1\n",
      "\t\tduo norm retained 5000 genes\n",
      "\t\t\tScoring: 0.9 mn\n",
      "\t\tcellbench2\n",
      "\t\tduo norm retained 5000 genes\n",
      "\t\t\tScoring: 0.08 mn\n",
      "\t\tBaronHuman\n",
      "\t\tduo norm retained 5000 genes\n",
      "\t\t\tScoring: 1.89 mn\n",
      "\t\tBaronMouse\n",
      "\t\tduo norm retained 5000 genes\n",
      "\t\t\tScoring: 1.04 mn\n",
      "\t\tMuraro\n",
      "\t\tduo norm retained 5000 genes\n",
      "\t\t\tScoring: 0.71 mn\n",
      "\t\tSegerstolpe\n",
      "\t\tduo norm retained 5000 genes\n",
      "\t\t\tScoring: 0.67 mn\n",
      "\t\tXin\n",
      "\t\tduo norm retained 5000 genes\n",
      "\t\t\tScoring: 0.69 mn\n",
      "euclidean 500 True duo False\n",
      "\t\tcellbench1\n",
      "\t\tduo norm retained 5000 genes\n",
      "\t\t\tScoring: 0.72 mn\n",
      "\t\tcellbench2\n",
      "\t\tduo norm retained 5000 genes\n",
      "\t\t\tScoring: 0.05 mn\n",
      "\t\tBaronHuman\n",
      "\t\tduo norm retained 5000 genes\n",
      "\t\t\tScoring: 1.81 mn\n",
      "\t\tBaronMouse\n",
      "\t\tduo norm retained 5000 genes\n",
      "\t\t\tScoring: 0.56 mn\n",
      "\t\tMuraro\n",
      "\t\tduo norm retained 5000 genes\n",
      "\t\t\tScoring: 0.52 mn\n",
      "\t\tSegerstolpe\n",
      "\t\tduo norm retained 5000 genes\n",
      "\t\t\tScoring: 0.5 mn\n",
      "\t\tXin\n",
      "\t\tduo norm retained 5000 genes\n",
      "\t\t\tScoring: 0.66 mn\n",
      "euclidean 500 True seurat True\n",
      "\t\tcellbench1\n",
      "\t\tseurat norm retained 1795 genes\n",
      "\t\t\tScoring: 0.44 mn\n",
      "\t\tcellbench2\n",
      "\t\tseurat norm retained 2793 genes\n",
      "\t\t\tScoring: 0.07 mn\n",
      "\t\tBaronHuman\n",
      "\t\tseurat norm retained 1952 genes\n",
      "\t\t\tScoring: 0.93 mn\n",
      "\t\tBaronMouse\n",
      "\t\tseurat norm retained 2867 genes\n",
      "\t\t\tScoring: 0.33 mn\n",
      "\t\tMuraro\n",
      "\t\tseurat norm retained 2318 genes\n",
      "\t\t\tScoring: 0.29 mn\n",
      "\t\tSegerstolpe\n",
      "\t\tseurat norm retained 5786 genes\n",
      "\t\t\tScoring: 0.88 mn\n",
      "\t\tXin\n",
      "\t\tseurat norm retained 9505 genes\n",
      "\t\t\tScoring: 0.41 mn\n",
      "euclidean 500 True seurat False\n",
      "\t\tcellbench1\n",
      "\t\tseurat norm retained 1795 genes\n",
      "\t\t\tScoring: 0.58 mn\n",
      "\t\tcellbench2\n",
      "\t\tseurat norm retained 2793 genes\n",
      "\t\t\tScoring: 0.05 mn\n",
      "\t\tBaronHuman\n",
      "\t\tseurat norm retained 1952 genes\n",
      "\t\t\tScoring: 1.11 mn\n",
      "\t\tBaronMouse\n",
      "\t\tseurat norm retained 2867 genes\n",
      "\t\t\tScoring: 0.29 mn\n",
      "\t\tMuraro\n",
      "\t\tseurat norm retained 2318 genes\n",
      "\t\t\tScoring: 0.27 mn\n",
      "\t\tSegerstolpe\n",
      "\t\tseurat norm retained 5786 genes\n",
      "\t\t\tScoring: 1.03 mn\n",
      "\t\tXin\n",
      "\t\tseurat norm retained 9505 genes\n",
      "\t\t\tScoring: 0.45 mn\n"
     ]
    }
   ],
   "source": [
    "for metric,n_comps,weighted,do_norm,norm_scale in params_list:\n",
    "    print(metric,n_comps,weighted,do_norm,norm_scale)\n",
    "    for fname in fnames:\n",
    "        if get_res_path_sc(fname).split('/')[-1] in os.listdir(resdir):\n",
    "            continue\n",
    "        print('\\t\\t'+fname)\n",
    "        adata = sc.read_csv(all_data_paths[fname]['data'])\n",
    "        adata.obs['labels'] = pd.read_csv(all_data_paths[fname]['labels'])[all_data_paths[fname]['labels_key']].values\n",
    "\n",
    "        results_dict = benchmark_common_functions.scanpy_hubness_analysis(\n",
    "            adata,\n",
    "            do_norm = do_norm,\n",
    "            norm_scale = norm_scale,\n",
    "            do_log = do_log,\n",
    "            do_pca = do_pca,\n",
    "            n_neighbors=int(round(np.sqrt(len(adata)))),\n",
    "            metric=metric,\n",
    "            weighted=weighted,  #weighted adjmat for louvain/leiden clustering ?\n",
    "            seed=seed,\n",
    "            n_comps=n_comps\n",
    "        )\n",
    "\n",
    "        with open(get_res_path_sc(fname),'wb') as f:\n",
    "            pickle.dump(results_dict,f)\n",
    "        %xdel adata\n",
    "        gc.collect()"
   ]
  },
  {
   "cell_type": "markdown",
   "metadata": {},
   "source": [
    "# Run TM dataset"
   ]
  },
  {
   "cell_type": "code",
   "execution_count": 3,
   "metadata": {},
   "outputs": [],
   "source": [
    "#fixed params\n",
    "do_log = True #already done with do_norm\n",
    "do_pca = True\n",
    "#n_neighbors = 10\n",
    "seed = 0\n",
    "\n",
    "#vary params\n",
    "metric=('cosine','euclidean')\n",
    "n_comps=(25,50,100,500)\n",
    "weighted=(True,)\n",
    "do_norm = ('duo','seurat')\n",
    "norm_scale = (True,False)\n",
    "params_list = list(product(metric,n_comps,weighted,do_norm,norm_scale))\n",
    "# params_list = [i for i in params_list if not(i[-2]=='duo' and i[-1]==True)]"
   ]
  },
  {
   "cell_type": "code",
   "execution_count": 4,
   "metadata": {},
   "outputs": [
    {
     "name": "stdout",
     "output_type": "stream",
     "text": [
      "54864\r"
     ]
    }
   ],
   "source": [
    "fname= 'TM'\n",
    "f=csv.reader(open(all_data_paths[fname]['data'],'r'))\n",
    "# n_dims=len(next(f))\n",
    "# n_samples=[i for i,j in enumerate(f)]\n",
    "n_samples, n_dims = (54865, 19791)\n",
    "\n",
    "shape = (n_samples, n_dims)\n",
    "mat = benchmark_common_functions.IncrementalCSRMatrix(shape, np.float32)\n",
    "\n",
    "for row_ind,line in enumerate(f,start=-1):\n",
    "    print(row_ind,end='\\r')\n",
    "    if row_ind==-1:\n",
    "        continue\n",
    "        \n",
    "    data = np.array(line[1:],dtype=float)\n",
    "    idx = data.nonzero()[0]\n",
    "    for col_ind in idx:\n",
    "        mat.append(row_ind, col_ind, data[col_ind])"
   ]
  },
  {
   "cell_type": "code",
   "execution_count": null,
   "metadata": {},
   "outputs": [
    {
     "name": "stdout",
     "output_type": "stream",
     "text": [
      "cosine 25 True duo True\n",
      "\t\tduo norm retained 5000 genes\n",
      "\t\t\tPreprocessing done: 0.3 mn\n",
      "\t\t\tInputs generated: 2.23 mn\n"
     ]
    }
   ],
   "source": [
    "for metric,n_comps,weighted,do_norm,norm_scale in params_list:\n",
    "    print(metric,n_comps,weighted,do_norm,norm_scale)\n",
    "    if get_res_path(fname).split('/')[-1] in os.listdir(resdir):\n",
    "        continue\n",
    "    adata = anndata.AnnData(X=mat.tocsr())\n",
    "    adata.obs['labels'] = pd.read_csv(all_data_paths[fname]['labels'])[all_data_paths[fname]['labels_key']].values\n",
    "\n",
    "    results_dict = benchmark_common_functions.clustering_analysis(\n",
    "        adata,\n",
    "        true_labels = adata.obs['labels'],\n",
    "        do_norm = do_norm,\n",
    "        norm_scale = norm_scale,\n",
    "        do_log = do_log,\n",
    "        do_pca = do_pca,\n",
    "        n_neighbors=int(round(np.sqrt(len(adata)))),\n",
    "        n_clusters= adata.obs['labels'].nunique(),\n",
    "        metric=metric,\n",
    "        weighted=weighted,  #weighted adjmat for louvain/leiden clustering ?\n",
    "        seed=seed,\n",
    "        n_comps=n_comps,\n",
    "        retained_cells_idx=range(adata.X.shape[0])\n",
    "    )\n",
    "\n",
    "    with open(get_res_path(fname),'wb') as f:\n",
    "        pickle.dump(results_dict,f)\n",
    "    %xdel adata\n",
    "    gc.collect()"
   ]
  },
  {
   "cell_type": "code",
   "execution_count": 5,
   "metadata": {},
   "outputs": [
    {
     "name": "stdout",
     "output_type": "stream",
     "text": [
      "cosine 25 True duo True\n",
      "\t\tduo norm retained 5000 genes\n"
     ]
    },
    {
     "name": "stderr",
     "output_type": "stream",
     "text": [
      "WARNING: Using high n_obs without `knn=True` takes a lot of memory...\n"
     ]
    },
    {
     "ename": "MemoryError",
     "evalue": "Unable to allocate 22.4 GiB for an array with shape (54865, 54865) and data type int64",
     "output_type": "error",
     "traceback": [
      "\u001b[0;31m---------------------------------------------------------------------------\u001b[0m",
      "\u001b[0;31mValueError\u001b[0m                                Traceback (most recent call last)",
      "\u001b[0;32m/mnt/c/Users/jobac/Desktop/all/singlecell-id/notebooks/cluster_utils.py\u001b[0m in \u001b[0;36mscanpy_hubness_analysis\u001b[0;34m(adata, do_norm, norm_scale, do_log, do_pca, n_neighbors, metric, weighted, seed, n_comps, retained_cells_idx)\u001b[0m\n\u001b[1;32m    549\u001b[0m         \u001b[0;32mtry\u001b[0m\u001b[0;34m:\u001b[0m\u001b[0;34m\u001b[0m\u001b[0;34m\u001b[0m\u001b[0m\n\u001b[0;32m--> 550\u001b[0;31m             \u001b[0msc\u001b[0m\u001b[0;34m.\u001b[0m\u001b[0mpp\u001b[0m\u001b[0;34m.\u001b[0m\u001b[0mneighbors\u001b[0m\u001b[0;34m(\u001b[0m\u001b[0madata\u001b[0m\u001b[0;34m,\u001b[0m \u001b[0mn_neighbors\u001b[0m\u001b[0;34m=\u001b[0m\u001b[0mn_neighbors\u001b[0m\u001b[0;34m+\u001b[0m\u001b[0;36m1\u001b[0m\u001b[0;34m,\u001b[0m \u001b[0mmetric\u001b[0m\u001b[0;34m=\u001b[0m\u001b[0mmetric\u001b[0m\u001b[0;34m,\u001b[0m\u001b[0muse_rep\u001b[0m\u001b[0;34m=\u001b[0m\u001b[0muse_rep\u001b[0m\u001b[0;34m,\u001b[0m \u001b[0mmethod\u001b[0m\u001b[0;34m=\u001b[0m\u001b[0mmethod\u001b[0m\u001b[0;34m)\u001b[0m\u001b[0;34m\u001b[0m\u001b[0;34m\u001b[0m\u001b[0m\n\u001b[0m\u001b[1;32m    551\u001b[0m         \u001b[0;32mexcept\u001b[0m\u001b[0;34m:\u001b[0m\u001b[0;34m\u001b[0m\u001b[0;34m\u001b[0m\u001b[0m\n",
      "\u001b[0;32m~/anaconda3/envs/w/lib/python3.7/site-packages/scanpy/neighbors/__init__.py\u001b[0m in \u001b[0;36mneighbors\u001b[0;34m(adata, n_neighbors, n_pcs, use_rep, knn, random_state, method, metric, metric_kwds, key_added, copy)\u001b[0m\n\u001b[1;32m    121\u001b[0m         \u001b[0mmethod\u001b[0m\u001b[0;34m=\u001b[0m\u001b[0mmethod\u001b[0m\u001b[0;34m,\u001b[0m \u001b[0mmetric\u001b[0m\u001b[0;34m=\u001b[0m\u001b[0mmetric\u001b[0m\u001b[0;34m,\u001b[0m \u001b[0mmetric_kwds\u001b[0m\u001b[0;34m=\u001b[0m\u001b[0mmetric_kwds\u001b[0m\u001b[0;34m,\u001b[0m\u001b[0;34m\u001b[0m\u001b[0;34m\u001b[0m\u001b[0m\n\u001b[0;32m--> 122\u001b[0;31m         \u001b[0mrandom_state\u001b[0m\u001b[0;34m=\u001b[0m\u001b[0mrandom_state\u001b[0m\u001b[0;34m,\u001b[0m\u001b[0;34m\u001b[0m\u001b[0;34m\u001b[0m\u001b[0m\n\u001b[0m\u001b[1;32m    123\u001b[0m     )\n",
      "\u001b[0;32m~/anaconda3/envs/w/lib/python3.7/site-packages/scanpy/neighbors/__init__.py\u001b[0m in \u001b[0;36mcompute_neighbors\u001b[0;34m(self, n_neighbors, knn, n_pcs, use_rep, method, random_state, write_knn_indices, metric, metric_kwds)\u001b[0m\n\u001b[1;32m    750\u001b[0m         \u001b[0;32mif\u001b[0m \u001b[0mmethod\u001b[0m \u001b[0;34m==\u001b[0m \u001b[0;34m'gauss'\u001b[0m\u001b[0;34m:\u001b[0m\u001b[0;34m\u001b[0m\u001b[0;34m\u001b[0m\u001b[0m\n\u001b[0;32m--> 751\u001b[0;31m             \u001b[0mself\u001b[0m\u001b[0;34m.\u001b[0m\u001b[0m_compute_connectivities_diffmap\u001b[0m\u001b[0;34m(\u001b[0m\u001b[0;34m)\u001b[0m\u001b[0;34m\u001b[0m\u001b[0;34m\u001b[0m\u001b[0m\n\u001b[0m\u001b[1;32m    752\u001b[0m         \u001b[0mlogg\u001b[0m\u001b[0;34m.\u001b[0m\u001b[0mdebug\u001b[0m\u001b[0;34m(\u001b[0m\u001b[0;34m'computed connectivities'\u001b[0m\u001b[0;34m,\u001b[0m \u001b[0mtime\u001b[0m\u001b[0;34m=\u001b[0m\u001b[0mstart_connect\u001b[0m\u001b[0;34m)\u001b[0m\u001b[0;34m\u001b[0m\u001b[0;34m\u001b[0m\u001b[0m\n",
      "\u001b[0;32m~/anaconda3/envs/w/lib/python3.7/site-packages/scanpy/neighbors/__init__.py\u001b[0m in \u001b[0;36m_compute_connectivities_diffmap\u001b[0;34m(self, density_normalize)\u001b[0m\n\u001b[1;32m    763\u001b[0m             indices, distances_sq = _get_indices_distances_from_sparse_matrix(\n\u001b[0;32m--> 764\u001b[0;31m                 Dsq, self.n_neighbors)\n\u001b[0m\u001b[1;32m    765\u001b[0m         \u001b[0;32melse\u001b[0m\u001b[0;34m:\u001b[0m\u001b[0;34m\u001b[0m\u001b[0;34m\u001b[0m\u001b[0m\n",
      "\u001b[0;32m~/anaconda3/envs/w/lib/python3.7/site-packages/scanpy/neighbors/__init__.py\u001b[0m in \u001b[0;36m_get_indices_distances_from_sparse_matrix\u001b[0;34m(D, n_neighbors)\u001b[0m\n\u001b[1;32m    400\u001b[0m         \u001b[0;32melse\u001b[0m\u001b[0;34m:\u001b[0m\u001b[0;34m\u001b[0m\u001b[0;34m\u001b[0m\u001b[0m\n\u001b[0;32m--> 401\u001b[0;31m             \u001b[0mindices\u001b[0m\u001b[0;34m[\u001b[0m\u001b[0mi\u001b[0m\u001b[0;34m,\u001b[0m \u001b[0;36m1\u001b[0m\u001b[0;34m:\u001b[0m\u001b[0;34m]\u001b[0m \u001b[0;34m=\u001b[0m \u001b[0mneighbors\u001b[0m\u001b[0;34m[\u001b[0m\u001b[0;36m1\u001b[0m\u001b[0;34m]\u001b[0m\u001b[0;34m\u001b[0m\u001b[0;34m\u001b[0m\u001b[0m\n\u001b[0m\u001b[1;32m    402\u001b[0m             \u001b[0mdistances\u001b[0m\u001b[0;34m[\u001b[0m\u001b[0mi\u001b[0m\u001b[0;34m,\u001b[0m \u001b[0;36m1\u001b[0m\u001b[0;34m:\u001b[0m\u001b[0;34m]\u001b[0m \u001b[0;34m=\u001b[0m \u001b[0mD\u001b[0m\u001b[0;34m[\u001b[0m\u001b[0mi\u001b[0m\u001b[0;34m]\u001b[0m\u001b[0;34m[\u001b[0m\u001b[0mneighbors\u001b[0m\u001b[0;34m]\u001b[0m\u001b[0;34m\u001b[0m\u001b[0;34m\u001b[0m\u001b[0m\n",
      "\u001b[0;31mValueError\u001b[0m: could not broadcast input array from shape (206) into shape (234)",
      "\nDuring handling of the above exception, another exception occurred:\n",
      "\u001b[0;31mMemoryError\u001b[0m                               Traceback (most recent call last)",
      "\u001b[0;32m<ipython-input-5-db297b8d6bc6>\u001b[0m in \u001b[0;36m<module>\u001b[0;34m\u001b[0m\n\u001b[1;32m     17\u001b[0m         \u001b[0mseed\u001b[0m\u001b[0;34m=\u001b[0m\u001b[0mseed\u001b[0m\u001b[0;34m,\u001b[0m\u001b[0;34m\u001b[0m\u001b[0;34m\u001b[0m\u001b[0m\n\u001b[1;32m     18\u001b[0m         \u001b[0mn_comps\u001b[0m\u001b[0;34m=\u001b[0m\u001b[0mn_comps\u001b[0m\u001b[0;34m,\u001b[0m\u001b[0;34m\u001b[0m\u001b[0;34m\u001b[0m\u001b[0m\n\u001b[0;32m---> 19\u001b[0;31m         \u001b[0mretained_cells_idx\u001b[0m\u001b[0;34m=\u001b[0m\u001b[0mrange\u001b[0m\u001b[0;34m(\u001b[0m\u001b[0madata\u001b[0m\u001b[0;34m.\u001b[0m\u001b[0mX\u001b[0m\u001b[0;34m.\u001b[0m\u001b[0mshape\u001b[0m\u001b[0;34m[\u001b[0m\u001b[0;36m0\u001b[0m\u001b[0;34m]\u001b[0m\u001b[0;34m)\u001b[0m\u001b[0;34m\u001b[0m\u001b[0;34m\u001b[0m\u001b[0m\n\u001b[0m\u001b[1;32m     20\u001b[0m     )\n\u001b[1;32m     21\u001b[0m \u001b[0;34m\u001b[0m\u001b[0m\n",
      "\u001b[0;32m/mnt/c/Users/jobac/Desktop/all/singlecell-id/notebooks/cluster_utils.py\u001b[0m in \u001b[0;36mscanpy_hubness_analysis\u001b[0;34m(adata, do_norm, norm_scale, do_log, do_pca, n_neighbors, metric, weighted, seed, n_comps, retained_cells_idx)\u001b[0m\n\u001b[1;32m    550\u001b[0m             \u001b[0msc\u001b[0m\u001b[0;34m.\u001b[0m\u001b[0mpp\u001b[0m\u001b[0;34m.\u001b[0m\u001b[0mneighbors\u001b[0m\u001b[0;34m(\u001b[0m\u001b[0madata\u001b[0m\u001b[0;34m,\u001b[0m \u001b[0mn_neighbors\u001b[0m\u001b[0;34m=\u001b[0m\u001b[0mn_neighbors\u001b[0m\u001b[0;34m+\u001b[0m\u001b[0;36m1\u001b[0m\u001b[0;34m,\u001b[0m \u001b[0mmetric\u001b[0m\u001b[0;34m=\u001b[0m\u001b[0mmetric\u001b[0m\u001b[0;34m,\u001b[0m\u001b[0muse_rep\u001b[0m\u001b[0;34m=\u001b[0m\u001b[0muse_rep\u001b[0m\u001b[0;34m,\u001b[0m \u001b[0mmethod\u001b[0m\u001b[0;34m=\u001b[0m\u001b[0mmethod\u001b[0m\u001b[0;34m)\u001b[0m\u001b[0;34m\u001b[0m\u001b[0;34m\u001b[0m\u001b[0m\n\u001b[1;32m    551\u001b[0m         \u001b[0;32mexcept\u001b[0m\u001b[0;34m:\u001b[0m\u001b[0;34m\u001b[0m\u001b[0;34m\u001b[0m\u001b[0m\n\u001b[0;32m--> 552\u001b[0;31m             \u001b[0msc\u001b[0m\u001b[0;34m.\u001b[0m\u001b[0mpp\u001b[0m\u001b[0;34m.\u001b[0m\u001b[0mneighbors\u001b[0m\u001b[0;34m(\u001b[0m\u001b[0madata\u001b[0m\u001b[0;34m,\u001b[0m \u001b[0mn_neighbors\u001b[0m\u001b[0;34m=\u001b[0m\u001b[0mn_neighbors\u001b[0m\u001b[0;34m+\u001b[0m\u001b[0;36m1\u001b[0m\u001b[0;34m,\u001b[0m \u001b[0mmetric\u001b[0m\u001b[0;34m=\u001b[0m\u001b[0mmetric\u001b[0m\u001b[0;34m,\u001b[0m\u001b[0muse_rep\u001b[0m\u001b[0;34m=\u001b[0m\u001b[0muse_rep\u001b[0m\u001b[0;34m,\u001b[0m \u001b[0mmethod\u001b[0m\u001b[0;34m=\u001b[0m\u001b[0mmethod\u001b[0m\u001b[0;34m,\u001b[0m \u001b[0mknn\u001b[0m\u001b[0;34m=\u001b[0m\u001b[0;32mFalse\u001b[0m\u001b[0;34m)\u001b[0m\u001b[0;34m\u001b[0m\u001b[0;34m\u001b[0m\u001b[0m\n\u001b[0m\u001b[1;32m    553\u001b[0m \u001b[0;34m\u001b[0m\u001b[0m\n\u001b[1;32m    554\u001b[0m         \u001b[0mskews\u001b[0m\u001b[0;34m[\u001b[0m\u001b[0mmethod\u001b[0m\u001b[0;34m]\u001b[0m\u001b[0;34m=\u001b[0m\u001b[0mskew\u001b[0m\u001b[0;34m(\u001b[0m\u001b[0madata\u001b[0m\u001b[0;34m.\u001b[0m\u001b[0mobsp\u001b[0m\u001b[0;34m[\u001b[0m\u001b[0;34m'connectivities'\u001b[0m\u001b[0;34m]\u001b[0m\u001b[0;34m.\u001b[0m\u001b[0msum\u001b[0m\u001b[0;34m(\u001b[0m\u001b[0maxis\u001b[0m\u001b[0;34m=\u001b[0m\u001b[0;36m0\u001b[0m\u001b[0;34m)\u001b[0m\u001b[0;34m.\u001b[0m\u001b[0mflat\u001b[0m\u001b[0;34m)\u001b[0m\u001b[0;34m\u001b[0m\u001b[0;34m\u001b[0m\u001b[0m\n",
      "\u001b[0;32m~/anaconda3/envs/w/lib/python3.7/site-packages/scanpy/neighbors/__init__.py\u001b[0m in \u001b[0;36mneighbors\u001b[0;34m(adata, n_neighbors, n_pcs, use_rep, knn, random_state, method, metric, metric_kwds, key_added, copy)\u001b[0m\n\u001b[1;32m    120\u001b[0m         \u001b[0mn_neighbors\u001b[0m\u001b[0;34m=\u001b[0m\u001b[0mn_neighbors\u001b[0m\u001b[0;34m,\u001b[0m \u001b[0mknn\u001b[0m\u001b[0;34m=\u001b[0m\u001b[0mknn\u001b[0m\u001b[0;34m,\u001b[0m \u001b[0mn_pcs\u001b[0m\u001b[0;34m=\u001b[0m\u001b[0mn_pcs\u001b[0m\u001b[0;34m,\u001b[0m \u001b[0muse_rep\u001b[0m\u001b[0;34m=\u001b[0m\u001b[0muse_rep\u001b[0m\u001b[0;34m,\u001b[0m\u001b[0;34m\u001b[0m\u001b[0;34m\u001b[0m\u001b[0m\n\u001b[1;32m    121\u001b[0m         \u001b[0mmethod\u001b[0m\u001b[0;34m=\u001b[0m\u001b[0mmethod\u001b[0m\u001b[0;34m,\u001b[0m \u001b[0mmetric\u001b[0m\u001b[0;34m=\u001b[0m\u001b[0mmetric\u001b[0m\u001b[0;34m,\u001b[0m \u001b[0mmetric_kwds\u001b[0m\u001b[0;34m=\u001b[0m\u001b[0mmetric_kwds\u001b[0m\u001b[0;34m,\u001b[0m\u001b[0;34m\u001b[0m\u001b[0;34m\u001b[0m\u001b[0m\n\u001b[0;32m--> 122\u001b[0;31m         \u001b[0mrandom_state\u001b[0m\u001b[0;34m=\u001b[0m\u001b[0mrandom_state\u001b[0m\u001b[0;34m,\u001b[0m\u001b[0;34m\u001b[0m\u001b[0;34m\u001b[0m\u001b[0m\n\u001b[0m\u001b[1;32m    123\u001b[0m     )\n\u001b[1;32m    124\u001b[0m \u001b[0;34m\u001b[0m\u001b[0m\n",
      "\u001b[0;32m~/anaconda3/envs/w/lib/python3.7/site-packages/scanpy/neighbors/__init__.py\u001b[0m in \u001b[0;36mcompute_neighbors\u001b[0;34m(self, n_neighbors, knn, n_pcs, use_rep, method, random_state, write_knn_indices, metric, metric_kwds)\u001b[0m\n\u001b[1;32m    711\u001b[0m             \u001b[0m_distances\u001b[0m \u001b[0;34m=\u001b[0m \u001b[0mpairwise_distances\u001b[0m\u001b[0;34m(\u001b[0m\u001b[0mX\u001b[0m\u001b[0;34m,\u001b[0m \u001b[0mmetric\u001b[0m\u001b[0;34m=\u001b[0m\u001b[0mmetric\u001b[0m\u001b[0;34m,\u001b[0m \u001b[0;34m**\u001b[0m\u001b[0mmetric_kwds\u001b[0m\u001b[0;34m)\u001b[0m\u001b[0;34m\u001b[0m\u001b[0;34m\u001b[0m\u001b[0m\n\u001b[1;32m    712\u001b[0m             knn_indices, knn_distances = _get_indices_distances_from_dense_matrix(\n\u001b[0;32m--> 713\u001b[0;31m                 _distances, n_neighbors)\n\u001b[0m\u001b[1;32m    714\u001b[0m             \u001b[0;32mif\u001b[0m \u001b[0mknn\u001b[0m\u001b[0;34m:\u001b[0m\u001b[0;34m\u001b[0m\u001b[0;34m\u001b[0m\u001b[0m\n\u001b[1;32m    715\u001b[0m                 self._distances = _get_sparse_matrix_from_indices_distances_numpy(\n",
      "\u001b[0;32m~/anaconda3/envs/w/lib/python3.7/site-packages/scanpy/neighbors/__init__.py\u001b[0m in \u001b[0;36m_get_indices_distances_from_dense_matrix\u001b[0;34m(D, n_neighbors)\u001b[0m\n\u001b[1;32m    406\u001b[0m \u001b[0;32mdef\u001b[0m \u001b[0m_get_indices_distances_from_dense_matrix\u001b[0m\u001b[0;34m(\u001b[0m\u001b[0mD\u001b[0m\u001b[0;34m,\u001b[0m \u001b[0mn_neighbors\u001b[0m\u001b[0;34m:\u001b[0m \u001b[0mint\u001b[0m\u001b[0;34m)\u001b[0m\u001b[0;34m:\u001b[0m\u001b[0;34m\u001b[0m\u001b[0;34m\u001b[0m\u001b[0m\n\u001b[1;32m    407\u001b[0m     \u001b[0msample_range\u001b[0m \u001b[0;34m=\u001b[0m \u001b[0mnp\u001b[0m\u001b[0;34m.\u001b[0m\u001b[0marange\u001b[0m\u001b[0;34m(\u001b[0m\u001b[0mD\u001b[0m\u001b[0;34m.\u001b[0m\u001b[0mshape\u001b[0m\u001b[0;34m[\u001b[0m\u001b[0;36m0\u001b[0m\u001b[0;34m]\u001b[0m\u001b[0;34m)\u001b[0m\u001b[0;34m[\u001b[0m\u001b[0;34m:\u001b[0m\u001b[0;34m,\u001b[0m \u001b[0;32mNone\u001b[0m\u001b[0;34m]\u001b[0m\u001b[0;34m\u001b[0m\u001b[0;34m\u001b[0m\u001b[0m\n\u001b[0;32m--> 408\u001b[0;31m     \u001b[0mindices\u001b[0m \u001b[0;34m=\u001b[0m \u001b[0mnp\u001b[0m\u001b[0;34m.\u001b[0m\u001b[0margpartition\u001b[0m\u001b[0;34m(\u001b[0m\u001b[0mD\u001b[0m\u001b[0;34m,\u001b[0m \u001b[0mn_neighbors\u001b[0m\u001b[0;34m-\u001b[0m\u001b[0;36m1\u001b[0m\u001b[0;34m,\u001b[0m \u001b[0maxis\u001b[0m\u001b[0;34m=\u001b[0m\u001b[0;36m1\u001b[0m\u001b[0;34m)\u001b[0m\u001b[0;34m[\u001b[0m\u001b[0;34m:\u001b[0m\u001b[0;34m,\u001b[0m \u001b[0;34m:\u001b[0m\u001b[0mn_neighbors\u001b[0m\u001b[0;34m]\u001b[0m\u001b[0;34m\u001b[0m\u001b[0;34m\u001b[0m\u001b[0m\n\u001b[0m\u001b[1;32m    409\u001b[0m     \u001b[0mindices\u001b[0m \u001b[0;34m=\u001b[0m \u001b[0mindices\u001b[0m\u001b[0;34m[\u001b[0m\u001b[0msample_range\u001b[0m\u001b[0;34m,\u001b[0m \u001b[0mnp\u001b[0m\u001b[0;34m.\u001b[0m\u001b[0margsort\u001b[0m\u001b[0;34m(\u001b[0m\u001b[0mD\u001b[0m\u001b[0;34m[\u001b[0m\u001b[0msample_range\u001b[0m\u001b[0;34m,\u001b[0m \u001b[0mindices\u001b[0m\u001b[0;34m]\u001b[0m\u001b[0;34m)\u001b[0m\u001b[0;34m]\u001b[0m\u001b[0;34m\u001b[0m\u001b[0;34m\u001b[0m\u001b[0m\n\u001b[1;32m    410\u001b[0m     \u001b[0mdistances\u001b[0m \u001b[0;34m=\u001b[0m \u001b[0mD\u001b[0m\u001b[0;34m[\u001b[0m\u001b[0msample_range\u001b[0m\u001b[0;34m,\u001b[0m \u001b[0mindices\u001b[0m\u001b[0;34m]\u001b[0m\u001b[0;34m\u001b[0m\u001b[0;34m\u001b[0m\u001b[0m\n",
      "\u001b[0;32m<__array_function__ internals>\u001b[0m in \u001b[0;36margpartition\u001b[0;34m(*args, **kwargs)\u001b[0m\n",
      "\u001b[0;32m~/anaconda3/envs/w/lib/python3.7/site-packages/numpy/core/fromnumeric.py\u001b[0m in \u001b[0;36margpartition\u001b[0;34m(a, kth, axis, kind, order)\u001b[0m\n\u001b[1;32m    830\u001b[0m \u001b[0;34m\u001b[0m\u001b[0m\n\u001b[1;32m    831\u001b[0m     \"\"\"\n\u001b[0;32m--> 832\u001b[0;31m     \u001b[0;32mreturn\u001b[0m \u001b[0m_wrapfunc\u001b[0m\u001b[0;34m(\u001b[0m\u001b[0ma\u001b[0m\u001b[0;34m,\u001b[0m \u001b[0;34m'argpartition'\u001b[0m\u001b[0;34m,\u001b[0m \u001b[0mkth\u001b[0m\u001b[0;34m,\u001b[0m \u001b[0maxis\u001b[0m\u001b[0;34m=\u001b[0m\u001b[0maxis\u001b[0m\u001b[0;34m,\u001b[0m \u001b[0mkind\u001b[0m\u001b[0;34m=\u001b[0m\u001b[0mkind\u001b[0m\u001b[0;34m,\u001b[0m \u001b[0morder\u001b[0m\u001b[0;34m=\u001b[0m\u001b[0morder\u001b[0m\u001b[0;34m)\u001b[0m\u001b[0;34m\u001b[0m\u001b[0;34m\u001b[0m\u001b[0m\n\u001b[0m\u001b[1;32m    833\u001b[0m \u001b[0;34m\u001b[0m\u001b[0m\n\u001b[1;32m    834\u001b[0m \u001b[0;34m\u001b[0m\u001b[0m\n",
      "\u001b[0;32m~/anaconda3/envs/w/lib/python3.7/site-packages/numpy/core/fromnumeric.py\u001b[0m in \u001b[0;36m_wrapfunc\u001b[0;34m(obj, method, *args, **kwds)\u001b[0m\n\u001b[1;32m     56\u001b[0m \u001b[0;34m\u001b[0m\u001b[0m\n\u001b[1;32m     57\u001b[0m     \u001b[0;32mtry\u001b[0m\u001b[0;34m:\u001b[0m\u001b[0;34m\u001b[0m\u001b[0;34m\u001b[0m\u001b[0m\n\u001b[0;32m---> 58\u001b[0;31m         \u001b[0;32mreturn\u001b[0m \u001b[0mbound\u001b[0m\u001b[0;34m(\u001b[0m\u001b[0;34m*\u001b[0m\u001b[0margs\u001b[0m\u001b[0;34m,\u001b[0m \u001b[0;34m**\u001b[0m\u001b[0mkwds\u001b[0m\u001b[0;34m)\u001b[0m\u001b[0;34m\u001b[0m\u001b[0;34m\u001b[0m\u001b[0m\n\u001b[0m\u001b[1;32m     59\u001b[0m     \u001b[0;32mexcept\u001b[0m \u001b[0mTypeError\u001b[0m\u001b[0;34m:\u001b[0m\u001b[0;34m\u001b[0m\u001b[0;34m\u001b[0m\u001b[0m\n\u001b[1;32m     60\u001b[0m         \u001b[0;31m# A TypeError occurs if the object does have such a method in its\u001b[0m\u001b[0;34m\u001b[0m\u001b[0;34m\u001b[0m\u001b[0;34m\u001b[0m\u001b[0m\n",
      "\u001b[0;31mMemoryError\u001b[0m: Unable to allocate 22.4 GiB for an array with shape (54865, 54865) and data type int64"
     ]
    }
   ],
   "source": [
    "for metric,n_comps,weighted,do_norm,norm_scale in params_list:\n",
    "    print(metric,n_comps,weighted,do_norm,norm_scale)\n",
    "    if get_res_path_sc(fname).split('/')[-1] in os.listdir(resdir):\n",
    "        continue\n",
    "    adata = anndata.AnnData(X=mat.tocsr())\n",
    "    adata.obs['labels'] = pd.read_csv(all_data_paths[fname]['labels'])[all_data_paths[fname]['labels_key']].values\n",
    "\n",
    "    results_dict = benchmark_common_functions.scanpy_hubness_analysis(\n",
    "        adata,\n",
    "        do_norm = do_norm,\n",
    "        norm_scale = norm_scale,\n",
    "        do_log = do_log,\n",
    "        do_pca = do_pca,\n",
    "        n_neighbors=int(round(np.sqrt(len(adata)))),\n",
    "        metric=metric,\n",
    "        weighted=weighted,  #weighted adjmat for louvain/leiden clustering ?\n",
    "        seed=seed,\n",
    "        n_comps=n_comps,\n",
    "        retained_cells_idx=range(adata.X.shape[0])\n",
    "    )\n",
    "\n",
    "    with open(get_res_path_sc(fname),'wb') as f:\n",
    "        pickle.dump(results_dict,f)\n",
    "    %xdel adata\n",
    "    gc.collect()"
   ]
  },
  {
   "cell_type": "markdown",
   "metadata": {},
   "source": [
    "# Run Zheng68k dataset"
   ]
  },
  {
   "cell_type": "code",
   "execution_count": null,
   "metadata": {},
   "outputs": [],
   "source": [
    "#fixed params\n",
    "do_log = True #already done with do_norm\n",
    "do_pca = True\n",
    "n_neighbors = 10\n",
    "seed = 0\n",
    "\n",
    "#vary params\n",
    "metric=('cosine','euclidean')\n",
    "n_comps=(25,50,100,500)\n",
    "weighted=(True,)\n",
    "do_norm = ('duo','seurat')\n",
    "norm_scale = (True,False)\n",
    "params_list = list(product(metric,n_comps,weighted,do_norm,norm_scale))\n",
    "# params_list = [i for i in params_list if not(i[-2]=='duo' and i[-1]==True)]"
   ]
  },
  {
   "cell_type": "code",
   "execution_count": null,
   "metadata": {},
   "outputs": [],
   "source": [
    "fname='Zheng68k'\n",
    "f=csv.reader(open(all_data_paths[fname]['data'],'r'))\n",
    "# n_dims=len(next(f))\n",
    "# n_samples=[i for i,j in enumerate(f)]\n",
    "n_samples,n_dims=(65943,20387)\n",
    "\n",
    "shape = (n_samples, n_dims)\n",
    "mat = benchmark_common_functions.IncrementalCSRMatrix(shape, np.float32)\n",
    "\n",
    "for row_ind,line in enumerate(f,start=-1):\n",
    "    print(row_ind,end='\\r')\n",
    "    if row_ind==-1:\n",
    "        continue\n",
    "        \n",
    "    data = np.array(line[1:],dtype=float)\n",
    "    idx = data.nonzero()[0]\n",
    "    for col_ind in idx:\n",
    "        mat.append(row_ind, col_ind, data[col_ind])"
   ]
  },
  {
   "cell_type": "code",
   "execution_count": null,
   "metadata": {},
   "outputs": [
    {
     "name": "stdout",
     "output_type": "stream",
     "text": [
      "cosine 25 True duo True\n",
      "cosine 25 True duo False\n",
      "cosine 25 True seurat True\n",
      "cosine 25 True seurat False\n",
      "cosine 50 True duo True\n",
      "cosine 50 True duo False\n",
      "cosine 50 True seurat True\n",
      "cosine 50 True seurat False\n",
      "cosine 100 True duo True\n",
      "cosine 100 True duo False\n",
      "cosine 100 True seurat True\n",
      "cosine 100 True seurat False\n",
      "cosine 500 True duo True\n",
      "cosine 500 True duo False\n",
      "cosine 500 True seurat True\n",
      "cosine 500 True seurat False\n",
      "euclidean 25 True duo True\n",
      "euclidean 25 True duo False\n",
      "euclidean 25 True seurat True\n",
      "euclidean 25 True seurat False\n",
      "euclidean 50 True duo True\n",
      "euclidean 50 True duo False\n",
      "euclidean 50 True seurat True\n",
      "euclidean 50 True seurat False\n",
      "euclidean 100 True duo True\n",
      "euclidean 100 True duo False\n",
      "euclidean 100 True seurat True\n",
      "\t\tseurat norm retained 1756 genes\n",
      "\t\t\tPreprocessing done: 0.26 mn\n",
      "\t\t\tInputs generated: 4.44 mn\n"
     ]
    }
   ],
   "source": [
    "for metric,n_comps,weighted,do_norm,norm_scale in params_list:\n",
    "    print(metric,n_comps,weighted,do_norm,norm_scale)\n",
    "    if get_res_path(fname).split('/')[-1] in os.listdir(resdir):\n",
    "        continue\n",
    "    adata = anndata.AnnData(X=mat.tocsr())\n",
    "    adata.obs['labels'] = pd.read_csv(all_data_paths[fname]['labels'])[all_data_paths[fname]['labels_key']].values\n",
    "    sc.pp.subsample(adata,n_obs=20000)\n",
    "\n",
    "    results_dict = benchmark_common_functions.clustering_analysis(\n",
    "        adata,\n",
    "        true_labels = adata.obs['labels'],\n",
    "        do_norm = do_norm,\n",
    "        norm_scale = norm_scale,\n",
    "        do_log = do_log,\n",
    "        do_pca = do_pca,\n",
    "        n_neighbors=int(round(np.sqrt(len(adata)))),\n",
    "        n_clusters= adata.obs['labels'].nunique(),\n",
    "        metric=metric,\n",
    "        weighted=weighted,  #weighted adjmat for louvain/leiden clustering ?\n",
    "        seed=seed,\n",
    "        n_comps=n_comps,\n",
    "        retained_cells_idx=range(adata.X.shape[0])\n",
    "    )\n",
    "\n",
    "    with open(get_res_path(fname),'wb') as f:\n",
    "        pickle.dump(results_dict,f)\n",
    "    %xdel adata\n",
    "    gc.collect()"
   ]
  },
  {
   "cell_type": "code",
   "execution_count": null,
   "metadata": {},
   "outputs": [],
   "source": [
    "for metric,n_comps,weighted,do_norm,norm_scale in params_list:\n",
    "    print(metric,n_comps,weighted,do_norm,norm_scale)\n",
    "    if get_res_path_sc(fname).split('/')[-1] in os.listdir(resdir):\n",
    "        continue\n",
    "    adata = anndata.AnnData(X=mat.tocsr())\n",
    "    adata.obs['labels'] = pd.read_csv(all_data_paths[fname]['labels'])[all_data_paths[fname]['labels_key']].values\n",
    "    sc.pp.subsample(adata,n_obs=20000)\n",
    "\n",
    "    results_dict = benchmark_common_functions.scanpy_hubness_analysis(\n",
    "        adata,\n",
    "        do_norm = do_norm,\n",
    "        norm_scale = norm_scale,\n",
    "        do_log = do_log,\n",
    "        do_pca = do_pca,\n",
    "        n_neighbors=int(round(np.sqrt(len(adata)))),\n",
    "        metric=metric,\n",
    "        weighted=weighted,  #weighted adjmat for louvain/leiden clustering ?\n",
    "        seed=seed,\n",
    "        n_comps=n_comps,\n",
    "        retained_cells_idx=range(adata.X.shape[0])\n",
    "    )\n",
    "\n",
    "    with open(get_res_path_sc(fname),'wb') as f:\n",
    "        pickle.dump(results_dict,f)\n",
    "    %xdel adata\n",
    "    gc.collect()"
   ]
  },
  {
   "cell_type": "markdown",
   "metadata": {},
   "source": [
    "# Run Zhengsorted dataset"
   ]
  },
  {
   "cell_type": "code",
   "execution_count": 3,
   "metadata": {},
   "outputs": [],
   "source": [
    "#fixed params\n",
    "do_log = True #already done with do_norm\n",
    "do_pca = True\n",
    "n_neighbors = 10\n",
    "seed = 0\n",
    "\n",
    "#vary params\n",
    "metric=('cosine','euclidean')\n",
    "n_comps=(25,50,100,500)\n",
    "weighted=(True,)\n",
    "do_norm = ('seurat','duo')\n",
    "norm_scale = (True,False)\n",
    "params_list = list(product(metric,n_comps,weighted,do_norm,norm_scale))\n",
    "# params_list = [i for i in params_list if not(i[-2]=='duo' and i[-1]==True)]"
   ]
  },
  {
   "cell_type": "code",
   "execution_count": 4,
   "metadata": {},
   "outputs": [
    {
     "name": "stdout",
     "output_type": "stream",
     "text": [
      "19999\r"
     ]
    }
   ],
   "source": [
    "import scipy\n",
    "fname='Zhengsorted'\n",
    "f=csv.reader(open(all_data_paths[fname]['data'],'r'))\n",
    "# n_dims=len(next(f))\n",
    "# n_samples=[i for i,j in enumerate(f)]\n",
    "n_samples, n_dims=(20000, 21952)\n",
    "\n",
    "shape = (n_samples, n_dims)\n",
    "mat = benchmark_common_functions.IncrementalCSRMatrix(shape, np.float32)\n",
    "\n",
    "for row_ind,line in enumerate(f,start=-1):\n",
    "    print(row_ind,end='\\r')\n",
    "    if row_ind==-1:\n",
    "        continue\n",
    "        \n",
    "    data = np.array(line[1:],dtype=float)\n",
    "    idx = data.nonzero()[0]\n",
    "    for col_ind in idx:\n",
    "        mat.append(row_ind, col_ind, data[col_ind])"
   ]
  },
  {
   "cell_type": "code",
   "execution_count": 5,
   "metadata": {},
   "outputs": [
    {
     "name": "stdout",
     "output_type": "stream",
     "text": [
      "cosine 25 True seurat True\n",
      "cosine 25 True seurat False\n",
      "cosine 25 True duo True\n",
      "cosine 25 True duo False\n",
      "cosine 50 True seurat True\n",
      "cosine 50 True seurat False\n",
      "cosine 50 True duo True\n",
      "cosine 50 True duo False\n",
      "cosine 100 True seurat True\n",
      "cosine 100 True seurat False\n",
      "cosine 100 True duo True\n",
      "cosine 100 True duo False\n",
      "cosine 500 True seurat True\n",
      "cosine 500 True seurat False\n",
      "cosine 500 True duo True\n",
      "cosine 500 True duo False\n",
      "euclidean 25 True seurat True\n",
      "euclidean 25 True seurat False\n",
      "euclidean 25 True duo True\n",
      "euclidean 25 True duo False\n",
      "euclidean 50 True seurat True\n",
      "euclidean 50 True seurat False\n",
      "euclidean 50 True duo True\n",
      "euclidean 50 True duo False\n",
      "euclidean 100 True seurat True\n",
      "euclidean 100 True seurat False\n",
      "euclidean 100 True duo True\n",
      "euclidean 100 True duo False\n",
      "euclidean 500 True seurat True\n",
      "euclidean 500 True seurat False\n",
      "euclidean 500 True duo True\n",
      "euclidean 500 True duo False\n",
      "\t\tduo norm retained 5000 genes\n",
      "\t\t\tPreprocessing done: 1.62 mn\n",
      "\t\t\tInputs generated: 17.02 mn\n",
      "\t\t\tScanpy louvain/leiden clus: 8.95 mn\n",
      "\t\t\tLouvain/leiden clus: 0.19 mn\n",
      "\t\t\tScanpy louvain/leiden clus, searching ground truth: 25.6 mn\n",
      "\t\t\tBase louvain/leiden clus, searching ground truth: 1.42 mn\n",
      "\t\t\tScoring: 0.03 mn\n",
      "\t\t\tHubness methods full pipeline: 98.79 mn\n"
     ]
    }
   ],
   "source": [
    "for metric,n_comps,weighted,do_norm,norm_scale in params_list:\n",
    "    print(metric,n_comps,weighted,do_norm,norm_scale)\n",
    "    if get_res_path(fname).split('/')[-1] in os.listdir(resdir):\n",
    "        continue\n",
    "    #adata = sc.read_csv(all_data_paths[fname]['data'])\n",
    "    adata = anndata.AnnData(X=mat.tocsr())\n",
    "\n",
    "    adata.obs['labels'] = pd.read_csv(all_data_paths[fname]['labels'])[all_data_paths[fname]['labels_key']].values\n",
    "\n",
    "    results_dict = benchmark_common_functions.clustering_analysis(\n",
    "        adata,\n",
    "        true_labels = adata.obs['labels'],\n",
    "        do_norm = do_norm,\n",
    "        norm_scale = norm_scale,\n",
    "        do_log = do_log,\n",
    "        do_pca = do_pca,\n",
    "        n_neighbors=int(round(np.sqrt(len(adata)))),\n",
    "        n_clusters= adata.obs['labels'].nunique(),\n",
    "        metric=metric,\n",
    "        weighted=weighted,  #weighted adjmat for louvain/leiden clustering ?\n",
    "        seed=seed,\n",
    "        n_comps=n_comps,\n",
    "        retained_cells_idx=range(adata.X.shape[0])\n",
    "    )\n",
    "\n",
    "    with open(get_res_path(fname),'wb') as f:\n",
    "        pickle.dump(results_dict,f)\n",
    "    %xdel adata\n",
    "    gc.collect()"
   ]
  },
  {
   "cell_type": "code",
   "execution_count": 6,
   "metadata": {},
   "outputs": [
    {
     "name": "stdout",
     "output_type": "stream",
     "text": [
      "cosine 25 True seurat True\n",
      "\t\tseurat norm retained 2420 genes\n"
     ]
    },
    {
     "name": "stderr",
     "output_type": "stream",
     "text": [
      "WARNING: Using high n_obs without `knn=True` takes a lot of memory...\n"
     ]
    },
    {
     "name": "stdout",
     "output_type": "stream",
     "text": [
      "\t\t\tScoring: 5.78 mn\n",
      "cosine 25 True seurat False\n",
      "\t\tseurat norm retained 2420 genes\n"
     ]
    },
    {
     "name": "stderr",
     "output_type": "stream",
     "text": [
      "WARNING: Using high n_obs without `knn=True` takes a lot of memory...\n"
     ]
    },
    {
     "name": "stdout",
     "output_type": "stream",
     "text": [
      "\t\t\tScoring: 3.92 mn\n",
      "cosine 25 True duo True\n",
      "\t\tduo norm retained 5000 genes\n"
     ]
    },
    {
     "name": "stderr",
     "output_type": "stream",
     "text": [
      "WARNING: Using high n_obs without `knn=True` takes a lot of memory...\n"
     ]
    },
    {
     "name": "stdout",
     "output_type": "stream",
     "text": [
      "\t\t\tScoring: 4.0 mn\n",
      "cosine 25 True duo False\n",
      "\t\tduo norm retained 5000 genes\n"
     ]
    },
    {
     "name": "stderr",
     "output_type": "stream",
     "text": [
      "WARNING: Using high n_obs without `knn=True` takes a lot of memory...\n"
     ]
    },
    {
     "name": "stdout",
     "output_type": "stream",
     "text": [
      "\t\t\tScoring: 4.16 mn\n",
      "cosine 50 True seurat True\n",
      "\t\tseurat norm retained 2420 genes\n"
     ]
    },
    {
     "name": "stderr",
     "output_type": "stream",
     "text": [
      "WARNING: Using high n_obs without `knn=True` takes a lot of memory...\n"
     ]
    },
    {
     "name": "stdout",
     "output_type": "stream",
     "text": [
      "\t\t\tScoring: 3.96 mn\n",
      "cosine 50 True seurat False\n",
      "\t\tseurat norm retained 2420 genes\n"
     ]
    },
    {
     "name": "stderr",
     "output_type": "stream",
     "text": [
      "WARNING: Using high n_obs without `knn=True` takes a lot of memory...\n"
     ]
    },
    {
     "name": "stdout",
     "output_type": "stream",
     "text": [
      "\t\t\tScoring: 4.69 mn\n",
      "cosine 50 True duo True\n",
      "\t\tduo norm retained 5000 genes\n"
     ]
    },
    {
     "name": "stderr",
     "output_type": "stream",
     "text": [
      "WARNING: Using high n_obs without `knn=True` takes a lot of memory...\n"
     ]
    },
    {
     "name": "stdout",
     "output_type": "stream",
     "text": [
      "\t\t\tScoring: 4.07 mn\n",
      "cosine 50 True duo False\n",
      "\t\tduo norm retained 5000 genes\n"
     ]
    },
    {
     "name": "stderr",
     "output_type": "stream",
     "text": [
      "WARNING: Using high n_obs without `knn=True` takes a lot of memory...\n"
     ]
    },
    {
     "name": "stdout",
     "output_type": "stream",
     "text": [
      "\t\t\tScoring: 3.01 mn\n",
      "cosine 100 True seurat True\n",
      "\t\tseurat norm retained 2420 genes\n"
     ]
    },
    {
     "name": "stderr",
     "output_type": "stream",
     "text": [
      "WARNING: Using high n_obs without `knn=True` takes a lot of memory...\n"
     ]
    },
    {
     "name": "stdout",
     "output_type": "stream",
     "text": [
      "\t\t\tScoring: 3.39 mn\n",
      "cosine 100 True seurat False\n",
      "\t\tseurat norm retained 2420 genes\n"
     ]
    },
    {
     "name": "stderr",
     "output_type": "stream",
     "text": [
      "WARNING: Using high n_obs without `knn=True` takes a lot of memory...\n"
     ]
    },
    {
     "name": "stdout",
     "output_type": "stream",
     "text": [
      "\t\t\tScoring: 3.34 mn\n",
      "cosine 100 True duo True\n",
      "\t\tduo norm retained 5000 genes\n"
     ]
    },
    {
     "name": "stderr",
     "output_type": "stream",
     "text": [
      "WARNING: Using high n_obs without `knn=True` takes a lot of memory...\n"
     ]
    },
    {
     "name": "stdout",
     "output_type": "stream",
     "text": [
      "\t\t\tScoring: 3.39 mn\n",
      "cosine 100 True duo False\n",
      "\t\tduo norm retained 5000 genes\n"
     ]
    },
    {
     "name": "stderr",
     "output_type": "stream",
     "text": [
      "WARNING: Using high n_obs without `knn=True` takes a lot of memory...\n"
     ]
    },
    {
     "name": "stdout",
     "output_type": "stream",
     "text": [
      "\t\t\tScoring: 4.14 mn\n",
      "cosine 500 True seurat True\n",
      "\t\tseurat norm retained 2420 genes\n"
     ]
    },
    {
     "name": "stderr",
     "output_type": "stream",
     "text": [
      "WARNING: Using high n_obs without `knn=True` takes a lot of memory...\n"
     ]
    },
    {
     "name": "stdout",
     "output_type": "stream",
     "text": [
      "\t\t\tScoring: 4.24 mn\n",
      "cosine 500 True seurat False\n",
      "\t\tseurat norm retained 2420 genes\n"
     ]
    },
    {
     "name": "stderr",
     "output_type": "stream",
     "text": [
      "WARNING: Using high n_obs without `knn=True` takes a lot of memory...\n"
     ]
    },
    {
     "name": "stdout",
     "output_type": "stream",
     "text": [
      "\t\t\tScoring: 2.58 mn\n",
      "cosine 500 True duo True\n",
      "\t\tduo norm retained 5000 genes\n"
     ]
    },
    {
     "name": "stderr",
     "output_type": "stream",
     "text": [
      "WARNING: Using high n_obs without `knn=True` takes a lot of memory...\n"
     ]
    },
    {
     "name": "stdout",
     "output_type": "stream",
     "text": [
      "\t\t\tScoring: 3.73 mn\n",
      "cosine 500 True duo False\n",
      "\t\tduo norm retained 5000 genes\n"
     ]
    },
    {
     "name": "stderr",
     "output_type": "stream",
     "text": [
      "WARNING: Using high n_obs without `knn=True` takes a lot of memory...\n"
     ]
    },
    {
     "name": "stdout",
     "output_type": "stream",
     "text": [
      "\t\t\tScoring: 3.94 mn\n",
      "euclidean 25 True seurat True\n",
      "\t\tseurat norm retained 2420 genes\n"
     ]
    },
    {
     "name": "stderr",
     "output_type": "stream",
     "text": [
      "WARNING: Using high n_obs without `knn=True` takes a lot of memory...\n"
     ]
    },
    {
     "name": "stdout",
     "output_type": "stream",
     "text": [
      "\t\t\tScoring: 2.49 mn\n",
      "euclidean 25 True seurat False\n",
      "\t\tseurat norm retained 2420 genes\n"
     ]
    },
    {
     "name": "stderr",
     "output_type": "stream",
     "text": [
      "WARNING: Using high n_obs without `knn=True` takes a lot of memory...\n"
     ]
    },
    {
     "name": "stdout",
     "output_type": "stream",
     "text": [
      "\t\t\tScoring: 2.64 mn\n",
      "euclidean 25 True duo True\n",
      "\t\tduo norm retained 5000 genes\n"
     ]
    },
    {
     "name": "stderr",
     "output_type": "stream",
     "text": [
      "WARNING: Using high n_obs without `knn=True` takes a lot of memory...\n"
     ]
    },
    {
     "name": "stdout",
     "output_type": "stream",
     "text": [
      "\t\t\tScoring: 1.98 mn\n",
      "euclidean 25 True duo False\n",
      "\t\tduo norm retained 5000 genes\n"
     ]
    },
    {
     "name": "stderr",
     "output_type": "stream",
     "text": [
      "WARNING: Using high n_obs without `knn=True` takes a lot of memory...\n"
     ]
    },
    {
     "name": "stdout",
     "output_type": "stream",
     "text": [
      "\t\t\tScoring: 2.03 mn\n",
      "euclidean 50 True seurat True\n",
      "\t\tseurat norm retained 2420 genes\n"
     ]
    },
    {
     "name": "stderr",
     "output_type": "stream",
     "text": [
      "WARNING: Using high n_obs without `knn=True` takes a lot of memory...\n"
     ]
    },
    {
     "name": "stdout",
     "output_type": "stream",
     "text": [
      "\t\t\tScoring: 2.56 mn\n",
      "euclidean 50 True seurat False\n",
      "\t\tseurat norm retained 2420 genes\n"
     ]
    },
    {
     "name": "stderr",
     "output_type": "stream",
     "text": [
      "WARNING: Using high n_obs without `knn=True` takes a lot of memory...\n"
     ]
    },
    {
     "name": "stdout",
     "output_type": "stream",
     "text": [
      "\t\t\tScoring: 2.16 mn\n",
      "euclidean 50 True duo True\n",
      "\t\tduo norm retained 5000 genes\n"
     ]
    },
    {
     "name": "stderr",
     "output_type": "stream",
     "text": [
      "WARNING: Using high n_obs without `knn=True` takes a lot of memory...\n"
     ]
    },
    {
     "name": "stdout",
     "output_type": "stream",
     "text": [
      "\t\t\tScoring: 2.57 mn\n",
      "euclidean 50 True duo False\n",
      "\t\tduo norm retained 5000 genes\n"
     ]
    },
    {
     "name": "stderr",
     "output_type": "stream",
     "text": [
      "WARNING: Using high n_obs without `knn=True` takes a lot of memory...\n"
     ]
    },
    {
     "name": "stdout",
     "output_type": "stream",
     "text": [
      "\t\t\tScoring: 2.58 mn\n",
      "euclidean 100 True seurat True\n",
      "\t\tseurat norm retained 2420 genes\n"
     ]
    },
    {
     "name": "stderr",
     "output_type": "stream",
     "text": [
      "WARNING: Using high n_obs without `knn=True` takes a lot of memory...\n"
     ]
    },
    {
     "name": "stdout",
     "output_type": "stream",
     "text": [
      "\t\t\tScoring: 2.52 mn\n",
      "euclidean 100 True seurat False\n",
      "\t\tseurat norm retained 2420 genes\n"
     ]
    },
    {
     "name": "stderr",
     "output_type": "stream",
     "text": [
      "WARNING: Using high n_obs without `knn=True` takes a lot of memory...\n"
     ]
    },
    {
     "name": "stdout",
     "output_type": "stream",
     "text": [
      "\t\t\tScoring: 1.94 mn\n",
      "euclidean 100 True duo True\n",
      "\t\tduo norm retained 5000 genes\n"
     ]
    },
    {
     "name": "stderr",
     "output_type": "stream",
     "text": [
      "WARNING: Using high n_obs without `knn=True` takes a lot of memory...\n"
     ]
    },
    {
     "name": "stdout",
     "output_type": "stream",
     "text": [
      "\t\t\tScoring: 2.38 mn\n",
      "euclidean 100 True duo False\n",
      "\t\tduo norm retained 5000 genes\n"
     ]
    },
    {
     "name": "stderr",
     "output_type": "stream",
     "text": [
      "WARNING: Using high n_obs without `knn=True` takes a lot of memory...\n"
     ]
    },
    {
     "name": "stdout",
     "output_type": "stream",
     "text": [
      "\t\t\tScoring: 2.47 mn\n",
      "euclidean 500 True seurat True\n",
      "\t\tseurat norm retained 2420 genes\n"
     ]
    },
    {
     "name": "stderr",
     "output_type": "stream",
     "text": [
      "WARNING: Using high n_obs without `knn=True` takes a lot of memory...\n"
     ]
    },
    {
     "name": "stdout",
     "output_type": "stream",
     "text": [
      "\t\t\tScoring: 4.13 mn\n",
      "euclidean 500 True seurat False\n",
      "\t\tseurat norm retained 2420 genes\n"
     ]
    },
    {
     "name": "stderr",
     "output_type": "stream",
     "text": [
      "WARNING: Using high n_obs without `knn=True` takes a lot of memory...\n"
     ]
    },
    {
     "name": "stdout",
     "output_type": "stream",
     "text": [
      "\t\t\tScoring: 2.85 mn\n",
      "euclidean 500 True duo True\n",
      "\t\tduo norm retained 5000 genes\n"
     ]
    },
    {
     "name": "stderr",
     "output_type": "stream",
     "text": [
      "WARNING: Using high n_obs without `knn=True` takes a lot of memory...\n"
     ]
    },
    {
     "name": "stdout",
     "output_type": "stream",
     "text": [
      "\t\t\tScoring: 5.98 mn\n",
      "euclidean 500 True duo False\n",
      "\t\tduo norm retained 5000 genes\n"
     ]
    },
    {
     "name": "stderr",
     "output_type": "stream",
     "text": [
      "WARNING: Using high n_obs without `knn=True` takes a lot of memory...\n"
     ]
    },
    {
     "name": "stdout",
     "output_type": "stream",
     "text": [
      "\t\t\tScoring: 7.03 mn\n"
     ]
    }
   ],
   "source": [
    "for metric,n_comps,weighted,do_norm,norm_scale in params_list:\n",
    "    print(metric,n_comps,weighted,do_norm,norm_scale)\n",
    "    if get_res_path_sc(fname).split('/')[-1] in os.listdir(resdir):\n",
    "        continue\n",
    "    #adata = sc.read_csv(all_data_paths[fname]['data'])\n",
    "    adata = anndata.AnnData(X=mat.tocsr())\n",
    "\n",
    "    adata.obs['labels'] = pd.read_csv(all_data_paths[fname]['labels'])[all_data_paths[fname]['labels_key']].values\n",
    "\n",
    "    results_dict = benchmark_common_functions.scanpy_hubness_analysis(\n",
    "        adata,\n",
    "        do_norm = do_norm,\n",
    "        norm_scale = norm_scale,\n",
    "        do_log = do_log,\n",
    "        do_pca = do_pca,\n",
    "        n_neighbors=int(round(np.sqrt(len(adata)))),\n",
    "        metric=metric,\n",
    "        weighted=weighted,  #weighted adjmat for louvain/leiden clustering ?\n",
    "        seed=seed,\n",
    "        n_comps=n_comps,\n",
    "        retained_cells_idx=range(adata.X.shape[0])\n",
    "    )\n",
    "\n",
    "    with open(get_res_path_sc(fname),'wb') as f:\n",
    "        pickle.dump(results_dict,f)\n",
    "    %xdel adata\n",
    "    gc.collect()"
   ]
  },
  {
   "cell_type": "markdown",
   "metadata": {},
   "source": [
    "# Run AMB dataset"
   ]
  },
  {
   "cell_type": "code",
   "execution_count": 7,
   "metadata": {},
   "outputs": [],
   "source": [
    "#fixed params\n",
    "do_log = True #already done with do_norm\n",
    "do_pca = True\n",
    "n_neighbors = 10\n",
    "seed = 0\n",
    "\n",
    "#vary params\n",
    "metric=('cosine','euclidean')\n",
    "n_comps=(25,50,100,500)\n",
    "weighted=(True,)\n",
    "do_norm = ('seurat','duo')\n",
    "norm_scale = (True,False)\n",
    "params_list = list(product(metric,n_comps,weighted,do_norm,norm_scale))\n",
    "# params_list = [i for i in params_list if not(i[-2]=='duo' and i[-1]==True)]"
   ]
  },
  {
   "cell_type": "code",
   "execution_count": 9,
   "metadata": {},
   "outputs": [
    {
     "name": "stdout",
     "output_type": "stream",
     "text": [
      "12831\r"
     ]
    }
   ],
   "source": [
    "fname= 'AMB3'\n",
    "f=csv.reader(open(all_data_paths[fname]['data'],'r'))\n",
    "# n_samples=len([i for i,j in enumerate(f)])-1\n",
    "# n_dims=len(next(f))-1\n",
    "n_samples, n_dims= (12832,42625)\n",
    "\n",
    "shape = (n_samples, n_dims)\n",
    "mat = benchmark_common_functions.IncrementalCSRMatrix(shape, np.float32)\n",
    "\n",
    "for row_ind,line in enumerate(f,start=-1):\n",
    "    print(row_ind,end='\\r')\n",
    "    if row_ind==-1:\n",
    "        continue\n",
    "        \n",
    "    data = np.array(line[1:],dtype=float)\n",
    "    idx = data.nonzero()[0]\n",
    "    for col_ind in idx:\n",
    "        mat.append(row_ind, col_ind, data[col_ind])"
   ]
  },
  {
   "cell_type": "code",
   "execution_count": 5,
   "metadata": {
    "collapsed": true,
    "jupyter": {
     "outputs_hidden": true
    }
   },
   "outputs": [
    {
     "name": "stdout",
     "output_type": "stream",
     "text": [
      "cosine 25 True seurat True\n",
      "cosine 25 True seurat False\n",
      "cosine 25 True duo True\n",
      "cosine 25 True duo False\n",
      "cosine 50 True seurat True\n",
      "cosine 50 True seurat False\n",
      "cosine 50 True duo True\n",
      "cosine 50 True duo False\n",
      "cosine 100 True seurat True\n",
      "cosine 100 True seurat False\n",
      "cosine 100 True duo True\n",
      "cosine 100 True duo False\n",
      "cosine 500 True seurat True\n",
      "cosine 500 True seurat False\n",
      "cosine 500 True duo True\n",
      "cosine 500 True duo False\n",
      "euclidean 25 True seurat True\n",
      "euclidean 25 True seurat False\n",
      "euclidean 25 True duo True\n",
      "euclidean 25 True duo False\n",
      "euclidean 50 True seurat True\n",
      "euclidean 50 True seurat False\n",
      "euclidean 50 True duo True\n",
      "euclidean 50 True duo False\n",
      "euclidean 100 True seurat True\n",
      "euclidean 100 True seurat False\n",
      "euclidean 100 True duo True\n",
      "euclidean 100 True duo False\n",
      "euclidean 500 True seurat True\n",
      "euclidean 500 True seurat False\n",
      "euclidean 500 True duo True\n",
      "euclidean 500 True duo False\n",
      "cosine 25 True seurat True\n",
      "cosine 25 True seurat False\n",
      "cosine 25 True duo True\n",
      "cosine 25 True duo False\n",
      "cosine 50 True seurat True\n",
      "cosine 50 True seurat False\n",
      "cosine 50 True duo True\n",
      "cosine 50 True duo False\n",
      "cosine 100 True seurat True\n",
      "cosine 100 True seurat False\n",
      "cosine 100 True duo True\n",
      "cosine 100 True duo False\n",
      "cosine 500 True seurat True\n",
      "cosine 500 True seurat False\n",
      "cosine 500 True duo True\n",
      "cosine 500 True duo False\n",
      "euclidean 25 True seurat True\n",
      "euclidean 25 True seurat False\n",
      "euclidean 25 True duo True\n",
      "euclidean 25 True duo False\n",
      "euclidean 50 True seurat True\n",
      "euclidean 50 True seurat False\n",
      "euclidean 50 True duo True\n",
      "euclidean 50 True duo False\n",
      "euclidean 100 True seurat True\n",
      "euclidean 100 True seurat False\n",
      "euclidean 100 True duo True\n",
      "euclidean 100 True duo False\n",
      "euclidean 500 True seurat True\n",
      "euclidean 500 True seurat False\n",
      "euclidean 500 True duo True\n",
      "euclidean 500 True duo False\n",
      "cosine 25 True seurat True\n",
      "cosine 25 True seurat False\n",
      "cosine 25 True duo True\n",
      "cosine 25 True duo False\n",
      "cosine 50 True seurat True\n",
      "cosine 50 True seurat False\n",
      "cosine 50 True duo True\n",
      "cosine 50 True duo False\n",
      "cosine 100 True seurat True\n",
      "cosine 100 True seurat False\n",
      "cosine 100 True duo True\n",
      "cosine 100 True duo False\n",
      "cosine 500 True seurat True\n",
      "cosine 500 True seurat False\n",
      "cosine 500 True duo True\n",
      "cosine 500 True duo False\n",
      "euclidean 25 True seurat True\n",
      "euclidean 25 True seurat False\n",
      "euclidean 25 True duo True\n",
      "euclidean 25 True duo False\n",
      "euclidean 50 True seurat True\n",
      "euclidean 50 True seurat False\n",
      "euclidean 50 True duo True\n",
      "euclidean 50 True duo False\n",
      "euclidean 100 True seurat True\n",
      "euclidean 100 True seurat False\n",
      "euclidean 100 True duo True\n",
      "euclidean 100 True duo False\n",
      "euclidean 500 True seurat True\n",
      "euclidean 500 True seurat False\n",
      "euclidean 500 True duo True\n",
      "euclidean 500 True duo False\n"
     ]
    }
   ],
   "source": [
    "for fname in ['AMB3','AMB16','AMB92']:\n",
    "    for metric,n_comps,weighted,do_norm,norm_scale in params_list:\n",
    "        print(metric,n_comps,weighted,do_norm,norm_scale)\n",
    "        if get_res_path(fname).split('/')[-1] in os.listdir(resdir):\n",
    "            continue\n",
    "        labels = pd.read_csv(all_data_paths[fname]['labels'])[all_data_paths[fname]['labels_key']].values\n",
    "        unique_labels, counts = np.unique(labels,return_counts=True)\n",
    "        idx = np.where(~np.isin(labels,unique_labels[counts<=10]))[0]\n",
    "        filtered_labels = labels[idx]\n",
    "        adata = anndata.AnnData(X = mat.tocsr()[idx])\n",
    "        adata.obs['labels'] = filtered_labels\n",
    "\n",
    "        results_dict = benchmark_common_functions.clustering_analysis(\n",
    "            adata,\n",
    "            true_labels = adata.obs['labels'],\n",
    "            do_norm = do_norm,\n",
    "            norm_scale = norm_scale,\n",
    "            do_log = do_log,\n",
    "            do_pca = do_pca,\n",
    "            n_neighbors=int(round(np.sqrt(len(adata)))),\n",
    "            n_clusters= adata.obs['labels'].nunique(),\n",
    "            metric=metric,\n",
    "            weighted=weighted,  #weighted adjmat for louvain/leiden clustering ?\n",
    "            seed=seed,\n",
    "            n_comps=n_comps,\n",
    "            retained_cells_idx=range(adata.X.shape[0])\n",
    "        )\n",
    "\n",
    "        with open(get_res_path(fname),'wb') as f:\n",
    "            pickle.dump(results_dict,f)\n",
    "        %xdel adata\n",
    "        gc.collect()"
   ]
  },
  {
   "cell_type": "code",
   "execution_count": 10,
   "metadata": {},
   "outputs": [
    {
     "name": "stdout",
     "output_type": "stream",
     "text": [
      "cosine 25 True duo True\n",
      "cosine 25 True duo False\n",
      "cosine 25 True seurat True\n",
      "cosine 25 True seurat False\n",
      "cosine 50 True duo True\n",
      "cosine 50 True duo False\n",
      "cosine 50 True seurat True\n",
      "cosine 50 True seurat False\n",
      "cosine 100 True duo True\n",
      "cosine 100 True duo False\n",
      "cosine 100 True seurat True\n",
      "cosine 100 True seurat False\n",
      "cosine 500 True duo True\n",
      "cosine 500 True duo False\n",
      "cosine 500 True seurat True\n",
      "cosine 500 True seurat False\n",
      "euclidean 25 True duo True\n",
      "euclidean 25 True duo False\n",
      "euclidean 25 True seurat True\n",
      "euclidean 25 True seurat False\n",
      "euclidean 50 True duo True\n",
      "euclidean 50 True duo False\n",
      "euclidean 50 True seurat True\n",
      "euclidean 50 True seurat False\n",
      "euclidean 100 True duo True\n",
      "euclidean 100 True duo False\n",
      "euclidean 100 True seurat True\n",
      "euclidean 100 True seurat False\n",
      "euclidean 500 True duo True\n",
      "\t\tduo norm retained 5000 genes\n"
     ]
    },
    {
     "name": "stderr",
     "output_type": "stream",
     "text": [
      "WARNING: Using high n_obs without `knn=True` takes a lot of memory...\n"
     ]
    },
    {
     "name": "stdout",
     "output_type": "stream",
     "text": [
      "\t\t\tScoring: 2.55 mn\n",
      "euclidean 500 True duo False\n",
      "\t\tduo norm retained 5000 genes\n"
     ]
    },
    {
     "name": "stderr",
     "output_type": "stream",
     "text": [
      "WARNING: Using high n_obs without `knn=True` takes a lot of memory...\n"
     ]
    },
    {
     "name": "stdout",
     "output_type": "stream",
     "text": [
      "\t\t\tScoring: 2.06 mn\n",
      "euclidean 500 True seurat True\n",
      "euclidean 500 True seurat False\n"
     ]
    }
   ],
   "source": [
    "for metric,n_comps,weighted,do_norm,norm_scale in params_list:\n",
    "    print(metric,n_comps,weighted,do_norm,norm_scale)\n",
    "    if get_res_path_sc(fname).split('/')[-1] in os.listdir(resdir):\n",
    "        continue\n",
    "    labels = pd.read_csv(all_data_paths[fname]['labels'])[all_data_paths[fname]['labels_key']].values\n",
    "    unique_labels, counts = np.unique(labels,return_counts=True)\n",
    "    idx = np.where(~np.isin(labels,unique_labels[counts<=10]))[0]\n",
    "    filtered_labels = labels[idx]\n",
    "    adata = anndata.AnnData(X = mat.tocsr()[idx])\n",
    "    adata.obs['labels'] = filtered_labels\n",
    "\n",
    "    results_dict = benchmark_common_functions.scanpy_hubness_analysis(\n",
    "        adata,\n",
    "        do_norm = do_norm,\n",
    "        norm_scale = norm_scale,\n",
    "        do_log = do_log,\n",
    "        do_pca = do_pca,\n",
    "        n_neighbors=int(round(np.sqrt(len(adata)))),\n",
    "        metric=metric,\n",
    "        weighted=weighted,  #weighted adjmat for louvain/leiden clustering ?\n",
    "        seed=seed,\n",
    "        n_comps=n_comps,\n",
    "        retained_cells_idx=range(adata.X.shape[0])\n",
    "    )\n",
    "\n",
    "    for fname in ['AMB3','AMB16','AMB92']:\n",
    "        with open(get_res_path_sc(fname),'wb') as f:\n",
    "            pickle.dump(results_dict,f)\n",
    "    %xdel adata\n",
    "    gc.collect()"
   ]
  },
  {
   "cell_type": "code",
   "execution_count": null,
   "metadata": {},
   "outputs": [],
   "source": []
  }
 ],
 "metadata": {
  "kernelspec": {
   "display_name": "Python (w)",
   "language": "python",
   "name": "w"
  },
  "language_info": {
   "codemirror_mode": {
    "name": "ipython",
    "version": 3
   },
   "file_extension": ".py",
   "mimetype": "text/x-python",
   "name": "python",
   "nbconvert_exporter": "python",
   "pygments_lexer": "ipython3",
   "version": "3.7.6"
  }
 },
 "nbformat": 4,
 "nbformat_minor": 4
}
