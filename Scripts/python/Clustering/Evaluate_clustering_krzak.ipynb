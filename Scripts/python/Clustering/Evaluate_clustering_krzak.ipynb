{
 "cells": [
  {
   "cell_type": "code",
   "execution_count": 1,
   "metadata": {},
   "outputs": [],
   "source": [
    "import sys\n",
    "sys.path.append('..')\n",
    "import os\n",
    "import sklearn.metrics.cluster\n",
    "import sklearn.cluster\n",
    "import seaborn as sns\n",
    "import scanpy as sc\n",
    "import sklearn as sk\n",
    "from sklearn.neighbors import NearestNeighbors\n",
    "import matplotlib as mpl\n",
    "from matplotlib import pyplot as plt\n",
    "import skdim\n",
    "import seaborn as sns\n",
    "import time\n",
    "import numpy as np\n",
    "import pandas as pd\n",
    "import pickle\n",
    "import rpy2.robjects as ro\n",
    "import rpy2.robjects.numpy2ri\n",
    "import rpy2.robjects.packages as rpackages\n",
    "import utils\n",
    "import anndata2ri\n",
    "import gc\n",
    "import benchmark_common_functions\n",
    "from itertools import product\n",
    "\n",
    "anndata2ri.activate()\n",
    "ro.numpy2ri.activate()\n",
    "readRDS = ro.r['readRDS']\n",
    "%load_ext rpy2.ipython"
   ]
  },
  {
   "cell_type": "markdown",
   "metadata": {},
   "source": [
    "# Run processed datasets"
   ]
  },
  {
   "cell_type": "code",
   "execution_count": 2,
   "metadata": {},
   "outputs": [],
   "source": [
    "base_folder1 = '../data/benchmark_sensitivity_frontiers/Benchmarking_Clustering_Methods_scRNAseq/raw_data/Rdata_qc_filt_norm/'\n",
    "base_folder2 = '../data/benchmark_sensitivity_frontiers/Benchmarking_Clustering_Methods_scRNAseq/norm_data/Rdata_qc_filt_hvg/'\n",
    "get_fnames = lambda base_folder: [os.path.join(base_folder, fname) for fname in os.listdir(base_folder)]\n",
    "fnames = get_fnames(base_folder1)+get_fnames(base_folder2)\n",
    "\n",
    "resdir = '../results/benchmark_sensitivity_frontiers/real_data/'\n",
    "\n",
    "get_res_path = lambda fname: f'{resdir}{fname}_norm{do_norm}_scale{norm_scale}_pca{do_pca}_ncomps{n_comps}_{metric}_weighted{weighted}_knn{n_neighbors}_seed{seed}.pkl'"
   ]
  },
  {
   "cell_type": "code",
   "execution_count": 3,
   "metadata": {},
   "outputs": [],
   "source": [
    "#fixed params\n",
    "do_log = True\n",
    "do_pca = True\n",
    "n_neighbors = 10\n",
    "seed = 0\n",
    "\n",
    "#vary params\n",
    "metric=('cosine','euclidean')\n",
    "n_comps=(25,50,100,500)\n",
    "weighted=(True,)\n",
    "do_norm = (None,)\n",
    "norm_scale = (None,)\n",
    "params_list = list(product(metric,n_comps,weighted,do_norm,norm_scale))"
   ]
  },
  {
   "cell_type": "code",
   "execution_count": 4,
   "metadata": {},
   "outputs": [
    {
     "name": "stdout",
     "output_type": "stream",
     "text": [
      "cosine 25 True None None\n",
      "cosine 50 True None None\n",
      "cosine 100 True None None\n",
      "cosine 500 True None None\n",
      "euclidean 25 True None None\n",
      "euclidean 50 True None None\n",
      "euclidean 100 True None None\n",
      "euclidean 500 True None None\n"
     ]
    }
   ],
   "source": [
    "for metric,n_comps,weighted,do_norm,norm_scale in params_list:\n",
    "    print(metric,n_comps,weighted,do_norm,norm_scale)\n",
    "    for fname in fnames:\n",
    "        if get_res_path(fname).split('/')[-1] in os.listdir(resdir):\n",
    "            continue\n",
    "        print('\\t\\t'+fname.split('/')[-1])\n",
    "        x = ro.r.load(fname)\n",
    "        adata = ro.r['sce'] \n",
    "        if 'kolodziejczyk' in fname:\n",
    "            adata.obs['Group']=adata.obs['cell_type1']\n",
    "            \n",
    "        results_dict = benchmark_common_functions.clustering_analysis(\n",
    "            adata,\n",
    "            true_labels = adata.obs['Group'],\n",
    "            do_norm = do_norm,\n",
    "            norm_scale = norm_scale,\n",
    "            do_log = do_log,\n",
    "            do_pca = do_pca,\n",
    "            n_neighbors=n_neighbors,\n",
    "            n_clusters= adata.obs['Group'].nunique(),\n",
    "            metric=metric,\n",
    "            weighted=weighted,  #weighted adjmat for louvain/leiden clustering ?\n",
    "            seed=seed,\n",
    "            n_comps=n_comps\n",
    "        )\n",
    "\n",
    "        with open(get_res_path(fname.split('/')[-1]),'wb') as f:\n",
    "            pickle.dump(results_dict,f)\n",
    "        %xdel adata\n",
    "        gc.collect()"
   ]
  },
  {
   "cell_type": "markdown",
   "metadata": {},
   "source": [
    "# Run raw datasets"
   ]
  },
  {
   "cell_type": "code",
   "execution_count": 5,
   "metadata": {},
   "outputs": [],
   "source": [
    "base_folder1 = '../data/benchmark_sensitivity_frontiers/Benchmarking_Clustering_Methods_scRNAseq/raw_data/Rdata_qc/'\n",
    "base_folder2 = '../data/benchmark_sensitivity_frontiers/Benchmarking_Clustering_Methods_scRNAseq/norm_data/Rdata_qc/'\n",
    "get_fnames = lambda base_folder: [os.path.join(base_folder, fname) for fname in os.listdir(base_folder)]\n",
    "fnames = get_fnames(base_folder1)+get_fnames(base_folder2)\n",
    "\n",
    "resdir = '../results/benchmark_sensitivity_frontiers/real_data/'\n",
    "\n",
    "#get_res_path_raw = lambda fname: f'{resdir}{fname}_RAW_norm{do_norm}_scale{norm_scale}_pca{do_pca}_ncomps{n_comps}_{metric}_weighted{weighted}_knn{n_neighbors}_seed{seed}.pkl'\n",
    "get_res_path_raw = lambda fname: f'{resdir}{fname}_RAW_norm{do_norm}_scale{norm_scale}_pca{do_pca}_ncomps{n_comps}_{metric}_weighted{weighted}_knn_sqrt_seed{seed}.pkl'\n",
    "get_res_path_raw_sc = lambda fname: f'{resdir}{fname}_RAW_norm{do_norm}_scale{norm_scale}_pca{do_pca}_ncomps{n_comps}_{metric}_weighted{weighted}_knn_sqrt_seed{seed}_scanpyhubness.pkl'"
   ]
  },
  {
   "cell_type": "code",
   "execution_count": 6,
   "metadata": {},
   "outputs": [],
   "source": [
    "#fixed params\n",
    "do_log = True\n",
    "do_pca = True\n",
    "n_neighbors = 10\n",
    "seed = 0\n",
    "\n",
    "#vary params\n",
    "metric=('cosine','euclidean')\n",
    "n_comps=(25,50,100,500)\n",
    "weighted=(True,)\n",
    "do_norm = ('duo','seurat')#,'zheng17')\n",
    "norm_scale = (True,False)\n",
    "params_list = list(product(metric,n_comps,weighted,do_norm,norm_scale))"
   ]
  },
  {
   "cell_type": "code",
   "execution_count": 4,
   "metadata": {
    "tags": [
     "outputPrepend"
    ]
   },
   "outputs": [
    {
     "name": "stdout",
     "output_type": "stream",
     "text": [
      "iteration is used:16 at resolution 2.999997138977051\n",
      "Cannot find the number of clusters\n",
      "Clustering solution from last iteration is used:16 at resolution 2.999997138977051\n",
      "Cannot find the number of clusters\n",
      "Clustering solution from last iteration is used:15 at resolution 2.999997138977051\n",
      "Cannot find the number of clusters\n",
      "Clustering solution from last iteration is used:16 at resolution 2.999997138977051\n",
      "Cannot find the number of clusters\n",
      "Clustering solution from last iteration is used:15 at resolution 2.999997138977051\n",
      "\t\t\tHubness methods full pipeline: 0.65 mn\n",
      "\t\tZeisel2015.Rdata\n",
      "\t\tduo norm retained 5000 genes\n",
      "\t\t\tPreprocessing done: 0.25 mn\n",
      "\t\t\tInputs generated: 0.21 mn\n",
      "\t\t\tScanpy louvain/leiden clus: 0.16 mn\n",
      "\t\t\tLouvain/leiden clus: 0.01 mn\n",
      "\t\t\tScanpy louvain/leiden clus, searching ground truth: 0.34 mn\n",
      "\t\t\tBase louvain/leiden clus, searching ground truth: 0.01 mn\n",
      "\t\t\tScoring: 0.0 mn\n",
      "\t\t\tHubness methods full pipeline: 1.55 mn\n",
      "\t\tBiase2014.Rdata\n",
      "\t\tduo norm retained 5000 genes\n",
      "\t\t\tPreprocessing done: 0.0 mn\n",
      "\t\t\tInputs generated: 0.0 mn\n",
      "\t\t\tScanpy louvain/leiden clus: 0.0 mn\n",
      "\t\t\tLouvain/leiden clus: 0.0 mn\n",
      "\t\t\tScanpy louvain/leiden clus, searching ground truth: 0.0 mn\n",
      "\t\t\tBase louvain/leiden clus, searching ground truth: 0.0 mn\n",
      "\t\t\tScoring: 0.0 mn\n",
      "\t\t\tHubness methods full pipeline: 0.01 mn\n",
      "\t\tDeng2014_rpkm.Rdata\n",
      "\t\tduo norm retained 5000 genes\n",
      "\t\t\tPreprocessing done: 0.0 mn\n",
      "\t\t\tInputs generated: 0.0 mn\n",
      "\t\t\tScanpy louvain/leiden clus: 0.0 mn\n",
      "\t\t\tLouvain/leiden clus: 0.0 mn\n",
      "\t\t\tScanpy louvain/leiden clus, searching ground truth: 0.01 mn\n",
      "\t\t\tBase louvain/leiden clus, searching ground truth: 0.0 mn\n",
      "\t\t\tScoring: 0.0 mn\n",
      "\t\t\tHubness methods full pipeline: 0.03 mn\n",
      "\t\tSegerstolpe2016.Rdata\n",
      "\t\tduo norm retained 5000 genes\n",
      "\t\t\tPreprocessing done: 0.23 mn\n",
      "\t\t\tInputs generated: 0.2 mn\n",
      "\t\t\tScanpy louvain/leiden clus: 0.11 mn\n",
      "\t\t\tLouvain/leiden clus: 0.01 mn\n",
      "Cannot find the number of clusters\n",
      "Clustering solution from last iteration is used:14 at resolution 2.999997138977051\n",
      "Cannot find the number of clusters\n",
      "Clustering solution from last iteration is used:14 at resolution 2.999997138977051\n",
      "\t\t\tScanpy louvain/leiden clus, searching ground truth: 0.58 mn\n",
      "\t\t\tBase louvain/leiden clus, searching ground truth: 0.04 mn\n",
      "\t\t\tScoring: 0.01 mn\n",
      "Cannot find the number of clusters\n",
      "Clustering solution from last iteration is used:13 at resolution 2.999997138977051\n",
      "Cannot find the number of clusters\n",
      "Clustering solution from last iteration is used:14 at resolution 2.999997138977051\n",
      "Cannot find the number of clusters\n",
      "Clustering solution from last iteration is used:13 at resolution 2.999997138977051\n",
      "Cannot find the number of clusters\n",
      "Clustering solution from last iteration is used:13 at resolution 2.999997138977051\n",
      "Cannot find the number of clusters\n",
      "Clustering solution from last iteration is used:14 at resolution 2.999997138977051\n",
      "\t\t\tHubness methods full pipeline: 2.0 mn\n",
      "\t\tTasic2016_rpkm.Rdata\n",
      "\t\tduo norm retained 5000 genes\n",
      "\t\t\tPreprocessing done: 0.09 mn\n",
      "\t\t\tInputs generated: 0.06 mn\n",
      "\t\t\tScanpy louvain/leiden clus: 0.04 mn\n",
      "\t\t\tLouvain/leiden clus: 0.0 mn\n",
      "Cannot find the number of clusters\n",
      "Clustering solution from last iteration is used:15 at resolution 2.999997138977051\n",
      "Cannot find the number of clusters\n",
      "Clustering solution from last iteration is used:15 at resolution 2.999997138977051\n",
      "\t\t\tScanpy louvain/leiden clus, searching ground truth: 0.31 mn\n",
      "Cannot find the number of clusters\n",
      "Clustering solution from last iteration is used:16 at resolution 2.999997138977051\n",
      "Cannot find the number of clusters\n",
      "Clustering solution from last iteration is used:14 at resolution 2.999997138977051\n",
      "\t\t\tBase louvain/leiden clus, searching ground truth: 0.06 mn\n",
      "\t\t\tScoring: 0.0 mn\n",
      "Cannot find the number of clusters\n",
      "Clustering solution from last iteration is used:12 at resolution 2.999997138977051\n",
      "Cannot find the number of clusters\n",
      "Clustering solution from last iteration is used:14 at resolution 2.999997138977051\n",
      "Cannot find the number of clusters\n",
      "Clustering solution from last iteration is used:15 at resolution 2.999997138977051\n",
      "Cannot find the number of clusters\n",
      "Clustering solution from last iteration is used:16 at resolution 2.999997138977051\n",
      "Cannot find the number of clusters\n",
      "Clustering solution from last iteration is used:15 at resolution 2.999997138977051\n",
      "\t\t\tHubness methods full pipeline: 0.62 mn\n",
      "\t\tTreutlein.Rdata\n",
      "\t\tduo norm retained 5000 genes\n",
      "\t\t\tPreprocessing done: 0.0 mn\n",
      "\t\t\tInputs generated: 0.0 mn\n",
      "\t\t\tScanpy louvain/leiden clus: 0.0 mn\n",
      "\t\t\tLouvain/leiden clus: 0.0 mn\n",
      "\t\t\tScanpy louvain/leiden clus, searching ground truth: 0.0 mn\n",
      "\t\t\tBase louvain/leiden clus, searching ground truth: 0.0 mn\n",
      "\t\t\tScoring: 0.0 mn\n",
      "\t\t\tHubness methods full pipeline: 0.01 mn\n",
      "\t\tYan2013.Rdata\n",
      "\t\tduo norm retained 5000 genes\n",
      "\t\t\tPreprocessing done: 0.0 mn\n",
      "\t\t\tInputs generated: 0.0 mn\n",
      "\t\t\tScanpy louvain/leiden clus: 0.0 mn\n",
      "\t\t\tLouvain/leiden clus: 0.0 mn\n",
      "\t\t\tScanpy louvain/leiden clus, searching ground truth: 0.0 mn\n",
      "\t\t\tBase louvain/leiden clus, searching ground truth: 0.0 mn\n",
      "\t\t\tScoring: 0.0 mn\n",
      "\t\t\tHubness methods full pipeline: 0.01 mn\n",
      "euclidean 500 True seurat True\n",
      "\t\tBaron2016_m.Rdata\n",
      "\t\tseurat norm retained 2867 genes\n",
      "\t\t\tPreprocessing done: 0.07 mn\n",
      "\t\t\tInputs generated: 0.08 mn\n",
      "\t\t\tScanpy louvain/leiden clus: 0.07 mn\n",
      "\t\t\tLouvain/leiden clus: 0.0 mn\n",
      "\t\t\tScanpy louvain/leiden clus, searching ground truth: 0.23 mn\n",
      "\t\t\tBase louvain/leiden clus, searching ground truth: 0.02 mn\n",
      "\t\t\tScoring: 0.0 mn\n",
      "\t\t\tHubness methods full pipeline: 0.69 mn\n",
      "\t\tDarmanis2015.Rdata\n",
      "\t\tseurat norm retained 7946 genes\n",
      "\t\t\tPreprocessing done: 0.03 mn\n",
      "\t\t\tInputs generated: 0.01 mn\n",
      "\t\t\tScanpy louvain/leiden clus: 0.01 mn\n",
      "\t\t\tLouvain/leiden clus: 0.0 mn\n",
      "\t\t\tScanpy louvain/leiden clus, searching ground truth: 0.02 mn\n",
      "\t\t\tBase louvain/leiden clus, searching ground truth: 0.0 mn\n",
      "\t\t\tScoring: 0.0 mn\n",
      "\t\t\tHubness methods full pipeline: 0.06 mn\n",
      "\t\tDeng2014_raw.Rdata\n",
      "\t\tseurat norm retained 6633 genes\n",
      "\t\t\tPreprocessing done: 0.02 mn\n",
      "\t\t\tInputs generated: 0.0 mn\n",
      "\t\t\tScanpy louvain/leiden clus: 0.0 mn\n",
      "\t\t\tLouvain/leiden clus: 0.0 mn\n",
      "\t\t\tScanpy louvain/leiden clus, searching ground truth: 0.0 mn\n",
      "\t\t\tBase louvain/leiden clus, searching ground truth: 0.0 mn\n",
      "\t\t\tScoring: 0.0 mn\n",
      "\t\t\tHubness methods full pipeline: 0.02 mn\n",
      "\t\tGoolam2016.Rdata\n",
      "\t\tseurat norm retained 7752 genes\n",
      "\t\t\tPreprocessing done: 0.02 mn\n",
      "\t\t\tInputs generated: 0.0 mn\n",
      "\t\t\tScanpy louvain/leiden clus: 0.0 mn\n",
      "\t\t\tLouvain/leiden clus: 0.0 mn\n",
      "\t\t\tScanpy louvain/leiden clus, searching ground truth: 0.0 mn\n",
      "\t\t\tBase louvain/leiden clus, searching ground truth: 0.0 mn\n",
      "\t\t\tScoring: 0.0 mn\n",
      "\t\t\tHubness methods full pipeline: 0.01 mn\n",
      "\t\tKlein2015.Rdata\n",
      "\t\tseurat norm retained 5704 genes\n",
      "\t\t\tPreprocessing done: 0.21 mn\n",
      "\t\t\tInputs generated: 0.23 mn\n",
      "\t\t\tScanpy louvain/leiden clus: 0.11 mn\n",
      "\t\t\tLouvain/leiden clus: 0.01 mn\n",
      "\t\t\tScanpy louvain/leiden clus, searching ground truth: 0.38 mn\n",
      "\t\t\tBase louvain/leiden clus, searching ground truth: 0.03 mn\n",
      "\t\t\tScoring: 0.0 mn\n",
      "\t\t\tHubness methods full pipeline: 1.73 mn\n",
      "\t\tkolodziejczyk.rds\n",
      "\t\tseurat norm retained 8205 genes\n",
      "\t\t\tPreprocessing done: 0.06 mn\n",
      "\t\t\tInputs generated: 0.01 mn\n",
      "\t\t\tScanpy louvain/leiden clus: 0.01 mn\n",
      "\t\t\tLouvain/leiden clus: 0.0 mn\n",
      "\t\t\tScanpy louvain/leiden clus, searching ground truth: 0.03 mn\n",
      "\t\t\tBase louvain/leiden clus, searching ground truth: 0.0 mn\n",
      "\t\t\tScoring: 0.0 mn\n",
      "\t\t\tHubness methods full pipeline: 0.11 mn\n",
      "\t\tLi2017.Rdata\n",
      "\t\tseurat norm retained 10477 genes\n",
      "\t\t\tPreprocessing done: 0.06 mn\n",
      "\t\t\tInputs generated: 0.01 mn\n",
      "\t\t\tScanpy louvain/leiden clus: 0.01 mn\n",
      "\t\t\tLouvain/leiden clus: 0.0 mn\n",
      "\t\t\tScanpy louvain/leiden clus, searching ground truth: 0.02 mn\n",
      "\t\t\tBase louvain/leiden clus, searching ground truth: 0.0 mn\n",
      "\t\t\tScoring: 0.0 mn\n",
      "\t\t\tHubness methods full pipeline: 0.08 mn\n",
      "\t\tRomanov2016.Rdata\n",
      "\t\tseurat norm retained 4434 genes\n",
      "\t\t\tPreprocessing done: 0.18 mn\n",
      "\t\t\tInputs generated: 0.24 mn\n",
      "\t\t\tScanpy louvain/leiden clus: 0.13 mn\n",
      "\t\t\tLouvain/leiden clus: 0.01 mn\n",
      "\t\t\tScanpy louvain/leiden clus, searching ground truth: 0.16 mn\n",
      "\t\t\tBase louvain/leiden clus, searching ground truth: 0.01 mn\n",
      "\t\t\tScoring: 0.0 mn\n",
      "\t\t\tHubness methods full pipeline: 1.68 mn\n",
      "\t\tTasic2016_raw.Rdata\n",
      "\t\tseurat norm retained 6392 genes\n",
      "\t\t\tPreprocessing done: 0.12 mn\n",
      "\t\t\tInputs generated: 0.07 mn\n",
      "\t\t\tScanpy louvain/leiden clus: 0.04 mn\n",
      "\t\t\tLouvain/leiden clus: 0.0 mn\n",
      "\t\t\tScanpy louvain/leiden clus, searching ground truth: 0.16 mn\n",
      "\t\t\tBase louvain/leiden clus, searching ground truth: 0.02 mn\n",
      "\t\t\tScoring: 0.0 mn\n",
      "Cannot find the number of clusters\n",
      "Clustering solution from last iteration is used:18 at resolution 2.605788230895996\n",
      "\t\t\tHubness methods full pipeline: 0.55 mn\n",
      "\t\tZeisel2015.Rdata\n",
      "\t\tseurat norm retained 4180 genes\n",
      "\t\t\tPreprocessing done: 0.18 mn\n",
      "\t\t\tInputs generated: 0.25 mn\n",
      "\t\t\tScanpy louvain/leiden clus: 0.13 mn\n",
      "\t\t\tLouvain/leiden clus: 0.01 mn\n",
      "\t\t\tScanpy louvain/leiden clus, searching ground truth: 0.26 mn\n",
      "\t\t\tBase louvain/leiden clus, searching ground truth: 0.04 mn\n",
      "\t\t\tScoring: 0.0 mn\n",
      "\t\t\tHubness methods full pipeline: 1.82 mn\n",
      "\t\tBiase2014.Rdata\n",
      "\t\tseurat norm retained 5487 genes\n",
      "\t\t\tPreprocessing done: 0.02 mn\n",
      "\t\t\tInputs generated: 0.0 mn\n",
      "\t\t\tScanpy louvain/leiden clus: 0.0 mn\n",
      "\t\t\tLouvain/leiden clus: 0.0 mn\n",
      "\t\t\tScanpy louvain/leiden clus, searching ground truth: 0.0 mn\n",
      "\t\t\tBase louvain/leiden clus, searching ground truth: 0.0 mn\n",
      "\t\t\tScoring: 0.0 mn\n",
      "\t\t\tHubness methods full pipeline: 0.01 mn\n",
      "\t\tDeng2014_rpkm.Rdata\n",
      "\t\tseurat norm retained 6401 genes\n",
      "\t\t\tPreprocessing done: 0.02 mn\n",
      "\t\t\tInputs generated: 0.0 mn\n",
      "\t\t\tScanpy louvain/leiden clus: 0.0 mn\n",
      "\t\t\tLouvain/leiden clus: 0.0 mn\n",
      "\t\t\tScanpy louvain/leiden clus, searching ground truth: 0.01 mn\n",
      "\t\t\tBase louvain/leiden clus, searching ground truth: 0.0 mn\n",
      "\t\t\tScoring: 0.0 mn\n",
      "\t\t\tHubness methods full pipeline: 0.02 mn\n",
      "\t\tSegerstolpe2016.Rdata\n",
      "\t\tseurat norm retained 4750 genes\n",
      "\t\t\tPreprocessing done: 0.2 mn\n",
      "\t\t\tInputs generated: 0.24 mn\n",
      "\t\t\tScanpy louvain/leiden clus: 0.14 mn\n",
      "\t\t\tLouvain/leiden clus: 0.01 mn\n",
      "\t\t\tScanpy louvain/leiden clus, searching ground truth: 0.22 mn\n",
      "\t\t\tBase louvain/leiden clus, searching ground truth: 0.05 mn\n",
      "\t\t\tScoring: 0.0 mn\n",
      "\t\t\tHubness methods full pipeline: 1.73 mn\n",
      "\t\tTasic2016_rpkm.Rdata\n",
      "\t\tseurat norm retained 4864 genes\n",
      "\t\t\tPreprocessing done: 0.1 mn\n",
      "\t\t\tInputs generated: 0.08 mn\n",
      "\t\t\tScanpy louvain/leiden clus: 0.06 mn\n",
      "\t\t\tLouvain/leiden clus: 0.0 mn\n",
      "\t\t\tScanpy louvain/leiden clus, searching ground truth: 0.09 mn\n",
      "\t\t\tBase louvain/leiden clus, searching ground truth: 0.04 mn\n",
      "\t\t\tScoring: 0.0 mn\n",
      "\t\t\tHubness methods full pipeline: 0.56 mn\n",
      "\t\tTreutlein.Rdata\n",
      "\t\tseurat norm retained 3854 genes\n",
      "\t\t\tPreprocessing done: 0.02 mn\n",
      "\t\t\tInputs generated: 0.0 mn\n",
      "\t\t\tScanpy louvain/leiden clus: 0.0 mn\n",
      "\t\t\tLouvain/leiden clus: 0.0 mn\n",
      "\t\t\tScanpy louvain/leiden clus, searching ground truth: 0.0 mn\n",
      "\t\t\tBase louvain/leiden clus, searching ground truth: 0.0 mn\n",
      "\t\t\tScoring: 0.0 mn\n",
      "\t\t\tHubness methods full pipeline: 0.01 mn\n",
      "\t\tYan2013.Rdata\n",
      "\t\tseurat norm retained 5804 genes\n",
      "\t\t\tPreprocessing done: 0.02 mn\n",
      "\t\t\tInputs generated: 0.0 mn\n",
      "\t\t\tScanpy louvain/leiden clus: 0.0 mn\n",
      "\t\t\tLouvain/leiden clus: 0.0 mn\n",
      "\t\t\tScanpy louvain/leiden clus, searching ground truth: 0.0 mn\n",
      "\t\t\tBase louvain/leiden clus, searching ground truth: 0.0 mn\n",
      "\t\t\tScoring: 0.0 mn\n",
      "\t\t\tHubness methods full pipeline: 0.01 mn\n",
      "euclidean 500 True seurat False\n",
      "\t\tBaron2016_m.Rdata\n",
      "\t\tseurat norm retained 2867 genes\n",
      "\t\t\tPreprocessing done: 0.07 mn\n",
      "\t\t\tInputs generated: 0.09 mn\n",
      "\t\t\tScanpy louvain/leiden clus: 0.06 mn\n",
      "\t\t\tLouvain/leiden clus: 0.0 mn\n",
      "\t\t\tScanpy louvain/leiden clus, searching ground truth: 0.11 mn\n",
      "\t\t\tBase louvain/leiden clus, searching ground truth: 0.02 mn\n",
      "\t\t\tScoring: 0.0 mn\n",
      "\t\t\tHubness methods full pipeline: 0.69 mn\n",
      "\t\tDarmanis2015.Rdata\n",
      "\t\tseurat norm retained 7946 genes\n",
      "\t\t\tPreprocessing done: 0.03 mn\n",
      "\t\t\tInputs generated: 0.01 mn\n",
      "\t\t\tScanpy louvain/leiden clus: 0.01 mn\n",
      "\t\t\tLouvain/leiden clus: 0.0 mn\n",
      "\t\t\tScanpy louvain/leiden clus, searching ground truth: 0.02 mn\n",
      "Cannot find the number of clusters\n",
      "Clustering solution from last iteration is used:10 at resolution 1.1228399276733398\n",
      "\t\t\tBase louvain/leiden clus, searching ground truth: 0.01 mn\n",
      "\t\t\tScoring: 0.0 mn\n",
      "\t\t\tHubness methods full pipeline: 0.06 mn\n",
      "\t\tDeng2014_raw.Rdata\n",
      "\t\tseurat norm retained 6633 genes\n",
      "\t\t\tPreprocessing done: 0.02 mn\n",
      "\t\t\tInputs generated: 0.0 mn\n",
      "\t\t\tScanpy louvain/leiden clus: 0.0 mn\n",
      "\t\t\tLouvain/leiden clus: 0.0 mn\n",
      "\t\t\tScanpy louvain/leiden clus, searching ground truth: 0.01 mn\n",
      "\t\t\tBase louvain/leiden clus, searching ground truth: 0.0 mn\n",
      "\t\t\tScoring: 0.0 mn\n",
      "\t\t\tHubness methods full pipeline: 0.02 mn\n",
      "\t\tGoolam2016.Rdata\n",
      "\t\tseurat norm retained 7752 genes\n",
      "\t\t\tPreprocessing done: 0.02 mn\n",
      "\t\t\tInputs generated: 0.0 mn\n",
      "\t\t\tScanpy louvain/leiden clus: 0.0 mn\n",
      "\t\t\tLouvain/leiden clus: 0.0 mn\n",
      "\t\t\tScanpy louvain/leiden clus, searching ground truth: 0.0 mn\n",
      "\t\t\tBase louvain/leiden clus, searching ground truth: 0.0 mn\n",
      "\t\t\tScoring: 0.0 mn\n",
      "\t\t\tHubness methods full pipeline: 0.02 mn\n",
      "\t\tKlein2015.Rdata\n",
      "\t\tseurat norm retained 5704 genes\n",
      "\t\t\tPreprocessing done: 0.21 mn\n",
      "\t\t\tInputs generated: 0.2 mn\n",
      "\t\t\tScanpy louvain/leiden clus: 0.12 mn\n",
      "\t\t\tLouvain/leiden clus: 0.01 mn\n",
      "\t\t\tScanpy louvain/leiden clus, searching ground truth: 0.37 mn\n",
      "\t\t\tBase louvain/leiden clus, searching ground truth: 0.03 mn\n",
      "\t\t\tScoring: 0.0 mn\n",
      "\t\t\tHubness methods full pipeline: 1.53 mn\n",
      "\t\tkolodziejczyk.rds\n",
      "\t\tseurat norm retained 8205 genes\n",
      "\t\t\tPreprocessing done: 0.06 mn\n",
      "\t\t\tInputs generated: 0.01 mn\n",
      "\t\t\tScanpy louvain/leiden clus: 0.01 mn\n",
      "\t\t\tLouvain/leiden clus: 0.0 mn\n",
      "\t\t\tScanpy louvain/leiden clus, searching ground truth: 0.02 mn\n",
      "\t\t\tBase louvain/leiden clus, searching ground truth: 0.0 mn\n",
      "\t\t\tScoring: 0.0 mn\n",
      "\t\t\tHubness methods full pipeline: 0.11 mn\n",
      "\t\tLi2017.Rdata\n",
      "\t\tseurat norm retained 10477 genes\n",
      "\t\t\tPreprocessing done: 0.07 mn\n",
      "\t\t\tInputs generated: 0.01 mn\n",
      "\t\t\tScanpy louvain/leiden clus: 0.01 mn\n",
      "\t\t\tLouvain/leiden clus: 0.0 mn\n",
      "\t\t\tScanpy louvain/leiden clus, searching ground truth: 0.02 mn\n",
      "\t\t\tBase louvain/leiden clus, searching ground truth: 0.0 mn\n",
      "\t\t\tScoring: 0.0 mn\n",
      "\t\t\tHubness methods full pipeline: 0.08 mn\n",
      "\t\tRomanov2016.Rdata\n",
      "\t\tseurat norm retained 4434 genes\n",
      "\t\t\tPreprocessing done: 0.16 mn\n",
      "\t\t\tInputs generated: 0.2 mn\n",
      "\t\t\tScanpy louvain/leiden clus: 0.12 mn\n",
      "\t\t\tLouvain/leiden clus: 0.01 mn\n",
      "\t\t\tScanpy louvain/leiden clus, searching ground truth: 0.26 mn\n",
      "\t\t\tBase louvain/leiden clus, searching ground truth: 0.03 mn\n",
      "\t\t\tScoring: 0.0 mn\n",
      "Cannot find the number of clusters\n",
      "Clustering solution from last iteration is used:6 at resolution 0.5036115646362305\n",
      "\t\t\tHubness methods full pipeline: 1.61 mn\n",
      "\t\tTasic2016_raw.Rdata\n",
      "\t\tseurat norm retained 6392 genes\n",
      "\t\t\tPreprocessing done: 0.15 mn\n",
      "\t\t\tInputs generated: 0.08 mn\n",
      "\t\t\tScanpy louvain/leiden clus: 0.04 mn\n",
      "\t\t\tLouvain/leiden clus: 0.0 mn\n",
      "Cannot find the number of clusters\n",
      "Clustering solution from last iteration is used:16 at resolution 2.999997138977051\n",
      "Cannot find the number of clusters\n",
      "Clustering solution from last iteration is used:16 at resolution 2.999997138977051\n",
      "Cannot find the number of clusters\n",
      "Clustering solution from last iteration is used:16 at resolution 2.999997138977051\n",
      "Cannot find the number of clusters\n",
      "Clustering solution from last iteration is used:16 at resolution 2.999997138977051\n",
      "\t\t\tScanpy louvain/leiden clus, searching ground truth: 0.45 mn\n",
      "\t\t\tBase louvain/leiden clus, searching ground truth: 0.02 mn\n",
      "\t\t\tScoring: 0.0 mn\n",
      "Cannot find the number of clusters\n",
      "Clustering solution from last iteration is used:15 at resolution 2.999997138977051\n",
      "Cannot find the number of clusters\n",
      "Clustering solution from last iteration is used:14 at resolution 2.999997138977051\n",
      "Cannot find the number of clusters\n",
      "Clustering solution from last iteration is used:16 at resolution 2.999997138977051\n",
      "Cannot find the number of clusters\n",
      "Clustering solution from last iteration is used:15 at resolution 2.999997138977051\n",
      "Cannot find the number of clusters\n",
      "Clustering solution from last iteration is used:15 at resolution 2.999997138977051\n",
      "Cannot find the number of clusters\n",
      "Clustering solution from last iteration is used:15 at resolution 2.999997138977051\n",
      "Cannot find the number of clusters\n",
      "Clustering solution from last iteration is used:15 at resolution 2.999997138977051\n",
      "Cannot find the number of clusters\n",
      "Clustering solution from last iteration is used:15 at resolution 2.999997138977051\n",
      "\t\t\tHubness methods full pipeline: 0.64 mn\n",
      "\t\tZeisel2015.Rdata\n",
      "\t\tseurat norm retained 4180 genes\n",
      "\t\t\tPreprocessing done: 0.14 mn\n",
      "\t\t\tInputs generated: 0.22 mn\n",
      "\t\t\tScanpy louvain/leiden clus: 0.11 mn\n",
      "\t\t\tLouvain/leiden clus: 0.01 mn\n",
      "\t\t\tScanpy louvain/leiden clus, searching ground truth: 0.3 mn\n",
      "\t\t\tBase louvain/leiden clus, searching ground truth: 0.02 mn\n",
      "\t\t\tScoring: 0.0 mn\n",
      "\t\t\tHubness methods full pipeline: 1.5 mn\n",
      "\t\tBiase2014.Rdata\n",
      "\t\tseurat norm retained 5487 genes\n",
      "\t\t\tPreprocessing done: 0.02 mn\n",
      "\t\t\tInputs generated: 0.0 mn\n",
      "\t\t\tScanpy louvain/leiden clus: 0.0 mn\n",
      "\t\t\tLouvain/leiden clus: 0.0 mn\n",
      "\t\t\tScanpy louvain/leiden clus, searching ground truth: 0.0 mn\n",
      "\t\t\tBase louvain/leiden clus, searching ground truth: 0.0 mn\n",
      "\t\t\tScoring: 0.0 mn\n",
      "\t\t\tHubness methods full pipeline: 0.01 mn\n",
      "\t\tDeng2014_rpkm.Rdata\n",
      "\t\tseurat norm retained 6401 genes\n",
      "\t\t\tPreprocessing done: 0.02 mn\n",
      "\t\t\tInputs generated: 0.0 mn\n",
      "\t\t\tScanpy louvain/leiden clus: 0.0 mn\n",
      "\t\t\tLouvain/leiden clus: 0.0 mn\n",
      "\t\t\tScanpy louvain/leiden clus, searching ground truth: 0.0 mn\n",
      "\t\t\tBase louvain/leiden clus, searching ground truth: 0.0 mn\n",
      "\t\t\tScoring: 0.0 mn\n",
      "\t\t\tHubness methods full pipeline: 0.02 mn\n",
      "\t\tSegerstolpe2016.Rdata\n",
      "\t\tseurat norm retained 4750 genes\n",
      "\t\t\tPreprocessing done: 0.18 mn\n",
      "\t\t\tInputs generated: 0.2 mn\n",
      "\t\t\tScanpy louvain/leiden clus: 0.11 mn\n",
      "\t\t\tLouvain/leiden clus: 0.01 mn\n",
      "\t\t\tScanpy louvain/leiden clus, searching ground truth: 0.21 mn\n",
      "\t\t\tBase louvain/leiden clus, searching ground truth: 0.03 mn\n",
      "\t\t\tScoring: 0.0 mn\n",
      "\t\t\tHubness methods full pipeline: 1.53 mn\n",
      "\t\tTasic2016_rpkm.Rdata\n",
      "\t\tseurat norm retained 4864 genes\n",
      "\t\t\tPreprocessing done: 0.11 mn\n",
      "\t\t\tInputs generated: 0.06 mn\n",
      "\t\t\tScanpy louvain/leiden clus: 0.04 mn\n",
      "\t\t\tLouvain/leiden clus: 0.0 mn\n",
      "Cannot find the number of clusters\n",
      "Clustering solution from last iteration is used:16 at resolution 2.999997138977051\n",
      "Cannot find the number of clusters\n",
      "Clustering solution from last iteration is used:16 at resolution 2.999997138977051\n",
      "Cannot find the number of clusters\n",
      "Clustering solution from last iteration is used:16 at resolution 2.999997138977051\n",
      "Cannot find the number of clusters\n",
      "Clustering solution from last iteration is used:16 at resolution 2.999997138977051\n",
      "\t\t\tScanpy louvain/leiden clus, searching ground truth: 0.4 mn\n",
      "\t\t\tBase louvain/leiden clus, searching ground truth: 0.02 mn\n",
      "\t\t\tScoring: 0.0 mn\n",
      "Cannot find the number of clusters\n",
      "Clustering solution from last iteration is used:16 at resolution 2.999997138977051\n",
      "Cannot find the number of clusters\n",
      "Clustering solution from last iteration is used:15 at resolution 2.999997138977051\n",
      "Cannot find the number of clusters\n",
      "Clustering solution from last iteration is used:16 at resolution 2.999997138977051\n",
      "Cannot find the number of clusters\n",
      "Clustering solution from last iteration is used:16 at resolution 2.999997138977051\n",
      "Cannot find the number of clusters\n",
      "Clustering solution from last iteration is used:16 at resolution 2.999997138977051\n",
      "Cannot find the number of clusters\n",
      "Clustering solution from last iteration is used:15 at resolution 2.999997138977051\n",
      "Cannot find the number of clusters\n",
      "Clustering solution from last iteration is used:16 at resolution 2.999997138977051\n",
      "Cannot find the number of clusters\n",
      "Clustering solution from last iteration is used:16 at resolution 2.999997138977051\n",
      "\t\t\tHubness methods full pipeline: 0.67 mn\n",
      "\t\tTreutlein.Rdata\n",
      "\t\tseurat norm retained 3854 genes\n",
      "\t\t\tPreprocessing done: 0.02 mn\n",
      "\t\t\tInputs generated: 0.0 mn\n",
      "\t\t\tScanpy louvain/leiden clus: 0.0 mn\n",
      "\t\t\tLouvain/leiden clus: 0.0 mn\n",
      "\t\t\tScanpy louvain/leiden clus, searching ground truth: 0.0 mn\n",
      "\t\t\tBase louvain/leiden clus, searching ground truth: 0.0 mn\n",
      "\t\t\tScoring: 0.0 mn\n",
      "\t\t\tHubness methods full pipeline: 0.01 mn\n",
      "\t\tYan2013.Rdata\n",
      "\t\tseurat norm retained 5804 genes\n",
      "\t\t\tPreprocessing done: 0.01 mn\n",
      "\t\t\tInputs generated: 0.0 mn\n",
      "\t\t\tScanpy louvain/leiden clus: 0.0 mn\n",
      "\t\t\tLouvain/leiden clus: 0.0 mn\n",
      "\t\t\tScanpy louvain/leiden clus, searching ground truth: 0.0 mn\n",
      "\t\t\tBase louvain/leiden clus, searching ground truth: 0.0 mn\n",
      "\t\t\tScoring: 0.0 mn\n",
      "\t\t\tHubness methods full pipeline: 0.01 mn\n"
     ]
    }
   ],
   "source": [
    "for metric,n_comps,weighted,do_norm,norm_scale in params_list:\n",
    "    print(metric,n_comps,weighted,do_norm,norm_scale)\n",
    "    for fname in fnames:\n",
    "        if get_res_path_raw(fname).split('/')[-1] in os.listdir(resdir):\n",
    "            continue\n",
    "        print('\\t\\t'+fname.split('/')[-1])\n",
    "        x = ro.r.load(fname)\n",
    "        adata = ro.r['sce']    \n",
    "        if 'kolodziejczyk'in fname or 'Treutlein' in fname:\n",
    "            adata.obs['Group']=adata.obs['cell_type1']\n",
    "        results_dict = benchmark_common_functions.clustering_analysis(\n",
    "            adata,\n",
    "            true_labels = adata.obs['Group'],\n",
    "            do_norm = do_norm,\n",
    "            norm_scale = norm_scale,\n",
    "            do_log = do_log,\n",
    "            do_pca = do_pca,\n",
    "            n_neighbors=int(round(np.sqrt(len(adata)))),\n",
    "            n_clusters= adata.obs['Group'].nunique(),\n",
    "            metric=metric,\n",
    "            weighted=weighted,  #weighted adjmat for louvain/leiden clustering ?\n",
    "            seed=seed,\n",
    "            n_comps=n_comps\n",
    "        )\n",
    "\n",
    "        with open(get_res_path_raw(fname.split('/')[-1]),'wb') as f:\n",
    "            pickle.dump(results_dict,f)\n",
    "        %xdel adata\n",
    "        gc.collect()"
   ]
  },
  {
   "cell_type": "code",
   "execution_count": 7,
   "metadata": {
    "tags": [
     "outputPrepend"
    ]
   },
   "outputs": [
    {
     "name": "stdout",
     "output_type": "stream",
     "text": [
      "cosine 25 True duo True\n",
      "\t\tBaron2016_m.Rdata\n"
     ]
    },
    {
     "name": "stderr",
     "output_type": "stream",
     "text": [
      "/home/jo/anaconda3/envs/w/lib/python3.7/site-packages/pandas/core/arrays/categorical.py:2487: FutureWarning: The `inplace` parameter in pandas.Categorical.remove_unused_categories is deprecated and will be removed in a future version.\n",
      "  res = method(*args, **kwargs)\n"
     ]
    },
    {
     "name": "stdout",
     "output_type": "stream",
     "text": [
      "\t\tduo norm retained 5000 genes\n",
      "\t\t\tScoring: 0.34 mn\n",
      "\t\tDarmanis2015.Rdata\n",
      "\t\tduo norm retained 5000 genes\n",
      "\t\t\tScoring: 0.19 mn\n",
      "\t\tDeng2014_raw.Rdata\n"
     ]
    },
    {
     "name": "stderr",
     "output_type": "stream",
     "text": [
      "/home/jo/anaconda3/envs/w/lib/python3.7/site-packages/pandas/core/arrays/categorical.py:2487: FutureWarning: The `inplace` parameter in pandas.Categorical.remove_unused_categories is deprecated and will be removed in a future version.\n",
      "  res = method(*args, **kwargs)\n"
     ]
    },
    {
     "name": "stdout",
     "output_type": "stream",
     "text": [
      "\t\tduo norm retained 5000 genes\n",
      "\t\t\tScoring: 0.06 mn\n",
      "\t\tGoolam2016.Rdata\n"
     ]
    },
    {
     "name": "stderr",
     "output_type": "stream",
     "text": [
      "/home/jo/anaconda3/envs/w/lib/python3.7/site-packages/pandas/core/arrays/categorical.py:2487: FutureWarning: The `inplace` parameter in pandas.Categorical.remove_unused_categories is deprecated and will be removed in a future version.\n",
      "  res = method(*args, **kwargs)\n"
     ]
    },
    {
     "name": "stdout",
     "output_type": "stream",
     "text": [
      "\t\tduo norm retained 5000 genes\n",
      "\t\t\tScoring: 0.01 mn\n",
      "\t\tKlein2015.Rdata\n"
     ]
    },
    {
     "name": "stderr",
     "output_type": "stream",
     "text": [
      "/home/jo/anaconda3/envs/w/lib/python3.7/site-packages/pandas/core/arrays/categorical.py:2487: FutureWarning: The `inplace` parameter in pandas.Categorical.remove_unused_categories is deprecated and will be removed in a future version.\n",
      "  res = method(*args, **kwargs)\n"
     ]
    },
    {
     "name": "stdout",
     "output_type": "stream",
     "text": [
      "\t\tduo norm retained 5000 genes\n",
      "\t\t\tScoring: 0.4 mn\n",
      "\t\tkolodziejczyk.rds\n"
     ]
    },
    {
     "name": "stderr",
     "output_type": "stream",
     "text": [
      "/home/jo/anaconda3/envs/w/lib/python3.7/site-packages/pandas/core/arrays/categorical.py:2487: FutureWarning: The `inplace` parameter in pandas.Categorical.remove_unused_categories is deprecated and will be removed in a future version.\n",
      "  res = method(*args, **kwargs)\n"
     ]
    },
    {
     "name": "stdout",
     "output_type": "stream",
     "text": [
      "\t\tduo norm retained 5000 genes\n",
      "\t\t\tScoring: 0.19 mn\n",
      "\t\tLi2017.Rdata\n"
     ]
    },
    {
     "name": "stderr",
     "output_type": "stream",
     "text": [
      "/home/jo/anaconda3/envs/w/lib/python3.7/site-packages/pandas/core/arrays/categorical.py:2487: FutureWarning: The `inplace` parameter in pandas.Categorical.remove_unused_categories is deprecated and will be removed in a future version.\n",
      "  res = method(*args, **kwargs)\n"
     ]
    },
    {
     "name": "stdout",
     "output_type": "stream",
     "text": [
      "\t\tduo norm retained 5000 genes\n",
      "\t\t\tScoring: 0.15 mn\n",
      "\t\tRomanov2016.Rdata\n"
     ]
    },
    {
     "name": "stderr",
     "output_type": "stream",
     "text": [
      "/home/jo/anaconda3/envs/w/lib/python3.7/site-packages/pandas/core/arrays/categorical.py:2487: FutureWarning: The `inplace` parameter in pandas.Categorical.remove_unused_categories is deprecated and will be removed in a future version.\n",
      "  res = method(*args, **kwargs)\n"
     ]
    },
    {
     "name": "stdout",
     "output_type": "stream",
     "text": [
      "\t\tduo norm retained 5000 genes\n",
      "\t\t\tScoring: 0.73 mn\n",
      "\t\tTasic2016_raw.Rdata\n"
     ]
    },
    {
     "name": "stderr",
     "output_type": "stream",
     "text": [
      "/home/jo/anaconda3/envs/w/lib/python3.7/site-packages/pandas/core/arrays/categorical.py:2487: FutureWarning: The `inplace` parameter in pandas.Categorical.remove_unused_categories is deprecated and will be removed in a future version.\n",
      "  res = method(*args, **kwargs)\n"
     ]
    },
    {
     "name": "stdout",
     "output_type": "stream",
     "text": [
      "\t\tduo norm retained 5000 genes\n",
      "\t\t\tScoring: 0.19 mn\n",
      "\t\tZeisel2015.Rdata\n"
     ]
    },
    {
     "name": "stderr",
     "output_type": "stream",
     "text": [
      "/home/jo/anaconda3/envs/w/lib/python3.7/site-packages/pandas/core/arrays/categorical.py:2487: FutureWarning: The `inplace` parameter in pandas.Categorical.remove_unused_categories is deprecated and will be removed in a future version.\n",
      "  res = method(*args, **kwargs)\n"
     ]
    },
    {
     "name": "stdout",
     "output_type": "stream",
     "text": [
      "\t\tduo norm retained 5000 genes\n",
      "\t\t\tScoring: 0.5 mn\n",
      "\t\tBiase2014.Rdata\n",
      "\t\tduo norm retained 5000 genes\n",
      "\t\t\tScoring: 0.01 mn\n",
      "\t\tDeng2014_rpkm.Rdata\n"
     ]
    },
    {
     "name": "stderr",
     "output_type": "stream",
     "text": [
      "/home/jo/anaconda3/envs/w/lib/python3.7/site-packages/pandas/core/arrays/categorical.py:2487: FutureWarning: The `inplace` parameter in pandas.Categorical.remove_unused_categories is deprecated and will be removed in a future version.\n",
      "  res = method(*args, **kwargs)\n"
     ]
    },
    {
     "name": "stdout",
     "output_type": "stream",
     "text": [
      "\t\tduo norm retained 5000 genes\n",
      "\t\t\tScoring: 0.07 mn\n",
      "\t\tSegerstolpe2016.Rdata\n",
      "\t\tduo norm retained 5000 genes\n",
      "\t\t\tScoring: 0.41 mn\n"
     ]
    },
    {
     "name": "stderr",
     "output_type": "stream",
     "text": [
      "/home/jo/anaconda3/envs/w/lib/python3.7/site-packages/pandas/core/arrays/categorical.py:2487: FutureWarning: The `inplace` parameter in pandas.Categorical.remove_unused_categories is deprecated and will be removed in a future version.\n",
      "  res = method(*args, **kwargs)\n"
     ]
    },
    {
     "name": "stdout",
     "output_type": "stream",
     "text": [
      "\t\tTasic2016_rpkm.Rdata\n",
      "\t\tduo norm retained 5000 genes\n",
      "\t\t\tScoring: 0.14 mn\n",
      "\t\tTreutlein.Rdata\n"
     ]
    },
    {
     "name": "stderr",
     "output_type": "stream",
     "text": [
      "/home/jo/anaconda3/envs/w/lib/python3.7/site-packages/pandas/core/arrays/categorical.py:2487: FutureWarning: The `inplace` parameter in pandas.Categorical.remove_unused_categories is deprecated and will be removed in a future version.\n",
      "  res = method(*args, **kwargs)\n"
     ]
    },
    {
     "name": "stdout",
     "output_type": "stream",
     "text": [
      "\t\tduo norm retained 5000 genes\n",
      "\t\t\tScoring: 0.03 mn\n",
      "\t\tYan2013.Rdata\n"
     ]
    },
    {
     "name": "stderr",
     "output_type": "stream",
     "text": [
      "/home/jo/anaconda3/envs/w/lib/python3.7/site-packages/pandas/core/arrays/categorical.py:2487: FutureWarning: The `inplace` parameter in pandas.Categorical.remove_unused_categories is deprecated and will be removed in a future version.\n",
      "  res = method(*args, **kwargs)\n"
     ]
    },
    {
     "name": "stdout",
     "output_type": "stream",
     "text": [
      "\t\tduo norm retained 5000 genes\n",
      "\t\t\tScoring: 0.02 mn\n",
      "cosine 25 True duo False\n",
      "\t\tBaron2016_m.Rdata\n"
     ]
    },
    {
     "name": "stderr",
     "output_type": "stream",
     "text": [
      "/home/jo/anaconda3/envs/w/lib/python3.7/site-packages/pandas/core/arrays/categorical.py:2487: FutureWarning: The `inplace` parameter in pandas.Categorical.remove_unused_categories is deprecated and will be removed in a future version.\n",
      "  res = method(*args, **kwargs)\n"
     ]
    },
    {
     "name": "stdout",
     "output_type": "stream",
     "text": [
      "\t\tduo norm retained 5000 genes\n",
      "\t\t\tScoring: 0.12 mn\n",
      "\t\tDarmanis2015.Rdata\n",
      "\t\tduo norm retained 5000 genes\n",
      "\t\t\tScoring: 0.03 mn\n",
      "\t\tDeng2014_raw.Rdata\n"
     ]
    },
    {
     "name": "stderr",
     "output_type": "stream",
     "text": [
      "/home/jo/anaconda3/envs/w/lib/python3.7/site-packages/pandas/core/arrays/categorical.py:2487: FutureWarning: The `inplace` parameter in pandas.Categorical.remove_unused_categories is deprecated and will be removed in a future version.\n",
      "  res = method(*args, **kwargs)\n"
     ]
    },
    {
     "name": "stdout",
     "output_type": "stream",
     "text": [
      "\t\tduo norm retained 5000 genes\n",
      "\t\t\tScoring: 0.02 mn\n",
      "\t\tGoolam2016.Rdata\n"
     ]
    },
    {
     "name": "stderr",
     "output_type": "stream",
     "text": [
      "/home/jo/anaconda3/envs/w/lib/python3.7/site-packages/pandas/core/arrays/categorical.py:2487: FutureWarning: The `inplace` parameter in pandas.Categorical.remove_unused_categories is deprecated and will be removed in a future version.\n",
      "  res = method(*args, **kwargs)\n"
     ]
    },
    {
     "name": "stdout",
     "output_type": "stream",
     "text": [
      "\t\tduo norm retained 5000 genes\n",
      "\t\t\tScoring: 0.01 mn\n",
      "\t\tKlein2015.Rdata\n"
     ]
    },
    {
     "name": "stderr",
     "output_type": "stream",
     "text": [
      "/home/jo/anaconda3/envs/w/lib/python3.7/site-packages/pandas/core/arrays/categorical.py:2487: FutureWarning: The `inplace` parameter in pandas.Categorical.remove_unused_categories is deprecated and will be removed in a future version.\n",
      "  res = method(*args, **kwargs)\n"
     ]
    },
    {
     "name": "stdout",
     "output_type": "stream",
     "text": [
      "\t\tduo norm retained 5000 genes\n",
      "\t\t\tScoring: 0.5 mn\n",
      "\t\tkolodziejczyk.rds\n"
     ]
    },
    {
     "name": "stderr",
     "output_type": "stream",
     "text": [
      "/home/jo/anaconda3/envs/w/lib/python3.7/site-packages/pandas/core/arrays/categorical.py:2487: FutureWarning: The `inplace` parameter in pandas.Categorical.remove_unused_categories is deprecated and will be removed in a future version.\n",
      "  res = method(*args, **kwargs)\n"
     ]
    },
    {
     "name": "stdout",
     "output_type": "stream",
     "text": [
      "\t\tduo norm retained 5000 genes\n",
      "\t\t\tScoring: 0.06 mn\n",
      "\t\tLi2017.Rdata\n"
     ]
    },
    {
     "name": "stderr",
     "output_type": "stream",
     "text": [
      "/home/jo/anaconda3/envs/w/lib/python3.7/site-packages/pandas/core/arrays/categorical.py:2487: FutureWarning: The `inplace` parameter in pandas.Categorical.remove_unused_categories is deprecated and will be removed in a future version.\n",
      "  res = method(*args, **kwargs)\n"
     ]
    },
    {
     "name": "stdout",
     "output_type": "stream",
     "text": [
      "\t\tduo norm retained 5000 genes\n",
      "\t\t\tScoring: 0.11 mn\n",
      "\t\tRomanov2016.Rdata\n"
     ]
    },
    {
     "name": "stderr",
     "output_type": "stream",
     "text": [
      "/home/jo/anaconda3/envs/w/lib/python3.7/site-packages/pandas/core/arrays/categorical.py:2487: FutureWarning: The `inplace` parameter in pandas.Categorical.remove_unused_categories is deprecated and will be removed in a future version.\n",
      "  res = method(*args, **kwargs)\n"
     ]
    },
    {
     "name": "stdout",
     "output_type": "stream",
     "text": [
      "\t\tduo norm retained 5000 genes\n",
      "\t\t\tScoring: 0.35 mn\n",
      "\t\tTasic2016_raw.Rdata\n"
     ]
    },
    {
     "name": "stderr",
     "output_type": "stream",
     "text": [
      "/home/jo/anaconda3/envs/w/lib/python3.7/site-packages/pandas/core/arrays/categorical.py:2487: FutureWarning: The `inplace` parameter in pandas.Categorical.remove_unused_categories is deprecated and will be removed in a future version.\n",
      "  res = method(*args, **kwargs)\n"
     ]
    },
    {
     "name": "stdout",
     "output_type": "stream",
     "text": [
      "\t\tduo norm retained 5000 genes\n",
      "\t\t\tScoring: 0.19 mn\n",
      "\t\tZeisel2015.Rdata\n"
     ]
    },
    {
     "name": "stderr",
     "output_type": "stream",
     "text": [
      "/home/jo/anaconda3/envs/w/lib/python3.7/site-packages/pandas/core/arrays/categorical.py:2487: FutureWarning: The `inplace` parameter in pandas.Categorical.remove_unused_categories is deprecated and will be removed in a future version.\n",
      "  res = method(*args, **kwargs)\n"
     ]
    },
    {
     "name": "stdout",
     "output_type": "stream",
     "text": [
      "\t\tduo norm retained 5000 genes\n",
      "\t\t\tScoring: 0.37 mn\n",
      "\t\tBiase2014.Rdata\n",
      "\t\tduo norm retained 5000 genes\n",
      "\t\t\tScoring: 0.0 mn\n",
      "\t\tDeng2014_rpkm.Rdata\n"
     ]
    },
    {
     "name": "stderr",
     "output_type": "stream",
     "text": [
      "/home/jo/anaconda3/envs/w/lib/python3.7/site-packages/pandas/core/arrays/categorical.py:2487: FutureWarning: The `inplace` parameter in pandas.Categorical.remove_unused_categories is deprecated and will be removed in a future version.\n",
      "  res = method(*args, **kwargs)\n"
     ]
    },
    {
     "name": "stdout",
     "output_type": "stream",
     "text": [
      "\t\tduo norm retained 5000 genes\n",
      "\t\t\tScoring: 0.03 mn\n",
      "\t\tSegerstolpe2016.Rdata\n",
      "\t\tduo norm retained 5000 genes\n",
      "\t\t\tScoring: 0.37 mn\n",
      "\t\tTasic2016_rpkm.Rdata\n"
     ]
    },
    {
     "name": "stderr",
     "output_type": "stream",
     "text": [
      "/home/jo/anaconda3/envs/w/lib/python3.7/site-packages/pandas/core/arrays/categorical.py:2487: FutureWarning: The `inplace` parameter in pandas.Categorical.remove_unused_categories is deprecated and will be removed in a future version.\n",
      "  res = method(*args, **kwargs)\n"
     ]
    },
    {
     "name": "stdout",
     "output_type": "stream",
     "text": [
      "\t\tduo norm retained 5000 genes\n",
      "\t\t\tScoring: 0.1 mn\n",
      "\t\tTreutlein.Rdata\n"
     ]
    },
    {
     "name": "stderr",
     "output_type": "stream",
     "text": [
      "/home/jo/anaconda3/envs/w/lib/python3.7/site-packages/pandas/core/arrays/categorical.py:2487: FutureWarning: The `inplace` parameter in pandas.Categorical.remove_unused_categories is deprecated and will be removed in a future version.\n",
      "  res = method(*args, **kwargs)\n"
     ]
    },
    {
     "name": "stdout",
     "output_type": "stream",
     "text": [
      "\t\tduo norm retained 5000 genes\n",
      "\t\t\tScoring: 0.01 mn\n",
      "\t\tYan2013.Rdata\n"
     ]
    },
    {
     "name": "stderr",
     "output_type": "stream",
     "text": [
      "/home/jo/anaconda3/envs/w/lib/python3.7/site-packages/pandas/core/arrays/categorical.py:2487: FutureWarning: The `inplace` parameter in pandas.Categorical.remove_unused_categories is deprecated and will be removed in a future version.\n",
      "  res = method(*args, **kwargs)\n"
     ]
    },
    {
     "name": "stdout",
     "output_type": "stream",
     "text": [
      "\t\tduo norm retained 5000 genes\n",
      "\t\t\tScoring: 0.01 mn\n",
      "cosine 25 True seurat True\n",
      "\t\tBaron2016_m.Rdata\n"
     ]
    },
    {
     "name": "stderr",
     "output_type": "stream",
     "text": [
      "/home/jo/anaconda3/envs/w/lib/python3.7/site-packages/pandas/core/arrays/categorical.py:2487: FutureWarning: The `inplace` parameter in pandas.Categorical.remove_unused_categories is deprecated and will be removed in a future version.\n",
      "  res = method(*args, **kwargs)\n"
     ]
    },
    {
     "name": "stdout",
     "output_type": "stream",
     "text": [
      "\t\tseurat norm retained 2867 genes\n",
      "\t\t\tScoring: 0.15 mn\n",
      "\t\tDarmanis2015.Rdata\n",
      "\t\tseurat norm retained 7946 genes\n",
      "\t\t\tScoring: 0.11 mn\n",
      "\t\tDeng2014_raw.Rdata\n"
     ]
    },
    {
     "name": "stderr",
     "output_type": "stream",
     "text": [
      "/home/jo/anaconda3/envs/w/lib/python3.7/site-packages/pandas/core/arrays/categorical.py:2487: FutureWarning: The `inplace` parameter in pandas.Categorical.remove_unused_categories is deprecated and will be removed in a future version.\n",
      "  res = method(*args, **kwargs)\n"
     ]
    },
    {
     "name": "stdout",
     "output_type": "stream",
     "text": [
      "\t\tseurat norm retained 6633 genes\n",
      "\t\t\tScoring: 0.03 mn\n",
      "\t\tGoolam2016.Rdata\n"
     ]
    },
    {
     "name": "stderr",
     "output_type": "stream",
     "text": [
      "/home/jo/anaconda3/envs/w/lib/python3.7/site-packages/pandas/core/arrays/categorical.py:2487: FutureWarning: The `inplace` parameter in pandas.Categorical.remove_unused_categories is deprecated and will be removed in a future version.\n",
      "  res = method(*args, **kwargs)\n"
     ]
    },
    {
     "name": "stdout",
     "output_type": "stream",
     "text": [
      "\t\tseurat norm retained 7752 genes\n",
      "\t\t\tScoring: 0.01 mn\n",
      "\t\tKlein2015.Rdata\n"
     ]
    },
    {
     "name": "stderr",
     "output_type": "stream",
     "text": [
      "/home/jo/anaconda3/envs/w/lib/python3.7/site-packages/pandas/core/arrays/categorical.py:2487: FutureWarning: The `inplace` parameter in pandas.Categorical.remove_unused_categories is deprecated and will be removed in a future version.\n",
      "  res = method(*args, **kwargs)\n"
     ]
    },
    {
     "name": "stdout",
     "output_type": "stream",
     "text": [
      "\t\tseurat norm retained 5704 genes\n",
      "\t\t\tScoring: 0.49 mn\n",
      "\t\tkolodziejczyk.rds\n"
     ]
    },
    {
     "name": "stderr",
     "output_type": "stream",
     "text": [
      "/home/jo/anaconda3/envs/w/lib/python3.7/site-packages/pandas/core/arrays/categorical.py:2487: FutureWarning: The `inplace` parameter in pandas.Categorical.remove_unused_categories is deprecated and will be removed in a future version.\n",
      "  res = method(*args, **kwargs)\n"
     ]
    },
    {
     "name": "stdout",
     "output_type": "stream",
     "text": [
      "\t\tseurat norm retained 8205 genes\n",
      "\t\t\tScoring: 0.1 mn\n",
      "\t\tLi2017.Rdata\n"
     ]
    },
    {
     "name": "stderr",
     "output_type": "stream",
     "text": [
      "/home/jo/anaconda3/envs/w/lib/python3.7/site-packages/pandas/core/arrays/categorical.py:2487: FutureWarning: The `inplace` parameter in pandas.Categorical.remove_unused_categories is deprecated and will be removed in a future version.\n",
      "  res = method(*args, **kwargs)\n"
     ]
    },
    {
     "name": "stdout",
     "output_type": "stream",
     "text": [
      "\t\tseurat norm retained 10477 genes\n",
      "\t\t\tScoring: 0.07 mn\n",
      "\t\tRomanov2016.Rdata\n"
     ]
    },
    {
     "name": "stderr",
     "output_type": "stream",
     "text": [
      "/home/jo/anaconda3/envs/w/lib/python3.7/site-packages/pandas/core/arrays/categorical.py:2487: FutureWarning: The `inplace` parameter in pandas.Categorical.remove_unused_categories is deprecated and will be removed in a future version.\n",
      "  res = method(*args, **kwargs)\n"
     ]
    },
    {
     "name": "stdout",
     "output_type": "stream",
     "text": [
      "\t\tseurat norm retained 4434 genes\n",
      "\t\t\tScoring: 0.38 mn\n",
      "\t\tTasic2016_raw.Rdata\n"
     ]
    },
    {
     "name": "stderr",
     "output_type": "stream",
     "text": [
      "/home/jo/anaconda3/envs/w/lib/python3.7/site-packages/pandas/core/arrays/categorical.py:2487: FutureWarning: The `inplace` parameter in pandas.Categorical.remove_unused_categories is deprecated and will be removed in a future version.\n",
      "  res = method(*args, **kwargs)\n"
     ]
    },
    {
     "name": "stdout",
     "output_type": "stream",
     "text": [
      "\t\tseurat norm retained 6392 genes\n",
      "\t\t\tScoring: 0.21 mn\n",
      "\t\tZeisel2015.Rdata\n"
     ]
    },
    {
     "name": "stderr",
     "output_type": "stream",
     "text": [
      "/home/jo/anaconda3/envs/w/lib/python3.7/site-packages/pandas/core/arrays/categorical.py:2487: FutureWarning: The `inplace` parameter in pandas.Categorical.remove_unused_categories is deprecated and will be removed in a future version.\n",
      "  res = method(*args, **kwargs)\n"
     ]
    },
    {
     "name": "stdout",
     "output_type": "stream",
     "text": [
      "\t\tseurat norm retained 4180 genes\n",
      "\t\t\tScoring: 0.29 mn\n",
      "\t\tBiase2014.Rdata\n",
      "\t\tseurat norm retained 5487 genes\n",
      "\t\t\tScoring: 0.01 mn\n",
      "\t\tDeng2014_rpkm.Rdata\n"
     ]
    },
    {
     "name": "stderr",
     "output_type": "stream",
     "text": [
      "/home/jo/anaconda3/envs/w/lib/python3.7/site-packages/pandas/core/arrays/categorical.py:2487: FutureWarning: The `inplace` parameter in pandas.Categorical.remove_unused_categories is deprecated and will be removed in a future version.\n",
      "  res = method(*args, **kwargs)\n"
     ]
    },
    {
     "name": "stdout",
     "output_type": "stream",
     "text": [
      "\t\tseurat norm retained 6401 genes\n",
      "\t\t\tScoring: 0.03 mn\n",
      "\t\tSegerstolpe2016.Rdata\n",
      "\t\tseurat norm retained 4750 genes\n",
      "\t\t\tScoring: 0.29 mn\n",
      "\t\tTasic2016_rpkm.Rdata\n"
     ]
    },
    {
     "name": "stderr",
     "output_type": "stream",
     "text": [
      "/home/jo/anaconda3/envs/w/lib/python3.7/site-packages/pandas/core/arrays/categorical.py:2487: FutureWarning: The `inplace` parameter in pandas.Categorical.remove_unused_categories is deprecated and will be removed in a future version.\n",
      "  res = method(*args, **kwargs)\n"
     ]
    },
    {
     "name": "stdout",
     "output_type": "stream",
     "text": [
      "\t\tseurat norm retained 4864 genes\n",
      "\t\t\tScoring: 0.11 mn\n",
      "\t\tTreutlein.Rdata\n"
     ]
    },
    {
     "name": "stderr",
     "output_type": "stream",
     "text": [
      "/home/jo/anaconda3/envs/w/lib/python3.7/site-packages/pandas/core/arrays/categorical.py:2487: FutureWarning: The `inplace` parameter in pandas.Categorical.remove_unused_categories is deprecated and will be removed in a future version.\n",
      "  res = method(*args, **kwargs)\n"
     ]
    },
    {
     "name": "stdout",
     "output_type": "stream",
     "text": [
      "\t\tseurat norm retained 3854 genes\n",
      "\t\t\tScoring: 0.01 mn\n",
      "\t\tYan2013.Rdata\n"
     ]
    },
    {
     "name": "stderr",
     "output_type": "stream",
     "text": [
      "/home/jo/anaconda3/envs/w/lib/python3.7/site-packages/pandas/core/arrays/categorical.py:2487: FutureWarning: The `inplace` parameter in pandas.Categorical.remove_unused_categories is deprecated and will be removed in a future version.\n",
      "  res = method(*args, **kwargs)\n"
     ]
    },
    {
     "name": "stdout",
     "output_type": "stream",
     "text": [
      "\t\tseurat norm retained 5804 genes\n",
      "\t\t\tScoring: 0.01 mn\n",
      "cosine 25 True seurat False\n",
      "\t\tBaron2016_m.Rdata\n"
     ]
    },
    {
     "name": "stderr",
     "output_type": "stream",
     "text": [
      "/home/jo/anaconda3/envs/w/lib/python3.7/site-packages/pandas/core/arrays/categorical.py:2487: FutureWarning: The `inplace` parameter in pandas.Categorical.remove_unused_categories is deprecated and will be removed in a future version.\n",
      "  res = method(*args, **kwargs)\n"
     ]
    },
    {
     "name": "stdout",
     "output_type": "stream",
     "text": [
      "\t\tseurat norm retained 2867 genes\n",
      "\t\t\tScoring: 0.19 mn\n",
      "\t\tDarmanis2015.Rdata\n",
      "\t\tseurat norm retained 7946 genes\n",
      "\t\t\tScoring: 0.04 mn\n",
      "\t\tDeng2014_raw.Rdata\n"
     ]
    },
    {
     "name": "stderr",
     "output_type": "stream",
     "text": [
      "/home/jo/anaconda3/envs/w/lib/python3.7/site-packages/pandas/core/arrays/categorical.py:2487: FutureWarning: The `inplace` parameter in pandas.Categorical.remove_unused_categories is deprecated and will be removed in a future version.\n",
      "  res = method(*args, **kwargs)\n"
     ]
    },
    {
     "name": "stdout",
     "output_type": "stream",
     "text": [
      "\t\tseurat norm retained 6633 genes\n",
      "\t\t\tScoring: 0.03 mn\n",
      "\t\tGoolam2016.Rdata\n"
     ]
    },
    {
     "name": "stderr",
     "output_type": "stream",
     "text": [
      "/home/jo/anaconda3/envs/w/lib/python3.7/site-packages/pandas/core/arrays/categorical.py:2487: FutureWarning: The `inplace` parameter in pandas.Categorical.remove_unused_categories is deprecated and will be removed in a future version.\n",
      "  res = method(*args, **kwargs)\n"
     ]
    },
    {
     "name": "stdout",
     "output_type": "stream",
     "text": [
      "\t\tseurat norm retained 7752 genes\n",
      "\t\t\tScoring: 0.01 mn\n",
      "\t\tKlein2015.Rdata\n"
     ]
    },
    {
     "name": "stderr",
     "output_type": "stream",
     "text": [
      "/home/jo/anaconda3/envs/w/lib/python3.7/site-packages/pandas/core/arrays/categorical.py:2487: FutureWarning: The `inplace` parameter in pandas.Categorical.remove_unused_categories is deprecated and will be removed in a future version.\n",
      "  res = method(*args, **kwargs)\n"
     ]
    },
    {
     "name": "stdout",
     "output_type": "stream",
     "text": [
      "\t\tseurat norm retained 5704 genes\n",
      "\t\t\tScoring: 0.28 mn\n",
      "\t\tkolodziejczyk.rds\n"
     ]
    },
    {
     "name": "stderr",
     "output_type": "stream",
     "text": [
      "/home/jo/anaconda3/envs/w/lib/python3.7/site-packages/pandas/core/arrays/categorical.py:2487: FutureWarning: The `inplace` parameter in pandas.Categorical.remove_unused_categories is deprecated and will be removed in a future version.\n",
      "  res = method(*args, **kwargs)\n"
     ]
    },
    {
     "name": "stdout",
     "output_type": "stream",
     "text": [
      "\t\tseurat norm retained 8205 genes\n",
      "\t\t\tScoring: 0.12 mn\n",
      "\t\tLi2017.Rdata\n"
     ]
    },
    {
     "name": "stderr",
     "output_type": "stream",
     "text": [
      "/home/jo/anaconda3/envs/w/lib/python3.7/site-packages/pandas/core/arrays/categorical.py:2487: FutureWarning: The `inplace` parameter in pandas.Categorical.remove_unused_categories is deprecated and will be removed in a future version.\n",
      "  res = method(*args, **kwargs)\n"
     ]
    },
    {
     "name": "stdout",
     "output_type": "stream",
     "text": [
      "\t\tseurat norm retained 10477 genes\n",
      "\t\t\tScoring: 0.08 mn\n",
      "\t\tRomanov2016.Rdata\n"
     ]
    },
    {
     "name": "stderr",
     "output_type": "stream",
     "text": [
      "/home/jo/anaconda3/envs/w/lib/python3.7/site-packages/pandas/core/arrays/categorical.py:2487: FutureWarning: The `inplace` parameter in pandas.Categorical.remove_unused_categories is deprecated and will be removed in a future version.\n",
      "  res = method(*args, **kwargs)\n"
     ]
    },
    {
     "name": "stdout",
     "output_type": "stream",
     "text": [
      "\t\tseurat norm retained 4434 genes\n",
      "\t\t\tScoring: 0.44 mn\n",
      "\t\tTasic2016_raw.Rdata\n"
     ]
    },
    {
     "name": "stderr",
     "output_type": "stream",
     "text": [
      "/home/jo/anaconda3/envs/w/lib/python3.7/site-packages/pandas/core/arrays/categorical.py:2487: FutureWarning: The `inplace` parameter in pandas.Categorical.remove_unused_categories is deprecated and will be removed in a future version.\n",
      "  res = method(*args, **kwargs)\n"
     ]
    },
    {
     "name": "stdout",
     "output_type": "stream",
     "text": [
      "\t\tseurat norm retained 6392 genes\n",
      "\t\t\tScoring: 0.22 mn\n",
      "\t\tZeisel2015.Rdata\n"
     ]
    },
    {
     "name": "stderr",
     "output_type": "stream",
     "text": [
      "/home/jo/anaconda3/envs/w/lib/python3.7/site-packages/pandas/core/arrays/categorical.py:2487: FutureWarning: The `inplace` parameter in pandas.Categorical.remove_unused_categories is deprecated and will be removed in a future version.\n",
      "  res = method(*args, **kwargs)\n"
     ]
    },
    {
     "name": "stdout",
     "output_type": "stream",
     "text": [
      "\t\tseurat norm retained 4180 genes\n",
      "\t\t\tScoring: 0.24 mn\n",
      "\t\tBiase2014.Rdata\n",
      "\t\tseurat norm retained 5487 genes\n",
      "\t\t\tScoring: 0.01 mn\n",
      "\t\tDeng2014_rpkm.Rdata\n"
     ]
    },
    {
     "name": "stderr",
     "output_type": "stream",
     "text": [
      "/home/jo/anaconda3/envs/w/lib/python3.7/site-packages/pandas/core/arrays/categorical.py:2487: FutureWarning: The `inplace` parameter in pandas.Categorical.remove_unused_categories is deprecated and will be removed in a future version.\n",
      "  res = method(*args, **kwargs)\n"
     ]
    },
    {
     "name": "stdout",
     "output_type": "stream",
     "text": [
      "\t\tseurat norm retained 6401 genes\n",
      "\t\t\tScoring: 0.04 mn\n",
      "\t\tSegerstolpe2016.Rdata\n",
      "\t\tseurat norm retained 4750 genes\n",
      "\t\t\tScoring: 0.38 mn\n",
      "\t\tTasic2016_rpkm.Rdata\n"
     ]
    },
    {
     "name": "stderr",
     "output_type": "stream",
     "text": [
      "/home/jo/anaconda3/envs/w/lib/python3.7/site-packages/pandas/core/arrays/categorical.py:2487: FutureWarning: The `inplace` parameter in pandas.Categorical.remove_unused_categories is deprecated and will be removed in a future version.\n",
      "  res = method(*args, **kwargs)\n"
     ]
    },
    {
     "name": "stdout",
     "output_type": "stream",
     "text": [
      "\t\tseurat norm retained 4864 genes\n",
      "\t\t\tScoring: 0.21 mn\n",
      "\t\tTreutlein.Rdata\n"
     ]
    },
    {
     "name": "stderr",
     "output_type": "stream",
     "text": [
      "/home/jo/anaconda3/envs/w/lib/python3.7/site-packages/pandas/core/arrays/categorical.py:2487: FutureWarning: The `inplace` parameter in pandas.Categorical.remove_unused_categories is deprecated and will be removed in a future version.\n",
      "  res = method(*args, **kwargs)\n"
     ]
    },
    {
     "name": "stdout",
     "output_type": "stream",
     "text": [
      "\t\tseurat norm retained 3854 genes\n",
      "\t\t\tScoring: 0.01 mn\n",
      "\t\tYan2013.Rdata\n"
     ]
    },
    {
     "name": "stderr",
     "output_type": "stream",
     "text": [
      "/home/jo/anaconda3/envs/w/lib/python3.7/site-packages/pandas/core/arrays/categorical.py:2487: FutureWarning: The `inplace` parameter in pandas.Categorical.remove_unused_categories is deprecated and will be removed in a future version.\n",
      "  res = method(*args, **kwargs)\n"
     ]
    },
    {
     "name": "stdout",
     "output_type": "stream",
     "text": [
      "\t\tseurat norm retained 5804 genes\n",
      "\t\t\tScoring: 0.03 mn\n",
      "cosine 50 True duo True\n",
      "\t\tBaron2016_m.Rdata\n"
     ]
    },
    {
     "name": "stderr",
     "output_type": "stream",
     "text": [
      "/home/jo/anaconda3/envs/w/lib/python3.7/site-packages/pandas/core/arrays/categorical.py:2487: FutureWarning: The `inplace` parameter in pandas.Categorical.remove_unused_categories is deprecated and will be removed in a future version.\n",
      "  res = method(*args, **kwargs)\n"
     ]
    },
    {
     "name": "stdout",
     "output_type": "stream",
     "text": [
      "\t\tduo norm retained 5000 genes\n",
      "\t\t\tScoring: 0.2 mn\n",
      "\t\tDarmanis2015.Rdata\n",
      "\t\tduo norm retained 5000 genes\n",
      "\t\t\tScoring: 0.07 mn\n",
      "\t\tDeng2014_raw.Rdata\n"
     ]
    },
    {
     "name": "stderr",
     "output_type": "stream",
     "text": [
      "/home/jo/anaconda3/envs/w/lib/python3.7/site-packages/pandas/core/arrays/categorical.py:2487: FutureWarning: The `inplace` parameter in pandas.Categorical.remove_unused_categories is deprecated and will be removed in a future version.\n",
      "  res = method(*args, **kwargs)\n"
     ]
    },
    {
     "name": "stdout",
     "output_type": "stream",
     "text": [
      "\t\tduo norm retained 5000 genes\n",
      "\t\t\tScoring: 0.02 mn\n",
      "\t\tGoolam2016.Rdata\n"
     ]
    },
    {
     "name": "stderr",
     "output_type": "stream",
     "text": [
      "/home/jo/anaconda3/envs/w/lib/python3.7/site-packages/pandas/core/arrays/categorical.py:2487: FutureWarning: The `inplace` parameter in pandas.Categorical.remove_unused_categories is deprecated and will be removed in a future version.\n",
      "  res = method(*args, **kwargs)\n"
     ]
    },
    {
     "name": "stdout",
     "output_type": "stream",
     "text": [
      "\t\tduo norm retained 5000 genes\n",
      "\t\t\tScoring: 0.04 mn\n",
      "\t\tKlein2015.Rdata\n"
     ]
    },
    {
     "name": "stderr",
     "output_type": "stream",
     "text": [
      "/home/jo/anaconda3/envs/w/lib/python3.7/site-packages/pandas/core/arrays/categorical.py:2487: FutureWarning: The `inplace` parameter in pandas.Categorical.remove_unused_categories is deprecated and will be removed in a future version.\n",
      "  res = method(*args, **kwargs)\n"
     ]
    },
    {
     "name": "stdout",
     "output_type": "stream",
     "text": [
      "\t\tduo norm retained 5000 genes\n",
      "\t\t\tScoring: 0.42 mn\n",
      "\t\tkolodziejczyk.rds\n"
     ]
    },
    {
     "name": "stderr",
     "output_type": "stream",
     "text": [
      "/home/jo/anaconda3/envs/w/lib/python3.7/site-packages/pandas/core/arrays/categorical.py:2487: FutureWarning: The `inplace` parameter in pandas.Categorical.remove_unused_categories is deprecated and will be removed in a future version.\n",
      "  res = method(*args, **kwargs)\n"
     ]
    },
    {
     "name": "stdout",
     "output_type": "stream",
     "text": [
      "\t\tduo norm retained 5000 genes\n",
      "\t\t\tScoring: 0.05 mn\n",
      "\t\tLi2017.Rdata\n"
     ]
    },
    {
     "name": "stderr",
     "output_type": "stream",
     "text": [
      "/home/jo/anaconda3/envs/w/lib/python3.7/site-packages/pandas/core/arrays/categorical.py:2487: FutureWarning: The `inplace` parameter in pandas.Categorical.remove_unused_categories is deprecated and will be removed in a future version.\n",
      "  res = method(*args, **kwargs)\n"
     ]
    },
    {
     "name": "stdout",
     "output_type": "stream",
     "text": [
      "\t\tduo norm retained 5000 genes\n",
      "\t\t\tScoring: 0.13 mn\n",
      "\t\tRomanov2016.Rdata\n"
     ]
    },
    {
     "name": "stderr",
     "output_type": "stream",
     "text": [
      "/home/jo/anaconda3/envs/w/lib/python3.7/site-packages/pandas/core/arrays/categorical.py:2487: FutureWarning: The `inplace` parameter in pandas.Categorical.remove_unused_categories is deprecated and will be removed in a future version.\n",
      "  res = method(*args, **kwargs)\n"
     ]
    },
    {
     "name": "stdout",
     "output_type": "stream",
     "text": [
      "\t\tduo norm retained 5000 genes\n",
      "\t\t\tScoring: 0.51 mn\n",
      "\t\tTasic2016_raw.Rdata\n"
     ]
    },
    {
     "name": "stderr",
     "output_type": "stream",
     "text": [
      "/home/jo/anaconda3/envs/w/lib/python3.7/site-packages/pandas/core/arrays/categorical.py:2487: FutureWarning: The `inplace` parameter in pandas.Categorical.remove_unused_categories is deprecated and will be removed in a future version.\n",
      "  res = method(*args, **kwargs)\n"
     ]
    },
    {
     "name": "stdout",
     "output_type": "stream",
     "text": [
      "\t\tduo norm retained 5000 genes\n",
      "\t\t\tScoring: 0.25 mn\n",
      "\t\tZeisel2015.Rdata\n"
     ]
    },
    {
     "name": "stderr",
     "output_type": "stream",
     "text": [
      "/home/jo/anaconda3/envs/w/lib/python3.7/site-packages/pandas/core/arrays/categorical.py:2487: FutureWarning: The `inplace` parameter in pandas.Categorical.remove_unused_categories is deprecated and will be removed in a future version.\n",
      "  res = method(*args, **kwargs)\n"
     ]
    },
    {
     "name": "stdout",
     "output_type": "stream",
     "text": [
      "\t\tduo norm retained 5000 genes\n",
      "\t\t\tScoring: 0.36 mn\n",
      "\t\tBiase2014.Rdata\n",
      "\t\tduo norm retained 5000 genes\n",
      "\t\t\tScoring: 0.0 mn\n",
      "\t\tDeng2014_rpkm.Rdata\n"
     ]
    },
    {
     "name": "stderr",
     "output_type": "stream",
     "text": [
      "/home/jo/anaconda3/envs/w/lib/python3.7/site-packages/pandas/core/arrays/categorical.py:2487: FutureWarning: The `inplace` parameter in pandas.Categorical.remove_unused_categories is deprecated and will be removed in a future version.\n",
      "  res = method(*args, **kwargs)\n"
     ]
    },
    {
     "name": "stdout",
     "output_type": "stream",
     "text": [
      "\t\tduo norm retained 5000 genes\n",
      "\t\t\tScoring: 0.02 mn\n",
      "\t\tSegerstolpe2016.Rdata\n",
      "\t\tduo norm retained 5000 genes\n",
      "\t\t\tScoring: 0.27 mn\n",
      "\t\tTasic2016_rpkm.Rdata\n"
     ]
    },
    {
     "name": "stderr",
     "output_type": "stream",
     "text": [
      "/home/jo/anaconda3/envs/w/lib/python3.7/site-packages/pandas/core/arrays/categorical.py:2487: FutureWarning: The `inplace` parameter in pandas.Categorical.remove_unused_categories is deprecated and will be removed in a future version.\n",
      "  res = method(*args, **kwargs)\n"
     ]
    },
    {
     "name": "stdout",
     "output_type": "stream",
     "text": [
      "\t\tduo norm retained 5000 genes\n",
      "\t\t\tScoring: 0.19 mn\n",
      "\t\tTreutlein.Rdata\n"
     ]
    },
    {
     "name": "stderr",
     "output_type": "stream",
     "text": [
      "/home/jo/anaconda3/envs/w/lib/python3.7/site-packages/pandas/core/arrays/categorical.py:2487: FutureWarning: The `inplace` parameter in pandas.Categorical.remove_unused_categories is deprecated and will be removed in a future version.\n",
      "  res = method(*args, **kwargs)\n"
     ]
    },
    {
     "name": "stdout",
     "output_type": "stream",
     "text": [
      "\t\tduo norm retained 5000 genes\n",
      "\t\t\tScoring: 0.0 mn\n",
      "\t\tYan2013.Rdata\n"
     ]
    },
    {
     "name": "stderr",
     "output_type": "stream",
     "text": [
      "/home/jo/anaconda3/envs/w/lib/python3.7/site-packages/pandas/core/arrays/categorical.py:2487: FutureWarning: The `inplace` parameter in pandas.Categorical.remove_unused_categories is deprecated and will be removed in a future version.\n",
      "  res = method(*args, **kwargs)\n"
     ]
    },
    {
     "name": "stdout",
     "output_type": "stream",
     "text": [
      "\t\tduo norm retained 5000 genes\n",
      "\t\t\tScoring: 0.01 mn\n",
      "cosine 50 True duo False\n",
      "\t\tBaron2016_m.Rdata\n"
     ]
    },
    {
     "name": "stderr",
     "output_type": "stream",
     "text": [
      "/home/jo/anaconda3/envs/w/lib/python3.7/site-packages/pandas/core/arrays/categorical.py:2487: FutureWarning: The `inplace` parameter in pandas.Categorical.remove_unused_categories is deprecated and will be removed in a future version.\n",
      "  res = method(*args, **kwargs)\n"
     ]
    },
    {
     "name": "stdout",
     "output_type": "stream",
     "text": [
      "\t\tduo norm retained 5000 genes\n",
      "\t\t\tScoring: 0.21 mn\n",
      "\t\tDarmanis2015.Rdata\n",
      "\t\tduo norm retained 5000 genes\n",
      "\t\t\tScoring: 0.08 mn\n",
      "\t\tDeng2014_raw.Rdata\n"
     ]
    },
    {
     "name": "stderr",
     "output_type": "stream",
     "text": [
      "/home/jo/anaconda3/envs/w/lib/python3.7/site-packages/pandas/core/arrays/categorical.py:2487: FutureWarning: The `inplace` parameter in pandas.Categorical.remove_unused_categories is deprecated and will be removed in a future version.\n",
      "  res = method(*args, **kwargs)\n"
     ]
    },
    {
     "name": "stdout",
     "output_type": "stream",
     "text": [
      "\t\tduo norm retained 5000 genes\n",
      "\t\t\tScoring: 0.03 mn\n",
      "\t\tGoolam2016.Rdata\n"
     ]
    },
    {
     "name": "stderr",
     "output_type": "stream",
     "text": [
      "/home/jo/anaconda3/envs/w/lib/python3.7/site-packages/pandas/core/arrays/categorical.py:2487: FutureWarning: The `inplace` parameter in pandas.Categorical.remove_unused_categories is deprecated and will be removed in a future version.\n",
      "  res = method(*args, **kwargs)\n"
     ]
    },
    {
     "name": "stdout",
     "output_type": "stream",
     "text": [
      "\t\tduo norm retained 5000 genes\n",
      "\t\t\tScoring: 0.01 mn\n",
      "\t\tKlein2015.Rdata\n"
     ]
    },
    {
     "name": "stderr",
     "output_type": "stream",
     "text": [
      "/home/jo/anaconda3/envs/w/lib/python3.7/site-packages/pandas/core/arrays/categorical.py:2487: FutureWarning: The `inplace` parameter in pandas.Categorical.remove_unused_categories is deprecated and will be removed in a future version.\n",
      "  res = method(*args, **kwargs)\n"
     ]
    },
    {
     "name": "stdout",
     "output_type": "stream",
     "text": [
      "\t\tduo norm retained 5000 genes\n",
      "\t\t\tScoring: 0.33 mn\n",
      "\t\tkolodziejczyk.rds\n"
     ]
    },
    {
     "name": "stderr",
     "output_type": "stream",
     "text": [
      "/home/jo/anaconda3/envs/w/lib/python3.7/site-packages/pandas/core/arrays/categorical.py:2487: FutureWarning: The `inplace` parameter in pandas.Categorical.remove_unused_categories is deprecated and will be removed in a future version.\n",
      "  res = method(*args, **kwargs)\n"
     ]
    },
    {
     "name": "stdout",
     "output_type": "stream",
     "text": [
      "\t\tduo norm retained 5000 genes\n",
      "\t\t\tScoring: 0.13 mn\n",
      "\t\tLi2017.Rdata\n"
     ]
    },
    {
     "name": "stderr",
     "output_type": "stream",
     "text": [
      "/home/jo/anaconda3/envs/w/lib/python3.7/site-packages/pandas/core/arrays/categorical.py:2487: FutureWarning: The `inplace` parameter in pandas.Categorical.remove_unused_categories is deprecated and will be removed in a future version.\n",
      "  res = method(*args, **kwargs)\n"
     ]
    },
    {
     "name": "stdout",
     "output_type": "stream",
     "text": [
      "\t\tduo norm retained 5000 genes\n",
      "\t\t\tScoring: 0.12 mn\n",
      "\t\tRomanov2016.Rdata\n"
     ]
    },
    {
     "name": "stderr",
     "output_type": "stream",
     "text": [
      "/home/jo/anaconda3/envs/w/lib/python3.7/site-packages/pandas/core/arrays/categorical.py:2487: FutureWarning: The `inplace` parameter in pandas.Categorical.remove_unused_categories is deprecated and will be removed in a future version.\n",
      "  res = method(*args, **kwargs)\n"
     ]
    },
    {
     "name": "stdout",
     "output_type": "stream",
     "text": [
      "\t\tduo norm retained 5000 genes\n",
      "\t\t\tScoring: 0.57 mn\n",
      "\t\tTasic2016_raw.Rdata\n"
     ]
    },
    {
     "name": "stderr",
     "output_type": "stream",
     "text": [
      "/home/jo/anaconda3/envs/w/lib/python3.7/site-packages/pandas/core/arrays/categorical.py:2487: FutureWarning: The `inplace` parameter in pandas.Categorical.remove_unused_categories is deprecated and will be removed in a future version.\n",
      "  res = method(*args, **kwargs)\n"
     ]
    },
    {
     "name": "stdout",
     "output_type": "stream",
     "text": [
      "\t\tduo norm retained 5000 genes\n",
      "\t\t\tScoring: 0.24 mn\n",
      "\t\tZeisel2015.Rdata\n"
     ]
    },
    {
     "name": "stderr",
     "output_type": "stream",
     "text": [
      "/home/jo/anaconda3/envs/w/lib/python3.7/site-packages/pandas/core/arrays/categorical.py:2487: FutureWarning: The `inplace` parameter in pandas.Categorical.remove_unused_categories is deprecated and will be removed in a future version.\n",
      "  res = method(*args, **kwargs)\n"
     ]
    },
    {
     "name": "stdout",
     "output_type": "stream",
     "text": [
      "\t\tduo norm retained 5000 genes\n",
      "\t\t\tScoring: 0.28 mn\n",
      "\t\tBiase2014.Rdata\n",
      "\t\tduo norm retained 5000 genes\n",
      "\t\t\tScoring: 0.01 mn\n",
      "\t\tDeng2014_rpkm.Rdata\n"
     ]
    },
    {
     "name": "stderr",
     "output_type": "stream",
     "text": [
      "/home/jo/anaconda3/envs/w/lib/python3.7/site-packages/pandas/core/arrays/categorical.py:2487: FutureWarning: The `inplace` parameter in pandas.Categorical.remove_unused_categories is deprecated and will be removed in a future version.\n",
      "  res = method(*args, **kwargs)\n"
     ]
    },
    {
     "name": "stdout",
     "output_type": "stream",
     "text": [
      "\t\tduo norm retained 5000 genes\n",
      "\t\t\tScoring: 0.07 mn\n",
      "\t\tSegerstolpe2016.Rdata\n",
      "\t\tduo norm retained 5000 genes\n",
      "\t\t\tScoring: 0.43 mn\n",
      "\t\tTasic2016_rpkm.Rdata\n"
     ]
    },
    {
     "name": "stderr",
     "output_type": "stream",
     "text": [
      "/home/jo/anaconda3/envs/w/lib/python3.7/site-packages/pandas/core/arrays/categorical.py:2487: FutureWarning: The `inplace` parameter in pandas.Categorical.remove_unused_categories is deprecated and will be removed in a future version.\n",
      "  res = method(*args, **kwargs)\n"
     ]
    },
    {
     "name": "stdout",
     "output_type": "stream",
     "text": [
      "\t\tduo norm retained 5000 genes\n",
      "\t\t\tScoring: 0.35 mn\n",
      "\t\tTreutlein.Rdata\n"
     ]
    },
    {
     "name": "stderr",
     "output_type": "stream",
     "text": [
      "/home/jo/anaconda3/envs/w/lib/python3.7/site-packages/pandas/core/arrays/categorical.py:2487: FutureWarning: The `inplace` parameter in pandas.Categorical.remove_unused_categories is deprecated and will be removed in a future version.\n",
      "  res = method(*args, **kwargs)\n"
     ]
    },
    {
     "name": "stdout",
     "output_type": "stream",
     "text": [
      "\t\tduo norm retained 5000 genes\n",
      "\t\t\tScoring: 0.01 mn\n",
      "\t\tYan2013.Rdata\n"
     ]
    },
    {
     "name": "stderr",
     "output_type": "stream",
     "text": [
      "/home/jo/anaconda3/envs/w/lib/python3.7/site-packages/pandas/core/arrays/categorical.py:2487: FutureWarning: The `inplace` parameter in pandas.Categorical.remove_unused_categories is deprecated and will be removed in a future version.\n",
      "  res = method(*args, **kwargs)\n"
     ]
    },
    {
     "name": "stdout",
     "output_type": "stream",
     "text": [
      "\t\tduo norm retained 5000 genes\n",
      "\t\t\tScoring: 0.01 mn\n",
      "cosine 50 True seurat True\n",
      "\t\tBaron2016_m.Rdata\n"
     ]
    },
    {
     "name": "stderr",
     "output_type": "stream",
     "text": [
      "/home/jo/anaconda3/envs/w/lib/python3.7/site-packages/pandas/core/arrays/categorical.py:2487: FutureWarning: The `inplace` parameter in pandas.Categorical.remove_unused_categories is deprecated and will be removed in a future version.\n",
      "  res = method(*args, **kwargs)\n"
     ]
    },
    {
     "name": "stdout",
     "output_type": "stream",
     "text": [
      "\t\tseurat norm retained 2867 genes\n",
      "\t\t\tScoring: 0.3 mn\n",
      "\t\tDarmanis2015.Rdata\n",
      "\t\tseurat norm retained 7946 genes\n",
      "\t\t\tScoring: 0.15 mn\n",
      "\t\tDeng2014_raw.Rdata\n"
     ]
    },
    {
     "name": "stderr",
     "output_type": "stream",
     "text": [
      "/home/jo/anaconda3/envs/w/lib/python3.7/site-packages/pandas/core/arrays/categorical.py:2487: FutureWarning: The `inplace` parameter in pandas.Categorical.remove_unused_categories is deprecated and will be removed in a future version.\n",
      "  res = method(*args, **kwargs)\n"
     ]
    },
    {
     "name": "stdout",
     "output_type": "stream",
     "text": [
      "\t\tseurat norm retained 6633 genes\n",
      "\t\t\tScoring: 0.14 mn\n",
      "\t\tGoolam2016.Rdata\n"
     ]
    },
    {
     "name": "stderr",
     "output_type": "stream",
     "text": [
      "/home/jo/anaconda3/envs/w/lib/python3.7/site-packages/pandas/core/arrays/categorical.py:2487: FutureWarning: The `inplace` parameter in pandas.Categorical.remove_unused_categories is deprecated and will be removed in a future version.\n",
      "  res = method(*args, **kwargs)\n"
     ]
    },
    {
     "name": "stdout",
     "output_type": "stream",
     "text": [
      "\t\tseurat norm retained 7752 genes\n",
      "\t\t\tScoring: 0.02 mn\n",
      "\t\tKlein2015.Rdata\n"
     ]
    },
    {
     "name": "stderr",
     "output_type": "stream",
     "text": [
      "/home/jo/anaconda3/envs/w/lib/python3.7/site-packages/pandas/core/arrays/categorical.py:2487: FutureWarning: The `inplace` parameter in pandas.Categorical.remove_unused_categories is deprecated and will be removed in a future version.\n",
      "  res = method(*args, **kwargs)\n"
     ]
    },
    {
     "name": "stdout",
     "output_type": "stream",
     "text": [
      "\t\tseurat norm retained 5704 genes\n",
      "\t\t\tScoring: 0.65 mn\n",
      "\t\tkolodziejczyk.rds\n"
     ]
    },
    {
     "name": "stderr",
     "output_type": "stream",
     "text": [
      "/home/jo/anaconda3/envs/w/lib/python3.7/site-packages/pandas/core/arrays/categorical.py:2487: FutureWarning: The `inplace` parameter in pandas.Categorical.remove_unused_categories is deprecated and will be removed in a future version.\n",
      "  res = method(*args, **kwargs)\n"
     ]
    },
    {
     "name": "stdout",
     "output_type": "stream",
     "text": [
      "\t\tseurat norm retained 8205 genes\n",
      "\t\t\tScoring: 0.13 mn\n",
      "\t\tLi2017.Rdata\n"
     ]
    },
    {
     "name": "stderr",
     "output_type": "stream",
     "text": [
      "/home/jo/anaconda3/envs/w/lib/python3.7/site-packages/pandas/core/arrays/categorical.py:2487: FutureWarning: The `inplace` parameter in pandas.Categorical.remove_unused_categories is deprecated and will be removed in a future version.\n",
      "  res = method(*args, **kwargs)\n"
     ]
    },
    {
     "name": "stdout",
     "output_type": "stream",
     "text": [
      "\t\tseurat norm retained 10477 genes\n",
      "\t\t\tScoring: 0.12 mn\n",
      "\t\tRomanov2016.Rdata\n"
     ]
    },
    {
     "name": "stderr",
     "output_type": "stream",
     "text": [
      "/home/jo/anaconda3/envs/w/lib/python3.7/site-packages/pandas/core/arrays/categorical.py:2487: FutureWarning: The `inplace` parameter in pandas.Categorical.remove_unused_categories is deprecated and will be removed in a future version.\n",
      "  res = method(*args, **kwargs)\n"
     ]
    },
    {
     "name": "stdout",
     "output_type": "stream",
     "text": [
      "\t\tseurat norm retained 4434 genes\n",
      "\t\t\tScoring: 0.24 mn\n",
      "\t\tTasic2016_raw.Rdata\n"
     ]
    },
    {
     "name": "stderr",
     "output_type": "stream",
     "text": [
      "/home/jo/anaconda3/envs/w/lib/python3.7/site-packages/pandas/core/arrays/categorical.py:2487: FutureWarning: The `inplace` parameter in pandas.Categorical.remove_unused_categories is deprecated and will be removed in a future version.\n",
      "  res = method(*args, **kwargs)\n"
     ]
    },
    {
     "name": "stdout",
     "output_type": "stream",
     "text": [
      "\t\tseurat norm retained 6392 genes\n",
      "\t\t\tScoring: 0.37 mn\n",
      "\t\tZeisel2015.Rdata\n"
     ]
    },
    {
     "name": "stderr",
     "output_type": "stream",
     "text": [
      "/home/jo/anaconda3/envs/w/lib/python3.7/site-packages/pandas/core/arrays/categorical.py:2487: FutureWarning: The `inplace` parameter in pandas.Categorical.remove_unused_categories is deprecated and will be removed in a future version.\n",
      "  res = method(*args, **kwargs)\n"
     ]
    },
    {
     "name": "stdout",
     "output_type": "stream",
     "text": [
      "\t\tseurat norm retained 4180 genes\n",
      "\t\t\tScoring: 0.28 mn\n",
      "\t\tBiase2014.Rdata\n",
      "\t\tseurat norm retained 5487 genes\n",
      "\t\t\tScoring: 0.01 mn\n",
      "\t\tDeng2014_rpkm.Rdata\n"
     ]
    },
    {
     "name": "stderr",
     "output_type": "stream",
     "text": [
      "/home/jo/anaconda3/envs/w/lib/python3.7/site-packages/pandas/core/arrays/categorical.py:2487: FutureWarning: The `inplace` parameter in pandas.Categorical.remove_unused_categories is deprecated and will be removed in a future version.\n",
      "  res = method(*args, **kwargs)\n"
     ]
    },
    {
     "name": "stdout",
     "output_type": "stream",
     "text": [
      "\t\tseurat norm retained 6401 genes\n",
      "\t\t\tScoring: 0.02 mn\n",
      "\t\tSegerstolpe2016.Rdata\n",
      "\t\tseurat norm retained 4750 genes\n",
      "\t\t\tScoring: 0.37 mn\n",
      "\t\tTasic2016_rpkm.Rdata\n"
     ]
    },
    {
     "name": "stderr",
     "output_type": "stream",
     "text": [
      "/home/jo/anaconda3/envs/w/lib/python3.7/site-packages/pandas/core/arrays/categorical.py:2487: FutureWarning: The `inplace` parameter in pandas.Categorical.remove_unused_categories is deprecated and will be removed in a future version.\n",
      "  res = method(*args, **kwargs)\n"
     ]
    },
    {
     "name": "stdout",
     "output_type": "stream",
     "text": [
      "\t\tseurat norm retained 4864 genes\n",
      "\t\t\tScoring: 0.43 mn\n",
      "\t\tTreutlein.Rdata\n"
     ]
    },
    {
     "name": "stderr",
     "output_type": "stream",
     "text": [
      "/home/jo/anaconda3/envs/w/lib/python3.7/site-packages/pandas/core/arrays/categorical.py:2487: FutureWarning: The `inplace` parameter in pandas.Categorical.remove_unused_categories is deprecated and will be removed in a future version.\n",
      "  res = method(*args, **kwargs)\n"
     ]
    },
    {
     "name": "stdout",
     "output_type": "stream",
     "text": [
      "\t\tseurat norm retained 3854 genes\n",
      "\t\t\tScoring: 0.01 mn\n",
      "\t\tYan2013.Rdata\n"
     ]
    },
    {
     "name": "stderr",
     "output_type": "stream",
     "text": [
      "/home/jo/anaconda3/envs/w/lib/python3.7/site-packages/pandas/core/arrays/categorical.py:2487: FutureWarning: The `inplace` parameter in pandas.Categorical.remove_unused_categories is deprecated and will be removed in a future version.\n",
      "  res = method(*args, **kwargs)\n"
     ]
    },
    {
     "name": "stdout",
     "output_type": "stream",
     "text": [
      "\t\tseurat norm retained 5804 genes\n",
      "\t\t\tScoring: 0.02 mn\n",
      "cosine 50 True seurat False\n",
      "\t\tBaron2016_m.Rdata\n"
     ]
    },
    {
     "name": "stderr",
     "output_type": "stream",
     "text": [
      "/home/jo/anaconda3/envs/w/lib/python3.7/site-packages/pandas/core/arrays/categorical.py:2487: FutureWarning: The `inplace` parameter in pandas.Categorical.remove_unused_categories is deprecated and will be removed in a future version.\n",
      "  res = method(*args, **kwargs)\n"
     ]
    },
    {
     "name": "stdout",
     "output_type": "stream",
     "text": [
      "\t\tseurat norm retained 2867 genes\n",
      "\t\t\tScoring: 0.28 mn\n",
      "\t\tDarmanis2015.Rdata\n",
      "\t\tseurat norm retained 7946 genes\n",
      "\t\t\tScoring: 0.07 mn\n",
      "\t\tDeng2014_raw.Rdata\n"
     ]
    },
    {
     "name": "stderr",
     "output_type": "stream",
     "text": [
      "/home/jo/anaconda3/envs/w/lib/python3.7/site-packages/pandas/core/arrays/categorical.py:2487: FutureWarning: The `inplace` parameter in pandas.Categorical.remove_unused_categories is deprecated and will be removed in a future version.\n",
      "  res = method(*args, **kwargs)\n"
     ]
    },
    {
     "name": "stdout",
     "output_type": "stream",
     "text": [
      "\t\tseurat norm retained 6633 genes\n",
      "\t\t\tScoring: 0.09 mn\n",
      "\t\tGoolam2016.Rdata\n"
     ]
    },
    {
     "name": "stderr",
     "output_type": "stream",
     "text": [
      "/home/jo/anaconda3/envs/w/lib/python3.7/site-packages/pandas/core/arrays/categorical.py:2487: FutureWarning: The `inplace` parameter in pandas.Categorical.remove_unused_categories is deprecated and will be removed in a future version.\n",
      "  res = method(*args, **kwargs)\n"
     ]
    },
    {
     "name": "stdout",
     "output_type": "stream",
     "text": [
      "\t\tseurat norm retained 7752 genes\n",
      "\t\t\tScoring: 0.07 mn\n",
      "\t\tKlein2015.Rdata\n"
     ]
    },
    {
     "name": "stderr",
     "output_type": "stream",
     "text": [
      "/home/jo/anaconda3/envs/w/lib/python3.7/site-packages/pandas/core/arrays/categorical.py:2487: FutureWarning: The `inplace` parameter in pandas.Categorical.remove_unused_categories is deprecated and will be removed in a future version.\n",
      "  res = method(*args, **kwargs)\n"
     ]
    },
    {
     "name": "stdout",
     "output_type": "stream",
     "text": [
      "\t\tseurat norm retained 5704 genes\n",
      "\t\t\tScoring: 0.8 mn\n",
      "\t\tkolodziejczyk.rds\n"
     ]
    },
    {
     "name": "stderr",
     "output_type": "stream",
     "text": [
      "/home/jo/anaconda3/envs/w/lib/python3.7/site-packages/pandas/core/arrays/categorical.py:2487: FutureWarning: The `inplace` parameter in pandas.Categorical.remove_unused_categories is deprecated and will be removed in a future version.\n",
      "  res = method(*args, **kwargs)\n"
     ]
    },
    {
     "name": "stdout",
     "output_type": "stream",
     "text": [
      "\t\tseurat norm retained 8205 genes\n",
      "\t\t\tScoring: 0.17 mn\n",
      "\t\tLi2017.Rdata\n"
     ]
    },
    {
     "name": "stderr",
     "output_type": "stream",
     "text": [
      "/home/jo/anaconda3/envs/w/lib/python3.7/site-packages/pandas/core/arrays/categorical.py:2487: FutureWarning: The `inplace` parameter in pandas.Categorical.remove_unused_categories is deprecated and will be removed in a future version.\n",
      "  res = method(*args, **kwargs)\n"
     ]
    },
    {
     "name": "stdout",
     "output_type": "stream",
     "text": [
      "\t\tseurat norm retained 10477 genes\n",
      "\t\t\tScoring: 0.1 mn\n",
      "\t\tRomanov2016.Rdata\n"
     ]
    },
    {
     "name": "stderr",
     "output_type": "stream",
     "text": [
      "/home/jo/anaconda3/envs/w/lib/python3.7/site-packages/pandas/core/arrays/categorical.py:2487: FutureWarning: The `inplace` parameter in pandas.Categorical.remove_unused_categories is deprecated and will be removed in a future version.\n",
      "  res = method(*args, **kwargs)\n"
     ]
    },
    {
     "name": "stdout",
     "output_type": "stream",
     "text": [
      "\t\tseurat norm retained 4434 genes\n",
      "\t\t\tScoring: 0.56 mn\n",
      "\t\tTasic2016_raw.Rdata\n"
     ]
    },
    {
     "name": "stderr",
     "output_type": "stream",
     "text": [
      "/home/jo/anaconda3/envs/w/lib/python3.7/site-packages/pandas/core/arrays/categorical.py:2487: FutureWarning: The `inplace` parameter in pandas.Categorical.remove_unused_categories is deprecated and will be removed in a future version.\n",
      "  res = method(*args, **kwargs)\n"
     ]
    },
    {
     "name": "stdout",
     "output_type": "stream",
     "text": [
      "\t\tseurat norm retained 6392 genes\n",
      "\t\t\tScoring: 0.29 mn\n",
      "\t\tZeisel2015.Rdata\n"
     ]
    },
    {
     "name": "stderr",
     "output_type": "stream",
     "text": [
      "/home/jo/anaconda3/envs/w/lib/python3.7/site-packages/pandas/core/arrays/categorical.py:2487: FutureWarning: The `inplace` parameter in pandas.Categorical.remove_unused_categories is deprecated and will be removed in a future version.\n",
      "  res = method(*args, **kwargs)\n"
     ]
    },
    {
     "name": "stdout",
     "output_type": "stream",
     "text": [
      "\t\tseurat norm retained 4180 genes\n",
      "\t\t\tScoring: 0.33 mn\n",
      "\t\tBiase2014.Rdata\n",
      "\t\tseurat norm retained 5487 genes\n",
      "\t\t\tScoring: 0.0 mn\n",
      "\t\tDeng2014_rpkm.Rdata\n"
     ]
    },
    {
     "name": "stderr",
     "output_type": "stream",
     "text": [
      "/home/jo/anaconda3/envs/w/lib/python3.7/site-packages/pandas/core/arrays/categorical.py:2487: FutureWarning: The `inplace` parameter in pandas.Categorical.remove_unused_categories is deprecated and will be removed in a future version.\n",
      "  res = method(*args, **kwargs)\n"
     ]
    },
    {
     "name": "stdout",
     "output_type": "stream",
     "text": [
      "\t\tseurat norm retained 6401 genes\n",
      "\t\t\tScoring: 0.03 mn\n",
      "\t\tSegerstolpe2016.Rdata\n",
      "\t\tseurat norm retained 4750 genes\n",
      "\t\t\tScoring: 0.58 mn\n",
      "\t\tTasic2016_rpkm.Rdata\n"
     ]
    },
    {
     "name": "stderr",
     "output_type": "stream",
     "text": [
      "/home/jo/anaconda3/envs/w/lib/python3.7/site-packages/pandas/core/arrays/categorical.py:2487: FutureWarning: The `inplace` parameter in pandas.Categorical.remove_unused_categories is deprecated and will be removed in a future version.\n",
      "  res = method(*args, **kwargs)\n"
     ]
    },
    {
     "name": "stdout",
     "output_type": "stream",
     "text": [
      "\t\tseurat norm retained 4864 genes\n",
      "\t\t\tScoring: 0.23 mn\n",
      "\t\tTreutlein.Rdata\n"
     ]
    },
    {
     "name": "stderr",
     "output_type": "stream",
     "text": [
      "/home/jo/anaconda3/envs/w/lib/python3.7/site-packages/pandas/core/arrays/categorical.py:2487: FutureWarning: The `inplace` parameter in pandas.Categorical.remove_unused_categories is deprecated and will be removed in a future version.\n",
      "  res = method(*args, **kwargs)\n"
     ]
    },
    {
     "name": "stdout",
     "output_type": "stream",
     "text": [
      "\t\tseurat norm retained 3854 genes\n",
      "\t\t\tScoring: 0.06 mn\n",
      "\t\tYan2013.Rdata\n"
     ]
    },
    {
     "name": "stderr",
     "output_type": "stream",
     "text": [
      "/home/jo/anaconda3/envs/w/lib/python3.7/site-packages/pandas/core/arrays/categorical.py:2487: FutureWarning: The `inplace` parameter in pandas.Categorical.remove_unused_categories is deprecated and will be removed in a future version.\n",
      "  res = method(*args, **kwargs)\n"
     ]
    },
    {
     "name": "stdout",
     "output_type": "stream",
     "text": [
      "\t\tseurat norm retained 5804 genes\n",
      "\t\t\tScoring: 0.07 mn\n",
      "cosine 100 True duo True\n",
      "\t\tBaron2016_m.Rdata\n"
     ]
    },
    {
     "name": "stderr",
     "output_type": "stream",
     "text": [
      "/home/jo/anaconda3/envs/w/lib/python3.7/site-packages/pandas/core/arrays/categorical.py:2487: FutureWarning: The `inplace` parameter in pandas.Categorical.remove_unused_categories is deprecated and will be removed in a future version.\n",
      "  res = method(*args, **kwargs)\n"
     ]
    },
    {
     "name": "stdout",
     "output_type": "stream",
     "text": [
      "\t\tduo norm retained 5000 genes\n",
      "\t\t\tScoring: 0.38 mn\n",
      "\t\tDarmanis2015.Rdata\n",
      "\t\tduo norm retained 5000 genes\n",
      "\t\t\tScoring: 0.11 mn\n",
      "\t\tDeng2014_raw.Rdata\n"
     ]
    },
    {
     "name": "stderr",
     "output_type": "stream",
     "text": [
      "/home/jo/anaconda3/envs/w/lib/python3.7/site-packages/pandas/core/arrays/categorical.py:2487: FutureWarning: The `inplace` parameter in pandas.Categorical.remove_unused_categories is deprecated and will be removed in a future version.\n",
      "  res = method(*args, **kwargs)\n"
     ]
    },
    {
     "name": "stdout",
     "output_type": "stream",
     "text": [
      "\t\tduo norm retained 5000 genes\n",
      "\t\t\tScoring: 0.08 mn\n",
      "\t\tGoolam2016.Rdata\n"
     ]
    },
    {
     "name": "stderr",
     "output_type": "stream",
     "text": [
      "/home/jo/anaconda3/envs/w/lib/python3.7/site-packages/pandas/core/arrays/categorical.py:2487: FutureWarning: The `inplace` parameter in pandas.Categorical.remove_unused_categories is deprecated and will be removed in a future version.\n",
      "  res = method(*args, **kwargs)\n"
     ]
    },
    {
     "name": "stdout",
     "output_type": "stream",
     "text": [
      "\t\tduo norm retained 5000 genes\n",
      "\t\t\tScoring: 0.04 mn\n",
      "\t\tKlein2015.Rdata\n"
     ]
    },
    {
     "name": "stderr",
     "output_type": "stream",
     "text": [
      "/home/jo/anaconda3/envs/w/lib/python3.7/site-packages/pandas/core/arrays/categorical.py:2487: FutureWarning: The `inplace` parameter in pandas.Categorical.remove_unused_categories is deprecated and will be removed in a future version.\n",
      "  res = method(*args, **kwargs)\n"
     ]
    },
    {
     "name": "stdout",
     "output_type": "stream",
     "text": [
      "\t\tduo norm retained 5000 genes\n",
      "\t\t\tScoring: 0.48 mn\n",
      "\t\tkolodziejczyk.rds\n"
     ]
    },
    {
     "name": "stderr",
     "output_type": "stream",
     "text": [
      "/home/jo/anaconda3/envs/w/lib/python3.7/site-packages/pandas/core/arrays/categorical.py:2487: FutureWarning: The `inplace` parameter in pandas.Categorical.remove_unused_categories is deprecated and will be removed in a future version.\n",
      "  res = method(*args, **kwargs)\n"
     ]
    },
    {
     "name": "stdout",
     "output_type": "stream",
     "text": [
      "\t\tduo norm retained 5000 genes\n",
      "\t\t\tScoring: 0.06 mn\n",
      "\t\tLi2017.Rdata\n"
     ]
    },
    {
     "name": "stderr",
     "output_type": "stream",
     "text": [
      "/home/jo/anaconda3/envs/w/lib/python3.7/site-packages/pandas/core/arrays/categorical.py:2487: FutureWarning: The `inplace` parameter in pandas.Categorical.remove_unused_categories is deprecated and will be removed in a future version.\n",
      "  res = method(*args, **kwargs)\n"
     ]
    },
    {
     "name": "stdout",
     "output_type": "stream",
     "text": [
      "\t\tduo norm retained 5000 genes\n",
      "\t\t\tScoring: 0.12 mn\n",
      "\t\tRomanov2016.Rdata\n"
     ]
    },
    {
     "name": "stderr",
     "output_type": "stream",
     "text": [
      "/home/jo/anaconda3/envs/w/lib/python3.7/site-packages/pandas/core/arrays/categorical.py:2487: FutureWarning: The `inplace` parameter in pandas.Categorical.remove_unused_categories is deprecated and will be removed in a future version.\n",
      "  res = method(*args, **kwargs)\n"
     ]
    },
    {
     "name": "stdout",
     "output_type": "stream",
     "text": [
      "\t\tduo norm retained 5000 genes\n",
      "\t\t\tScoring: 0.35 mn\n",
      "\t\tTasic2016_raw.Rdata\n"
     ]
    },
    {
     "name": "stderr",
     "output_type": "stream",
     "text": [
      "/home/jo/anaconda3/envs/w/lib/python3.7/site-packages/pandas/core/arrays/categorical.py:2487: FutureWarning: The `inplace` parameter in pandas.Categorical.remove_unused_categories is deprecated and will be removed in a future version.\n",
      "  res = method(*args, **kwargs)\n"
     ]
    },
    {
     "name": "stdout",
     "output_type": "stream",
     "text": [
      "\t\tduo norm retained 5000 genes\n",
      "\t\t\tScoring: 0.15 mn\n",
      "\t\tZeisel2015.Rdata\n"
     ]
    },
    {
     "name": "stderr",
     "output_type": "stream",
     "text": [
      "/home/jo/anaconda3/envs/w/lib/python3.7/site-packages/pandas/core/arrays/categorical.py:2487: FutureWarning: The `inplace` parameter in pandas.Categorical.remove_unused_categories is deprecated and will be removed in a future version.\n",
      "  res = method(*args, **kwargs)\n"
     ]
    },
    {
     "name": "stdout",
     "output_type": "stream",
     "text": [
      "\t\tduo norm retained 5000 genes\n",
      "\t\t\tScoring: 0.47 mn\n",
      "\t\tBiase2014.Rdata\n",
      "\t\tduo norm retained 5000 genes\n",
      "\t\t\tScoring: 0.0 mn\n",
      "\t\tDeng2014_rpkm.Rdata\n"
     ]
    },
    {
     "name": "stderr",
     "output_type": "stream",
     "text": [
      "/home/jo/anaconda3/envs/w/lib/python3.7/site-packages/pandas/core/arrays/categorical.py:2487: FutureWarning: The `inplace` parameter in pandas.Categorical.remove_unused_categories is deprecated and will be removed in a future version.\n",
      "  res = method(*args, **kwargs)\n"
     ]
    },
    {
     "name": "stdout",
     "output_type": "stream",
     "text": [
      "\t\tduo norm retained 5000 genes\n",
      "\t\t\tScoring: 0.02 mn\n",
      "\t\tSegerstolpe2016.Rdata\n",
      "\t\tduo norm retained 5000 genes\n",
      "\t\t\tScoring: 0.49 mn\n",
      "\t\tTasic2016_rpkm.Rdata\n"
     ]
    },
    {
     "name": "stderr",
     "output_type": "stream",
     "text": [
      "/home/jo/anaconda3/envs/w/lib/python3.7/site-packages/pandas/core/arrays/categorical.py:2487: FutureWarning: The `inplace` parameter in pandas.Categorical.remove_unused_categories is deprecated and will be removed in a future version.\n",
      "  res = method(*args, **kwargs)\n"
     ]
    },
    {
     "name": "stdout",
     "output_type": "stream",
     "text": [
      "\t\tduo norm retained 5000 genes\n",
      "\t\t\tScoring: 0.45 mn\n",
      "\t\tTreutlein.Rdata\n"
     ]
    },
    {
     "name": "stderr",
     "output_type": "stream",
     "text": [
      "/home/jo/anaconda3/envs/w/lib/python3.7/site-packages/pandas/core/arrays/categorical.py:2487: FutureWarning: The `inplace` parameter in pandas.Categorical.remove_unused_categories is deprecated and will be removed in a future version.\n",
      "  res = method(*args, **kwargs)\n"
     ]
    },
    {
     "name": "stdout",
     "output_type": "stream",
     "text": [
      "\t\tduo norm retained 5000 genes\n",
      "\t\t\tScoring: 0.0 mn\n",
      "\t\tYan2013.Rdata\n"
     ]
    },
    {
     "name": "stderr",
     "output_type": "stream",
     "text": [
      "/home/jo/anaconda3/envs/w/lib/python3.7/site-packages/pandas/core/arrays/categorical.py:2487: FutureWarning: The `inplace` parameter in pandas.Categorical.remove_unused_categories is deprecated and will be removed in a future version.\n",
      "  res = method(*args, **kwargs)\n"
     ]
    },
    {
     "name": "stdout",
     "output_type": "stream",
     "text": [
      "\t\tduo norm retained 5000 genes\n",
      "\t\t\tScoring: 0.02 mn\n",
      "cosine 100 True duo False\n",
      "\t\tBaron2016_m.Rdata\n"
     ]
    },
    {
     "name": "stderr",
     "output_type": "stream",
     "text": [
      "/home/jo/anaconda3/envs/w/lib/python3.7/site-packages/pandas/core/arrays/categorical.py:2487: FutureWarning: The `inplace` parameter in pandas.Categorical.remove_unused_categories is deprecated and will be removed in a future version.\n",
      "  res = method(*args, **kwargs)\n"
     ]
    },
    {
     "name": "stdout",
     "output_type": "stream",
     "text": [
      "\t\tduo norm retained 5000 genes\n",
      "\t\t\tScoring: 0.32 mn\n",
      "\t\tDarmanis2015.Rdata\n",
      "\t\tduo norm retained 5000 genes\n",
      "\t\t\tScoring: 0.07 mn\n",
      "\t\tDeng2014_raw.Rdata\n"
     ]
    },
    {
     "name": "stderr",
     "output_type": "stream",
     "text": [
      "/home/jo/anaconda3/envs/w/lib/python3.7/site-packages/pandas/core/arrays/categorical.py:2487: FutureWarning: The `inplace` parameter in pandas.Categorical.remove_unused_categories is deprecated and will be removed in a future version.\n",
      "  res = method(*args, **kwargs)\n"
     ]
    },
    {
     "name": "stdout",
     "output_type": "stream",
     "text": [
      "\t\tduo norm retained 5000 genes\n",
      "\t\t\tScoring: 0.2 mn\n",
      "\t\tGoolam2016.Rdata\n"
     ]
    },
    {
     "name": "stderr",
     "output_type": "stream",
     "text": [
      "/home/jo/anaconda3/envs/w/lib/python3.7/site-packages/pandas/core/arrays/categorical.py:2487: FutureWarning: The `inplace` parameter in pandas.Categorical.remove_unused_categories is deprecated and will be removed in a future version.\n",
      "  res = method(*args, **kwargs)\n"
     ]
    },
    {
     "name": "stdout",
     "output_type": "stream",
     "text": [
      "\t\tduo norm retained 5000 genes\n",
      "\t\t\tScoring: 0.05 mn\n",
      "\t\tKlein2015.Rdata\n"
     ]
    },
    {
     "name": "stderr",
     "output_type": "stream",
     "text": [
      "/home/jo/anaconda3/envs/w/lib/python3.7/site-packages/pandas/core/arrays/categorical.py:2487: FutureWarning: The `inplace` parameter in pandas.Categorical.remove_unused_categories is deprecated and will be removed in a future version.\n",
      "  res = method(*args, **kwargs)\n"
     ]
    },
    {
     "name": "stdout",
     "output_type": "stream",
     "text": [
      "\t\tduo norm retained 5000 genes\n",
      "\t\t\tScoring: 0.43 mn\n",
      "\t\tkolodziejczyk.rds\n"
     ]
    },
    {
     "name": "stderr",
     "output_type": "stream",
     "text": [
      "/home/jo/anaconda3/envs/w/lib/python3.7/site-packages/pandas/core/arrays/categorical.py:2487: FutureWarning: The `inplace` parameter in pandas.Categorical.remove_unused_categories is deprecated and will be removed in a future version.\n",
      "  res = method(*args, **kwargs)\n"
     ]
    },
    {
     "name": "stdout",
     "output_type": "stream",
     "text": [
      "\t\tduo norm retained 5000 genes\n",
      "\t\t\tScoring: 0.18 mn\n",
      "\t\tLi2017.Rdata\n"
     ]
    },
    {
     "name": "stderr",
     "output_type": "stream",
     "text": [
      "/home/jo/anaconda3/envs/w/lib/python3.7/site-packages/pandas/core/arrays/categorical.py:2487: FutureWarning: The `inplace` parameter in pandas.Categorical.remove_unused_categories is deprecated and will be removed in a future version.\n",
      "  res = method(*args, **kwargs)\n"
     ]
    },
    {
     "name": "stdout",
     "output_type": "stream",
     "text": [
      "\t\tduo norm retained 5000 genes\n",
      "\t\t\tScoring: 0.09 mn\n",
      "\t\tRomanov2016.Rdata\n"
     ]
    },
    {
     "name": "stderr",
     "output_type": "stream",
     "text": [
      "/home/jo/anaconda3/envs/w/lib/python3.7/site-packages/pandas/core/arrays/categorical.py:2487: FutureWarning: The `inplace` parameter in pandas.Categorical.remove_unused_categories is deprecated and will be removed in a future version.\n",
      "  res = method(*args, **kwargs)\n"
     ]
    },
    {
     "name": "stdout",
     "output_type": "stream",
     "text": [
      "\t\tduo norm retained 5000 genes\n",
      "\t\t\tScoring: 0.3 mn\n",
      "\t\tTasic2016_raw.Rdata\n"
     ]
    },
    {
     "name": "stderr",
     "output_type": "stream",
     "text": [
      "/home/jo/anaconda3/envs/w/lib/python3.7/site-packages/pandas/core/arrays/categorical.py:2487: FutureWarning: The `inplace` parameter in pandas.Categorical.remove_unused_categories is deprecated and will be removed in a future version.\n",
      "  res = method(*args, **kwargs)\n"
     ]
    },
    {
     "name": "stdout",
     "output_type": "stream",
     "text": [
      "\t\tduo norm retained 5000 genes\n",
      "\t\t\tScoring: 0.32 mn\n",
      "\t\tZeisel2015.Rdata\n"
     ]
    },
    {
     "name": "stderr",
     "output_type": "stream",
     "text": [
      "/home/jo/anaconda3/envs/w/lib/python3.7/site-packages/pandas/core/arrays/categorical.py:2487: FutureWarning: The `inplace` parameter in pandas.Categorical.remove_unused_categories is deprecated and will be removed in a future version.\n",
      "  res = method(*args, **kwargs)\n"
     ]
    },
    {
     "name": "stdout",
     "output_type": "stream",
     "text": [
      "\t\tduo norm retained 5000 genes\n",
      "\t\t\tScoring: 0.29 mn\n",
      "\t\tBiase2014.Rdata\n",
      "\t\tduo norm retained 5000 genes\n",
      "\t\t\tScoring: 0.0 mn\n",
      "\t\tDeng2014_rpkm.Rdata\n"
     ]
    },
    {
     "name": "stderr",
     "output_type": "stream",
     "text": [
      "/home/jo/anaconda3/envs/w/lib/python3.7/site-packages/pandas/core/arrays/categorical.py:2487: FutureWarning: The `inplace` parameter in pandas.Categorical.remove_unused_categories is deprecated and will be removed in a future version.\n",
      "  res = method(*args, **kwargs)\n"
     ]
    },
    {
     "name": "stdout",
     "output_type": "stream",
     "text": [
      "\t\tduo norm retained 5000 genes\n",
      "\t\t\tScoring: 0.05 mn\n",
      "\t\tSegerstolpe2016.Rdata\n",
      "\t\tduo norm retained 5000 genes\n",
      "\t\t\tScoring: 0.6 mn\n",
      "\t\tTasic2016_rpkm.Rdata\n"
     ]
    },
    {
     "name": "stderr",
     "output_type": "stream",
     "text": [
      "/home/jo/anaconda3/envs/w/lib/python3.7/site-packages/pandas/core/arrays/categorical.py:2487: FutureWarning: The `inplace` parameter in pandas.Categorical.remove_unused_categories is deprecated and will be removed in a future version.\n",
      "  res = method(*args, **kwargs)\n"
     ]
    },
    {
     "name": "stdout",
     "output_type": "stream",
     "text": [
      "\t\tduo norm retained 5000 genes\n",
      "\t\t\tScoring: 0.19 mn\n",
      "\t\tTreutlein.Rdata\n"
     ]
    },
    {
     "name": "stderr",
     "output_type": "stream",
     "text": [
      "/home/jo/anaconda3/envs/w/lib/python3.7/site-packages/pandas/core/arrays/categorical.py:2487: FutureWarning: The `inplace` parameter in pandas.Categorical.remove_unused_categories is deprecated and will be removed in a future version.\n",
      "  res = method(*args, **kwargs)\n"
     ]
    },
    {
     "name": "stdout",
     "output_type": "stream",
     "text": [
      "\t\tduo norm retained 5000 genes\n",
      "\t\t\tScoring: 0.01 mn\n",
      "\t\tYan2013.Rdata\n"
     ]
    },
    {
     "name": "stderr",
     "output_type": "stream",
     "text": [
      "/home/jo/anaconda3/envs/w/lib/python3.7/site-packages/pandas/core/arrays/categorical.py:2487: FutureWarning: The `inplace` parameter in pandas.Categorical.remove_unused_categories is deprecated and will be removed in a future version.\n",
      "  res = method(*args, **kwargs)\n"
     ]
    },
    {
     "name": "stdout",
     "output_type": "stream",
     "text": [
      "\t\tduo norm retained 5000 genes\n",
      "\t\t\tScoring: 0.0 mn\n",
      "cosine 100 True seurat True\n",
      "\t\tBaron2016_m.Rdata\n"
     ]
    },
    {
     "name": "stderr",
     "output_type": "stream",
     "text": [
      "/home/jo/anaconda3/envs/w/lib/python3.7/site-packages/pandas/core/arrays/categorical.py:2487: FutureWarning: The `inplace` parameter in pandas.Categorical.remove_unused_categories is deprecated and will be removed in a future version.\n",
      "  res = method(*args, **kwargs)\n"
     ]
    },
    {
     "name": "stdout",
     "output_type": "stream",
     "text": [
      "\t\tseurat norm retained 2867 genes\n",
      "\t\t\tScoring: 0.3 mn\n",
      "\t\tDarmanis2015.Rdata\n",
      "\t\tseurat norm retained 7946 genes\n",
      "\t\t\tScoring: 0.14 mn\n",
      "\t\tDeng2014_raw.Rdata\n"
     ]
    },
    {
     "name": "stderr",
     "output_type": "stream",
     "text": [
      "/home/jo/anaconda3/envs/w/lib/python3.7/site-packages/pandas/core/arrays/categorical.py:2487: FutureWarning: The `inplace` parameter in pandas.Categorical.remove_unused_categories is deprecated and will be removed in a future version.\n",
      "  res = method(*args, **kwargs)\n"
     ]
    },
    {
     "name": "stdout",
     "output_type": "stream",
     "text": [
      "\t\tseurat norm retained 6633 genes\n",
      "\t\t\tScoring: 0.04 mn\n",
      "\t\tGoolam2016.Rdata\n"
     ]
    },
    {
     "name": "stderr",
     "output_type": "stream",
     "text": [
      "/home/jo/anaconda3/envs/w/lib/python3.7/site-packages/pandas/core/arrays/categorical.py:2487: FutureWarning: The `inplace` parameter in pandas.Categorical.remove_unused_categories is deprecated and will be removed in a future version.\n",
      "  res = method(*args, **kwargs)\n"
     ]
    },
    {
     "name": "stdout",
     "output_type": "stream",
     "text": [
      "\t\tseurat norm retained 7752 genes\n",
      "\t\t\tScoring: 0.03 mn\n",
      "\t\tKlein2015.Rdata\n"
     ]
    },
    {
     "name": "stderr",
     "output_type": "stream",
     "text": [
      "/home/jo/anaconda3/envs/w/lib/python3.7/site-packages/pandas/core/arrays/categorical.py:2487: FutureWarning: The `inplace` parameter in pandas.Categorical.remove_unused_categories is deprecated and will be removed in a future version.\n",
      "  res = method(*args, **kwargs)\n"
     ]
    },
    {
     "name": "stdout",
     "output_type": "stream",
     "text": [
      "\t\tseurat norm retained 5704 genes\n",
      "\t\t\tScoring: 0.45 mn\n",
      "\t\tkolodziejczyk.rds\n"
     ]
    },
    {
     "name": "stderr",
     "output_type": "stream",
     "text": [
      "/home/jo/anaconda3/envs/w/lib/python3.7/site-packages/pandas/core/arrays/categorical.py:2487: FutureWarning: The `inplace` parameter in pandas.Categorical.remove_unused_categories is deprecated and will be removed in a future version.\n",
      "  res = method(*args, **kwargs)\n"
     ]
    },
    {
     "name": "stdout",
     "output_type": "stream",
     "text": [
      "\t\tseurat norm retained 8205 genes\n",
      "\t\t\tScoring: 0.13 mn\n",
      "\t\tLi2017.Rdata\n"
     ]
    },
    {
     "name": "stderr",
     "output_type": "stream",
     "text": [
      "/home/jo/anaconda3/envs/w/lib/python3.7/site-packages/pandas/core/arrays/categorical.py:2487: FutureWarning: The `inplace` parameter in pandas.Categorical.remove_unused_categories is deprecated and will be removed in a future version.\n",
      "  res = method(*args, **kwargs)\n"
     ]
    },
    {
     "name": "stdout",
     "output_type": "stream",
     "text": [
      "\t\tseurat norm retained 10477 genes\n",
      "\t\t\tScoring: 0.21 mn\n",
      "\t\tRomanov2016.Rdata\n"
     ]
    },
    {
     "name": "stderr",
     "output_type": "stream",
     "text": [
      "/home/jo/anaconda3/envs/w/lib/python3.7/site-packages/pandas/core/arrays/categorical.py:2487: FutureWarning: The `inplace` parameter in pandas.Categorical.remove_unused_categories is deprecated and will be removed in a future version.\n",
      "  res = method(*args, **kwargs)\n"
     ]
    },
    {
     "name": "stdout",
     "output_type": "stream",
     "text": [
      "\t\tseurat norm retained 4434 genes\n",
      "\t\t\tScoring: 0.4 mn\n",
      "\t\tTasic2016_raw.Rdata\n"
     ]
    },
    {
     "name": "stderr",
     "output_type": "stream",
     "text": [
      "/home/jo/anaconda3/envs/w/lib/python3.7/site-packages/pandas/core/arrays/categorical.py:2487: FutureWarning: The `inplace` parameter in pandas.Categorical.remove_unused_categories is deprecated and will be removed in a future version.\n",
      "  res = method(*args, **kwargs)\n"
     ]
    },
    {
     "name": "stdout",
     "output_type": "stream",
     "text": [
      "\t\tseurat norm retained 6392 genes\n",
      "\t\t\tScoring: 0.19 mn\n",
      "\t\tZeisel2015.Rdata\n"
     ]
    },
    {
     "name": "stderr",
     "output_type": "stream",
     "text": [
      "/home/jo/anaconda3/envs/w/lib/python3.7/site-packages/pandas/core/arrays/categorical.py:2487: FutureWarning: The `inplace` parameter in pandas.Categorical.remove_unused_categories is deprecated and will be removed in a future version.\n",
      "  res = method(*args, **kwargs)\n"
     ]
    },
    {
     "name": "stdout",
     "output_type": "stream",
     "text": [
      "\t\tseurat norm retained 4180 genes\n",
      "\t\t\tScoring: 0.49 mn\n",
      "\t\tBiase2014.Rdata\n",
      "\t\tseurat norm retained 5487 genes\n",
      "\t\t\tScoring: 0.01 mn\n",
      "\t\tDeng2014_rpkm.Rdata\n"
     ]
    },
    {
     "name": "stderr",
     "output_type": "stream",
     "text": [
      "/home/jo/anaconda3/envs/w/lib/python3.7/site-packages/pandas/core/arrays/categorical.py:2487: FutureWarning: The `inplace` parameter in pandas.Categorical.remove_unused_categories is deprecated and will be removed in a future version.\n",
      "  res = method(*args, **kwargs)\n"
     ]
    },
    {
     "name": "stdout",
     "output_type": "stream",
     "text": [
      "\t\tseurat norm retained 6401 genes\n",
      "\t\t\tScoring: 0.06 mn\n",
      "\t\tSegerstolpe2016.Rdata\n",
      "\t\tseurat norm retained 4750 genes\n",
      "\t\t\tScoring: 0.38 mn\n",
      "\t\tTasic2016_rpkm.Rdata\n"
     ]
    },
    {
     "name": "stderr",
     "output_type": "stream",
     "text": [
      "/home/jo/anaconda3/envs/w/lib/python3.7/site-packages/pandas/core/arrays/categorical.py:2487: FutureWarning: The `inplace` parameter in pandas.Categorical.remove_unused_categories is deprecated and will be removed in a future version.\n",
      "  res = method(*args, **kwargs)\n"
     ]
    },
    {
     "name": "stdout",
     "output_type": "stream",
     "text": [
      "\t\tseurat norm retained 4864 genes\n",
      "\t\t\tScoring: 0.33 mn\n",
      "\t\tTreutlein.Rdata\n"
     ]
    },
    {
     "name": "stderr",
     "output_type": "stream",
     "text": [
      "/home/jo/anaconda3/envs/w/lib/python3.7/site-packages/pandas/core/arrays/categorical.py:2487: FutureWarning: The `inplace` parameter in pandas.Categorical.remove_unused_categories is deprecated and will be removed in a future version.\n",
      "  res = method(*args, **kwargs)\n"
     ]
    },
    {
     "name": "stdout",
     "output_type": "stream",
     "text": [
      "\t\tseurat norm retained 3854 genes\n",
      "\t\t\tScoring: 0.01 mn\n",
      "\t\tYan2013.Rdata\n"
     ]
    },
    {
     "name": "stderr",
     "output_type": "stream",
     "text": [
      "/home/jo/anaconda3/envs/w/lib/python3.7/site-packages/pandas/core/arrays/categorical.py:2487: FutureWarning: The `inplace` parameter in pandas.Categorical.remove_unused_categories is deprecated and will be removed in a future version.\n",
      "  res = method(*args, **kwargs)\n"
     ]
    },
    {
     "name": "stdout",
     "output_type": "stream",
     "text": [
      "\t\tseurat norm retained 5804 genes\n",
      "\t\t\tScoring: 0.02 mn\n",
      "cosine 100 True seurat False\n",
      "\t\tBaron2016_m.Rdata\n"
     ]
    },
    {
     "name": "stderr",
     "output_type": "stream",
     "text": [
      "/home/jo/anaconda3/envs/w/lib/python3.7/site-packages/pandas/core/arrays/categorical.py:2487: FutureWarning: The `inplace` parameter in pandas.Categorical.remove_unused_categories is deprecated and will be removed in a future version.\n",
      "  res = method(*args, **kwargs)\n"
     ]
    },
    {
     "name": "stdout",
     "output_type": "stream",
     "text": [
      "\t\tseurat norm retained 2867 genes\n",
      "\t\t\tScoring: 0.37 mn\n",
      "\t\tDarmanis2015.Rdata\n",
      "\t\tseurat norm retained 7946 genes\n",
      "\t\t\tScoring: 0.09 mn\n",
      "\t\tDeng2014_raw.Rdata\n"
     ]
    },
    {
     "name": "stderr",
     "output_type": "stream",
     "text": [
      "/home/jo/anaconda3/envs/w/lib/python3.7/site-packages/pandas/core/arrays/categorical.py:2487: FutureWarning: The `inplace` parameter in pandas.Categorical.remove_unused_categories is deprecated and will be removed in a future version.\n",
      "  res = method(*args, **kwargs)\n"
     ]
    },
    {
     "name": "stdout",
     "output_type": "stream",
     "text": [
      "\t\tseurat norm retained 6633 genes\n",
      "\t\t\tScoring: 0.09 mn\n",
      "\t\tGoolam2016.Rdata\n"
     ]
    },
    {
     "name": "stderr",
     "output_type": "stream",
     "text": [
      "/home/jo/anaconda3/envs/w/lib/python3.7/site-packages/pandas/core/arrays/categorical.py:2487: FutureWarning: The `inplace` parameter in pandas.Categorical.remove_unused_categories is deprecated and will be removed in a future version.\n",
      "  res = method(*args, **kwargs)\n"
     ]
    },
    {
     "name": "stdout",
     "output_type": "stream",
     "text": [
      "\t\tseurat norm retained 7752 genes\n",
      "\t\t\tScoring: 0.04 mn\n",
      "\t\tKlein2015.Rdata\n"
     ]
    },
    {
     "name": "stderr",
     "output_type": "stream",
     "text": [
      "/home/jo/anaconda3/envs/w/lib/python3.7/site-packages/pandas/core/arrays/categorical.py:2487: FutureWarning: The `inplace` parameter in pandas.Categorical.remove_unused_categories is deprecated and will be removed in a future version.\n",
      "  res = method(*args, **kwargs)\n"
     ]
    },
    {
     "name": "stdout",
     "output_type": "stream",
     "text": [
      "\t\tseurat norm retained 5704 genes\n",
      "\t\t\tScoring: 0.5 mn\n",
      "\t\tkolodziejczyk.rds\n"
     ]
    },
    {
     "name": "stderr",
     "output_type": "stream",
     "text": [
      "/home/jo/anaconda3/envs/w/lib/python3.7/site-packages/pandas/core/arrays/categorical.py:2487: FutureWarning: The `inplace` parameter in pandas.Categorical.remove_unused_categories is deprecated and will be removed in a future version.\n",
      "  res = method(*args, **kwargs)\n"
     ]
    },
    {
     "name": "stdout",
     "output_type": "stream",
     "text": [
      "\t\tseurat norm retained 8205 genes\n",
      "\t\t\tScoring: 0.22 mn\n",
      "\t\tLi2017.Rdata\n"
     ]
    },
    {
     "name": "stderr",
     "output_type": "stream",
     "text": [
      "/home/jo/anaconda3/envs/w/lib/python3.7/site-packages/pandas/core/arrays/categorical.py:2487: FutureWarning: The `inplace` parameter in pandas.Categorical.remove_unused_categories is deprecated and will be removed in a future version.\n",
      "  res = method(*args, **kwargs)\n"
     ]
    },
    {
     "name": "stdout",
     "output_type": "stream",
     "text": [
      "\t\tseurat norm retained 10477 genes\n",
      "\t\t\tScoring: 0.24 mn\n",
      "\t\tRomanov2016.Rdata\n"
     ]
    },
    {
     "name": "stderr",
     "output_type": "stream",
     "text": [
      "/home/jo/anaconda3/envs/w/lib/python3.7/site-packages/pandas/core/arrays/categorical.py:2487: FutureWarning: The `inplace` parameter in pandas.Categorical.remove_unused_categories is deprecated and will be removed in a future version.\n",
      "  res = method(*args, **kwargs)\n"
     ]
    },
    {
     "name": "stdout",
     "output_type": "stream",
     "text": [
      "\t\tseurat norm retained 4434 genes\n",
      "\t\t\tScoring: 0.55 mn\n",
      "\t\tTasic2016_raw.Rdata\n"
     ]
    },
    {
     "name": "stderr",
     "output_type": "stream",
     "text": [
      "/home/jo/anaconda3/envs/w/lib/python3.7/site-packages/pandas/core/arrays/categorical.py:2487: FutureWarning: The `inplace` parameter in pandas.Categorical.remove_unused_categories is deprecated and will be removed in a future version.\n",
      "  res = method(*args, **kwargs)\n"
     ]
    },
    {
     "name": "stdout",
     "output_type": "stream",
     "text": [
      "\t\tseurat norm retained 6392 genes\n",
      "\t\t\tScoring: 0.42 mn\n",
      "\t\tZeisel2015.Rdata\n"
     ]
    },
    {
     "name": "stderr",
     "output_type": "stream",
     "text": [
      "/home/jo/anaconda3/envs/w/lib/python3.7/site-packages/pandas/core/arrays/categorical.py:2487: FutureWarning: The `inplace` parameter in pandas.Categorical.remove_unused_categories is deprecated and will be removed in a future version.\n",
      "  res = method(*args, **kwargs)\n"
     ]
    },
    {
     "name": "stdout",
     "output_type": "stream",
     "text": [
      "\t\tseurat norm retained 4180 genes\n",
      "\t\t\tScoring: 0.41 mn\n",
      "\t\tBiase2014.Rdata\n",
      "\t\tseurat norm retained 5487 genes\n",
      "\t\t\tScoring: 0.04 mn\n",
      "\t\tDeng2014_rpkm.Rdata\n"
     ]
    },
    {
     "name": "stderr",
     "output_type": "stream",
     "text": [
      "/home/jo/anaconda3/envs/w/lib/python3.7/site-packages/pandas/core/arrays/categorical.py:2487: FutureWarning: The `inplace` parameter in pandas.Categorical.remove_unused_categories is deprecated and will be removed in a future version.\n",
      "  res = method(*args, **kwargs)\n"
     ]
    },
    {
     "name": "stdout",
     "output_type": "stream",
     "text": [
      "\t\tseurat norm retained 6401 genes\n",
      "\t\t\tScoring: 0.07 mn\n",
      "\t\tSegerstolpe2016.Rdata\n",
      "\t\tseurat norm retained 4750 genes\n",
      "\t\t\tScoring: 0.39 mn\n",
      "\t\tTasic2016_rpkm.Rdata\n"
     ]
    },
    {
     "name": "stderr",
     "output_type": "stream",
     "text": [
      "/home/jo/anaconda3/envs/w/lib/python3.7/site-packages/pandas/core/arrays/categorical.py:2487: FutureWarning: The `inplace` parameter in pandas.Categorical.remove_unused_categories is deprecated and will be removed in a future version.\n",
      "  res = method(*args, **kwargs)\n"
     ]
    },
    {
     "name": "stdout",
     "output_type": "stream",
     "text": [
      "\t\tseurat norm retained 4864 genes\n",
      "\t\t\tScoring: 0.24 mn\n",
      "\t\tTreutlein.Rdata\n"
     ]
    },
    {
     "name": "stderr",
     "output_type": "stream",
     "text": [
      "/home/jo/anaconda3/envs/w/lib/python3.7/site-packages/pandas/core/arrays/categorical.py:2487: FutureWarning: The `inplace` parameter in pandas.Categorical.remove_unused_categories is deprecated and will be removed in a future version.\n",
      "  res = method(*args, **kwargs)\n"
     ]
    },
    {
     "name": "stdout",
     "output_type": "stream",
     "text": [
      "\t\tseurat norm retained 3854 genes\n",
      "\t\t\tScoring: 0.02 mn\n",
      "\t\tYan2013.Rdata\n"
     ]
    },
    {
     "name": "stderr",
     "output_type": "stream",
     "text": [
      "/home/jo/anaconda3/envs/w/lib/python3.7/site-packages/pandas/core/arrays/categorical.py:2487: FutureWarning: The `inplace` parameter in pandas.Categorical.remove_unused_categories is deprecated and will be removed in a future version.\n",
      "  res = method(*args, **kwargs)\n"
     ]
    },
    {
     "name": "stdout",
     "output_type": "stream",
     "text": [
      "\t\tseurat norm retained 5804 genes\n",
      "\t\t\tScoring: 0.01 mn\n",
      "cosine 500 True duo True\n",
      "\t\tBaron2016_m.Rdata\n"
     ]
    },
    {
     "name": "stderr",
     "output_type": "stream",
     "text": [
      "/home/jo/anaconda3/envs/w/lib/python3.7/site-packages/pandas/core/arrays/categorical.py:2487: FutureWarning: The `inplace` parameter in pandas.Categorical.remove_unused_categories is deprecated and will be removed in a future version.\n",
      "  res = method(*args, **kwargs)\n"
     ]
    },
    {
     "name": "stdout",
     "output_type": "stream",
     "text": [
      "\t\tduo norm retained 5000 genes\n",
      "\t\t\tScoring: 0.84 mn\n",
      "\t\tDarmanis2015.Rdata\n",
      "\t\tduo norm retained 5000 genes\n",
      "\t\t\tScoring: 0.09 mn\n",
      "\t\tDeng2014_raw.Rdata\n"
     ]
    },
    {
     "name": "stderr",
     "output_type": "stream",
     "text": [
      "/home/jo/anaconda3/envs/w/lib/python3.7/site-packages/pandas/core/arrays/categorical.py:2487: FutureWarning: The `inplace` parameter in pandas.Categorical.remove_unused_categories is deprecated and will be removed in a future version.\n",
      "  res = method(*args, **kwargs)\n"
     ]
    },
    {
     "name": "stdout",
     "output_type": "stream",
     "text": [
      "\t\tduo norm retained 5000 genes\n",
      "\t\t\tScoring: 0.04 mn\n",
      "\t\tGoolam2016.Rdata\n"
     ]
    },
    {
     "name": "stderr",
     "output_type": "stream",
     "text": [
      "/home/jo/anaconda3/envs/w/lib/python3.7/site-packages/pandas/core/arrays/categorical.py:2487: FutureWarning: The `inplace` parameter in pandas.Categorical.remove_unused_categories is deprecated and will be removed in a future version.\n",
      "  res = method(*args, **kwargs)\n"
     ]
    },
    {
     "name": "stdout",
     "output_type": "stream",
     "text": [
      "\t\tduo norm retained 5000 genes\n",
      "\t\t\tScoring: 0.05 mn\n",
      "\t\tKlein2015.Rdata\n"
     ]
    },
    {
     "name": "stderr",
     "output_type": "stream",
     "text": [
      "/home/jo/anaconda3/envs/w/lib/python3.7/site-packages/pandas/core/arrays/categorical.py:2487: FutureWarning: The `inplace` parameter in pandas.Categorical.remove_unused_categories is deprecated and will be removed in a future version.\n",
      "  res = method(*args, **kwargs)\n"
     ]
    },
    {
     "name": "stdout",
     "output_type": "stream",
     "text": [
      "\t\tduo norm retained 5000 genes\n",
      "\t\t\tScoring: 1.12 mn\n",
      "\t\tkolodziejczyk.rds\n"
     ]
    },
    {
     "name": "stderr",
     "output_type": "stream",
     "text": [
      "/home/jo/anaconda3/envs/w/lib/python3.7/site-packages/pandas/core/arrays/categorical.py:2487: FutureWarning: The `inplace` parameter in pandas.Categorical.remove_unused_categories is deprecated and will be removed in a future version.\n",
      "  res = method(*args, **kwargs)\n"
     ]
    },
    {
     "name": "stdout",
     "output_type": "stream",
     "text": [
      "\t\tduo norm retained 5000 genes\n",
      "\t\t\tScoring: 0.22 mn\n",
      "\t\tLi2017.Rdata\n"
     ]
    },
    {
     "name": "stderr",
     "output_type": "stream",
     "text": [
      "/home/jo/anaconda3/envs/w/lib/python3.7/site-packages/pandas/core/arrays/categorical.py:2487: FutureWarning: The `inplace` parameter in pandas.Categorical.remove_unused_categories is deprecated and will be removed in a future version.\n",
      "  res = method(*args, **kwargs)\n"
     ]
    },
    {
     "name": "stdout",
     "output_type": "stream",
     "text": [
      "\t\tduo norm retained 5000 genes\n",
      "\t\t\tScoring: 0.28 mn\n",
      "\t\tRomanov2016.Rdata\n"
     ]
    },
    {
     "name": "stderr",
     "output_type": "stream",
     "text": [
      "/home/jo/anaconda3/envs/w/lib/python3.7/site-packages/pandas/core/arrays/categorical.py:2487: FutureWarning: The `inplace` parameter in pandas.Categorical.remove_unused_categories is deprecated and will be removed in a future version.\n",
      "  res = method(*args, **kwargs)\n"
     ]
    },
    {
     "name": "stdout",
     "output_type": "stream",
     "text": [
      "\t\tduo norm retained 5000 genes\n",
      "\t\t\tScoring: 1.04 mn\n",
      "\t\tTasic2016_raw.Rdata\n"
     ]
    },
    {
     "name": "stderr",
     "output_type": "stream",
     "text": [
      "/home/jo/anaconda3/envs/w/lib/python3.7/site-packages/pandas/core/arrays/categorical.py:2487: FutureWarning: The `inplace` parameter in pandas.Categorical.remove_unused_categories is deprecated and will be removed in a future version.\n",
      "  res = method(*args, **kwargs)\n"
     ]
    },
    {
     "name": "stdout",
     "output_type": "stream",
     "text": [
      "\t\tduo norm retained 5000 genes\n",
      "\t\t\tScoring: 0.84 mn\n",
      "\t\tZeisel2015.Rdata\n"
     ]
    },
    {
     "name": "stderr",
     "output_type": "stream",
     "text": [
      "/home/jo/anaconda3/envs/w/lib/python3.7/site-packages/pandas/core/arrays/categorical.py:2487: FutureWarning: The `inplace` parameter in pandas.Categorical.remove_unused_categories is deprecated and will be removed in a future version.\n",
      "  res = method(*args, **kwargs)\n"
     ]
    },
    {
     "name": "stdout",
     "output_type": "stream",
     "text": [
      "\t\tduo norm retained 5000 genes\n",
      "\t\t\tScoring: 0.86 mn\n",
      "\t\tBiase2014.Rdata\n",
      "\t\tduo norm retained 5000 genes\n",
      "\t\t\tScoring: 0.0 mn\n",
      "\t\tDeng2014_rpkm.Rdata\n"
     ]
    },
    {
     "name": "stderr",
     "output_type": "stream",
     "text": [
      "/home/jo/anaconda3/envs/w/lib/python3.7/site-packages/pandas/core/arrays/categorical.py:2487: FutureWarning: The `inplace` parameter in pandas.Categorical.remove_unused_categories is deprecated and will be removed in a future version.\n",
      "  res = method(*args, **kwargs)\n"
     ]
    },
    {
     "name": "stdout",
     "output_type": "stream",
     "text": [
      "\t\tduo norm retained 5000 genes\n",
      "\t\t\tScoring: 0.15 mn\n",
      "\t\tSegerstolpe2016.Rdata\n",
      "\t\tduo norm retained 5000 genes\n",
      "\t\t\tScoring: 0.95 mn\n",
      "\t\tTasic2016_rpkm.Rdata\n"
     ]
    },
    {
     "name": "stderr",
     "output_type": "stream",
     "text": [
      "/home/jo/anaconda3/envs/w/lib/python3.7/site-packages/pandas/core/arrays/categorical.py:2487: FutureWarning: The `inplace` parameter in pandas.Categorical.remove_unused_categories is deprecated and will be removed in a future version.\n",
      "  res = method(*args, **kwargs)\n"
     ]
    },
    {
     "name": "stdout",
     "output_type": "stream",
     "text": [
      "\t\tduo norm retained 5000 genes\n",
      "\t\t\tScoring: 0.69 mn\n",
      "\t\tTreutlein.Rdata\n"
     ]
    },
    {
     "name": "stderr",
     "output_type": "stream",
     "text": [
      "/home/jo/anaconda3/envs/w/lib/python3.7/site-packages/pandas/core/arrays/categorical.py:2487: FutureWarning: The `inplace` parameter in pandas.Categorical.remove_unused_categories is deprecated and will be removed in a future version.\n",
      "  res = method(*args, **kwargs)\n"
     ]
    },
    {
     "name": "stdout",
     "output_type": "stream",
     "text": [
      "\t\tduo norm retained 5000 genes\n",
      "\t\t\tScoring: 0.0 mn\n",
      "\t\tYan2013.Rdata\n"
     ]
    },
    {
     "name": "stderr",
     "output_type": "stream",
     "text": [
      "/home/jo/anaconda3/envs/w/lib/python3.7/site-packages/pandas/core/arrays/categorical.py:2487: FutureWarning: The `inplace` parameter in pandas.Categorical.remove_unused_categories is deprecated and will be removed in a future version.\n",
      "  res = method(*args, **kwargs)\n"
     ]
    },
    {
     "name": "stdout",
     "output_type": "stream",
     "text": [
      "\t\tduo norm retained 5000 genes\n",
      "\t\t\tScoring: 0.02 mn\n",
      "cosine 500 True duo False\n",
      "\t\tBaron2016_m.Rdata\n"
     ]
    },
    {
     "name": "stderr",
     "output_type": "stream",
     "text": [
      "/home/jo/anaconda3/envs/w/lib/python3.7/site-packages/pandas/core/arrays/categorical.py:2487: FutureWarning: The `inplace` parameter in pandas.Categorical.remove_unused_categories is deprecated and will be removed in a future version.\n",
      "  res = method(*args, **kwargs)\n"
     ]
    },
    {
     "name": "stdout",
     "output_type": "stream",
     "text": [
      "\t\tduo norm retained 5000 genes\n",
      "\t\t\tScoring: 1.58 mn\n",
      "\t\tDarmanis2015.Rdata\n",
      "\t\tduo norm retained 5000 genes\n",
      "\t\t\tScoring: 0.21 mn\n",
      "\t\tDeng2014_raw.Rdata\n"
     ]
    },
    {
     "name": "stderr",
     "output_type": "stream",
     "text": [
      "/home/jo/anaconda3/envs/w/lib/python3.7/site-packages/pandas/core/arrays/categorical.py:2487: FutureWarning: The `inplace` parameter in pandas.Categorical.remove_unused_categories is deprecated and will be removed in a future version.\n",
      "  res = method(*args, **kwargs)\n"
     ]
    },
    {
     "name": "stdout",
     "output_type": "stream",
     "text": [
      "\t\tduo norm retained 5000 genes\n",
      "\t\t\tScoring: 0.08 mn\n",
      "\t\tGoolam2016.Rdata\n"
     ]
    },
    {
     "name": "stderr",
     "output_type": "stream",
     "text": [
      "/home/jo/anaconda3/envs/w/lib/python3.7/site-packages/pandas/core/arrays/categorical.py:2487: FutureWarning: The `inplace` parameter in pandas.Categorical.remove_unused_categories is deprecated and will be removed in a future version.\n",
      "  res = method(*args, **kwargs)\n"
     ]
    },
    {
     "name": "stdout",
     "output_type": "stream",
     "text": [
      "\t\tduo norm retained 5000 genes\n",
      "\t\t\tScoring: 0.01 mn\n",
      "\t\tKlein2015.Rdata\n"
     ]
    },
    {
     "name": "stderr",
     "output_type": "stream",
     "text": [
      "/home/jo/anaconda3/envs/w/lib/python3.7/site-packages/pandas/core/arrays/categorical.py:2487: FutureWarning: The `inplace` parameter in pandas.Categorical.remove_unused_categories is deprecated and will be removed in a future version.\n",
      "  res = method(*args, **kwargs)\n"
     ]
    },
    {
     "name": "stdout",
     "output_type": "stream",
     "text": [
      "\t\tduo norm retained 5000 genes\n",
      "\t\t\tScoring: 1.13 mn\n",
      "\t\tkolodziejczyk.rds\n"
     ]
    },
    {
     "name": "stderr",
     "output_type": "stream",
     "text": [
      "/home/jo/anaconda3/envs/w/lib/python3.7/site-packages/pandas/core/arrays/categorical.py:2487: FutureWarning: The `inplace` parameter in pandas.Categorical.remove_unused_categories is deprecated and will be removed in a future version.\n",
      "  res = method(*args, **kwargs)\n"
     ]
    },
    {
     "name": "stdout",
     "output_type": "stream",
     "text": [
      "\t\tduo norm retained 5000 genes\n",
      "\t\t\tScoring: 0.23 mn\n",
      "\t\tLi2017.Rdata\n"
     ]
    },
    {
     "name": "stderr",
     "output_type": "stream",
     "text": [
      "/home/jo/anaconda3/envs/w/lib/python3.7/site-packages/pandas/core/arrays/categorical.py:2487: FutureWarning: The `inplace` parameter in pandas.Categorical.remove_unused_categories is deprecated and will be removed in a future version.\n",
      "  res = method(*args, **kwargs)\n"
     ]
    },
    {
     "name": "stdout",
     "output_type": "stream",
     "text": [
      "\t\tduo norm retained 5000 genes\n",
      "\t\t\tScoring: 0.21 mn\n",
      "\t\tRomanov2016.Rdata\n"
     ]
    },
    {
     "name": "stderr",
     "output_type": "stream",
     "text": [
      "/home/jo/anaconda3/envs/w/lib/python3.7/site-packages/pandas/core/arrays/categorical.py:2487: FutureWarning: The `inplace` parameter in pandas.Categorical.remove_unused_categories is deprecated and will be removed in a future version.\n",
      "  res = method(*args, **kwargs)\n"
     ]
    },
    {
     "name": "stdout",
     "output_type": "stream",
     "text": [
      "\t\tduo norm retained 5000 genes\n",
      "\t\t\tScoring: 1.08 mn\n",
      "\t\tTasic2016_raw.Rdata\n"
     ]
    },
    {
     "name": "stderr",
     "output_type": "stream",
     "text": [
      "/home/jo/anaconda3/envs/w/lib/python3.7/site-packages/pandas/core/arrays/categorical.py:2487: FutureWarning: The `inplace` parameter in pandas.Categorical.remove_unused_categories is deprecated and will be removed in a future version.\n",
      "  res = method(*args, **kwargs)\n"
     ]
    },
    {
     "name": "stdout",
     "output_type": "stream",
     "text": [
      "\t\tduo norm retained 5000 genes\n",
      "\t\t\tScoring: 0.66 mn\n",
      "\t\tZeisel2015.Rdata\n"
     ]
    },
    {
     "name": "stderr",
     "output_type": "stream",
     "text": [
      "/home/jo/anaconda3/envs/w/lib/python3.7/site-packages/pandas/core/arrays/categorical.py:2487: FutureWarning: The `inplace` parameter in pandas.Categorical.remove_unused_categories is deprecated and will be removed in a future version.\n",
      "  res = method(*args, **kwargs)\n"
     ]
    },
    {
     "name": "stdout",
     "output_type": "stream",
     "text": [
      "\t\tduo norm retained 5000 genes\n",
      "\t\t\tScoring: 1.16 mn\n",
      "\t\tBiase2014.Rdata\n",
      "\t\tduo norm retained 5000 genes\n",
      "\t\t\tScoring: 0.0 mn\n",
      "\t\tDeng2014_rpkm.Rdata\n"
     ]
    },
    {
     "name": "stderr",
     "output_type": "stream",
     "text": [
      "/home/jo/anaconda3/envs/w/lib/python3.7/site-packages/pandas/core/arrays/categorical.py:2487: FutureWarning: The `inplace` parameter in pandas.Categorical.remove_unused_categories is deprecated and will be removed in a future version.\n",
      "  res = method(*args, **kwargs)\n"
     ]
    },
    {
     "name": "stdout",
     "output_type": "stream",
     "text": [
      "\t\tduo norm retained 5000 genes\n",
      "\t\t\tScoring: 0.03 mn\n",
      "\t\tSegerstolpe2016.Rdata\n",
      "\t\tduo norm retained 5000 genes\n",
      "\t\t\tScoring: 0.98 mn\n",
      "\t\tTasic2016_rpkm.Rdata\n"
     ]
    },
    {
     "name": "stderr",
     "output_type": "stream",
     "text": [
      "/home/jo/anaconda3/envs/w/lib/python3.7/site-packages/pandas/core/arrays/categorical.py:2487: FutureWarning: The `inplace` parameter in pandas.Categorical.remove_unused_categories is deprecated and will be removed in a future version.\n",
      "  res = method(*args, **kwargs)\n"
     ]
    },
    {
     "name": "stdout",
     "output_type": "stream",
     "text": [
      "\t\tduo norm retained 5000 genes\n",
      "\t\t\tScoring: 0.59 mn\n",
      "\t\tTreutlein.Rdata\n"
     ]
    },
    {
     "name": "stderr",
     "output_type": "stream",
     "text": [
      "/home/jo/anaconda3/envs/w/lib/python3.7/site-packages/pandas/core/arrays/categorical.py:2487: FutureWarning: The `inplace` parameter in pandas.Categorical.remove_unused_categories is deprecated and will be removed in a future version.\n",
      "  res = method(*args, **kwargs)\n"
     ]
    },
    {
     "name": "stdout",
     "output_type": "stream",
     "text": [
      "\t\tduo norm retained 5000 genes\n",
      "\t\t\tScoring: 0.01 mn\n",
      "\t\tYan2013.Rdata\n"
     ]
    },
    {
     "name": "stderr",
     "output_type": "stream",
     "text": [
      "/home/jo/anaconda3/envs/w/lib/python3.7/site-packages/pandas/core/arrays/categorical.py:2487: FutureWarning: The `inplace` parameter in pandas.Categorical.remove_unused_categories is deprecated and will be removed in a future version.\n",
      "  res = method(*args, **kwargs)\n"
     ]
    },
    {
     "name": "stdout",
     "output_type": "stream",
     "text": [
      "\t\tduo norm retained 5000 genes\n",
      "\t\t\tScoring: 0.0 mn\n",
      "cosine 500 True seurat True\n",
      "\t\tBaron2016_m.Rdata\n"
     ]
    },
    {
     "name": "stderr",
     "output_type": "stream",
     "text": [
      "/home/jo/anaconda3/envs/w/lib/python3.7/site-packages/pandas/core/arrays/categorical.py:2487: FutureWarning: The `inplace` parameter in pandas.Categorical.remove_unused_categories is deprecated and will be removed in a future version.\n",
      "  res = method(*args, **kwargs)\n"
     ]
    },
    {
     "name": "stdout",
     "output_type": "stream",
     "text": [
      "\t\tseurat norm retained 2867 genes\n",
      "\t\t\tScoring: 0.57 mn\n",
      "\t\tDarmanis2015.Rdata\n",
      "\t\tseurat norm retained 7946 genes\n",
      "\t\t\tScoring: 0.33 mn\n",
      "\t\tDeng2014_raw.Rdata\n"
     ]
    },
    {
     "name": "stderr",
     "output_type": "stream",
     "text": [
      "/home/jo/anaconda3/envs/w/lib/python3.7/site-packages/pandas/core/arrays/categorical.py:2487: FutureWarning: The `inplace` parameter in pandas.Categorical.remove_unused_categories is deprecated and will be removed in a future version.\n",
      "  res = method(*args, **kwargs)\n"
     ]
    },
    {
     "name": "stdout",
     "output_type": "stream",
     "text": [
      "\t\tseurat norm retained 6633 genes\n",
      "\t\t\tScoring: 0.13 mn\n",
      "\t\tGoolam2016.Rdata\n"
     ]
    },
    {
     "name": "stderr",
     "output_type": "stream",
     "text": [
      "/home/jo/anaconda3/envs/w/lib/python3.7/site-packages/pandas/core/arrays/categorical.py:2487: FutureWarning: The `inplace` parameter in pandas.Categorical.remove_unused_categories is deprecated and will be removed in a future version.\n",
      "  res = method(*args, **kwargs)\n"
     ]
    },
    {
     "name": "stdout",
     "output_type": "stream",
     "text": [
      "\t\tseurat norm retained 7752 genes\n",
      "\t\t\tScoring: 0.03 mn\n",
      "\t\tKlein2015.Rdata\n"
     ]
    },
    {
     "name": "stderr",
     "output_type": "stream",
     "text": [
      "/home/jo/anaconda3/envs/w/lib/python3.7/site-packages/pandas/core/arrays/categorical.py:2487: FutureWarning: The `inplace` parameter in pandas.Categorical.remove_unused_categories is deprecated and will be removed in a future version.\n",
      "  res = method(*args, **kwargs)\n"
     ]
    },
    {
     "name": "stdout",
     "output_type": "stream",
     "text": [
      "\t\tseurat norm retained 5704 genes\n",
      "\t\t\tScoring: 1.13 mn\n",
      "\t\tkolodziejczyk.rds\n"
     ]
    },
    {
     "name": "stderr",
     "output_type": "stream",
     "text": [
      "/home/jo/anaconda3/envs/w/lib/python3.7/site-packages/pandas/core/arrays/categorical.py:2487: FutureWarning: The `inplace` parameter in pandas.Categorical.remove_unused_categories is deprecated and will be removed in a future version.\n",
      "  res = method(*args, **kwargs)\n"
     ]
    },
    {
     "name": "stdout",
     "output_type": "stream",
     "text": [
      "\t\tseurat norm retained 8205 genes\n",
      "\t\t\tScoring: 0.19 mn\n",
      "\t\tLi2017.Rdata\n"
     ]
    },
    {
     "name": "stderr",
     "output_type": "stream",
     "text": [
      "/home/jo/anaconda3/envs/w/lib/python3.7/site-packages/pandas/core/arrays/categorical.py:2487: FutureWarning: The `inplace` parameter in pandas.Categorical.remove_unused_categories is deprecated and will be removed in a future version.\n",
      "  res = method(*args, **kwargs)\n"
     ]
    },
    {
     "name": "stdout",
     "output_type": "stream",
     "text": [
      "\t\tseurat norm retained 10477 genes\n",
      "\t\t\tScoring: 0.19 mn\n",
      "\t\tRomanov2016.Rdata\n"
     ]
    },
    {
     "name": "stderr",
     "output_type": "stream",
     "text": [
      "/home/jo/anaconda3/envs/w/lib/python3.7/site-packages/pandas/core/arrays/categorical.py:2487: FutureWarning: The `inplace` parameter in pandas.Categorical.remove_unused_categories is deprecated and will be removed in a future version.\n",
      "  res = method(*args, **kwargs)\n"
     ]
    },
    {
     "name": "stdout",
     "output_type": "stream",
     "text": [
      "\t\tseurat norm retained 4434 genes\n",
      "\t\t\tScoring: 1.09 mn\n",
      "\t\tTasic2016_raw.Rdata\n"
     ]
    },
    {
     "name": "stderr",
     "output_type": "stream",
     "text": [
      "/home/jo/anaconda3/envs/w/lib/python3.7/site-packages/pandas/core/arrays/categorical.py:2487: FutureWarning: The `inplace` parameter in pandas.Categorical.remove_unused_categories is deprecated and will be removed in a future version.\n",
      "  res = method(*args, **kwargs)\n"
     ]
    },
    {
     "name": "stdout",
     "output_type": "stream",
     "text": [
      "\t\tseurat norm retained 6392 genes\n",
      "\t\t\tScoring: 1.0 mn\n",
      "\t\tZeisel2015.Rdata\n"
     ]
    },
    {
     "name": "stderr",
     "output_type": "stream",
     "text": [
      "/home/jo/anaconda3/envs/w/lib/python3.7/site-packages/pandas/core/arrays/categorical.py:2487: FutureWarning: The `inplace` parameter in pandas.Categorical.remove_unused_categories is deprecated and will be removed in a future version.\n",
      "  res = method(*args, **kwargs)\n"
     ]
    },
    {
     "name": "stdout",
     "output_type": "stream",
     "text": [
      "\t\tseurat norm retained 4180 genes\n",
      "\t\t\tScoring: 1.45 mn\n",
      "\t\tBiase2014.Rdata\n",
      "\t\tseurat norm retained 5487 genes\n",
      "\t\t\tScoring: 0.02 mn\n",
      "\t\tDeng2014_rpkm.Rdata\n"
     ]
    },
    {
     "name": "stderr",
     "output_type": "stream",
     "text": [
      "/home/jo/anaconda3/envs/w/lib/python3.7/site-packages/pandas/core/arrays/categorical.py:2487: FutureWarning: The `inplace` parameter in pandas.Categorical.remove_unused_categories is deprecated and will be removed in a future version.\n",
      "  res = method(*args, **kwargs)\n"
     ]
    },
    {
     "name": "stdout",
     "output_type": "stream",
     "text": [
      "\t\tseurat norm retained 6401 genes\n",
      "\t\t\tScoring: 0.03 mn\n",
      "\t\tSegerstolpe2016.Rdata\n",
      "\t\tseurat norm retained 4750 genes\n",
      "\t\t\tScoring: 0.93 mn\n",
      "\t\tTasic2016_rpkm.Rdata\n"
     ]
    },
    {
     "name": "stderr",
     "output_type": "stream",
     "text": [
      "/home/jo/anaconda3/envs/w/lib/python3.7/site-packages/pandas/core/arrays/categorical.py:2487: FutureWarning: The `inplace` parameter in pandas.Categorical.remove_unused_categories is deprecated and will be removed in a future version.\n",
      "  res = method(*args, **kwargs)\n"
     ]
    },
    {
     "name": "stdout",
     "output_type": "stream",
     "text": [
      "\t\tseurat norm retained 4864 genes\n",
      "\t\t\tScoring: 0.68 mn\n",
      "\t\tTreutlein.Rdata\n"
     ]
    },
    {
     "name": "stderr",
     "output_type": "stream",
     "text": [
      "/home/jo/anaconda3/envs/w/lib/python3.7/site-packages/pandas/core/arrays/categorical.py:2487: FutureWarning: The `inplace` parameter in pandas.Categorical.remove_unused_categories is deprecated and will be removed in a future version.\n",
      "  res = method(*args, **kwargs)\n"
     ]
    },
    {
     "name": "stdout",
     "output_type": "stream",
     "text": [
      "\t\tseurat norm retained 3854 genes\n",
      "\t\t\tScoring: 0.01 mn\n",
      "\t\tYan2013.Rdata\n"
     ]
    },
    {
     "name": "stderr",
     "output_type": "stream",
     "text": [
      "/home/jo/anaconda3/envs/w/lib/python3.7/site-packages/pandas/core/arrays/categorical.py:2487: FutureWarning: The `inplace` parameter in pandas.Categorical.remove_unused_categories is deprecated and will be removed in a future version.\n",
      "  res = method(*args, **kwargs)\n"
     ]
    },
    {
     "name": "stdout",
     "output_type": "stream",
     "text": [
      "\t\tseurat norm retained 5804 genes\n",
      "\t\t\tScoring: 0.01 mn\n",
      "cosine 500 True seurat False\n",
      "\t\tBaron2016_m.Rdata\n"
     ]
    },
    {
     "name": "stderr",
     "output_type": "stream",
     "text": [
      "/home/jo/anaconda3/envs/w/lib/python3.7/site-packages/pandas/core/arrays/categorical.py:2487: FutureWarning: The `inplace` parameter in pandas.Categorical.remove_unused_categories is deprecated and will be removed in a future version.\n",
      "  res = method(*args, **kwargs)\n"
     ]
    },
    {
     "name": "stdout",
     "output_type": "stream",
     "text": [
      "\t\tseurat norm retained 2867 genes\n",
      "\t\t\tScoring: 0.76 mn\n",
      "\t\tDarmanis2015.Rdata\n",
      "\t\tseurat norm retained 7946 genes\n",
      "\t\t\tScoring: 0.1 mn\n",
      "\t\tDeng2014_raw.Rdata\n"
     ]
    },
    {
     "name": "stderr",
     "output_type": "stream",
     "text": [
      "/home/jo/anaconda3/envs/w/lib/python3.7/site-packages/pandas/core/arrays/categorical.py:2487: FutureWarning: The `inplace` parameter in pandas.Categorical.remove_unused_categories is deprecated and will be removed in a future version.\n",
      "  res = method(*args, **kwargs)\n"
     ]
    },
    {
     "name": "stdout",
     "output_type": "stream",
     "text": [
      "\t\tseurat norm retained 6633 genes\n",
      "\t\t\tScoring: 0.04 mn\n",
      "\t\tGoolam2016.Rdata\n"
     ]
    },
    {
     "name": "stderr",
     "output_type": "stream",
     "text": [
      "/home/jo/anaconda3/envs/w/lib/python3.7/site-packages/pandas/core/arrays/categorical.py:2487: FutureWarning: The `inplace` parameter in pandas.Categorical.remove_unused_categories is deprecated and will be removed in a future version.\n",
      "  res = method(*args, **kwargs)\n"
     ]
    },
    {
     "name": "stdout",
     "output_type": "stream",
     "text": [
      "\t\tseurat norm retained 7752 genes\n",
      "\t\t\tScoring: 0.03 mn\n",
      "\t\tKlein2015.Rdata\n"
     ]
    },
    {
     "name": "stderr",
     "output_type": "stream",
     "text": [
      "/home/jo/anaconda3/envs/w/lib/python3.7/site-packages/pandas/core/arrays/categorical.py:2487: FutureWarning: The `inplace` parameter in pandas.Categorical.remove_unused_categories is deprecated and will be removed in a future version.\n",
      "  res = method(*args, **kwargs)\n"
     ]
    },
    {
     "name": "stdout",
     "output_type": "stream",
     "text": [
      "\t\tseurat norm retained 5704 genes\n",
      "\t\t\tScoring: 0.93 mn\n",
      "\t\tkolodziejczyk.rds\n"
     ]
    },
    {
     "name": "stderr",
     "output_type": "stream",
     "text": [
      "/home/jo/anaconda3/envs/w/lib/python3.7/site-packages/pandas/core/arrays/categorical.py:2487: FutureWarning: The `inplace` parameter in pandas.Categorical.remove_unused_categories is deprecated and will be removed in a future version.\n",
      "  res = method(*args, **kwargs)\n"
     ]
    },
    {
     "name": "stdout",
     "output_type": "stream",
     "text": [
      "\t\tseurat norm retained 8205 genes\n",
      "\t\t\tScoring: 0.17 mn\n",
      "\t\tLi2017.Rdata\n"
     ]
    },
    {
     "name": "stderr",
     "output_type": "stream",
     "text": [
      "/home/jo/anaconda3/envs/w/lib/python3.7/site-packages/pandas/core/arrays/categorical.py:2487: FutureWarning: The `inplace` parameter in pandas.Categorical.remove_unused_categories is deprecated and will be removed in a future version.\n",
      "  res = method(*args, **kwargs)\n"
     ]
    },
    {
     "name": "stdout",
     "output_type": "stream",
     "text": [
      "\t\tseurat norm retained 10477 genes\n",
      "\t\t\tScoring: 0.21 mn\n",
      "\t\tRomanov2016.Rdata\n"
     ]
    },
    {
     "name": "stderr",
     "output_type": "stream",
     "text": [
      "/home/jo/anaconda3/envs/w/lib/python3.7/site-packages/pandas/core/arrays/categorical.py:2487: FutureWarning: The `inplace` parameter in pandas.Categorical.remove_unused_categories is deprecated and will be removed in a future version.\n",
      "  res = method(*args, **kwargs)\n"
     ]
    },
    {
     "name": "stdout",
     "output_type": "stream",
     "text": [
      "\t\tseurat norm retained 4434 genes\n",
      "\t\t\tScoring: 0.96 mn\n",
      "\t\tTasic2016_raw.Rdata\n"
     ]
    },
    {
     "name": "stderr",
     "output_type": "stream",
     "text": [
      "/home/jo/anaconda3/envs/w/lib/python3.7/site-packages/pandas/core/arrays/categorical.py:2487: FutureWarning: The `inplace` parameter in pandas.Categorical.remove_unused_categories is deprecated and will be removed in a future version.\n",
      "  res = method(*args, **kwargs)\n"
     ]
    },
    {
     "name": "stdout",
     "output_type": "stream",
     "text": [
      "\t\tseurat norm retained 6392 genes\n",
      "\t\t\tScoring: 0.53 mn\n",
      "\t\tZeisel2015.Rdata\n"
     ]
    },
    {
     "name": "stderr",
     "output_type": "stream",
     "text": [
      "/home/jo/anaconda3/envs/w/lib/python3.7/site-packages/pandas/core/arrays/categorical.py:2487: FutureWarning: The `inplace` parameter in pandas.Categorical.remove_unused_categories is deprecated and will be removed in a future version.\n",
      "  res = method(*args, **kwargs)\n"
     ]
    },
    {
     "name": "stdout",
     "output_type": "stream",
     "text": [
      "\t\tseurat norm retained 4180 genes\n",
      "\t\t\tScoring: 1.28 mn\n",
      "\t\tBiase2014.Rdata\n",
      "\t\tseurat norm retained 5487 genes\n",
      "\t\t\tScoring: 0.01 mn\n",
      "\t\tDeng2014_rpkm.Rdata\n"
     ]
    },
    {
     "name": "stderr",
     "output_type": "stream",
     "text": [
      "/home/jo/anaconda3/envs/w/lib/python3.7/site-packages/pandas/core/arrays/categorical.py:2487: FutureWarning: The `inplace` parameter in pandas.Categorical.remove_unused_categories is deprecated and will be removed in a future version.\n",
      "  res = method(*args, **kwargs)\n"
     ]
    },
    {
     "name": "stdout",
     "output_type": "stream",
     "text": [
      "\t\tseurat norm retained 6401 genes\n",
      "\t\t\tScoring: 0.18 mn\n",
      "\t\tSegerstolpe2016.Rdata\n",
      "\t\tseurat norm retained 4750 genes\n",
      "\t\t\tScoring: 1.31 mn\n",
      "\t\tTasic2016_rpkm.Rdata\n"
     ]
    },
    {
     "name": "stderr",
     "output_type": "stream",
     "text": [
      "/home/jo/anaconda3/envs/w/lib/python3.7/site-packages/pandas/core/arrays/categorical.py:2487: FutureWarning: The `inplace` parameter in pandas.Categorical.remove_unused_categories is deprecated and will be removed in a future version.\n",
      "  res = method(*args, **kwargs)\n"
     ]
    },
    {
     "name": "stdout",
     "output_type": "stream",
     "text": [
      "\t\tseurat norm retained 4864 genes\n",
      "\t\t\tScoring: 1.56 mn\n",
      "\t\tTreutlein.Rdata\n"
     ]
    },
    {
     "name": "stderr",
     "output_type": "stream",
     "text": [
      "/home/jo/anaconda3/envs/w/lib/python3.7/site-packages/pandas/core/arrays/categorical.py:2487: FutureWarning: The `inplace` parameter in pandas.Categorical.remove_unused_categories is deprecated and will be removed in a future version.\n",
      "  res = method(*args, **kwargs)\n"
     ]
    },
    {
     "name": "stdout",
     "output_type": "stream",
     "text": [
      "\t\tseurat norm retained 3854 genes\n",
      "\t\t\tScoring: 0.01 mn\n",
      "\t\tYan2013.Rdata\n"
     ]
    },
    {
     "name": "stderr",
     "output_type": "stream",
     "text": [
      "/home/jo/anaconda3/envs/w/lib/python3.7/site-packages/pandas/core/arrays/categorical.py:2487: FutureWarning: The `inplace` parameter in pandas.Categorical.remove_unused_categories is deprecated and will be removed in a future version.\n",
      "  res = method(*args, **kwargs)\n"
     ]
    },
    {
     "name": "stdout",
     "output_type": "stream",
     "text": [
      "\t\tseurat norm retained 5804 genes\n",
      "\t\t\tScoring: 0.02 mn\n",
      "euclidean 25 True duo True\n",
      "\t\tBaron2016_m.Rdata\n"
     ]
    },
    {
     "name": "stderr",
     "output_type": "stream",
     "text": [
      "/home/jo/anaconda3/envs/w/lib/python3.7/site-packages/pandas/core/arrays/categorical.py:2487: FutureWarning: The `inplace` parameter in pandas.Categorical.remove_unused_categories is deprecated and will be removed in a future version.\n",
      "  res = method(*args, **kwargs)\n"
     ]
    },
    {
     "name": "stdout",
     "output_type": "stream",
     "text": [
      "\t\tduo norm retained 5000 genes\n",
      "\t\t\tScoring: 0.22 mn\n",
      "\t\tDarmanis2015.Rdata\n",
      "\t\tduo norm retained 5000 genes\n",
      "\t\t\tScoring: 0.07 mn\n",
      "\t\tDeng2014_raw.Rdata\n"
     ]
    },
    {
     "name": "stderr",
     "output_type": "stream",
     "text": [
      "/home/jo/anaconda3/envs/w/lib/python3.7/site-packages/pandas/core/arrays/categorical.py:2487: FutureWarning: The `inplace` parameter in pandas.Categorical.remove_unused_categories is deprecated and will be removed in a future version.\n",
      "  res = method(*args, **kwargs)\n"
     ]
    },
    {
     "name": "stdout",
     "output_type": "stream",
     "text": [
      "\t\tduo norm retained 5000 genes\n",
      "\t\t\tScoring: 0.02 mn\n",
      "\t\tGoolam2016.Rdata\n"
     ]
    },
    {
     "name": "stderr",
     "output_type": "stream",
     "text": [
      "/home/jo/anaconda3/envs/w/lib/python3.7/site-packages/pandas/core/arrays/categorical.py:2487: FutureWarning: The `inplace` parameter in pandas.Categorical.remove_unused_categories is deprecated and will be removed in a future version.\n",
      "  res = method(*args, **kwargs)\n"
     ]
    },
    {
     "name": "stdout",
     "output_type": "stream",
     "text": [
      "\t\tduo norm retained 5000 genes\n",
      "\t\t\tScoring: 0.01 mn\n",
      "\t\tKlein2015.Rdata\n"
     ]
    },
    {
     "name": "stderr",
     "output_type": "stream",
     "text": [
      "/home/jo/anaconda3/envs/w/lib/python3.7/site-packages/pandas/core/arrays/categorical.py:2487: FutureWarning: The `inplace` parameter in pandas.Categorical.remove_unused_categories is deprecated and will be removed in a future version.\n",
      "  res = method(*args, **kwargs)\n"
     ]
    },
    {
     "name": "stdout",
     "output_type": "stream",
     "text": [
      "\t\tduo norm retained 5000 genes\n",
      "\t\t\tScoring: 0.27 mn\n",
      "\t\tkolodziejczyk.rds\n"
     ]
    },
    {
     "name": "stderr",
     "output_type": "stream",
     "text": [
      "/home/jo/anaconda3/envs/w/lib/python3.7/site-packages/pandas/core/arrays/categorical.py:2487: FutureWarning: The `inplace` parameter in pandas.Categorical.remove_unused_categories is deprecated and will be removed in a future version.\n",
      "  res = method(*args, **kwargs)\n"
     ]
    },
    {
     "name": "stdout",
     "output_type": "stream",
     "text": [
      "\t\tduo norm retained 5000 genes\n",
      "\t\t\tScoring: 0.28 mn\n",
      "\t\tLi2017.Rdata\n"
     ]
    },
    {
     "name": "stderr",
     "output_type": "stream",
     "text": [
      "/home/jo/anaconda3/envs/w/lib/python3.7/site-packages/pandas/core/arrays/categorical.py:2487: FutureWarning: The `inplace` parameter in pandas.Categorical.remove_unused_categories is deprecated and will be removed in a future version.\n",
      "  res = method(*args, **kwargs)\n"
     ]
    },
    {
     "name": "stdout",
     "output_type": "stream",
     "text": [
      "\t\tduo norm retained 5000 genes\n",
      "\t\t\tScoring: 0.17 mn\n",
      "\t\tRomanov2016.Rdata\n"
     ]
    },
    {
     "name": "stderr",
     "output_type": "stream",
     "text": [
      "/home/jo/anaconda3/envs/w/lib/python3.7/site-packages/pandas/core/arrays/categorical.py:2487: FutureWarning: The `inplace` parameter in pandas.Categorical.remove_unused_categories is deprecated and will be removed in a future version.\n",
      "  res = method(*args, **kwargs)\n"
     ]
    },
    {
     "name": "stdout",
     "output_type": "stream",
     "text": [
      "\t\tduo norm retained 5000 genes\n",
      "\t\t\tScoring: 0.32 mn\n",
      "\t\tTasic2016_raw.Rdata\n"
     ]
    },
    {
     "name": "stderr",
     "output_type": "stream",
     "text": [
      "/home/jo/anaconda3/envs/w/lib/python3.7/site-packages/pandas/core/arrays/categorical.py:2487: FutureWarning: The `inplace` parameter in pandas.Categorical.remove_unused_categories is deprecated and will be removed in a future version.\n",
      "  res = method(*args, **kwargs)\n"
     ]
    },
    {
     "name": "stdout",
     "output_type": "stream",
     "text": [
      "\t\tduo norm retained 5000 genes\n",
      "\t\t\tScoring: 0.2 mn\n",
      "\t\tZeisel2015.Rdata\n"
     ]
    },
    {
     "name": "stderr",
     "output_type": "stream",
     "text": [
      "/home/jo/anaconda3/envs/w/lib/python3.7/site-packages/pandas/core/arrays/categorical.py:2487: FutureWarning: The `inplace` parameter in pandas.Categorical.remove_unused_categories is deprecated and will be removed in a future version.\n",
      "  res = method(*args, **kwargs)\n"
     ]
    },
    {
     "name": "stdout",
     "output_type": "stream",
     "text": [
      "\t\tduo norm retained 5000 genes\n",
      "\t\t\tScoring: 0.23 mn\n",
      "\t\tBiase2014.Rdata\n",
      "\t\tduo norm retained 5000 genes\n",
      "\t\t\tScoring: 0.01 mn\n",
      "\t\tDeng2014_rpkm.Rdata\n"
     ]
    },
    {
     "name": "stderr",
     "output_type": "stream",
     "text": [
      "/home/jo/anaconda3/envs/w/lib/python3.7/site-packages/pandas/core/arrays/categorical.py:2487: FutureWarning: The `inplace` parameter in pandas.Categorical.remove_unused_categories is deprecated and will be removed in a future version.\n",
      "  res = method(*args, **kwargs)\n"
     ]
    },
    {
     "name": "stdout",
     "output_type": "stream",
     "text": [
      "\t\tduo norm retained 5000 genes\n",
      "\t\t\tScoring: 0.01 mn\n",
      "\t\tSegerstolpe2016.Rdata\n",
      "\t\tduo norm retained 5000 genes\n",
      "\t\t\tScoring: 0.38 mn\n",
      "\t\tTasic2016_rpkm.Rdata\n"
     ]
    },
    {
     "name": "stderr",
     "output_type": "stream",
     "text": [
      "/home/jo/anaconda3/envs/w/lib/python3.7/site-packages/pandas/core/arrays/categorical.py:2487: FutureWarning: The `inplace` parameter in pandas.Categorical.remove_unused_categories is deprecated and will be removed in a future version.\n",
      "  res = method(*args, **kwargs)\n"
     ]
    },
    {
     "name": "stdout",
     "output_type": "stream",
     "text": [
      "\t\tduo norm retained 5000 genes\n",
      "\t\t\tScoring: 0.11 mn\n",
      "\t\tTreutlein.Rdata\n"
     ]
    },
    {
     "name": "stderr",
     "output_type": "stream",
     "text": [
      "/home/jo/anaconda3/envs/w/lib/python3.7/site-packages/pandas/core/arrays/categorical.py:2487: FutureWarning: The `inplace` parameter in pandas.Categorical.remove_unused_categories is deprecated and will be removed in a future version.\n",
      "  res = method(*args, **kwargs)\n"
     ]
    },
    {
     "name": "stdout",
     "output_type": "stream",
     "text": [
      "\t\tduo norm retained 5000 genes\n",
      "\t\t\tScoring: 0.01 mn\n",
      "\t\tYan2013.Rdata\n"
     ]
    },
    {
     "name": "stderr",
     "output_type": "stream",
     "text": [
      "/home/jo/anaconda3/envs/w/lib/python3.7/site-packages/pandas/core/arrays/categorical.py:2487: FutureWarning: The `inplace` parameter in pandas.Categorical.remove_unused_categories is deprecated and will be removed in a future version.\n",
      "  res = method(*args, **kwargs)\n"
     ]
    },
    {
     "name": "stdout",
     "output_type": "stream",
     "text": [
      "\t\tduo norm retained 5000 genes\n",
      "\t\t\tScoring: 0.01 mn\n",
      "euclidean 25 True duo False\n",
      "\t\tBaron2016_m.Rdata\n"
     ]
    },
    {
     "name": "stderr",
     "output_type": "stream",
     "text": [
      "/home/jo/anaconda3/envs/w/lib/python3.7/site-packages/pandas/core/arrays/categorical.py:2487: FutureWarning: The `inplace` parameter in pandas.Categorical.remove_unused_categories is deprecated and will be removed in a future version.\n",
      "  res = method(*args, **kwargs)\n"
     ]
    },
    {
     "name": "stdout",
     "output_type": "stream",
     "text": [
      "\t\tduo norm retained 5000 genes\n",
      "\t\t\tScoring: 0.12 mn\n",
      "\t\tDarmanis2015.Rdata\n",
      "\t\tduo norm retained 5000 genes\n",
      "\t\t\tScoring: 0.02 mn\n",
      "\t\tDeng2014_raw.Rdata\n"
     ]
    },
    {
     "name": "stderr",
     "output_type": "stream",
     "text": [
      "/home/jo/anaconda3/envs/w/lib/python3.7/site-packages/pandas/core/arrays/categorical.py:2487: FutureWarning: The `inplace` parameter in pandas.Categorical.remove_unused_categories is deprecated and will be removed in a future version.\n",
      "  res = method(*args, **kwargs)\n"
     ]
    },
    {
     "name": "stdout",
     "output_type": "stream",
     "text": [
      "\t\tduo norm retained 5000 genes\n",
      "\t\t\tScoring: 0.02 mn\n",
      "\t\tGoolam2016.Rdata\n"
     ]
    },
    {
     "name": "stderr",
     "output_type": "stream",
     "text": [
      "/home/jo/anaconda3/envs/w/lib/python3.7/site-packages/pandas/core/arrays/categorical.py:2487: FutureWarning: The `inplace` parameter in pandas.Categorical.remove_unused_categories is deprecated and will be removed in a future version.\n",
      "  res = method(*args, **kwargs)\n"
     ]
    },
    {
     "name": "stdout",
     "output_type": "stream",
     "text": [
      "\t\tduo norm retained 5000 genes\n",
      "\t\t\tScoring: 0.01 mn\n",
      "\t\tKlein2015.Rdata\n"
     ]
    },
    {
     "name": "stderr",
     "output_type": "stream",
     "text": [
      "/home/jo/anaconda3/envs/w/lib/python3.7/site-packages/pandas/core/arrays/categorical.py:2487: FutureWarning: The `inplace` parameter in pandas.Categorical.remove_unused_categories is deprecated and will be removed in a future version.\n",
      "  res = method(*args, **kwargs)\n"
     ]
    },
    {
     "name": "stdout",
     "output_type": "stream",
     "text": [
      "\t\tduo norm retained 5000 genes\n",
      "\t\t\tScoring: 0.3 mn\n",
      "\t\tkolodziejczyk.rds\n"
     ]
    },
    {
     "name": "stderr",
     "output_type": "stream",
     "text": [
      "/home/jo/anaconda3/envs/w/lib/python3.7/site-packages/pandas/core/arrays/categorical.py:2487: FutureWarning: The `inplace` parameter in pandas.Categorical.remove_unused_categories is deprecated and will be removed in a future version.\n",
      "  res = method(*args, **kwargs)\n"
     ]
    },
    {
     "name": "stdout",
     "output_type": "stream",
     "text": [
      "\t\tduo norm retained 5000 genes\n",
      "\t\t\tScoring: 0.19 mn\n",
      "\t\tLi2017.Rdata\n"
     ]
    },
    {
     "name": "stderr",
     "output_type": "stream",
     "text": [
      "/home/jo/anaconda3/envs/w/lib/python3.7/site-packages/pandas/core/arrays/categorical.py:2487: FutureWarning: The `inplace` parameter in pandas.Categorical.remove_unused_categories is deprecated and will be removed in a future version.\n",
      "  res = method(*args, **kwargs)\n"
     ]
    },
    {
     "name": "stdout",
     "output_type": "stream",
     "text": [
      "\t\tduo norm retained 5000 genes\n",
      "\t\t\tScoring: 0.06 mn\n",
      "\t\tRomanov2016.Rdata\n"
     ]
    },
    {
     "name": "stderr",
     "output_type": "stream",
     "text": [
      "/home/jo/anaconda3/envs/w/lib/python3.7/site-packages/pandas/core/arrays/categorical.py:2487: FutureWarning: The `inplace` parameter in pandas.Categorical.remove_unused_categories is deprecated and will be removed in a future version.\n",
      "  res = method(*args, **kwargs)\n"
     ]
    },
    {
     "name": "stdout",
     "output_type": "stream",
     "text": [
      "\t\tduo norm retained 5000 genes\n",
      "\t\t\tScoring: 0.2 mn\n",
      "\t\tTasic2016_raw.Rdata\n"
     ]
    },
    {
     "name": "stderr",
     "output_type": "stream",
     "text": [
      "/home/jo/anaconda3/envs/w/lib/python3.7/site-packages/pandas/core/arrays/categorical.py:2487: FutureWarning: The `inplace` parameter in pandas.Categorical.remove_unused_categories is deprecated and will be removed in a future version.\n",
      "  res = method(*args, **kwargs)\n"
     ]
    },
    {
     "name": "stdout",
     "output_type": "stream",
     "text": [
      "\t\tduo norm retained 5000 genes\n",
      "\t\t\tScoring: 0.12 mn\n",
      "\t\tZeisel2015.Rdata\n"
     ]
    },
    {
     "name": "stderr",
     "output_type": "stream",
     "text": [
      "/home/jo/anaconda3/envs/w/lib/python3.7/site-packages/pandas/core/arrays/categorical.py:2487: FutureWarning: The `inplace` parameter in pandas.Categorical.remove_unused_categories is deprecated and will be removed in a future version.\n",
      "  res = method(*args, **kwargs)\n"
     ]
    },
    {
     "name": "stdout",
     "output_type": "stream",
     "text": [
      "\t\tduo norm retained 5000 genes\n",
      "\t\t\tScoring: 0.39 mn\n",
      "\t\tBiase2014.Rdata\n",
      "\t\tduo norm retained 5000 genes\n",
      "\t\t\tScoring: 0.0 mn\n",
      "\t\tDeng2014_rpkm.Rdata\n"
     ]
    },
    {
     "name": "stderr",
     "output_type": "stream",
     "text": [
      "/home/jo/anaconda3/envs/w/lib/python3.7/site-packages/pandas/core/arrays/categorical.py:2487: FutureWarning: The `inplace` parameter in pandas.Categorical.remove_unused_categories is deprecated and will be removed in a future version.\n",
      "  res = method(*args, **kwargs)\n"
     ]
    },
    {
     "name": "stdout",
     "output_type": "stream",
     "text": [
      "\t\tduo norm retained 5000 genes\n",
      "\t\t\tScoring: 0.01 mn\n",
      "\t\tSegerstolpe2016.Rdata\n",
      "\t\tduo norm retained 5000 genes\n",
      "\t\t\tScoring: 0.35 mn\n",
      "\t\tTasic2016_rpkm.Rdata\n"
     ]
    },
    {
     "name": "stderr",
     "output_type": "stream",
     "text": [
      "/home/jo/anaconda3/envs/w/lib/python3.7/site-packages/pandas/core/arrays/categorical.py:2487: FutureWarning: The `inplace` parameter in pandas.Categorical.remove_unused_categories is deprecated and will be removed in a future version.\n",
      "  res = method(*args, **kwargs)\n"
     ]
    },
    {
     "name": "stdout",
     "output_type": "stream",
     "text": [
      "\t\tduo norm retained 5000 genes\n",
      "\t\t\tScoring: 0.33 mn\n",
      "\t\tTreutlein.Rdata\n"
     ]
    },
    {
     "name": "stderr",
     "output_type": "stream",
     "text": [
      "/home/jo/anaconda3/envs/w/lib/python3.7/site-packages/pandas/core/arrays/categorical.py:2487: FutureWarning: The `inplace` parameter in pandas.Categorical.remove_unused_categories is deprecated and will be removed in a future version.\n",
      "  res = method(*args, **kwargs)\n"
     ]
    },
    {
     "name": "stdout",
     "output_type": "stream",
     "text": [
      "\t\tduo norm retained 5000 genes\n",
      "\t\t\tScoring: 0.02 mn\n",
      "\t\tYan2013.Rdata\n"
     ]
    },
    {
     "name": "stderr",
     "output_type": "stream",
     "text": [
      "/home/jo/anaconda3/envs/w/lib/python3.7/site-packages/pandas/core/arrays/categorical.py:2487: FutureWarning: The `inplace` parameter in pandas.Categorical.remove_unused_categories is deprecated and will be removed in a future version.\n",
      "  res = method(*args, **kwargs)\n"
     ]
    },
    {
     "name": "stdout",
     "output_type": "stream",
     "text": [
      "\t\tduo norm retained 5000 genes\n",
      "\t\t\tScoring: 0.02 mn\n",
      "euclidean 25 True seurat True\n",
      "\t\tBaron2016_m.Rdata\n"
     ]
    },
    {
     "name": "stderr",
     "output_type": "stream",
     "text": [
      "/home/jo/anaconda3/envs/w/lib/python3.7/site-packages/pandas/core/arrays/categorical.py:2487: FutureWarning: The `inplace` parameter in pandas.Categorical.remove_unused_categories is deprecated and will be removed in a future version.\n",
      "  res = method(*args, **kwargs)\n"
     ]
    },
    {
     "name": "stdout",
     "output_type": "stream",
     "text": [
      "\t\tseurat norm retained 2867 genes\n",
      "\t\t\tScoring: 0.12 mn\n",
      "\t\tDarmanis2015.Rdata\n",
      "\t\tseurat norm retained 7946 genes\n",
      "\t\t\tScoring: 0.11 mn\n",
      "\t\tDeng2014_raw.Rdata\n"
     ]
    },
    {
     "name": "stderr",
     "output_type": "stream",
     "text": [
      "/home/jo/anaconda3/envs/w/lib/python3.7/site-packages/pandas/core/arrays/categorical.py:2487: FutureWarning: The `inplace` parameter in pandas.Categorical.remove_unused_categories is deprecated and will be removed in a future version.\n",
      "  res = method(*args, **kwargs)\n"
     ]
    },
    {
     "name": "stdout",
     "output_type": "stream",
     "text": [
      "\t\tseurat norm retained 6633 genes\n",
      "\t\t\tScoring: 0.02 mn\n",
      "\t\tGoolam2016.Rdata\n"
     ]
    },
    {
     "name": "stderr",
     "output_type": "stream",
     "text": [
      "/home/jo/anaconda3/envs/w/lib/python3.7/site-packages/pandas/core/arrays/categorical.py:2487: FutureWarning: The `inplace` parameter in pandas.Categorical.remove_unused_categories is deprecated and will be removed in a future version.\n",
      "  res = method(*args, **kwargs)\n"
     ]
    },
    {
     "name": "stdout",
     "output_type": "stream",
     "text": [
      "\t\tseurat norm retained 7752 genes\n",
      "\t\t\tScoring: 0.04 mn\n",
      "\t\tKlein2015.Rdata\n"
     ]
    },
    {
     "name": "stderr",
     "output_type": "stream",
     "text": [
      "/home/jo/anaconda3/envs/w/lib/python3.7/site-packages/pandas/core/arrays/categorical.py:2487: FutureWarning: The `inplace` parameter in pandas.Categorical.remove_unused_categories is deprecated and will be removed in a future version.\n",
      "  res = method(*args, **kwargs)\n"
     ]
    },
    {
     "name": "stdout",
     "output_type": "stream",
     "text": [
      "\t\tseurat norm retained 5704 genes\n",
      "\t\t\tScoring: 0.33 mn\n",
      "\t\tkolodziejczyk.rds\n"
     ]
    },
    {
     "name": "stderr",
     "output_type": "stream",
     "text": [
      "/home/jo/anaconda3/envs/w/lib/python3.7/site-packages/pandas/core/arrays/categorical.py:2487: FutureWarning: The `inplace` parameter in pandas.Categorical.remove_unused_categories is deprecated and will be removed in a future version.\n",
      "  res = method(*args, **kwargs)\n"
     ]
    },
    {
     "name": "stdout",
     "output_type": "stream",
     "text": [
      "\t\tseurat norm retained 8205 genes\n",
      "\t\t\tScoring: 0.15 mn\n",
      "\t\tLi2017.Rdata\n"
     ]
    },
    {
     "name": "stderr",
     "output_type": "stream",
     "text": [
      "/home/jo/anaconda3/envs/w/lib/python3.7/site-packages/pandas/core/arrays/categorical.py:2487: FutureWarning: The `inplace` parameter in pandas.Categorical.remove_unused_categories is deprecated and will be removed in a future version.\n",
      "  res = method(*args, **kwargs)\n"
     ]
    },
    {
     "name": "stdout",
     "output_type": "stream",
     "text": [
      "\t\tseurat norm retained 10477 genes\n",
      "\t\t\tScoring: 0.1 mn\n",
      "\t\tRomanov2016.Rdata\n"
     ]
    },
    {
     "name": "stderr",
     "output_type": "stream",
     "text": [
      "/home/jo/anaconda3/envs/w/lib/python3.7/site-packages/pandas/core/arrays/categorical.py:2487: FutureWarning: The `inplace` parameter in pandas.Categorical.remove_unused_categories is deprecated and will be removed in a future version.\n",
      "  res = method(*args, **kwargs)\n"
     ]
    },
    {
     "name": "stdout",
     "output_type": "stream",
     "text": [
      "\t\tseurat norm retained 4434 genes\n",
      "\t\t\tScoring: 0.35 mn\n",
      "\t\tTasic2016_raw.Rdata\n"
     ]
    },
    {
     "name": "stderr",
     "output_type": "stream",
     "text": [
      "/home/jo/anaconda3/envs/w/lib/python3.7/site-packages/pandas/core/arrays/categorical.py:2487: FutureWarning: The `inplace` parameter in pandas.Categorical.remove_unused_categories is deprecated and will be removed in a future version.\n",
      "  res = method(*args, **kwargs)\n"
     ]
    },
    {
     "name": "stdout",
     "output_type": "stream",
     "text": [
      "\t\tseurat norm retained 6392 genes\n",
      "\t\t\tScoring: 0.1 mn\n",
      "\t\tZeisel2015.Rdata\n"
     ]
    },
    {
     "name": "stderr",
     "output_type": "stream",
     "text": [
      "/home/jo/anaconda3/envs/w/lib/python3.7/site-packages/pandas/core/arrays/categorical.py:2487: FutureWarning: The `inplace` parameter in pandas.Categorical.remove_unused_categories is deprecated and will be removed in a future version.\n",
      "  res = method(*args, **kwargs)\n"
     ]
    },
    {
     "name": "stdout",
     "output_type": "stream",
     "text": [
      "\t\tseurat norm retained 4180 genes\n",
      "\t\t\tScoring: 0.48 mn\n",
      "\t\tBiase2014.Rdata\n",
      "\t\tseurat norm retained 5487 genes\n",
      "\t\t\tScoring: 0.01 mn\n",
      "\t\tDeng2014_rpkm.Rdata\n"
     ]
    },
    {
     "name": "stderr",
     "output_type": "stream",
     "text": [
      "/home/jo/anaconda3/envs/w/lib/python3.7/site-packages/pandas/core/arrays/categorical.py:2487: FutureWarning: The `inplace` parameter in pandas.Categorical.remove_unused_categories is deprecated and will be removed in a future version.\n",
      "  res = method(*args, **kwargs)\n"
     ]
    },
    {
     "name": "stdout",
     "output_type": "stream",
     "text": [
      "\t\tseurat norm retained 6401 genes\n",
      "\t\t\tScoring: 0.06 mn\n",
      "\t\tSegerstolpe2016.Rdata\n",
      "\t\tseurat norm retained 4750 genes\n",
      "\t\t\tScoring: 0.3 mn\n",
      "\t\tTasic2016_rpkm.Rdata\n"
     ]
    },
    {
     "name": "stderr",
     "output_type": "stream",
     "text": [
      "/home/jo/anaconda3/envs/w/lib/python3.7/site-packages/pandas/core/arrays/categorical.py:2487: FutureWarning: The `inplace` parameter in pandas.Categorical.remove_unused_categories is deprecated and will be removed in a future version.\n",
      "  res = method(*args, **kwargs)\n"
     ]
    },
    {
     "name": "stdout",
     "output_type": "stream",
     "text": [
      "\t\tseurat norm retained 4864 genes\n",
      "\t\t\tScoring: 0.21 mn\n",
      "\t\tTreutlein.Rdata\n"
     ]
    },
    {
     "name": "stderr",
     "output_type": "stream",
     "text": [
      "/home/jo/anaconda3/envs/w/lib/python3.7/site-packages/pandas/core/arrays/categorical.py:2487: FutureWarning: The `inplace` parameter in pandas.Categorical.remove_unused_categories is deprecated and will be removed in a future version.\n",
      "  res = method(*args, **kwargs)\n"
     ]
    },
    {
     "name": "stdout",
     "output_type": "stream",
     "text": [
      "\t\tseurat norm retained 3854 genes\n",
      "\t\t\tScoring: 0.03 mn\n",
      "\t\tYan2013.Rdata\n"
     ]
    },
    {
     "name": "stderr",
     "output_type": "stream",
     "text": [
      "/home/jo/anaconda3/envs/w/lib/python3.7/site-packages/pandas/core/arrays/categorical.py:2487: FutureWarning: The `inplace` parameter in pandas.Categorical.remove_unused_categories is deprecated and will be removed in a future version.\n",
      "  res = method(*args, **kwargs)\n"
     ]
    },
    {
     "name": "stdout",
     "output_type": "stream",
     "text": [
      "\t\tseurat norm retained 5804 genes\n",
      "\t\t\tScoring: 0.01 mn\n",
      "euclidean 25 True seurat False\n",
      "\t\tBaron2016_m.Rdata\n"
     ]
    },
    {
     "name": "stderr",
     "output_type": "stream",
     "text": [
      "/home/jo/anaconda3/envs/w/lib/python3.7/site-packages/pandas/core/arrays/categorical.py:2487: FutureWarning: The `inplace` parameter in pandas.Categorical.remove_unused_categories is deprecated and will be removed in a future version.\n",
      "  res = method(*args, **kwargs)\n"
     ]
    },
    {
     "name": "stdout",
     "output_type": "stream",
     "text": [
      "\t\tseurat norm retained 2867 genes\n",
      "\t\t\tScoring: 0.12 mn\n",
      "\t\tDarmanis2015.Rdata\n",
      "\t\tseurat norm retained 7946 genes\n",
      "\t\t\tScoring: 0.07 mn\n",
      "\t\tDeng2014_raw.Rdata\n"
     ]
    },
    {
     "name": "stderr",
     "output_type": "stream",
     "text": [
      "/home/jo/anaconda3/envs/w/lib/python3.7/site-packages/pandas/core/arrays/categorical.py:2487: FutureWarning: The `inplace` parameter in pandas.Categorical.remove_unused_categories is deprecated and will be removed in a future version.\n",
      "  res = method(*args, **kwargs)\n"
     ]
    },
    {
     "name": "stdout",
     "output_type": "stream",
     "text": [
      "\t\tseurat norm retained 6633 genes\n",
      "\t\t\tScoring: 0.02 mn\n",
      "\t\tGoolam2016.Rdata\n"
     ]
    },
    {
     "name": "stderr",
     "output_type": "stream",
     "text": [
      "/home/jo/anaconda3/envs/w/lib/python3.7/site-packages/pandas/core/arrays/categorical.py:2487: FutureWarning: The `inplace` parameter in pandas.Categorical.remove_unused_categories is deprecated and will be removed in a future version.\n",
      "  res = method(*args, **kwargs)\n"
     ]
    },
    {
     "name": "stdout",
     "output_type": "stream",
     "text": [
      "\t\tseurat norm retained 7752 genes\n",
      "\t\t\tScoring: 0.03 mn\n",
      "\t\tKlein2015.Rdata\n"
     ]
    },
    {
     "name": "stderr",
     "output_type": "stream",
     "text": [
      "/home/jo/anaconda3/envs/w/lib/python3.7/site-packages/pandas/core/arrays/categorical.py:2487: FutureWarning: The `inplace` parameter in pandas.Categorical.remove_unused_categories is deprecated and will be removed in a future version.\n",
      "  res = method(*args, **kwargs)\n"
     ]
    },
    {
     "name": "stdout",
     "output_type": "stream",
     "text": [
      "\t\tseurat norm retained 5704 genes\n",
      "\t\t\tScoring: 1.02 mn\n",
      "\t\tkolodziejczyk.rds\n"
     ]
    },
    {
     "name": "stderr",
     "output_type": "stream",
     "text": [
      "/home/jo/anaconda3/envs/w/lib/python3.7/site-packages/pandas/core/arrays/categorical.py:2487: FutureWarning: The `inplace` parameter in pandas.Categorical.remove_unused_categories is deprecated and will be removed in a future version.\n",
      "  res = method(*args, **kwargs)\n"
     ]
    },
    {
     "name": "stdout",
     "output_type": "stream",
     "text": [
      "\t\tseurat norm retained 8205 genes\n",
      "\t\t\tScoring: 0.11 mn\n",
      "\t\tLi2017.Rdata\n"
     ]
    },
    {
     "name": "stderr",
     "output_type": "stream",
     "text": [
      "/home/jo/anaconda3/envs/w/lib/python3.7/site-packages/pandas/core/arrays/categorical.py:2487: FutureWarning: The `inplace` parameter in pandas.Categorical.remove_unused_categories is deprecated and will be removed in a future version.\n",
      "  res = method(*args, **kwargs)\n"
     ]
    },
    {
     "name": "stdout",
     "output_type": "stream",
     "text": [
      "\t\tseurat norm retained 10477 genes\n",
      "\t\t\tScoring: 0.11 mn\n",
      "\t\tRomanov2016.Rdata\n"
     ]
    },
    {
     "name": "stderr",
     "output_type": "stream",
     "text": [
      "/home/jo/anaconda3/envs/w/lib/python3.7/site-packages/pandas/core/arrays/categorical.py:2487: FutureWarning: The `inplace` parameter in pandas.Categorical.remove_unused_categories is deprecated and will be removed in a future version.\n",
      "  res = method(*args, **kwargs)\n"
     ]
    },
    {
     "name": "stdout",
     "output_type": "stream",
     "text": [
      "\t\tseurat norm retained 4434 genes\n",
      "\t\t\tScoring: 0.46 mn\n",
      "\t\tTasic2016_raw.Rdata\n"
     ]
    },
    {
     "name": "stderr",
     "output_type": "stream",
     "text": [
      "/home/jo/anaconda3/envs/w/lib/python3.7/site-packages/pandas/core/arrays/categorical.py:2487: FutureWarning: The `inplace` parameter in pandas.Categorical.remove_unused_categories is deprecated and will be removed in a future version.\n",
      "  res = method(*args, **kwargs)\n"
     ]
    },
    {
     "name": "stdout",
     "output_type": "stream",
     "text": [
      "\t\tseurat norm retained 6392 genes\n",
      "\t\t\tScoring: 0.24 mn\n",
      "\t\tZeisel2015.Rdata\n"
     ]
    },
    {
     "name": "stderr",
     "output_type": "stream",
     "text": [
      "/home/jo/anaconda3/envs/w/lib/python3.7/site-packages/pandas/core/arrays/categorical.py:2487: FutureWarning: The `inplace` parameter in pandas.Categorical.remove_unused_categories is deprecated and will be removed in a future version.\n",
      "  res = method(*args, **kwargs)\n"
     ]
    },
    {
     "name": "stdout",
     "output_type": "stream",
     "text": [
      "\t\tseurat norm retained 4180 genes\n",
      "\t\t\tScoring: 0.43 mn\n",
      "\t\tBiase2014.Rdata\n",
      "\t\tseurat norm retained 5487 genes\n",
      "\t\t\tScoring: 0.0 mn\n",
      "\t\tDeng2014_rpkm.Rdata\n"
     ]
    },
    {
     "name": "stderr",
     "output_type": "stream",
     "text": [
      "/home/jo/anaconda3/envs/w/lib/python3.7/site-packages/pandas/core/arrays/categorical.py:2487: FutureWarning: The `inplace` parameter in pandas.Categorical.remove_unused_categories is deprecated and will be removed in a future version.\n",
      "  res = method(*args, **kwargs)\n"
     ]
    },
    {
     "name": "stdout",
     "output_type": "stream",
     "text": [
      "\t\tseurat norm retained 6401 genes\n",
      "\t\t\tScoring: 0.01 mn\n",
      "\t\tSegerstolpe2016.Rdata\n",
      "\t\tseurat norm retained 4750 genes\n",
      "\t\t\tScoring: 0.32 mn\n",
      "\t\tTasic2016_rpkm.Rdata\n"
     ]
    },
    {
     "name": "stderr",
     "output_type": "stream",
     "text": [
      "/home/jo/anaconda3/envs/w/lib/python3.7/site-packages/pandas/core/arrays/categorical.py:2487: FutureWarning: The `inplace` parameter in pandas.Categorical.remove_unused_categories is deprecated and will be removed in a future version.\n",
      "  res = method(*args, **kwargs)\n"
     ]
    },
    {
     "name": "stdout",
     "output_type": "stream",
     "text": [
      "\t\tseurat norm retained 4864 genes\n",
      "\t\t\tScoring: 0.14 mn\n",
      "\t\tTreutlein.Rdata\n"
     ]
    },
    {
     "name": "stderr",
     "output_type": "stream",
     "text": [
      "/home/jo/anaconda3/envs/w/lib/python3.7/site-packages/pandas/core/arrays/categorical.py:2487: FutureWarning: The `inplace` parameter in pandas.Categorical.remove_unused_categories is deprecated and will be removed in a future version.\n",
      "  res = method(*args, **kwargs)\n"
     ]
    },
    {
     "name": "stdout",
     "output_type": "stream",
     "text": [
      "\t\tseurat norm retained 3854 genes\n",
      "\t\t\tScoring: 0.01 mn\n",
      "\t\tYan2013.Rdata\n"
     ]
    },
    {
     "name": "stderr",
     "output_type": "stream",
     "text": [
      "/home/jo/anaconda3/envs/w/lib/python3.7/site-packages/pandas/core/arrays/categorical.py:2487: FutureWarning: The `inplace` parameter in pandas.Categorical.remove_unused_categories is deprecated and will be removed in a future version.\n",
      "  res = method(*args, **kwargs)\n"
     ]
    },
    {
     "name": "stdout",
     "output_type": "stream",
     "text": [
      "\t\tseurat norm retained 5804 genes\n",
      "\t\t\tScoring: 0.01 mn\n",
      "euclidean 50 True duo True\n",
      "\t\tBaron2016_m.Rdata\n"
     ]
    },
    {
     "name": "stderr",
     "output_type": "stream",
     "text": [
      "/home/jo/anaconda3/envs/w/lib/python3.7/site-packages/pandas/core/arrays/categorical.py:2487: FutureWarning: The `inplace` parameter in pandas.Categorical.remove_unused_categories is deprecated and will be removed in a future version.\n",
      "  res = method(*args, **kwargs)\n"
     ]
    },
    {
     "name": "stdout",
     "output_type": "stream",
     "text": [
      "\t\tduo norm retained 5000 genes\n",
      "\t\t\tScoring: 0.24 mn\n",
      "\t\tDarmanis2015.Rdata\n",
      "\t\tduo norm retained 5000 genes\n",
      "\t\t\tScoring: 0.09 mn\n",
      "\t\tDeng2014_raw.Rdata\n"
     ]
    },
    {
     "name": "stderr",
     "output_type": "stream",
     "text": [
      "/home/jo/anaconda3/envs/w/lib/python3.7/site-packages/pandas/core/arrays/categorical.py:2487: FutureWarning: The `inplace` parameter in pandas.Categorical.remove_unused_categories is deprecated and will be removed in a future version.\n",
      "  res = method(*args, **kwargs)\n"
     ]
    },
    {
     "name": "stdout",
     "output_type": "stream",
     "text": [
      "\t\tduo norm retained 5000 genes\n",
      "\t\t\tScoring: 0.04 mn\n",
      "\t\tGoolam2016.Rdata\n"
     ]
    },
    {
     "name": "stderr",
     "output_type": "stream",
     "text": [
      "/home/jo/anaconda3/envs/w/lib/python3.7/site-packages/pandas/core/arrays/categorical.py:2487: FutureWarning: The `inplace` parameter in pandas.Categorical.remove_unused_categories is deprecated and will be removed in a future version.\n",
      "  res = method(*args, **kwargs)\n"
     ]
    },
    {
     "name": "stdout",
     "output_type": "stream",
     "text": [
      "\t\tduo norm retained 5000 genes\n",
      "\t\t\tScoring: 0.03 mn\n",
      "\t\tKlein2015.Rdata\n"
     ]
    },
    {
     "name": "stderr",
     "output_type": "stream",
     "text": [
      "/home/jo/anaconda3/envs/w/lib/python3.7/site-packages/pandas/core/arrays/categorical.py:2487: FutureWarning: The `inplace` parameter in pandas.Categorical.remove_unused_categories is deprecated and will be removed in a future version.\n",
      "  res = method(*args, **kwargs)\n"
     ]
    },
    {
     "name": "stdout",
     "output_type": "stream",
     "text": [
      "\t\tduo norm retained 5000 genes\n",
      "\t\t\tScoring: 0.31 mn\n",
      "\t\tkolodziejczyk.rds\n"
     ]
    },
    {
     "name": "stderr",
     "output_type": "stream",
     "text": [
      "/home/jo/anaconda3/envs/w/lib/python3.7/site-packages/pandas/core/arrays/categorical.py:2487: FutureWarning: The `inplace` parameter in pandas.Categorical.remove_unused_categories is deprecated and will be removed in a future version.\n",
      "  res = method(*args, **kwargs)\n"
     ]
    },
    {
     "name": "stdout",
     "output_type": "stream",
     "text": [
      "\t\tduo norm retained 5000 genes\n",
      "\t\t\tScoring: 0.15 mn\n",
      "\t\tLi2017.Rdata\n"
     ]
    },
    {
     "name": "stderr",
     "output_type": "stream",
     "text": [
      "/home/jo/anaconda3/envs/w/lib/python3.7/site-packages/pandas/core/arrays/categorical.py:2487: FutureWarning: The `inplace` parameter in pandas.Categorical.remove_unused_categories is deprecated and will be removed in a future version.\n",
      "  res = method(*args, **kwargs)\n"
     ]
    },
    {
     "name": "stdout",
     "output_type": "stream",
     "text": [
      "\t\tduo norm retained 5000 genes\n",
      "\t\t\tScoring: 0.18 mn\n",
      "\t\tRomanov2016.Rdata\n"
     ]
    },
    {
     "name": "stderr",
     "output_type": "stream",
     "text": [
      "/home/jo/anaconda3/envs/w/lib/python3.7/site-packages/pandas/core/arrays/categorical.py:2487: FutureWarning: The `inplace` parameter in pandas.Categorical.remove_unused_categories is deprecated and will be removed in a future version.\n",
      "  res = method(*args, **kwargs)\n"
     ]
    },
    {
     "name": "stdout",
     "output_type": "stream",
     "text": [
      "\t\tduo norm retained 5000 genes\n",
      "\t\t\tScoring: 0.32 mn\n",
      "\t\tTasic2016_raw.Rdata\n"
     ]
    },
    {
     "name": "stderr",
     "output_type": "stream",
     "text": [
      "/home/jo/anaconda3/envs/w/lib/python3.7/site-packages/pandas/core/arrays/categorical.py:2487: FutureWarning: The `inplace` parameter in pandas.Categorical.remove_unused_categories is deprecated and will be removed in a future version.\n",
      "  res = method(*args, **kwargs)\n"
     ]
    },
    {
     "name": "stdout",
     "output_type": "stream",
     "text": [
      "\t\tduo norm retained 5000 genes\n",
      "\t\t\tScoring: 0.23 mn\n",
      "\t\tZeisel2015.Rdata\n"
     ]
    },
    {
     "name": "stderr",
     "output_type": "stream",
     "text": [
      "/home/jo/anaconda3/envs/w/lib/python3.7/site-packages/pandas/core/arrays/categorical.py:2487: FutureWarning: The `inplace` parameter in pandas.Categorical.remove_unused_categories is deprecated and will be removed in a future version.\n",
      "  res = method(*args, **kwargs)\n"
     ]
    },
    {
     "name": "stdout",
     "output_type": "stream",
     "text": [
      "\t\tduo norm retained 5000 genes\n",
      "\t\t\tScoring: 0.44 mn\n",
      "\t\tBiase2014.Rdata\n",
      "\t\tduo norm retained 5000 genes\n",
      "\t\t\tScoring: 0.0 mn\n",
      "\t\tDeng2014_rpkm.Rdata\n"
     ]
    },
    {
     "name": "stderr",
     "output_type": "stream",
     "text": [
      "/home/jo/anaconda3/envs/w/lib/python3.7/site-packages/pandas/core/arrays/categorical.py:2487: FutureWarning: The `inplace` parameter in pandas.Categorical.remove_unused_categories is deprecated and will be removed in a future version.\n",
      "  res = method(*args, **kwargs)\n"
     ]
    },
    {
     "name": "stdout",
     "output_type": "stream",
     "text": [
      "\t\tduo norm retained 5000 genes\n",
      "\t\t\tScoring: 0.02 mn\n",
      "\t\tSegerstolpe2016.Rdata\n",
      "\t\tduo norm retained 5000 genes\n",
      "\t\t\tScoring: 0.36 mn\n",
      "\t\tTasic2016_rpkm.Rdata\n"
     ]
    },
    {
     "name": "stderr",
     "output_type": "stream",
     "text": [
      "/home/jo/anaconda3/envs/w/lib/python3.7/site-packages/pandas/core/arrays/categorical.py:2487: FutureWarning: The `inplace` parameter in pandas.Categorical.remove_unused_categories is deprecated and will be removed in a future version.\n",
      "  res = method(*args, **kwargs)\n"
     ]
    },
    {
     "name": "stdout",
     "output_type": "stream",
     "text": [
      "\t\tduo norm retained 5000 genes\n",
      "\t\t\tScoring: 0.3 mn\n",
      "\t\tTreutlein.Rdata\n"
     ]
    },
    {
     "name": "stderr",
     "output_type": "stream",
     "text": [
      "/home/jo/anaconda3/envs/w/lib/python3.7/site-packages/pandas/core/arrays/categorical.py:2487: FutureWarning: The `inplace` parameter in pandas.Categorical.remove_unused_categories is deprecated and will be removed in a future version.\n",
      "  res = method(*args, **kwargs)\n"
     ]
    },
    {
     "name": "stdout",
     "output_type": "stream",
     "text": [
      "\t\tduo norm retained 5000 genes\n",
      "\t\t\tScoring: 0.01 mn\n",
      "\t\tYan2013.Rdata\n"
     ]
    },
    {
     "name": "stderr",
     "output_type": "stream",
     "text": [
      "/home/jo/anaconda3/envs/w/lib/python3.7/site-packages/pandas/core/arrays/categorical.py:2487: FutureWarning: The `inplace` parameter in pandas.Categorical.remove_unused_categories is deprecated and will be removed in a future version.\n",
      "  res = method(*args, **kwargs)\n"
     ]
    },
    {
     "name": "stdout",
     "output_type": "stream",
     "text": [
      "\t\tduo norm retained 5000 genes\n",
      "\t\t\tScoring: 0.01 mn\n",
      "euclidean 50 True duo False\n",
      "\t\tBaron2016_m.Rdata\n"
     ]
    },
    {
     "name": "stderr",
     "output_type": "stream",
     "text": [
      "/home/jo/anaconda3/envs/w/lib/python3.7/site-packages/pandas/core/arrays/categorical.py:2487: FutureWarning: The `inplace` parameter in pandas.Categorical.remove_unused_categories is deprecated and will be removed in a future version.\n",
      "  res = method(*args, **kwargs)\n"
     ]
    },
    {
     "name": "stdout",
     "output_type": "stream",
     "text": [
      "\t\tduo norm retained 5000 genes\n",
      "\t\t\tScoring: 0.17 mn\n",
      "\t\tDarmanis2015.Rdata\n",
      "\t\tduo norm retained 5000 genes\n",
      "\t\t\tScoring: 0.13 mn\n",
      "\t\tDeng2014_raw.Rdata\n"
     ]
    },
    {
     "name": "stderr",
     "output_type": "stream",
     "text": [
      "/home/jo/anaconda3/envs/w/lib/python3.7/site-packages/pandas/core/arrays/categorical.py:2487: FutureWarning: The `inplace` parameter in pandas.Categorical.remove_unused_categories is deprecated and will be removed in a future version.\n",
      "  res = method(*args, **kwargs)\n"
     ]
    },
    {
     "name": "stdout",
     "output_type": "stream",
     "text": [
      "\t\tduo norm retained 5000 genes\n",
      "\t\t\tScoring: 0.02 mn\n",
      "\t\tGoolam2016.Rdata\n"
     ]
    },
    {
     "name": "stderr",
     "output_type": "stream",
     "text": [
      "/home/jo/anaconda3/envs/w/lib/python3.7/site-packages/pandas/core/arrays/categorical.py:2487: FutureWarning: The `inplace` parameter in pandas.Categorical.remove_unused_categories is deprecated and will be removed in a future version.\n",
      "  res = method(*args, **kwargs)\n"
     ]
    },
    {
     "name": "stdout",
     "output_type": "stream",
     "text": [
      "\t\tduo norm retained 5000 genes\n",
      "\t\t\tScoring: 0.01 mn\n",
      "\t\tKlein2015.Rdata\n"
     ]
    },
    {
     "name": "stderr",
     "output_type": "stream",
     "text": [
      "/home/jo/anaconda3/envs/w/lib/python3.7/site-packages/pandas/core/arrays/categorical.py:2487: FutureWarning: The `inplace` parameter in pandas.Categorical.remove_unused_categories is deprecated and will be removed in a future version.\n",
      "  res = method(*args, **kwargs)\n"
     ]
    },
    {
     "name": "stdout",
     "output_type": "stream",
     "text": [
      "\t\tduo norm retained 5000 genes\n",
      "\t\t\tScoring: 0.43 mn\n",
      "\t\tkolodziejczyk.rds\n"
     ]
    },
    {
     "name": "stderr",
     "output_type": "stream",
     "text": [
      "/home/jo/anaconda3/envs/w/lib/python3.7/site-packages/pandas/core/arrays/categorical.py:2487: FutureWarning: The `inplace` parameter in pandas.Categorical.remove_unused_categories is deprecated and will be removed in a future version.\n",
      "  res = method(*args, **kwargs)\n"
     ]
    },
    {
     "name": "stdout",
     "output_type": "stream",
     "text": [
      "\t\tduo norm retained 5000 genes\n",
      "\t\t\tScoring: 0.26 mn\n",
      "\t\tLi2017.Rdata\n"
     ]
    },
    {
     "name": "stderr",
     "output_type": "stream",
     "text": [
      "/home/jo/anaconda3/envs/w/lib/python3.7/site-packages/pandas/core/arrays/categorical.py:2487: FutureWarning: The `inplace` parameter in pandas.Categorical.remove_unused_categories is deprecated and will be removed in a future version.\n",
      "  res = method(*args, **kwargs)\n"
     ]
    },
    {
     "name": "stdout",
     "output_type": "stream",
     "text": [
      "\t\tduo norm retained 5000 genes\n",
      "\t\t\tScoring: 0.09 mn\n",
      "\t\tRomanov2016.Rdata\n"
     ]
    },
    {
     "name": "stderr",
     "output_type": "stream",
     "text": [
      "/home/jo/anaconda3/envs/w/lib/python3.7/site-packages/pandas/core/arrays/categorical.py:2487: FutureWarning: The `inplace` parameter in pandas.Categorical.remove_unused_categories is deprecated and will be removed in a future version.\n",
      "  res = method(*args, **kwargs)\n"
     ]
    },
    {
     "name": "stdout",
     "output_type": "stream",
     "text": [
      "\t\tduo norm retained 5000 genes\n",
      "\t\t\tScoring: 0.45 mn\n",
      "\t\tTasic2016_raw.Rdata\n"
     ]
    },
    {
     "name": "stderr",
     "output_type": "stream",
     "text": [
      "/home/jo/anaconda3/envs/w/lib/python3.7/site-packages/pandas/core/arrays/categorical.py:2487: FutureWarning: The `inplace` parameter in pandas.Categorical.remove_unused_categories is deprecated and will be removed in a future version.\n",
      "  res = method(*args, **kwargs)\n"
     ]
    },
    {
     "name": "stdout",
     "output_type": "stream",
     "text": [
      "\t\tduo norm retained 5000 genes\n",
      "\t\t\tScoring: 0.26 mn\n",
      "\t\tZeisel2015.Rdata\n"
     ]
    },
    {
     "name": "stderr",
     "output_type": "stream",
     "text": [
      "/home/jo/anaconda3/envs/w/lib/python3.7/site-packages/pandas/core/arrays/categorical.py:2487: FutureWarning: The `inplace` parameter in pandas.Categorical.remove_unused_categories is deprecated and will be removed in a future version.\n",
      "  res = method(*args, **kwargs)\n"
     ]
    },
    {
     "name": "stdout",
     "output_type": "stream",
     "text": [
      "\t\tduo norm retained 5000 genes\n",
      "\t\t\tScoring: 0.25 mn\n",
      "\t\tBiase2014.Rdata\n",
      "\t\tduo norm retained 5000 genes\n",
      "\t\t\tScoring: 0.01 mn\n",
      "\t\tDeng2014_rpkm.Rdata\n"
     ]
    },
    {
     "name": "stderr",
     "output_type": "stream",
     "text": [
      "/home/jo/anaconda3/envs/w/lib/python3.7/site-packages/pandas/core/arrays/categorical.py:2487: FutureWarning: The `inplace` parameter in pandas.Categorical.remove_unused_categories is deprecated and will be removed in a future version.\n",
      "  res = method(*args, **kwargs)\n"
     ]
    },
    {
     "name": "stdout",
     "output_type": "stream",
     "text": [
      "\t\tduo norm retained 5000 genes\n",
      "\t\t\tScoring: 0.02 mn\n",
      "\t\tSegerstolpe2016.Rdata\n",
      "\t\tduo norm retained 5000 genes\n",
      "\t\t\tScoring: 0.29 mn\n",
      "\t\tTasic2016_rpkm.Rdata\n"
     ]
    },
    {
     "name": "stderr",
     "output_type": "stream",
     "text": [
      "/home/jo/anaconda3/envs/w/lib/python3.7/site-packages/pandas/core/arrays/categorical.py:2487: FutureWarning: The `inplace` parameter in pandas.Categorical.remove_unused_categories is deprecated and will be removed in a future version.\n",
      "  res = method(*args, **kwargs)\n"
     ]
    },
    {
     "name": "stdout",
     "output_type": "stream",
     "text": [
      "\t\tduo norm retained 5000 genes\n",
      "\t\t\tScoring: 0.23 mn\n",
      "\t\tTreutlein.Rdata\n"
     ]
    },
    {
     "name": "stderr",
     "output_type": "stream",
     "text": [
      "/home/jo/anaconda3/envs/w/lib/python3.7/site-packages/pandas/core/arrays/categorical.py:2487: FutureWarning: The `inplace` parameter in pandas.Categorical.remove_unused_categories is deprecated and will be removed in a future version.\n",
      "  res = method(*args, **kwargs)\n"
     ]
    },
    {
     "name": "stdout",
     "output_type": "stream",
     "text": [
      "\t\tduo norm retained 5000 genes\n",
      "\t\t\tScoring: 0.0 mn\n",
      "\t\tYan2013.Rdata\n"
     ]
    },
    {
     "name": "stderr",
     "output_type": "stream",
     "text": [
      "/home/jo/anaconda3/envs/w/lib/python3.7/site-packages/pandas/core/arrays/categorical.py:2487: FutureWarning: The `inplace` parameter in pandas.Categorical.remove_unused_categories is deprecated and will be removed in a future version.\n",
      "  res = method(*args, **kwargs)\n"
     ]
    },
    {
     "name": "stdout",
     "output_type": "stream",
     "text": [
      "\t\tduo norm retained 5000 genes\n",
      "\t\t\tScoring: 0.01 mn\n",
      "euclidean 50 True seurat True\n",
      "\t\tBaron2016_m.Rdata\n"
     ]
    },
    {
     "name": "stderr",
     "output_type": "stream",
     "text": [
      "/home/jo/anaconda3/envs/w/lib/python3.7/site-packages/pandas/core/arrays/categorical.py:2487: FutureWarning: The `inplace` parameter in pandas.Categorical.remove_unused_categories is deprecated and will be removed in a future version.\n",
      "  res = method(*args, **kwargs)\n"
     ]
    },
    {
     "name": "stdout",
     "output_type": "stream",
     "text": [
      "\t\tseurat norm retained 2867 genes\n",
      "\t\t\tScoring: 0.36 mn\n",
      "\t\tDarmanis2015.Rdata\n",
      "\t\tseurat norm retained 7946 genes\n",
      "\t\t\tScoring: 0.08 mn\n",
      "\t\tDeng2014_raw.Rdata\n"
     ]
    },
    {
     "name": "stderr",
     "output_type": "stream",
     "text": [
      "/home/jo/anaconda3/envs/w/lib/python3.7/site-packages/pandas/core/arrays/categorical.py:2487: FutureWarning: The `inplace` parameter in pandas.Categorical.remove_unused_categories is deprecated and will be removed in a future version.\n",
      "  res = method(*args, **kwargs)\n"
     ]
    },
    {
     "name": "stdout",
     "output_type": "stream",
     "text": [
      "\t\tseurat norm retained 6633 genes\n",
      "\t\t\tScoring: 0.06 mn\n",
      "\t\tGoolam2016.Rdata\n"
     ]
    },
    {
     "name": "stderr",
     "output_type": "stream",
     "text": [
      "/home/jo/anaconda3/envs/w/lib/python3.7/site-packages/pandas/core/arrays/categorical.py:2487: FutureWarning: The `inplace` parameter in pandas.Categorical.remove_unused_categories is deprecated and will be removed in a future version.\n",
      "  res = method(*args, **kwargs)\n"
     ]
    },
    {
     "name": "stdout",
     "output_type": "stream",
     "text": [
      "\t\tseurat norm retained 7752 genes\n",
      "\t\t\tScoring: 0.02 mn\n",
      "\t\tKlein2015.Rdata\n"
     ]
    },
    {
     "name": "stderr",
     "output_type": "stream",
     "text": [
      "/home/jo/anaconda3/envs/w/lib/python3.7/site-packages/pandas/core/arrays/categorical.py:2487: FutureWarning: The `inplace` parameter in pandas.Categorical.remove_unused_categories is deprecated and will be removed in a future version.\n",
      "  res = method(*args, **kwargs)\n"
     ]
    },
    {
     "name": "stdout",
     "output_type": "stream",
     "text": [
      "\t\tseurat norm retained 5704 genes\n",
      "\t\t\tScoring: 0.47 mn\n",
      "\t\tkolodziejczyk.rds\n"
     ]
    },
    {
     "name": "stderr",
     "output_type": "stream",
     "text": [
      "/home/jo/anaconda3/envs/w/lib/python3.7/site-packages/pandas/core/arrays/categorical.py:2487: FutureWarning: The `inplace` parameter in pandas.Categorical.remove_unused_categories is deprecated and will be removed in a future version.\n",
      "  res = method(*args, **kwargs)\n"
     ]
    },
    {
     "name": "stdout",
     "output_type": "stream",
     "text": [
      "\t\tseurat norm retained 8205 genes\n",
      "\t\t\tScoring: 0.1 mn\n",
      "\t\tLi2017.Rdata\n"
     ]
    },
    {
     "name": "stderr",
     "output_type": "stream",
     "text": [
      "/home/jo/anaconda3/envs/w/lib/python3.7/site-packages/pandas/core/arrays/categorical.py:2487: FutureWarning: The `inplace` parameter in pandas.Categorical.remove_unused_categories is deprecated and will be removed in a future version.\n",
      "  res = method(*args, **kwargs)\n"
     ]
    },
    {
     "name": "stdout",
     "output_type": "stream",
     "text": [
      "\t\tseurat norm retained 10477 genes\n",
      "\t\t\tScoring: 0.08 mn\n",
      "\t\tRomanov2016.Rdata\n"
     ]
    },
    {
     "name": "stderr",
     "output_type": "stream",
     "text": [
      "/home/jo/anaconda3/envs/w/lib/python3.7/site-packages/pandas/core/arrays/categorical.py:2487: FutureWarning: The `inplace` parameter in pandas.Categorical.remove_unused_categories is deprecated and will be removed in a future version.\n",
      "  res = method(*args, **kwargs)\n"
     ]
    },
    {
     "name": "stdout",
     "output_type": "stream",
     "text": [
      "\t\tseurat norm retained 4434 genes\n",
      "\t\t\tScoring: 0.33 mn\n",
      "\t\tTasic2016_raw.Rdata\n"
     ]
    },
    {
     "name": "stderr",
     "output_type": "stream",
     "text": [
      "/home/jo/anaconda3/envs/w/lib/python3.7/site-packages/pandas/core/arrays/categorical.py:2487: FutureWarning: The `inplace` parameter in pandas.Categorical.remove_unused_categories is deprecated and will be removed in a future version.\n",
      "  res = method(*args, **kwargs)\n"
     ]
    },
    {
     "name": "stdout",
     "output_type": "stream",
     "text": [
      "\t\tseurat norm retained 6392 genes\n",
      "\t\t\tScoring: 0.2 mn\n",
      "\t\tZeisel2015.Rdata\n"
     ]
    },
    {
     "name": "stderr",
     "output_type": "stream",
     "text": [
      "/home/jo/anaconda3/envs/w/lib/python3.7/site-packages/pandas/core/arrays/categorical.py:2487: FutureWarning: The `inplace` parameter in pandas.Categorical.remove_unused_categories is deprecated and will be removed in a future version.\n",
      "  res = method(*args, **kwargs)\n"
     ]
    },
    {
     "name": "stdout",
     "output_type": "stream",
     "text": [
      "\t\tseurat norm retained 4180 genes\n",
      "\t\t\tScoring: 0.35 mn\n",
      "\t\tBiase2014.Rdata\n",
      "\t\tseurat norm retained 5487 genes\n",
      "\t\t\tScoring: 0.0 mn\n",
      "\t\tDeng2014_rpkm.Rdata\n"
     ]
    },
    {
     "name": "stderr",
     "output_type": "stream",
     "text": [
      "/home/jo/anaconda3/envs/w/lib/python3.7/site-packages/pandas/core/arrays/categorical.py:2487: FutureWarning: The `inplace` parameter in pandas.Categorical.remove_unused_categories is deprecated and will be removed in a future version.\n",
      "  res = method(*args, **kwargs)\n"
     ]
    },
    {
     "name": "stdout",
     "output_type": "stream",
     "text": [
      "\t\tseurat norm retained 6401 genes\n",
      "\t\t\tScoring: 0.02 mn\n",
      "\t\tSegerstolpe2016.Rdata\n",
      "\t\tseurat norm retained 4750 genes\n",
      "\t\t\tScoring: 0.29 mn\n",
      "\t\tTasic2016_rpkm.Rdata\n"
     ]
    },
    {
     "name": "stderr",
     "output_type": "stream",
     "text": [
      "/home/jo/anaconda3/envs/w/lib/python3.7/site-packages/pandas/core/arrays/categorical.py:2487: FutureWarning: The `inplace` parameter in pandas.Categorical.remove_unused_categories is deprecated and will be removed in a future version.\n",
      "  res = method(*args, **kwargs)\n"
     ]
    },
    {
     "name": "stdout",
     "output_type": "stream",
     "text": [
      "\t\tseurat norm retained 4864 genes\n",
      "\t\t\tScoring: 0.19 mn\n",
      "\t\tTreutlein.Rdata\n"
     ]
    },
    {
     "name": "stderr",
     "output_type": "stream",
     "text": [
      "/home/jo/anaconda3/envs/w/lib/python3.7/site-packages/pandas/core/arrays/categorical.py:2487: FutureWarning: The `inplace` parameter in pandas.Categorical.remove_unused_categories is deprecated and will be removed in a future version.\n",
      "  res = method(*args, **kwargs)\n"
     ]
    },
    {
     "name": "stdout",
     "output_type": "stream",
     "text": [
      "\t\tseurat norm retained 3854 genes\n",
      "\t\t\tScoring: 0.0 mn\n",
      "\t\tYan2013.Rdata\n"
     ]
    },
    {
     "name": "stderr",
     "output_type": "stream",
     "text": [
      "/home/jo/anaconda3/envs/w/lib/python3.7/site-packages/pandas/core/arrays/categorical.py:2487: FutureWarning: The `inplace` parameter in pandas.Categorical.remove_unused_categories is deprecated and will be removed in a future version.\n",
      "  res = method(*args, **kwargs)\n"
     ]
    },
    {
     "name": "stdout",
     "output_type": "stream",
     "text": [
      "\t\tseurat norm retained 5804 genes\n",
      "\t\t\tScoring: 0.01 mn\n",
      "euclidean 50 True seurat False\n",
      "\t\tBaron2016_m.Rdata\n"
     ]
    },
    {
     "name": "stderr",
     "output_type": "stream",
     "text": [
      "/home/jo/anaconda3/envs/w/lib/python3.7/site-packages/pandas/core/arrays/categorical.py:2487: FutureWarning: The `inplace` parameter in pandas.Categorical.remove_unused_categories is deprecated and will be removed in a future version.\n",
      "  res = method(*args, **kwargs)\n"
     ]
    },
    {
     "name": "stdout",
     "output_type": "stream",
     "text": [
      "\t\tseurat norm retained 2867 genes\n",
      "\t\t\tScoring: 0.08 mn\n",
      "\t\tDarmanis2015.Rdata\n",
      "\t\tseurat norm retained 7946 genes\n",
      "\t\t\tScoring: 0.04 mn\n",
      "\t\tDeng2014_raw.Rdata\n"
     ]
    },
    {
     "name": "stderr",
     "output_type": "stream",
     "text": [
      "/home/jo/anaconda3/envs/w/lib/python3.7/site-packages/pandas/core/arrays/categorical.py:2487: FutureWarning: The `inplace` parameter in pandas.Categorical.remove_unused_categories is deprecated and will be removed in a future version.\n",
      "  res = method(*args, **kwargs)\n"
     ]
    },
    {
     "name": "stdout",
     "output_type": "stream",
     "text": [
      "\t\tseurat norm retained 6633 genes\n",
      "\t\t\tScoring: 0.04 mn\n",
      "\t\tGoolam2016.Rdata\n"
     ]
    },
    {
     "name": "stderr",
     "output_type": "stream",
     "text": [
      "/home/jo/anaconda3/envs/w/lib/python3.7/site-packages/pandas/core/arrays/categorical.py:2487: FutureWarning: The `inplace` parameter in pandas.Categorical.remove_unused_categories is deprecated and will be removed in a future version.\n",
      "  res = method(*args, **kwargs)\n"
     ]
    },
    {
     "name": "stdout",
     "output_type": "stream",
     "text": [
      "\t\tseurat norm retained 7752 genes\n",
      "\t\t\tScoring: 0.01 mn\n",
      "\t\tKlein2015.Rdata\n"
     ]
    },
    {
     "name": "stderr",
     "output_type": "stream",
     "text": [
      "/home/jo/anaconda3/envs/w/lib/python3.7/site-packages/pandas/core/arrays/categorical.py:2487: FutureWarning: The `inplace` parameter in pandas.Categorical.remove_unused_categories is deprecated and will be removed in a future version.\n",
      "  res = method(*args, **kwargs)\n"
     ]
    },
    {
     "name": "stdout",
     "output_type": "stream",
     "text": [
      "\t\tseurat norm retained 5704 genes\n",
      "\t\t\tScoring: 0.38 mn\n",
      "\t\tkolodziejczyk.rds\n"
     ]
    },
    {
     "name": "stderr",
     "output_type": "stream",
     "text": [
      "/home/jo/anaconda3/envs/w/lib/python3.7/site-packages/pandas/core/arrays/categorical.py:2487: FutureWarning: The `inplace` parameter in pandas.Categorical.remove_unused_categories is deprecated and will be removed in a future version.\n",
      "  res = method(*args, **kwargs)\n"
     ]
    },
    {
     "name": "stdout",
     "output_type": "stream",
     "text": [
      "\t\tseurat norm retained 8205 genes\n",
      "\t\t\tScoring: 0.24 mn\n",
      "\t\tLi2017.Rdata\n"
     ]
    },
    {
     "name": "stderr",
     "output_type": "stream",
     "text": [
      "/home/jo/anaconda3/envs/w/lib/python3.7/site-packages/pandas/core/arrays/categorical.py:2487: FutureWarning: The `inplace` parameter in pandas.Categorical.remove_unused_categories is deprecated and will be removed in a future version.\n",
      "  res = method(*args, **kwargs)\n"
     ]
    },
    {
     "name": "stdout",
     "output_type": "stream",
     "text": [
      "\t\tseurat norm retained 10477 genes\n",
      "\t\t\tScoring: 0.11 mn\n",
      "\t\tRomanov2016.Rdata\n"
     ]
    },
    {
     "name": "stderr",
     "output_type": "stream",
     "text": [
      "/home/jo/anaconda3/envs/w/lib/python3.7/site-packages/pandas/core/arrays/categorical.py:2487: FutureWarning: The `inplace` parameter in pandas.Categorical.remove_unused_categories is deprecated and will be removed in a future version.\n",
      "  res = method(*args, **kwargs)\n"
     ]
    },
    {
     "name": "stdout",
     "output_type": "stream",
     "text": [
      "\t\tseurat norm retained 4434 genes\n",
      "\t\t\tScoring: 0.24 mn\n",
      "\t\tTasic2016_raw.Rdata\n"
     ]
    },
    {
     "name": "stderr",
     "output_type": "stream",
     "text": [
      "/home/jo/anaconda3/envs/w/lib/python3.7/site-packages/pandas/core/arrays/categorical.py:2487: FutureWarning: The `inplace` parameter in pandas.Categorical.remove_unused_categories is deprecated and will be removed in a future version.\n",
      "  res = method(*args, **kwargs)\n"
     ]
    },
    {
     "name": "stdout",
     "output_type": "stream",
     "text": [
      "\t\tseurat norm retained 6392 genes\n",
      "\t\t\tScoring: 0.14 mn\n",
      "\t\tZeisel2015.Rdata\n"
     ]
    },
    {
     "name": "stderr",
     "output_type": "stream",
     "text": [
      "/home/jo/anaconda3/envs/w/lib/python3.7/site-packages/pandas/core/arrays/categorical.py:2487: FutureWarning: The `inplace` parameter in pandas.Categorical.remove_unused_categories is deprecated and will be removed in a future version.\n",
      "  res = method(*args, **kwargs)\n"
     ]
    },
    {
     "name": "stdout",
     "output_type": "stream",
     "text": [
      "\t\tseurat norm retained 4180 genes\n",
      "\t\t\tScoring: 0.3 mn\n",
      "\t\tBiase2014.Rdata\n",
      "\t\tseurat norm retained 5487 genes\n",
      "\t\t\tScoring: 0.0 mn\n",
      "\t\tDeng2014_rpkm.Rdata\n"
     ]
    },
    {
     "name": "stderr",
     "output_type": "stream",
     "text": [
      "/home/jo/anaconda3/envs/w/lib/python3.7/site-packages/pandas/core/arrays/categorical.py:2487: FutureWarning: The `inplace` parameter in pandas.Categorical.remove_unused_categories is deprecated and will be removed in a future version.\n",
      "  res = method(*args, **kwargs)\n"
     ]
    },
    {
     "name": "stdout",
     "output_type": "stream",
     "text": [
      "\t\tseurat norm retained 6401 genes\n",
      "\t\t\tScoring: 0.02 mn\n",
      "\t\tSegerstolpe2016.Rdata\n",
      "\t\tseurat norm retained 4750 genes\n",
      "\t\t\tScoring: 0.2 mn\n",
      "\t\tTasic2016_rpkm.Rdata\n"
     ]
    },
    {
     "name": "stderr",
     "output_type": "stream",
     "text": [
      "/home/jo/anaconda3/envs/w/lib/python3.7/site-packages/pandas/core/arrays/categorical.py:2487: FutureWarning: The `inplace` parameter in pandas.Categorical.remove_unused_categories is deprecated and will be removed in a future version.\n",
      "  res = method(*args, **kwargs)\n"
     ]
    },
    {
     "name": "stdout",
     "output_type": "stream",
     "text": [
      "\t\tseurat norm retained 4864 genes\n",
      "\t\t\tScoring: 0.12 mn\n",
      "\t\tTreutlein.Rdata\n"
     ]
    },
    {
     "name": "stderr",
     "output_type": "stream",
     "text": [
      "/home/jo/anaconda3/envs/w/lib/python3.7/site-packages/pandas/core/arrays/categorical.py:2487: FutureWarning: The `inplace` parameter in pandas.Categorical.remove_unused_categories is deprecated and will be removed in a future version.\n",
      "  res = method(*args, **kwargs)\n"
     ]
    },
    {
     "name": "stdout",
     "output_type": "stream",
     "text": [
      "\t\tseurat norm retained 3854 genes\n",
      "\t\t\tScoring: 0.01 mn\n",
      "\t\tYan2013.Rdata\n"
     ]
    },
    {
     "name": "stderr",
     "output_type": "stream",
     "text": [
      "/home/jo/anaconda3/envs/w/lib/python3.7/site-packages/pandas/core/arrays/categorical.py:2487: FutureWarning: The `inplace` parameter in pandas.Categorical.remove_unused_categories is deprecated and will be removed in a future version.\n",
      "  res = method(*args, **kwargs)\n"
     ]
    },
    {
     "name": "stdout",
     "output_type": "stream",
     "text": [
      "\t\tseurat norm retained 5804 genes\n",
      "\t\t\tScoring: 0.02 mn\n",
      "euclidean 100 True duo True\n",
      "\t\tBaron2016_m.Rdata\n"
     ]
    },
    {
     "name": "stderr",
     "output_type": "stream",
     "text": [
      "/home/jo/anaconda3/envs/w/lib/python3.7/site-packages/pandas/core/arrays/categorical.py:2487: FutureWarning: The `inplace` parameter in pandas.Categorical.remove_unused_categories is deprecated and will be removed in a future version.\n",
      "  res = method(*args, **kwargs)\n"
     ]
    },
    {
     "name": "stdout",
     "output_type": "stream",
     "text": [
      "\t\tduo norm retained 5000 genes\n",
      "\t\t\tScoring: 0.31 mn\n",
      "\t\tDarmanis2015.Rdata\n",
      "\t\tduo norm retained 5000 genes\n",
      "\t\t\tScoring: 0.1 mn\n",
      "\t\tDeng2014_raw.Rdata\n"
     ]
    },
    {
     "name": "stderr",
     "output_type": "stream",
     "text": [
      "/home/jo/anaconda3/envs/w/lib/python3.7/site-packages/pandas/core/arrays/categorical.py:2487: FutureWarning: The `inplace` parameter in pandas.Categorical.remove_unused_categories is deprecated and will be removed in a future version.\n",
      "  res = method(*args, **kwargs)\n"
     ]
    },
    {
     "name": "stdout",
     "output_type": "stream",
     "text": [
      "\t\tduo norm retained 5000 genes\n",
      "\t\t\tScoring: 0.02 mn\n",
      "\t\tGoolam2016.Rdata\n"
     ]
    },
    {
     "name": "stderr",
     "output_type": "stream",
     "text": [
      "/home/jo/anaconda3/envs/w/lib/python3.7/site-packages/pandas/core/arrays/categorical.py:2487: FutureWarning: The `inplace` parameter in pandas.Categorical.remove_unused_categories is deprecated and will be removed in a future version.\n",
      "  res = method(*args, **kwargs)\n"
     ]
    },
    {
     "name": "stdout",
     "output_type": "stream",
     "text": [
      "\t\tduo norm retained 5000 genes\n",
      "\t\t\tScoring: 0.01 mn\n",
      "\t\tKlein2015.Rdata\n"
     ]
    },
    {
     "name": "stderr",
     "output_type": "stream",
     "text": [
      "/home/jo/anaconda3/envs/w/lib/python3.7/site-packages/pandas/core/arrays/categorical.py:2487: FutureWarning: The `inplace` parameter in pandas.Categorical.remove_unused_categories is deprecated and will be removed in a future version.\n",
      "  res = method(*args, **kwargs)\n"
     ]
    },
    {
     "name": "stdout",
     "output_type": "stream",
     "text": [
      "\t\tduo norm retained 5000 genes\n",
      "\t\t\tScoring: 0.33 mn\n",
      "\t\tkolodziejczyk.rds\n"
     ]
    },
    {
     "name": "stderr",
     "output_type": "stream",
     "text": [
      "/home/jo/anaconda3/envs/w/lib/python3.7/site-packages/pandas/core/arrays/categorical.py:2487: FutureWarning: The `inplace` parameter in pandas.Categorical.remove_unused_categories is deprecated and will be removed in a future version.\n",
      "  res = method(*args, **kwargs)\n"
     ]
    },
    {
     "name": "stdout",
     "output_type": "stream",
     "text": [
      "\t\tduo norm retained 5000 genes\n",
      "\t\t\tScoring: 0.06 mn\n",
      "\t\tLi2017.Rdata\n"
     ]
    },
    {
     "name": "stderr",
     "output_type": "stream",
     "text": [
      "/home/jo/anaconda3/envs/w/lib/python3.7/site-packages/pandas/core/arrays/categorical.py:2487: FutureWarning: The `inplace` parameter in pandas.Categorical.remove_unused_categories is deprecated and will be removed in a future version.\n",
      "  res = method(*args, **kwargs)\n"
     ]
    },
    {
     "name": "stdout",
     "output_type": "stream",
     "text": [
      "\t\tduo norm retained 5000 genes\n",
      "\t\t\tScoring: 0.06 mn\n",
      "\t\tRomanov2016.Rdata\n"
     ]
    },
    {
     "name": "stderr",
     "output_type": "stream",
     "text": [
      "/home/jo/anaconda3/envs/w/lib/python3.7/site-packages/pandas/core/arrays/categorical.py:2487: FutureWarning: The `inplace` parameter in pandas.Categorical.remove_unused_categories is deprecated and will be removed in a future version.\n",
      "  res = method(*args, **kwargs)\n"
     ]
    },
    {
     "name": "stdout",
     "output_type": "stream",
     "text": [
      "\t\tduo norm retained 5000 genes\n",
      "\t\t\tScoring: 0.34 mn\n",
      "\t\tTasic2016_raw.Rdata\n"
     ]
    },
    {
     "name": "stderr",
     "output_type": "stream",
     "text": [
      "/home/jo/anaconda3/envs/w/lib/python3.7/site-packages/pandas/core/arrays/categorical.py:2487: FutureWarning: The `inplace` parameter in pandas.Categorical.remove_unused_categories is deprecated and will be removed in a future version.\n",
      "  res = method(*args, **kwargs)\n"
     ]
    },
    {
     "name": "stdout",
     "output_type": "stream",
     "text": [
      "\t\tduo norm retained 5000 genes\n",
      "\t\t\tScoring: 0.4 mn\n",
      "\t\tZeisel2015.Rdata\n"
     ]
    },
    {
     "name": "stderr",
     "output_type": "stream",
     "text": [
      "/home/jo/anaconda3/envs/w/lib/python3.7/site-packages/pandas/core/arrays/categorical.py:2487: FutureWarning: The `inplace` parameter in pandas.Categorical.remove_unused_categories is deprecated and will be removed in a future version.\n",
      "  res = method(*args, **kwargs)\n"
     ]
    },
    {
     "name": "stdout",
     "output_type": "stream",
     "text": [
      "\t\tduo norm retained 5000 genes\n",
      "\t\t\tScoring: 0.23 mn\n",
      "\t\tBiase2014.Rdata\n",
      "\t\tduo norm retained 5000 genes\n",
      "\t\t\tScoring: 0.01 mn\n",
      "\t\tDeng2014_rpkm.Rdata\n"
     ]
    },
    {
     "name": "stderr",
     "output_type": "stream",
     "text": [
      "/home/jo/anaconda3/envs/w/lib/python3.7/site-packages/pandas/core/arrays/categorical.py:2487: FutureWarning: The `inplace` parameter in pandas.Categorical.remove_unused_categories is deprecated and will be removed in a future version.\n",
      "  res = method(*args, **kwargs)\n"
     ]
    },
    {
     "name": "stdout",
     "output_type": "stream",
     "text": [
      "\t\tduo norm retained 5000 genes\n",
      "\t\t\tScoring: 0.02 mn\n",
      "\t\tSegerstolpe2016.Rdata\n",
      "\t\tduo norm retained 5000 genes\n",
      "\t\t\tScoring: 0.42 mn\n",
      "\t\tTasic2016_rpkm.Rdata\n"
     ]
    },
    {
     "name": "stderr",
     "output_type": "stream",
     "text": [
      "/home/jo/anaconda3/envs/w/lib/python3.7/site-packages/pandas/core/arrays/categorical.py:2487: FutureWarning: The `inplace` parameter in pandas.Categorical.remove_unused_categories is deprecated and will be removed in a future version.\n",
      "  res = method(*args, **kwargs)\n"
     ]
    },
    {
     "name": "stdout",
     "output_type": "stream",
     "text": [
      "\t\tduo norm retained 5000 genes\n",
      "\t\t\tScoring: 0.11 mn\n",
      "\t\tTreutlein.Rdata\n"
     ]
    },
    {
     "name": "stderr",
     "output_type": "stream",
     "text": [
      "/home/jo/anaconda3/envs/w/lib/python3.7/site-packages/pandas/core/arrays/categorical.py:2487: FutureWarning: The `inplace` parameter in pandas.Categorical.remove_unused_categories is deprecated and will be removed in a future version.\n",
      "  res = method(*args, **kwargs)\n"
     ]
    },
    {
     "name": "stdout",
     "output_type": "stream",
     "text": [
      "\t\tduo norm retained 5000 genes\n",
      "\t\t\tScoring: 0.0 mn\n",
      "\t\tYan2013.Rdata\n"
     ]
    },
    {
     "name": "stderr",
     "output_type": "stream",
     "text": [
      "/home/jo/anaconda3/envs/w/lib/python3.7/site-packages/pandas/core/arrays/categorical.py:2487: FutureWarning: The `inplace` parameter in pandas.Categorical.remove_unused_categories is deprecated and will be removed in a future version.\n",
      "  res = method(*args, **kwargs)\n"
     ]
    },
    {
     "name": "stdout",
     "output_type": "stream",
     "text": [
      "\t\tduo norm retained 5000 genes\n",
      "\t\t\tScoring: 0.01 mn\n",
      "euclidean 100 True duo False\n",
      "\t\tBaron2016_m.Rdata\n"
     ]
    },
    {
     "name": "stderr",
     "output_type": "stream",
     "text": [
      "/home/jo/anaconda3/envs/w/lib/python3.7/site-packages/pandas/core/arrays/categorical.py:2487: FutureWarning: The `inplace` parameter in pandas.Categorical.remove_unused_categories is deprecated and will be removed in a future version.\n",
      "  res = method(*args, **kwargs)\n"
     ]
    },
    {
     "name": "stdout",
     "output_type": "stream",
     "text": [
      "\t\tduo norm retained 5000 genes\n",
      "\t\t\tScoring: 0.24 mn\n",
      "\t\tDarmanis2015.Rdata\n",
      "\t\tduo norm retained 5000 genes\n",
      "\t\t\tScoring: 0.05 mn\n",
      "\t\tDeng2014_raw.Rdata\n"
     ]
    },
    {
     "name": "stderr",
     "output_type": "stream",
     "text": [
      "/home/jo/anaconda3/envs/w/lib/python3.7/site-packages/pandas/core/arrays/categorical.py:2487: FutureWarning: The `inplace` parameter in pandas.Categorical.remove_unused_categories is deprecated and will be removed in a future version.\n",
      "  res = method(*args, **kwargs)\n"
     ]
    },
    {
     "name": "stdout",
     "output_type": "stream",
     "text": [
      "\t\tduo norm retained 5000 genes\n",
      "\t\t\tScoring: 0.02 mn\n",
      "\t\tGoolam2016.Rdata\n"
     ]
    },
    {
     "name": "stderr",
     "output_type": "stream",
     "text": [
      "/home/jo/anaconda3/envs/w/lib/python3.7/site-packages/pandas/core/arrays/categorical.py:2487: FutureWarning: The `inplace` parameter in pandas.Categorical.remove_unused_categories is deprecated and will be removed in a future version.\n",
      "  res = method(*args, **kwargs)\n"
     ]
    },
    {
     "name": "stdout",
     "output_type": "stream",
     "text": [
      "\t\tduo norm retained 5000 genes\n",
      "\t\t\tScoring: 0.02 mn\n",
      "\t\tKlein2015.Rdata\n"
     ]
    },
    {
     "name": "stderr",
     "output_type": "stream",
     "text": [
      "/home/jo/anaconda3/envs/w/lib/python3.7/site-packages/pandas/core/arrays/categorical.py:2487: FutureWarning: The `inplace` parameter in pandas.Categorical.remove_unused_categories is deprecated and will be removed in a future version.\n",
      "  res = method(*args, **kwargs)\n"
     ]
    },
    {
     "name": "stdout",
     "output_type": "stream",
     "text": [
      "\t\tduo norm retained 5000 genes\n",
      "\t\t\tScoring: 0.45 mn\n",
      "\t\tkolodziejczyk.rds\n"
     ]
    },
    {
     "name": "stderr",
     "output_type": "stream",
     "text": [
      "/home/jo/anaconda3/envs/w/lib/python3.7/site-packages/pandas/core/arrays/categorical.py:2487: FutureWarning: The `inplace` parameter in pandas.Categorical.remove_unused_categories is deprecated and will be removed in a future version.\n",
      "  res = method(*args, **kwargs)\n"
     ]
    },
    {
     "name": "stdout",
     "output_type": "stream",
     "text": [
      "\t\tduo norm retained 5000 genes\n",
      "\t\t\tScoring: 0.08 mn\n",
      "\t\tLi2017.Rdata\n"
     ]
    },
    {
     "name": "stderr",
     "output_type": "stream",
     "text": [
      "/home/jo/anaconda3/envs/w/lib/python3.7/site-packages/pandas/core/arrays/categorical.py:2487: FutureWarning: The `inplace` parameter in pandas.Categorical.remove_unused_categories is deprecated and will be removed in a future version.\n",
      "  res = method(*args, **kwargs)\n"
     ]
    },
    {
     "name": "stdout",
     "output_type": "stream",
     "text": [
      "\t\tduo norm retained 5000 genes\n",
      "\t\t\tScoring: 0.04 mn\n",
      "\t\tRomanov2016.Rdata\n"
     ]
    },
    {
     "name": "stderr",
     "output_type": "stream",
     "text": [
      "/home/jo/anaconda3/envs/w/lib/python3.7/site-packages/pandas/core/arrays/categorical.py:2487: FutureWarning: The `inplace` parameter in pandas.Categorical.remove_unused_categories is deprecated and will be removed in a future version.\n",
      "  res = method(*args, **kwargs)\n"
     ]
    },
    {
     "name": "stdout",
     "output_type": "stream",
     "text": [
      "\t\tduo norm retained 5000 genes\n",
      "\t\t\tScoring: 0.46 mn\n",
      "\t\tTasic2016_raw.Rdata\n"
     ]
    },
    {
     "name": "stderr",
     "output_type": "stream",
     "text": [
      "/home/jo/anaconda3/envs/w/lib/python3.7/site-packages/pandas/core/arrays/categorical.py:2487: FutureWarning: The `inplace` parameter in pandas.Categorical.remove_unused_categories is deprecated and will be removed in a future version.\n",
      "  res = method(*args, **kwargs)\n"
     ]
    },
    {
     "name": "stdout",
     "output_type": "stream",
     "text": [
      "\t\tduo norm retained 5000 genes\n",
      "\t\t\tScoring: 0.24 mn\n",
      "\t\tZeisel2015.Rdata\n"
     ]
    },
    {
     "name": "stderr",
     "output_type": "stream",
     "text": [
      "/home/jo/anaconda3/envs/w/lib/python3.7/site-packages/pandas/core/arrays/categorical.py:2487: FutureWarning: The `inplace` parameter in pandas.Categorical.remove_unused_categories is deprecated and will be removed in a future version.\n",
      "  res = method(*args, **kwargs)\n"
     ]
    },
    {
     "name": "stdout",
     "output_type": "stream",
     "text": [
      "\t\tduo norm retained 5000 genes\n",
      "\t\t\tScoring: 0.4 mn\n",
      "\t\tBiase2014.Rdata\n",
      "\t\tduo norm retained 5000 genes\n",
      "\t\t\tScoring: 0.0 mn\n",
      "\t\tDeng2014_rpkm.Rdata\n"
     ]
    },
    {
     "name": "stderr",
     "output_type": "stream",
     "text": [
      "/home/jo/anaconda3/envs/w/lib/python3.7/site-packages/pandas/core/arrays/categorical.py:2487: FutureWarning: The `inplace` parameter in pandas.Categorical.remove_unused_categories is deprecated and will be removed in a future version.\n",
      "  res = method(*args, **kwargs)\n"
     ]
    },
    {
     "name": "stdout",
     "output_type": "stream",
     "text": [
      "\t\tduo norm retained 5000 genes\n",
      "\t\t\tScoring: 0.02 mn\n",
      "\t\tSegerstolpe2016.Rdata\n",
      "\t\tduo norm retained 5000 genes\n",
      "\t\t\tScoring: 0.32 mn\n",
      "\t\tTasic2016_rpkm.Rdata\n"
     ]
    },
    {
     "name": "stderr",
     "output_type": "stream",
     "text": [
      "/home/jo/anaconda3/envs/w/lib/python3.7/site-packages/pandas/core/arrays/categorical.py:2487: FutureWarning: The `inplace` parameter in pandas.Categorical.remove_unused_categories is deprecated and will be removed in a future version.\n",
      "  res = method(*args, **kwargs)\n"
     ]
    },
    {
     "name": "stdout",
     "output_type": "stream",
     "text": [
      "\t\tduo norm retained 5000 genes\n",
      "\t\t\tScoring: 0.21 mn\n",
      "\t\tTreutlein.Rdata\n"
     ]
    },
    {
     "name": "stderr",
     "output_type": "stream",
     "text": [
      "/home/jo/anaconda3/envs/w/lib/python3.7/site-packages/pandas/core/arrays/categorical.py:2487: FutureWarning: The `inplace` parameter in pandas.Categorical.remove_unused_categories is deprecated and will be removed in a future version.\n",
      "  res = method(*args, **kwargs)\n"
     ]
    },
    {
     "name": "stdout",
     "output_type": "stream",
     "text": [
      "\t\tduo norm retained 5000 genes\n",
      "\t\t\tScoring: 0.01 mn\n",
      "\t\tYan2013.Rdata\n"
     ]
    },
    {
     "name": "stderr",
     "output_type": "stream",
     "text": [
      "/home/jo/anaconda3/envs/w/lib/python3.7/site-packages/pandas/core/arrays/categorical.py:2487: FutureWarning: The `inplace` parameter in pandas.Categorical.remove_unused_categories is deprecated and will be removed in a future version.\n",
      "  res = method(*args, **kwargs)\n"
     ]
    },
    {
     "name": "stdout",
     "output_type": "stream",
     "text": [
      "\t\tduo norm retained 5000 genes\n",
      "\t\t\tScoring: 0.01 mn\n",
      "euclidean 100 True seurat True\n",
      "\t\tBaron2016_m.Rdata\n"
     ]
    },
    {
     "name": "stderr",
     "output_type": "stream",
     "text": [
      "/home/jo/anaconda3/envs/w/lib/python3.7/site-packages/pandas/core/arrays/categorical.py:2487: FutureWarning: The `inplace` parameter in pandas.Categorical.remove_unused_categories is deprecated and will be removed in a future version.\n",
      "  res = method(*args, **kwargs)\n"
     ]
    },
    {
     "name": "stdout",
     "output_type": "stream",
     "text": [
      "\t\tseurat norm retained 2867 genes\n",
      "\t\t\tScoring: 0.17 mn\n",
      "\t\tDarmanis2015.Rdata\n",
      "\t\tseurat norm retained 7946 genes\n",
      "\t\t\tScoring: 0.1 mn\n",
      "\t\tDeng2014_raw.Rdata\n"
     ]
    },
    {
     "name": "stderr",
     "output_type": "stream",
     "text": [
      "/home/jo/anaconda3/envs/w/lib/python3.7/site-packages/pandas/core/arrays/categorical.py:2487: FutureWarning: The `inplace` parameter in pandas.Categorical.remove_unused_categories is deprecated and will be removed in a future version.\n",
      "  res = method(*args, **kwargs)\n"
     ]
    },
    {
     "name": "stdout",
     "output_type": "stream",
     "text": [
      "\t\tseurat norm retained 6633 genes\n",
      "\t\t\tScoring: 0.03 mn\n",
      "\t\tGoolam2016.Rdata\n"
     ]
    },
    {
     "name": "stderr",
     "output_type": "stream",
     "text": [
      "/home/jo/anaconda3/envs/w/lib/python3.7/site-packages/pandas/core/arrays/categorical.py:2487: FutureWarning: The `inplace` parameter in pandas.Categorical.remove_unused_categories is deprecated and will be removed in a future version.\n",
      "  res = method(*args, **kwargs)\n"
     ]
    },
    {
     "name": "stdout",
     "output_type": "stream",
     "text": [
      "\t\tseurat norm retained 7752 genes\n",
      "\t\t\tScoring: 0.04 mn\n",
      "\t\tKlein2015.Rdata\n"
     ]
    },
    {
     "name": "stderr",
     "output_type": "stream",
     "text": [
      "/home/jo/anaconda3/envs/w/lib/python3.7/site-packages/pandas/core/arrays/categorical.py:2487: FutureWarning: The `inplace` parameter in pandas.Categorical.remove_unused_categories is deprecated and will be removed in a future version.\n",
      "  res = method(*args, **kwargs)\n"
     ]
    },
    {
     "name": "stdout",
     "output_type": "stream",
     "text": [
      "\t\tseurat norm retained 5704 genes\n",
      "\t\t\tScoring: 0.76 mn\n",
      "\t\tkolodziejczyk.rds\n"
     ]
    },
    {
     "name": "stderr",
     "output_type": "stream",
     "text": [
      "/home/jo/anaconda3/envs/w/lib/python3.7/site-packages/pandas/core/arrays/categorical.py:2487: FutureWarning: The `inplace` parameter in pandas.Categorical.remove_unused_categories is deprecated and will be removed in a future version.\n",
      "  res = method(*args, **kwargs)\n"
     ]
    },
    {
     "name": "stdout",
     "output_type": "stream",
     "text": [
      "\t\tseurat norm retained 8205 genes\n",
      "\t\t\tScoring: 0.2 mn\n",
      "\t\tLi2017.Rdata\n"
     ]
    },
    {
     "name": "stderr",
     "output_type": "stream",
     "text": [
      "/home/jo/anaconda3/envs/w/lib/python3.7/site-packages/pandas/core/arrays/categorical.py:2487: FutureWarning: The `inplace` parameter in pandas.Categorical.remove_unused_categories is deprecated and will be removed in a future version.\n",
      "  res = method(*args, **kwargs)\n"
     ]
    },
    {
     "name": "stdout",
     "output_type": "stream",
     "text": [
      "\t\tseurat norm retained 10477 genes\n",
      "\t\t\tScoring: 0.21 mn\n",
      "\t\tRomanov2016.Rdata\n"
     ]
    },
    {
     "name": "stderr",
     "output_type": "stream",
     "text": [
      "/home/jo/anaconda3/envs/w/lib/python3.7/site-packages/pandas/core/arrays/categorical.py:2487: FutureWarning: The `inplace` parameter in pandas.Categorical.remove_unused_categories is deprecated and will be removed in a future version.\n",
      "  res = method(*args, **kwargs)\n"
     ]
    },
    {
     "name": "stdout",
     "output_type": "stream",
     "text": [
      "\t\tseurat norm retained 4434 genes\n",
      "\t\t\tScoring: 0.68 mn\n",
      "\t\tTasic2016_raw.Rdata\n"
     ]
    },
    {
     "name": "stderr",
     "output_type": "stream",
     "text": [
      "/home/jo/anaconda3/envs/w/lib/python3.7/site-packages/pandas/core/arrays/categorical.py:2487: FutureWarning: The `inplace` parameter in pandas.Categorical.remove_unused_categories is deprecated and will be removed in a future version.\n",
      "  res = method(*args, **kwargs)\n"
     ]
    },
    {
     "name": "stdout",
     "output_type": "stream",
     "text": [
      "\t\tseurat norm retained 6392 genes\n",
      "\t\t\tScoring: 0.54 mn\n",
      "\t\tZeisel2015.Rdata\n"
     ]
    },
    {
     "name": "stderr",
     "output_type": "stream",
     "text": [
      "/home/jo/anaconda3/envs/w/lib/python3.7/site-packages/pandas/core/arrays/categorical.py:2487: FutureWarning: The `inplace` parameter in pandas.Categorical.remove_unused_categories is deprecated and will be removed in a future version.\n",
      "  res = method(*args, **kwargs)\n"
     ]
    },
    {
     "name": "stdout",
     "output_type": "stream",
     "text": [
      "\t\tseurat norm retained 4180 genes\n",
      "\t\t\tScoring: 0.55 mn\n",
      "\t\tBiase2014.Rdata\n",
      "\t\tseurat norm retained 5487 genes\n",
      "\t\t\tScoring: 0.03 mn\n",
      "\t\tDeng2014_rpkm.Rdata\n"
     ]
    },
    {
     "name": "stderr",
     "output_type": "stream",
     "text": [
      "/home/jo/anaconda3/envs/w/lib/python3.7/site-packages/pandas/core/arrays/categorical.py:2487: FutureWarning: The `inplace` parameter in pandas.Categorical.remove_unused_categories is deprecated and will be removed in a future version.\n",
      "  res = method(*args, **kwargs)\n"
     ]
    },
    {
     "name": "stdout",
     "output_type": "stream",
     "text": [
      "\t\tseurat norm retained 6401 genes\n",
      "\t\t\tScoring: 0.1 mn\n",
      "\t\tSegerstolpe2016.Rdata\n",
      "\t\tseurat norm retained 4750 genes\n",
      "\t\t\tScoring: 0.83 mn\n",
      "\t\tTasic2016_rpkm.Rdata\n"
     ]
    },
    {
     "name": "stderr",
     "output_type": "stream",
     "text": [
      "/home/jo/anaconda3/envs/w/lib/python3.7/site-packages/pandas/core/arrays/categorical.py:2487: FutureWarning: The `inplace` parameter in pandas.Categorical.remove_unused_categories is deprecated and will be removed in a future version.\n",
      "  res = method(*args, **kwargs)\n"
     ]
    },
    {
     "name": "stdout",
     "output_type": "stream",
     "text": [
      "\t\tseurat norm retained 4864 genes\n",
      "\t\t\tScoring: 0.43 mn\n",
      "\t\tTreutlein.Rdata\n"
     ]
    },
    {
     "name": "stderr",
     "output_type": "stream",
     "text": [
      "/home/jo/anaconda3/envs/w/lib/python3.7/site-packages/pandas/core/arrays/categorical.py:2487: FutureWarning: The `inplace` parameter in pandas.Categorical.remove_unused_categories is deprecated and will be removed in a future version.\n",
      "  res = method(*args, **kwargs)\n"
     ]
    },
    {
     "name": "stdout",
     "output_type": "stream",
     "text": [
      "\t\tseurat norm retained 3854 genes\n",
      "\t\t\tScoring: 0.01 mn\n",
      "\t\tYan2013.Rdata\n"
     ]
    },
    {
     "name": "stderr",
     "output_type": "stream",
     "text": [
      "/home/jo/anaconda3/envs/w/lib/python3.7/site-packages/pandas/core/arrays/categorical.py:2487: FutureWarning: The `inplace` parameter in pandas.Categorical.remove_unused_categories is deprecated and will be removed in a future version.\n",
      "  res = method(*args, **kwargs)\n"
     ]
    },
    {
     "name": "stdout",
     "output_type": "stream",
     "text": [
      "\t\tseurat norm retained 5804 genes\n",
      "\t\t\tScoring: 0.01 mn\n",
      "euclidean 100 True seurat False\n",
      "\t\tBaron2016_m.Rdata\n"
     ]
    },
    {
     "name": "stderr",
     "output_type": "stream",
     "text": [
      "/home/jo/anaconda3/envs/w/lib/python3.7/site-packages/pandas/core/arrays/categorical.py:2487: FutureWarning: The `inplace` parameter in pandas.Categorical.remove_unused_categories is deprecated and will be removed in a future version.\n",
      "  res = method(*args, **kwargs)\n"
     ]
    },
    {
     "name": "stdout",
     "output_type": "stream",
     "text": [
      "\t\tseurat norm retained 2867 genes\n",
      "\t\t\tScoring: 0.17 mn\n",
      "\t\tDarmanis2015.Rdata\n",
      "\t\tseurat norm retained 7946 genes\n",
      "\t\t\tScoring: 0.14 mn\n",
      "\t\tDeng2014_raw.Rdata\n"
     ]
    },
    {
     "name": "stderr",
     "output_type": "stream",
     "text": [
      "/home/jo/anaconda3/envs/w/lib/python3.7/site-packages/pandas/core/arrays/categorical.py:2487: FutureWarning: The `inplace` parameter in pandas.Categorical.remove_unused_categories is deprecated and will be removed in a future version.\n",
      "  res = method(*args, **kwargs)\n"
     ]
    },
    {
     "name": "stdout",
     "output_type": "stream",
     "text": [
      "\t\tseurat norm retained 6633 genes\n",
      "\t\t\tScoring: 0.13 mn\n",
      "\t\tGoolam2016.Rdata\n"
     ]
    },
    {
     "name": "stderr",
     "output_type": "stream",
     "text": [
      "/home/jo/anaconda3/envs/w/lib/python3.7/site-packages/pandas/core/arrays/categorical.py:2487: FutureWarning: The `inplace` parameter in pandas.Categorical.remove_unused_categories is deprecated and will be removed in a future version.\n",
      "  res = method(*args, **kwargs)\n"
     ]
    },
    {
     "name": "stdout",
     "output_type": "stream",
     "text": [
      "\t\tseurat norm retained 7752 genes\n",
      "\t\t\tScoring: 0.05 mn\n",
      "\t\tKlein2015.Rdata\n"
     ]
    },
    {
     "name": "stderr",
     "output_type": "stream",
     "text": [
      "/home/jo/anaconda3/envs/w/lib/python3.7/site-packages/pandas/core/arrays/categorical.py:2487: FutureWarning: The `inplace` parameter in pandas.Categorical.remove_unused_categories is deprecated and will be removed in a future version.\n",
      "  res = method(*args, **kwargs)\n"
     ]
    },
    {
     "name": "stdout",
     "output_type": "stream",
     "text": [
      "\t\tseurat norm retained 5704 genes\n",
      "\t\t\tScoring: 1.33 mn\n",
      "\t\tkolodziejczyk.rds\n"
     ]
    },
    {
     "name": "stderr",
     "output_type": "stream",
     "text": [
      "/home/jo/anaconda3/envs/w/lib/python3.7/site-packages/pandas/core/arrays/categorical.py:2487: FutureWarning: The `inplace` parameter in pandas.Categorical.remove_unused_categories is deprecated and will be removed in a future version.\n",
      "  res = method(*args, **kwargs)\n"
     ]
    },
    {
     "name": "stdout",
     "output_type": "stream",
     "text": [
      "\t\tseurat norm retained 8205 genes\n",
      "\t\t\tScoring: 0.81 mn\n",
      "\t\tLi2017.Rdata\n"
     ]
    },
    {
     "name": "stderr",
     "output_type": "stream",
     "text": [
      "/home/jo/anaconda3/envs/w/lib/python3.7/site-packages/pandas/core/arrays/categorical.py:2487: FutureWarning: The `inplace` parameter in pandas.Categorical.remove_unused_categories is deprecated and will be removed in a future version.\n",
      "  res = method(*args, **kwargs)\n"
     ]
    },
    {
     "name": "stdout",
     "output_type": "stream",
     "text": [
      "\t\tseurat norm retained 10477 genes\n",
      "\t\t\tScoring: 0.15 mn\n",
      "\t\tRomanov2016.Rdata\n"
     ]
    },
    {
     "name": "stderr",
     "output_type": "stream",
     "text": [
      "/home/jo/anaconda3/envs/w/lib/python3.7/site-packages/pandas/core/arrays/categorical.py:2487: FutureWarning: The `inplace` parameter in pandas.Categorical.remove_unused_categories is deprecated and will be removed in a future version.\n",
      "  res = method(*args, **kwargs)\n"
     ]
    },
    {
     "name": "stdout",
     "output_type": "stream",
     "text": [
      "\t\tseurat norm retained 4434 genes\n",
      "\t\t\tScoring: 0.41 mn\n",
      "\t\tTasic2016_raw.Rdata\n"
     ]
    },
    {
     "name": "stderr",
     "output_type": "stream",
     "text": [
      "/home/jo/anaconda3/envs/w/lib/python3.7/site-packages/pandas/core/arrays/categorical.py:2487: FutureWarning: The `inplace` parameter in pandas.Categorical.remove_unused_categories is deprecated and will be removed in a future version.\n",
      "  res = method(*args, **kwargs)\n"
     ]
    },
    {
     "name": "stdout",
     "output_type": "stream",
     "text": [
      "\t\tseurat norm retained 6392 genes\n",
      "\t\t\tScoring: 0.28 mn\n",
      "\t\tZeisel2015.Rdata\n"
     ]
    },
    {
     "name": "stderr",
     "output_type": "stream",
     "text": [
      "/home/jo/anaconda3/envs/w/lib/python3.7/site-packages/pandas/core/arrays/categorical.py:2487: FutureWarning: The `inplace` parameter in pandas.Categorical.remove_unused_categories is deprecated and will be removed in a future version.\n",
      "  res = method(*args, **kwargs)\n"
     ]
    },
    {
     "name": "stdout",
     "output_type": "stream",
     "text": [
      "\t\tseurat norm retained 4180 genes\n",
      "\t\t\tScoring: 0.33 mn\n",
      "\t\tBiase2014.Rdata\n",
      "\t\tseurat norm retained 5487 genes\n",
      "\t\t\tScoring: 0.01 mn\n",
      "\t\tDeng2014_rpkm.Rdata\n"
     ]
    },
    {
     "name": "stderr",
     "output_type": "stream",
     "text": [
      "/home/jo/anaconda3/envs/w/lib/python3.7/site-packages/pandas/core/arrays/categorical.py:2487: FutureWarning: The `inplace` parameter in pandas.Categorical.remove_unused_categories is deprecated and will be removed in a future version.\n",
      "  res = method(*args, **kwargs)\n"
     ]
    },
    {
     "name": "stdout",
     "output_type": "stream",
     "text": [
      "\t\tseurat norm retained 6401 genes\n",
      "\t\t\tScoring: 0.07 mn\n",
      "\t\tSegerstolpe2016.Rdata\n",
      "\t\tseurat norm retained 4750 genes\n",
      "\t\t\tScoring: 0.56 mn\n",
      "\t\tTasic2016_rpkm.Rdata\n"
     ]
    },
    {
     "name": "stderr",
     "output_type": "stream",
     "text": [
      "/home/jo/anaconda3/envs/w/lib/python3.7/site-packages/pandas/core/arrays/categorical.py:2487: FutureWarning: The `inplace` parameter in pandas.Categorical.remove_unused_categories is deprecated and will be removed in a future version.\n",
      "  res = method(*args, **kwargs)\n"
     ]
    },
    {
     "name": "stdout",
     "output_type": "stream",
     "text": [
      "\t\tseurat norm retained 4864 genes\n",
      "\t\t\tScoring: 0.38 mn\n",
      "\t\tTreutlein.Rdata\n"
     ]
    },
    {
     "name": "stderr",
     "output_type": "stream",
     "text": [
      "/home/jo/anaconda3/envs/w/lib/python3.7/site-packages/pandas/core/arrays/categorical.py:2487: FutureWarning: The `inplace` parameter in pandas.Categorical.remove_unused_categories is deprecated and will be removed in a future version.\n",
      "  res = method(*args, **kwargs)\n"
     ]
    },
    {
     "name": "stdout",
     "output_type": "stream",
     "text": [
      "\t\tseurat norm retained 3854 genes\n",
      "\t\t\tScoring: 0.04 mn\n",
      "\t\tYan2013.Rdata\n"
     ]
    },
    {
     "name": "stderr",
     "output_type": "stream",
     "text": [
      "/home/jo/anaconda3/envs/w/lib/python3.7/site-packages/pandas/core/arrays/categorical.py:2487: FutureWarning: The `inplace` parameter in pandas.Categorical.remove_unused_categories is deprecated and will be removed in a future version.\n",
      "  res = method(*args, **kwargs)\n"
     ]
    },
    {
     "name": "stdout",
     "output_type": "stream",
     "text": [
      "\t\tseurat norm retained 5804 genes\n",
      "\t\t\tScoring: 0.02 mn\n",
      "euclidean 500 True duo True\n",
      "\t\tBaron2016_m.Rdata\n"
     ]
    },
    {
     "name": "stderr",
     "output_type": "stream",
     "text": [
      "/home/jo/anaconda3/envs/w/lib/python3.7/site-packages/pandas/core/arrays/categorical.py:2487: FutureWarning: The `inplace` parameter in pandas.Categorical.remove_unused_categories is deprecated and will be removed in a future version.\n",
      "  res = method(*args, **kwargs)\n"
     ]
    },
    {
     "name": "stdout",
     "output_type": "stream",
     "text": [
      "\t\tduo norm retained 5000 genes\n",
      "\t\t\tScoring: 1.34 mn\n",
      "\t\tDarmanis2015.Rdata\n",
      "\t\tduo norm retained 5000 genes\n",
      "\t\t\tScoring: 0.25 mn\n",
      "\t\tDeng2014_raw.Rdata\n"
     ]
    },
    {
     "name": "stderr",
     "output_type": "stream",
     "text": [
      "/home/jo/anaconda3/envs/w/lib/python3.7/site-packages/pandas/core/arrays/categorical.py:2487: FutureWarning: The `inplace` parameter in pandas.Categorical.remove_unused_categories is deprecated and will be removed in a future version.\n",
      "  res = method(*args, **kwargs)\n"
     ]
    },
    {
     "name": "stdout",
     "output_type": "stream",
     "text": [
      "\t\tduo norm retained 5000 genes\n",
      "\t\t\tScoring: 0.15 mn\n",
      "\t\tGoolam2016.Rdata\n"
     ]
    },
    {
     "name": "stderr",
     "output_type": "stream",
     "text": [
      "/home/jo/anaconda3/envs/w/lib/python3.7/site-packages/pandas/core/arrays/categorical.py:2487: FutureWarning: The `inplace` parameter in pandas.Categorical.remove_unused_categories is deprecated and will be removed in a future version.\n",
      "  res = method(*args, **kwargs)\n"
     ]
    },
    {
     "name": "stdout",
     "output_type": "stream",
     "text": [
      "\t\tduo norm retained 5000 genes\n",
      "\t\t\tScoring: 0.04 mn\n",
      "\t\tKlein2015.Rdata\n"
     ]
    },
    {
     "name": "stderr",
     "output_type": "stream",
     "text": [
      "/home/jo/anaconda3/envs/w/lib/python3.7/site-packages/pandas/core/arrays/categorical.py:2487: FutureWarning: The `inplace` parameter in pandas.Categorical.remove_unused_categories is deprecated and will be removed in a future version.\n",
      "  res = method(*args, **kwargs)\n"
     ]
    },
    {
     "name": "stdout",
     "output_type": "stream",
     "text": [
      "\t\tduo norm retained 5000 genes\n",
      "\t\t\tScoring: 1.53 mn\n",
      "\t\tkolodziejczyk.rds\n"
     ]
    },
    {
     "name": "stderr",
     "output_type": "stream",
     "text": [
      "/home/jo/anaconda3/envs/w/lib/python3.7/site-packages/pandas/core/arrays/categorical.py:2487: FutureWarning: The `inplace` parameter in pandas.Categorical.remove_unused_categories is deprecated and will be removed in a future version.\n",
      "  res = method(*args, **kwargs)\n"
     ]
    },
    {
     "name": "stdout",
     "output_type": "stream",
     "text": [
      "\t\tduo norm retained 5000 genes\n",
      "\t\t\tScoring: 0.21 mn\n",
      "\t\tLi2017.Rdata\n"
     ]
    },
    {
     "name": "stderr",
     "output_type": "stream",
     "text": [
      "/home/jo/anaconda3/envs/w/lib/python3.7/site-packages/pandas/core/arrays/categorical.py:2487: FutureWarning: The `inplace` parameter in pandas.Categorical.remove_unused_categories is deprecated and will be removed in a future version.\n",
      "  res = method(*args, **kwargs)\n"
     ]
    },
    {
     "name": "stdout",
     "output_type": "stream",
     "text": [
      "\t\tduo norm retained 5000 genes\n",
      "\t\t\tScoring: 0.16 mn\n",
      "\t\tRomanov2016.Rdata\n"
     ]
    },
    {
     "name": "stderr",
     "output_type": "stream",
     "text": [
      "/home/jo/anaconda3/envs/w/lib/python3.7/site-packages/pandas/core/arrays/categorical.py:2487: FutureWarning: The `inplace` parameter in pandas.Categorical.remove_unused_categories is deprecated and will be removed in a future version.\n",
      "  res = method(*args, **kwargs)\n"
     ]
    },
    {
     "name": "stdout",
     "output_type": "stream",
     "text": [
      "\t\tduo norm retained 5000 genes\n",
      "\t\t\tScoring: 0.85 mn\n",
      "\t\tTasic2016_raw.Rdata\n"
     ]
    },
    {
     "name": "stderr",
     "output_type": "stream",
     "text": [
      "/home/jo/anaconda3/envs/w/lib/python3.7/site-packages/pandas/core/arrays/categorical.py:2487: FutureWarning: The `inplace` parameter in pandas.Categorical.remove_unused_categories is deprecated and will be removed in a future version.\n",
      "  res = method(*args, **kwargs)\n"
     ]
    },
    {
     "name": "stdout",
     "output_type": "stream",
     "text": [
      "\t\tduo norm retained 5000 genes\n",
      "\t\t\tScoring: 1.09 mn\n",
      "\t\tZeisel2015.Rdata\n"
     ]
    },
    {
     "name": "stderr",
     "output_type": "stream",
     "text": [
      "/home/jo/anaconda3/envs/w/lib/python3.7/site-packages/pandas/core/arrays/categorical.py:2487: FutureWarning: The `inplace` parameter in pandas.Categorical.remove_unused_categories is deprecated and will be removed in a future version.\n",
      "  res = method(*args, **kwargs)\n"
     ]
    },
    {
     "name": "stdout",
     "output_type": "stream",
     "text": [
      "\t\tduo norm retained 5000 genes\n",
      "\t\t\tScoring: 1.32 mn\n",
      "\t\tBiase2014.Rdata\n",
      "\t\tduo norm retained 5000 genes\n",
      "\t\t\tScoring: 0.01 mn\n",
      "\t\tDeng2014_rpkm.Rdata\n"
     ]
    },
    {
     "name": "stderr",
     "output_type": "stream",
     "text": [
      "/home/jo/anaconda3/envs/w/lib/python3.7/site-packages/pandas/core/arrays/categorical.py:2487: FutureWarning: The `inplace` parameter in pandas.Categorical.remove_unused_categories is deprecated and will be removed in a future version.\n",
      "  res = method(*args, **kwargs)\n"
     ]
    },
    {
     "name": "stdout",
     "output_type": "stream",
     "text": [
      "\t\tduo norm retained 5000 genes\n",
      "\t\t\tScoring: 0.1 mn\n",
      "\t\tSegerstolpe2016.Rdata\n",
      "\t\tduo norm retained 5000 genes\n",
      "\t\t\tScoring: 1.3 mn\n",
      "\t\tTasic2016_rpkm.Rdata\n"
     ]
    },
    {
     "name": "stderr",
     "output_type": "stream",
     "text": [
      "/home/jo/anaconda3/envs/w/lib/python3.7/site-packages/pandas/core/arrays/categorical.py:2487: FutureWarning: The `inplace` parameter in pandas.Categorical.remove_unused_categories is deprecated and will be removed in a future version.\n",
      "  res = method(*args, **kwargs)\n"
     ]
    },
    {
     "name": "stdout",
     "output_type": "stream",
     "text": [
      "\t\tduo norm retained 5000 genes\n",
      "\t\t\tScoring: 0.7 mn\n",
      "\t\tTreutlein.Rdata\n"
     ]
    },
    {
     "name": "stderr",
     "output_type": "stream",
     "text": [
      "/home/jo/anaconda3/envs/w/lib/python3.7/site-packages/pandas/core/arrays/categorical.py:2487: FutureWarning: The `inplace` parameter in pandas.Categorical.remove_unused_categories is deprecated and will be removed in a future version.\n",
      "  res = method(*args, **kwargs)\n"
     ]
    },
    {
     "name": "stdout",
     "output_type": "stream",
     "text": [
      "\t\tduo norm retained 5000 genes\n",
      "\t\t\tScoring: 0.01 mn\n",
      "\t\tYan2013.Rdata\n"
     ]
    },
    {
     "name": "stderr",
     "output_type": "stream",
     "text": [
      "/home/jo/anaconda3/envs/w/lib/python3.7/site-packages/pandas/core/arrays/categorical.py:2487: FutureWarning: The `inplace` parameter in pandas.Categorical.remove_unused_categories is deprecated and will be removed in a future version.\n",
      "  res = method(*args, **kwargs)\n"
     ]
    },
    {
     "name": "stdout",
     "output_type": "stream",
     "text": [
      "\t\tduo norm retained 5000 genes\n",
      "\t\t\tScoring: 0.02 mn\n",
      "euclidean 500 True duo False\n",
      "\t\tBaron2016_m.Rdata\n"
     ]
    },
    {
     "name": "stderr",
     "output_type": "stream",
     "text": [
      "/home/jo/anaconda3/envs/w/lib/python3.7/site-packages/pandas/core/arrays/categorical.py:2487: FutureWarning: The `inplace` parameter in pandas.Categorical.remove_unused_categories is deprecated and will be removed in a future version.\n",
      "  res = method(*args, **kwargs)\n"
     ]
    },
    {
     "name": "stdout",
     "output_type": "stream",
     "text": [
      "\t\tduo norm retained 5000 genes\n",
      "\t\t\tScoring: 0.87 mn\n",
      "\t\tDarmanis2015.Rdata\n",
      "\t\tduo norm retained 5000 genes\n",
      "\t\t\tScoring: 0.05 mn\n",
      "\t\tDeng2014_raw.Rdata\n"
     ]
    },
    {
     "name": "stderr",
     "output_type": "stream",
     "text": [
      "/home/jo/anaconda3/envs/w/lib/python3.7/site-packages/pandas/core/arrays/categorical.py:2487: FutureWarning: The `inplace` parameter in pandas.Categorical.remove_unused_categories is deprecated and will be removed in a future version.\n",
      "  res = method(*args, **kwargs)\n"
     ]
    },
    {
     "name": "stdout",
     "output_type": "stream",
     "text": [
      "\t\tduo norm retained 5000 genes\n",
      "\t\t\tScoring: 0.02 mn\n",
      "\t\tGoolam2016.Rdata\n"
     ]
    },
    {
     "name": "stderr",
     "output_type": "stream",
     "text": [
      "/home/jo/anaconda3/envs/w/lib/python3.7/site-packages/pandas/core/arrays/categorical.py:2487: FutureWarning: The `inplace` parameter in pandas.Categorical.remove_unused_categories is deprecated and will be removed in a future version.\n",
      "  res = method(*args, **kwargs)\n"
     ]
    },
    {
     "name": "stdout",
     "output_type": "stream",
     "text": [
      "\t\tduo norm retained 5000 genes\n",
      "\t\t\tScoring: 0.03 mn\n",
      "\t\tKlein2015.Rdata\n"
     ]
    },
    {
     "name": "stderr",
     "output_type": "stream",
     "text": [
      "/home/jo/anaconda3/envs/w/lib/python3.7/site-packages/pandas/core/arrays/categorical.py:2487: FutureWarning: The `inplace` parameter in pandas.Categorical.remove_unused_categories is deprecated and will be removed in a future version.\n",
      "  res = method(*args, **kwargs)\n"
     ]
    },
    {
     "name": "stdout",
     "output_type": "stream",
     "text": [
      "\t\tduo norm retained 5000 genes\n",
      "\t\t\tScoring: 1.9 mn\n",
      "\t\tkolodziejczyk.rds\n"
     ]
    },
    {
     "name": "stderr",
     "output_type": "stream",
     "text": [
      "/home/jo/anaconda3/envs/w/lib/python3.7/site-packages/pandas/core/arrays/categorical.py:2487: FutureWarning: The `inplace` parameter in pandas.Categorical.remove_unused_categories is deprecated and will be removed in a future version.\n",
      "  res = method(*args, **kwargs)\n"
     ]
    },
    {
     "name": "stdout",
     "output_type": "stream",
     "text": [
      "\t\tduo norm retained 5000 genes\n",
      "\t\t\tScoring: 0.36 mn\n",
      "\t\tLi2017.Rdata\n"
     ]
    },
    {
     "name": "stderr",
     "output_type": "stream",
     "text": [
      "/home/jo/anaconda3/envs/w/lib/python3.7/site-packages/pandas/core/arrays/categorical.py:2487: FutureWarning: The `inplace` parameter in pandas.Categorical.remove_unused_categories is deprecated and will be removed in a future version.\n",
      "  res = method(*args, **kwargs)\n"
     ]
    },
    {
     "name": "stdout",
     "output_type": "stream",
     "text": [
      "\t\tduo norm retained 5000 genes\n",
      "\t\t\tScoring: 0.14 mn\n",
      "\t\tRomanov2016.Rdata\n"
     ]
    },
    {
     "name": "stderr",
     "output_type": "stream",
     "text": [
      "/home/jo/anaconda3/envs/w/lib/python3.7/site-packages/pandas/core/arrays/categorical.py:2487: FutureWarning: The `inplace` parameter in pandas.Categorical.remove_unused_categories is deprecated and will be removed in a future version.\n",
      "  res = method(*args, **kwargs)\n"
     ]
    },
    {
     "name": "stdout",
     "output_type": "stream",
     "text": [
      "\t\tduo norm retained 5000 genes\n",
      "\t\t\tScoring: 1.23 mn\n",
      "\t\tTasic2016_raw.Rdata\n"
     ]
    },
    {
     "name": "stderr",
     "output_type": "stream",
     "text": [
      "/home/jo/anaconda3/envs/w/lib/python3.7/site-packages/pandas/core/arrays/categorical.py:2487: FutureWarning: The `inplace` parameter in pandas.Categorical.remove_unused_categories is deprecated and will be removed in a future version.\n",
      "  res = method(*args, **kwargs)\n"
     ]
    },
    {
     "name": "stdout",
     "output_type": "stream",
     "text": [
      "\t\tduo norm retained 5000 genes\n",
      "\t\t\tScoring: 0.61 mn\n",
      "\t\tZeisel2015.Rdata\n"
     ]
    },
    {
     "name": "stderr",
     "output_type": "stream",
     "text": [
      "/home/jo/anaconda3/envs/w/lib/python3.7/site-packages/pandas/core/arrays/categorical.py:2487: FutureWarning: The `inplace` parameter in pandas.Categorical.remove_unused_categories is deprecated and will be removed in a future version.\n",
      "  res = method(*args, **kwargs)\n"
     ]
    },
    {
     "name": "stdout",
     "output_type": "stream",
     "text": [
      "\t\tduo norm retained 5000 genes\n",
      "\t\t\tScoring: 1.09 mn\n",
      "\t\tBiase2014.Rdata\n",
      "\t\tduo norm retained 5000 genes\n",
      "\t\t\tScoring: 0.0 mn\n",
      "\t\tDeng2014_rpkm.Rdata\n"
     ]
    },
    {
     "name": "stderr",
     "output_type": "stream",
     "text": [
      "/home/jo/anaconda3/envs/w/lib/python3.7/site-packages/pandas/core/arrays/categorical.py:2487: FutureWarning: The `inplace` parameter in pandas.Categorical.remove_unused_categories is deprecated and will be removed in a future version.\n",
      "  res = method(*args, **kwargs)\n"
     ]
    },
    {
     "name": "stdout",
     "output_type": "stream",
     "text": [
      "\t\tduo norm retained 5000 genes\n",
      "\t\t\tScoring: 0.11 mn\n",
      "\t\tSegerstolpe2016.Rdata\n",
      "\t\tduo norm retained 5000 genes\n",
      "\t\t\tScoring: 1.52 mn\n",
      "\t\tTasic2016_rpkm.Rdata\n"
     ]
    },
    {
     "name": "stderr",
     "output_type": "stream",
     "text": [
      "/home/jo/anaconda3/envs/w/lib/python3.7/site-packages/pandas/core/arrays/categorical.py:2487: FutureWarning: The `inplace` parameter in pandas.Categorical.remove_unused_categories is deprecated and will be removed in a future version.\n",
      "  res = method(*args, **kwargs)\n"
     ]
    },
    {
     "name": "stdout",
     "output_type": "stream",
     "text": [
      "\t\tduo norm retained 5000 genes\n",
      "\t\t\tScoring: 0.6 mn\n",
      "\t\tTreutlein.Rdata\n"
     ]
    },
    {
     "name": "stderr",
     "output_type": "stream",
     "text": [
      "/home/jo/anaconda3/envs/w/lib/python3.7/site-packages/pandas/core/arrays/categorical.py:2487: FutureWarning: The `inplace` parameter in pandas.Categorical.remove_unused_categories is deprecated and will be removed in a future version.\n",
      "  res = method(*args, **kwargs)\n"
     ]
    },
    {
     "name": "stdout",
     "output_type": "stream",
     "text": [
      "\t\tduo norm retained 5000 genes\n",
      "\t\t\tScoring: 0.0 mn\n",
      "\t\tYan2013.Rdata\n"
     ]
    },
    {
     "name": "stderr",
     "output_type": "stream",
     "text": [
      "/home/jo/anaconda3/envs/w/lib/python3.7/site-packages/pandas/core/arrays/categorical.py:2487: FutureWarning: The `inplace` parameter in pandas.Categorical.remove_unused_categories is deprecated and will be removed in a future version.\n",
      "  res = method(*args, **kwargs)\n"
     ]
    },
    {
     "name": "stdout",
     "output_type": "stream",
     "text": [
      "\t\tduo norm retained 5000 genes\n",
      "\t\t\tScoring: 0.0 mn\n",
      "euclidean 500 True seurat True\n",
      "\t\tBaron2016_m.Rdata\n"
     ]
    },
    {
     "name": "stderr",
     "output_type": "stream",
     "text": [
      "/home/jo/anaconda3/envs/w/lib/python3.7/site-packages/pandas/core/arrays/categorical.py:2487: FutureWarning: The `inplace` parameter in pandas.Categorical.remove_unused_categories is deprecated and will be removed in a future version.\n",
      "  res = method(*args, **kwargs)\n"
     ]
    },
    {
     "name": "stdout",
     "output_type": "stream",
     "text": [
      "\t\tseurat norm retained 2867 genes\n",
      "\t\t\tScoring: 1.57 mn\n",
      "\t\tDarmanis2015.Rdata\n",
      "\t\tseurat norm retained 7946 genes\n",
      "\t\t\tScoring: 0.29 mn\n",
      "\t\tDeng2014_raw.Rdata\n"
     ]
    },
    {
     "name": "stderr",
     "output_type": "stream",
     "text": [
      "/home/jo/anaconda3/envs/w/lib/python3.7/site-packages/pandas/core/arrays/categorical.py:2487: FutureWarning: The `inplace` parameter in pandas.Categorical.remove_unused_categories is deprecated and will be removed in a future version.\n",
      "  res = method(*args, **kwargs)\n"
     ]
    },
    {
     "name": "stdout",
     "output_type": "stream",
     "text": [
      "\t\tseurat norm retained 6633 genes\n",
      "\t\t\tScoring: 0.12 mn\n",
      "\t\tGoolam2016.Rdata\n"
     ]
    },
    {
     "name": "stderr",
     "output_type": "stream",
     "text": [
      "/home/jo/anaconda3/envs/w/lib/python3.7/site-packages/pandas/core/arrays/categorical.py:2487: FutureWarning: The `inplace` parameter in pandas.Categorical.remove_unused_categories is deprecated and will be removed in a future version.\n",
      "  res = method(*args, **kwargs)\n"
     ]
    },
    {
     "name": "stdout",
     "output_type": "stream",
     "text": [
      "\t\tseurat norm retained 7752 genes\n",
      "\t\t\tScoring: 0.08 mn\n",
      "\t\tKlein2015.Rdata\n"
     ]
    },
    {
     "name": "stderr",
     "output_type": "stream",
     "text": [
      "/home/jo/anaconda3/envs/w/lib/python3.7/site-packages/pandas/core/arrays/categorical.py:2487: FutureWarning: The `inplace` parameter in pandas.Categorical.remove_unused_categories is deprecated and will be removed in a future version.\n",
      "  res = method(*args, **kwargs)\n"
     ]
    },
    {
     "name": "stdout",
     "output_type": "stream",
     "text": [
      "\t\tseurat norm retained 5704 genes\n",
      "\t\t\tScoring: 1.26 mn\n",
      "\t\tkolodziejczyk.rds\n"
     ]
    },
    {
     "name": "stderr",
     "output_type": "stream",
     "text": [
      "/home/jo/anaconda3/envs/w/lib/python3.7/site-packages/pandas/core/arrays/categorical.py:2487: FutureWarning: The `inplace` parameter in pandas.Categorical.remove_unused_categories is deprecated and will be removed in a future version.\n",
      "  res = method(*args, **kwargs)\n"
     ]
    },
    {
     "name": "stdout",
     "output_type": "stream",
     "text": [
      "\t\tseurat norm retained 8205 genes\n",
      "\t\t\tScoring: 0.43 mn\n",
      "\t\tLi2017.Rdata\n"
     ]
    },
    {
     "name": "stderr",
     "output_type": "stream",
     "text": [
      "/home/jo/anaconda3/envs/w/lib/python3.7/site-packages/pandas/core/arrays/categorical.py:2487: FutureWarning: The `inplace` parameter in pandas.Categorical.remove_unused_categories is deprecated and will be removed in a future version.\n",
      "  res = method(*args, **kwargs)\n"
     ]
    },
    {
     "name": "stdout",
     "output_type": "stream",
     "text": [
      "\t\tseurat norm retained 10477 genes\n",
      "\t\t\tScoring: 0.45 mn\n",
      "\t\tRomanov2016.Rdata\n"
     ]
    },
    {
     "name": "stderr",
     "output_type": "stream",
     "text": [
      "/home/jo/anaconda3/envs/w/lib/python3.7/site-packages/pandas/core/arrays/categorical.py:2487: FutureWarning: The `inplace` parameter in pandas.Categorical.remove_unused_categories is deprecated and will be removed in a future version.\n",
      "  res = method(*args, **kwargs)\n"
     ]
    },
    {
     "name": "stdout",
     "output_type": "stream",
     "text": [
      "\t\tseurat norm retained 4434 genes\n",
      "\t\t\tScoring: 1.21 mn\n",
      "\t\tTasic2016_raw.Rdata\n"
     ]
    },
    {
     "name": "stderr",
     "output_type": "stream",
     "text": [
      "/home/jo/anaconda3/envs/w/lib/python3.7/site-packages/pandas/core/arrays/categorical.py:2487: FutureWarning: The `inplace` parameter in pandas.Categorical.remove_unused_categories is deprecated and will be removed in a future version.\n",
      "  res = method(*args, **kwargs)\n"
     ]
    },
    {
     "name": "stdout",
     "output_type": "stream",
     "text": [
      "\t\tseurat norm retained 6392 genes\n",
      "\t\t\tScoring: 0.75 mn\n",
      "\t\tZeisel2015.Rdata\n"
     ]
    },
    {
     "name": "stderr",
     "output_type": "stream",
     "text": [
      "/home/jo/anaconda3/envs/w/lib/python3.7/site-packages/pandas/core/arrays/categorical.py:2487: FutureWarning: The `inplace` parameter in pandas.Categorical.remove_unused_categories is deprecated and will be removed in a future version.\n",
      "  res = method(*args, **kwargs)\n"
     ]
    },
    {
     "name": "stdout",
     "output_type": "stream",
     "text": [
      "\t\tseurat norm retained 4180 genes\n",
      "\t\t\tScoring: 2.13 mn\n",
      "\t\tBiase2014.Rdata\n",
      "\t\tseurat norm retained 5487 genes\n",
      "\t\t\tScoring: 0.01 mn\n",
      "\t\tDeng2014_rpkm.Rdata\n"
     ]
    },
    {
     "name": "stderr",
     "output_type": "stream",
     "text": [
      "/home/jo/anaconda3/envs/w/lib/python3.7/site-packages/pandas/core/arrays/categorical.py:2487: FutureWarning: The `inplace` parameter in pandas.Categorical.remove_unused_categories is deprecated and will be removed in a future version.\n",
      "  res = method(*args, **kwargs)\n"
     ]
    },
    {
     "name": "stdout",
     "output_type": "stream",
     "text": [
      "\t\tseurat norm retained 6401 genes\n",
      "\t\t\tScoring: 0.04 mn\n",
      "\t\tSegerstolpe2016.Rdata\n",
      "\t\tseurat norm retained 4750 genes\n",
      "\t\t\tScoring: 1.6 mn\n",
      "\t\tTasic2016_rpkm.Rdata\n"
     ]
    },
    {
     "name": "stderr",
     "output_type": "stream",
     "text": [
      "/home/jo/anaconda3/envs/w/lib/python3.7/site-packages/pandas/core/arrays/categorical.py:2487: FutureWarning: The `inplace` parameter in pandas.Categorical.remove_unused_categories is deprecated and will be removed in a future version.\n",
      "  res = method(*args, **kwargs)\n"
     ]
    },
    {
     "name": "stdout",
     "output_type": "stream",
     "text": [
      "\t\tseurat norm retained 4864 genes\n",
      "\t\t\tScoring: 0.69 mn\n",
      "\t\tTreutlein.Rdata\n"
     ]
    },
    {
     "name": "stderr",
     "output_type": "stream",
     "text": [
      "/home/jo/anaconda3/envs/w/lib/python3.7/site-packages/pandas/core/arrays/categorical.py:2487: FutureWarning: The `inplace` parameter in pandas.Categorical.remove_unused_categories is deprecated and will be removed in a future version.\n",
      "  res = method(*args, **kwargs)\n"
     ]
    },
    {
     "name": "stdout",
     "output_type": "stream",
     "text": [
      "\t\tseurat norm retained 3854 genes\n",
      "\t\t\tScoring: 0.03 mn\n",
      "\t\tYan2013.Rdata\n"
     ]
    },
    {
     "name": "stderr",
     "output_type": "stream",
     "text": [
      "/home/jo/anaconda3/envs/w/lib/python3.7/site-packages/pandas/core/arrays/categorical.py:2487: FutureWarning: The `inplace` parameter in pandas.Categorical.remove_unused_categories is deprecated and will be removed in a future version.\n",
      "  res = method(*args, **kwargs)\n"
     ]
    },
    {
     "name": "stdout",
     "output_type": "stream",
     "text": [
      "\t\tseurat norm retained 5804 genes\n",
      "\t\t\tScoring: 0.05 mn\n",
      "euclidean 500 True seurat False\n",
      "\t\tBaron2016_m.Rdata\n"
     ]
    },
    {
     "name": "stderr",
     "output_type": "stream",
     "text": [
      "/home/jo/anaconda3/envs/w/lib/python3.7/site-packages/pandas/core/arrays/categorical.py:2487: FutureWarning: The `inplace` parameter in pandas.Categorical.remove_unused_categories is deprecated and will be removed in a future version.\n",
      "  res = method(*args, **kwargs)\n"
     ]
    },
    {
     "name": "stdout",
     "output_type": "stream",
     "text": [
      "\t\tseurat norm retained 2867 genes\n",
      "\t\t\tScoring: 0.78 mn\n",
      "\t\tDarmanis2015.Rdata\n",
      "\t\tseurat norm retained 7946 genes\n",
      "\t\t\tScoring: 0.11 mn\n",
      "\t\tDeng2014_raw.Rdata\n"
     ]
    },
    {
     "name": "stderr",
     "output_type": "stream",
     "text": [
      "/home/jo/anaconda3/envs/w/lib/python3.7/site-packages/pandas/core/arrays/categorical.py:2487: FutureWarning: The `inplace` parameter in pandas.Categorical.remove_unused_categories is deprecated and will be removed in a future version.\n",
      "  res = method(*args, **kwargs)\n"
     ]
    },
    {
     "name": "stdout",
     "output_type": "stream",
     "text": [
      "\t\tseurat norm retained 6633 genes\n",
      "\t\t\tScoring: 0.06 mn\n",
      "\t\tGoolam2016.Rdata\n"
     ]
    },
    {
     "name": "stderr",
     "output_type": "stream",
     "text": [
      "/home/jo/anaconda3/envs/w/lib/python3.7/site-packages/pandas/core/arrays/categorical.py:2487: FutureWarning: The `inplace` parameter in pandas.Categorical.remove_unused_categories is deprecated and will be removed in a future version.\n",
      "  res = method(*args, **kwargs)\n"
     ]
    },
    {
     "name": "stdout",
     "output_type": "stream",
     "text": [
      "\t\tseurat norm retained 7752 genes\n",
      "\t\t\tScoring: 0.03 mn\n",
      "\t\tKlein2015.Rdata\n"
     ]
    },
    {
     "name": "stderr",
     "output_type": "stream",
     "text": [
      "/home/jo/anaconda3/envs/w/lib/python3.7/site-packages/pandas/core/arrays/categorical.py:2487: FutureWarning: The `inplace` parameter in pandas.Categorical.remove_unused_categories is deprecated and will be removed in a future version.\n",
      "  res = method(*args, **kwargs)\n"
     ]
    },
    {
     "name": "stdout",
     "output_type": "stream",
     "text": [
      "\t\tseurat norm retained 5704 genes\n",
      "\t\t\tScoring: 1.36 mn\n",
      "\t\tkolodziejczyk.rds\n"
     ]
    },
    {
     "name": "stderr",
     "output_type": "stream",
     "text": [
      "/home/jo/anaconda3/envs/w/lib/python3.7/site-packages/pandas/core/arrays/categorical.py:2487: FutureWarning: The `inplace` parameter in pandas.Categorical.remove_unused_categories is deprecated and will be removed in a future version.\n",
      "  res = method(*args, **kwargs)\n"
     ]
    },
    {
     "name": "stdout",
     "output_type": "stream",
     "text": [
      "\t\tseurat norm retained 8205 genes\n",
      "\t\t\tScoring: 0.41 mn\n",
      "\t\tLi2017.Rdata\n"
     ]
    },
    {
     "name": "stderr",
     "output_type": "stream",
     "text": [
      "/home/jo/anaconda3/envs/w/lib/python3.7/site-packages/pandas/core/arrays/categorical.py:2487: FutureWarning: The `inplace` parameter in pandas.Categorical.remove_unused_categories is deprecated and will be removed in a future version.\n",
      "  res = method(*args, **kwargs)\n"
     ]
    },
    {
     "name": "stdout",
     "output_type": "stream",
     "text": [
      "\t\tseurat norm retained 10477 genes\n",
      "\t\t\tScoring: 0.21 mn\n",
      "\t\tRomanov2016.Rdata\n"
     ]
    },
    {
     "name": "stderr",
     "output_type": "stream",
     "text": [
      "/home/jo/anaconda3/envs/w/lib/python3.7/site-packages/pandas/core/arrays/categorical.py:2487: FutureWarning: The `inplace` parameter in pandas.Categorical.remove_unused_categories is deprecated and will be removed in a future version.\n",
      "  res = method(*args, **kwargs)\n"
     ]
    },
    {
     "name": "stdout",
     "output_type": "stream",
     "text": [
      "\t\tseurat norm retained 4434 genes\n",
      "\t\t\tScoring: 1.11 mn\n",
      "\t\tTasic2016_raw.Rdata\n"
     ]
    },
    {
     "name": "stderr",
     "output_type": "stream",
     "text": [
      "/home/jo/anaconda3/envs/w/lib/python3.7/site-packages/pandas/core/arrays/categorical.py:2487: FutureWarning: The `inplace` parameter in pandas.Categorical.remove_unused_categories is deprecated and will be removed in a future version.\n",
      "  res = method(*args, **kwargs)\n"
     ]
    },
    {
     "name": "stdout",
     "output_type": "stream",
     "text": [
      "\t\tseurat norm retained 6392 genes\n",
      "\t\t\tScoring: 0.76 mn\n",
      "\t\tZeisel2015.Rdata\n"
     ]
    },
    {
     "name": "stderr",
     "output_type": "stream",
     "text": [
      "/home/jo/anaconda3/envs/w/lib/python3.7/site-packages/pandas/core/arrays/categorical.py:2487: FutureWarning: The `inplace` parameter in pandas.Categorical.remove_unused_categories is deprecated and will be removed in a future version.\n",
      "  res = method(*args, **kwargs)\n"
     ]
    },
    {
     "name": "stdout",
     "output_type": "stream",
     "text": [
      "\t\tseurat norm retained 4180 genes\n",
      "\t\t\tScoring: 1.34 mn\n",
      "\t\tBiase2014.Rdata\n",
      "\t\tseurat norm retained 5487 genes\n",
      "\t\t\tScoring: 0.0 mn\n",
      "\t\tDeng2014_rpkm.Rdata\n"
     ]
    },
    {
     "name": "stderr",
     "output_type": "stream",
     "text": [
      "/home/jo/anaconda3/envs/w/lib/python3.7/site-packages/pandas/core/arrays/categorical.py:2487: FutureWarning: The `inplace` parameter in pandas.Categorical.remove_unused_categories is deprecated and will be removed in a future version.\n",
      "  res = method(*args, **kwargs)\n"
     ]
    },
    {
     "name": "stdout",
     "output_type": "stream",
     "text": [
      "\t\tseurat norm retained 6401 genes\n",
      "\t\t\tScoring: 0.02 mn\n",
      "\t\tSegerstolpe2016.Rdata\n",
      "\t\tseurat norm retained 4750 genes\n",
      "\t\t\tScoring: 1.19 mn\n",
      "\t\tTasic2016_rpkm.Rdata\n"
     ]
    },
    {
     "name": "stderr",
     "output_type": "stream",
     "text": [
      "/home/jo/anaconda3/envs/w/lib/python3.7/site-packages/pandas/core/arrays/categorical.py:2487: FutureWarning: The `inplace` parameter in pandas.Categorical.remove_unused_categories is deprecated and will be removed in a future version.\n",
      "  res = method(*args, **kwargs)\n"
     ]
    },
    {
     "name": "stdout",
     "output_type": "stream",
     "text": [
      "\t\tseurat norm retained 4864 genes\n",
      "\t\t\tScoring: 1.63 mn\n",
      "\t\tTreutlein.Rdata\n"
     ]
    },
    {
     "name": "stderr",
     "output_type": "stream",
     "text": [
      "/home/jo/anaconda3/envs/w/lib/python3.7/site-packages/pandas/core/arrays/categorical.py:2487: FutureWarning: The `inplace` parameter in pandas.Categorical.remove_unused_categories is deprecated and will be removed in a future version.\n",
      "  res = method(*args, **kwargs)\n"
     ]
    },
    {
     "name": "stdout",
     "output_type": "stream",
     "text": [
      "\t\tseurat norm retained 3854 genes\n",
      "\t\t\tScoring: 0.01 mn\n",
      "\t\tYan2013.Rdata\n"
     ]
    },
    {
     "name": "stderr",
     "output_type": "stream",
     "text": [
      "/home/jo/anaconda3/envs/w/lib/python3.7/site-packages/pandas/core/arrays/categorical.py:2487: FutureWarning: The `inplace` parameter in pandas.Categorical.remove_unused_categories is deprecated and will be removed in a future version.\n",
      "  res = method(*args, **kwargs)\n"
     ]
    },
    {
     "name": "stdout",
     "output_type": "stream",
     "text": [
      "\t\tseurat norm retained 5804 genes\n",
      "\t\t\tScoring: 0.01 mn\n"
     ]
    }
   ],
   "source": [
    "for metric,n_comps,weighted,do_norm,norm_scale in params_list:\n",
    "    print(metric,n_comps,weighted,do_norm,norm_scale)\n",
    "    for fname in fnames:\n",
    "        if get_res_path_raw_sc(fname).split('/')[-1] in os.listdir(resdir):\n",
    "            continue\n",
    "        print('\\t\\t'+fname.split('/')[-1])\n",
    "        x = ro.r.load(fname)\n",
    "        adata = ro.r['sce']    \n",
    "        if 'kolodziejczyk'in fname or 'Treutlein' in fname:\n",
    "            adata.obs['Group']=adata.obs['cell_type1']\n",
    "        results_dict = benchmark_common_functions.scanpy_hubness_analysis(\n",
    "            adata,\n",
    "            do_norm = do_norm,\n",
    "            norm_scale = norm_scale,\n",
    "            do_log = do_log,\n",
    "            do_pca = do_pca,\n",
    "            n_neighbors=int(round(np.sqrt(len(adata)))),\n",
    "            metric=metric,\n",
    "            weighted=weighted,  #weighted adjmat for louvain/leiden clustering ?\n",
    "            seed=seed,\n",
    "            n_comps=n_comps\n",
    "        )\n",
    "\n",
    "        with open(get_res_path_raw_sc(fname.split('/')[-1]),'wb') as f:\n",
    "            pickle.dump(results_dict,f)\n",
    "        %xdel adata\n",
    "        gc.collect()"
   ]
  },
  {
   "cell_type": "code",
   "execution_count": null,
   "metadata": {},
   "outputs": [],
   "source": []
  }
 ],
 "metadata": {
  "kernelspec": {
   "display_name": "Python (w)",
   "language": "python",
   "name": "w"
  },
  "language_info": {
   "codemirror_mode": {
    "name": "ipython",
    "version": 3
   },
   "file_extension": ".py",
   "mimetype": "text/x-python",
   "name": "python",
   "nbconvert_exporter": "python",
   "pygments_lexer": "ipython3",
   "version": "3.7.6"
  }
 },
 "nbformat": 4,
 "nbformat_minor": 4
}
