{
 "cells": [
  {
   "cell_type": "markdown",
   "metadata": {},
   "source": [
    "## To do for hubness\n",
    "- synthetic scRNA data\n",
    "- geosketch, smoothing\n",
    "- mesurer hubness tSNE UMAP PCA\n",
    "- separability vs hubness score\n",
    "- quasi-uniform distributions"
   ]
  },
  {
   "cell_type": "code",
   "execution_count": 13,
   "metadata": {},
   "outputs": [],
   "source": [
    "import numpy as np\n",
    "import skhubness\n",
    "from sklearn.model_selection import cross_val_score\n",
    "from skhubness.neighbors import KNeighborsClassifier"
   ]
  },
  {
   "cell_type": "markdown",
   "metadata": {},
   "source": [
    "### Load data"
   ]
  },
  {
   "cell_type": "code",
   "execution_count": 6,
   "metadata": {},
   "outputs": [
    {
     "name": "stdout",
     "output_type": "stream",
     "text": [
      "X.shape = (300, 20000), y.shape=(300,)\n"
     ]
    }
   ],
   "source": [
    "X, y = skhubness.data.load_dexter()\n",
    "print(f'X.shape = {X.shape}, y.shape={y.shape}')"
   ]
  },
  {
   "cell_type": "markdown",
   "metadata": {},
   "source": [
    "### Basic usage from documentation"
   ]
  },
  {
   "cell_type": "code",
   "execution_count": 14,
   "metadata": {},
   "outputs": [
    {
     "name": "stdout",
     "output_type": "stream",
     "text": [
      "Skewness = 3.977\n",
      "Robin hood index: 0.557\n",
      "Antihub occurrence: 0.177\n",
      "Hub occurrence: 0.646\n",
      "\n",
      "Skewness after MP: 1.060 (reduction of 2.917)\n",
      "Robin hood: 0.308 (reduction of 0.248)\n"
     ]
    }
   ],
   "source": [
    "hub = Hubness(k=10, metric='cosine')\n",
    "hub_mp = Hubness(k=10, metric='cosine',\n",
    "                 hubness='mutual_proximity')\n",
    "\n",
    "hub.fit(X)\n",
    "hub_mp.fit(X)\n",
    "\n",
    "k_skew = hub.score()\n",
    "k_skew_mp = hub_mp.score()\n",
    "\n",
    "print(f'Skewness = {k_skew:.3f}')\n",
    "print(f'Robin hood index: {hub.robinhood_index:.3f}')\n",
    "print(f'Antihub occurrence: {hub.antihub_occurrence:.3f}')\n",
    "print(f'Hub occurrence: {hub.hub_occurrence:.3f}\\n')\n",
    "\n",
    "\n",
    "print(f'Skewness after MP: {k_skew_mp:.3f} '\n",
    "      f'(reduction of {k_skew - k_skew_mp:.3f})')\n",
    "print(f'Robin hood: {hub_mp.robinhood_index:.3f} '\n",
    "      f'(reduction of {hub.robinhood_index - hub_mp.robinhood_index:.3f})')"
   ]
  },
  {
   "cell_type": "code",
   "execution_count": 15,
   "metadata": {},
   "outputs": [
    {
     "name": "stdout",
     "output_type": "stream",
     "text": [
      "Accuracy (vanilla kNN): 0.793\n",
      "Accuracy (kNN with hubness reduction): 0.893\n"
     ]
    }
   ],
   "source": [
    "# vanilla kNN\n",
    "knn_standard = KNeighborsClassifier(n_neighbors=5,\n",
    "                                    metric='cosine')\n",
    "acc_standard = cross_val_score(knn_standard, X, y, cv=5)\n",
    "\n",
    "# kNN with hubness reduction (mutual proximity)\n",
    "knn_mp = KNeighborsClassifier(n_neighbors=5,\n",
    "                              metric='cosine',\n",
    "                              hubness='mutual_proximity')\n",
    "acc_mp = cross_val_score(knn_mp, X, y, cv=5)\n",
    "\n",
    "print(f'Accuracy (vanilla kNN): {acc_standard.mean():.3f}')\n",
    "print(f'Accuracy (kNN with hubness reduction): {acc_mp.mean():.3f}')"
   ]
  },
  {
   "cell_type": "code",
   "execution_count": null,
   "metadata": {},
   "outputs": [],
   "source": []
  }
 ],
 "metadata": {
  "kernelspec": {
   "display_name": "Python 3",
   "language": "python",
   "name": "python3"
  },
  "language_info": {
   "codemirror_mode": {
    "name": "ipython",
    "version": 3
   },
   "file_extension": ".py",
   "mimetype": "text/x-python",
   "name": "python",
   "nbconvert_exporter": "python",
   "pygments_lexer": "ipython3",
   "version": "3.7.4"
  }
 },
 "nbformat": 4,
 "nbformat_minor": 4
}
