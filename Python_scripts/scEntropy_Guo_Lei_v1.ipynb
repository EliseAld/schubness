{
 "cells": [
  {
   "cell_type": "code",
   "execution_count": 1,
   "metadata": {},
   "outputs": [],
   "source": [
    "# https://github.com/jzlei/scEntropy"
   ]
  },
  {
   "cell_type": "code",
   "execution_count": 2,
   "metadata": {},
   "outputs": [],
   "source": [
    "import scEntropy.scEntropy as scEntropy \n",
    "import pandas as pd\n",
    "import os\n",
    "import matplotlib.pyplot as plt\n",
    "import numpy as np"
   ]
  },
  {
   "cell_type": "code",
   "execution_count": 3,
   "metadata": {},
   "outputs": [
    {
     "name": "stdout",
     "output_type": "stream",
     "text": [
      "(23370, 9055)\n",
      "627041.5384870238\n",
      "3051.0781888459414\n"
     ]
    },
    {
     "data": {
      "text/html": [
       "<div>\n",
       "<style scoped>\n",
       "    .dataframe tbody tr th:only-of-type {\n",
       "        vertical-align: middle;\n",
       "    }\n",
       "\n",
       "    .dataframe tbody tr th {\n",
       "        vertical-align: top;\n",
       "    }\n",
       "\n",
       "    .dataframe thead th {\n",
       "        text-align: right;\n",
       "    }\n",
       "</style>\n",
       "<table border=\"1\" class=\"dataframe\">\n",
       "  <thead>\n",
       "    <tr style=\"text-align: right;\">\n",
       "      <th></th>\n",
       "      <th>NTH10.0616A</th>\n",
       "      <th>NTH17.0616A</th>\n",
       "      <th>NTH2.0616A</th>\n",
       "      <th>PTC10.0616A</th>\n",
       "      <th>PTC1.0616A</th>\n",
       "      <th>PTC11.0616A</th>\n",
       "      <th>PTC12.0616A</th>\n",
       "      <th>PTC14.0616A</th>\n",
       "      <th>PTC17.0616A</th>\n",
       "      <th>PTC18.0616A</th>\n",
       "      <th>...</th>\n",
       "      <th>TTY39.20171219</th>\n",
       "      <th>TTY40.20171219</th>\n",
       "      <th>TTY46.20171219</th>\n",
       "      <th>TTY48.20171219</th>\n",
       "      <th>TTY59.20171219</th>\n",
       "      <th>TTY60.20171219</th>\n",
       "      <th>TTY6.20171219</th>\n",
       "      <th>TTY65.20171219</th>\n",
       "      <th>TTY7.20171219</th>\n",
       "      <th>TTY8.20171219</th>\n",
       "    </tr>\n",
       "  </thead>\n",
       "  <tbody>\n",
       "    <tr>\n",
       "      <th>A1BG</th>\n",
       "      <td>0</td>\n",
       "      <td>0</td>\n",
       "      <td>0</td>\n",
       "      <td>0</td>\n",
       "      <td>0</td>\n",
       "      <td>0</td>\n",
       "      <td>0</td>\n",
       "      <td>0</td>\n",
       "      <td>15</td>\n",
       "      <td>0</td>\n",
       "      <td>...</td>\n",
       "      <td>0</td>\n",
       "      <td>0</td>\n",
       "      <td>0</td>\n",
       "      <td>0</td>\n",
       "      <td>0</td>\n",
       "      <td>0</td>\n",
       "      <td>0</td>\n",
       "      <td>0</td>\n",
       "      <td>0</td>\n",
       "      <td>0</td>\n",
       "    </tr>\n",
       "    <tr>\n",
       "      <th>NAT2</th>\n",
       "      <td>0</td>\n",
       "      <td>0</td>\n",
       "      <td>0</td>\n",
       "      <td>0</td>\n",
       "      <td>0</td>\n",
       "      <td>0</td>\n",
       "      <td>0</td>\n",
       "      <td>0</td>\n",
       "      <td>0</td>\n",
       "      <td>0</td>\n",
       "      <td>...</td>\n",
       "      <td>0</td>\n",
       "      <td>0</td>\n",
       "      <td>1</td>\n",
       "      <td>0</td>\n",
       "      <td>0</td>\n",
       "      <td>0</td>\n",
       "      <td>0</td>\n",
       "      <td>0</td>\n",
       "      <td>1</td>\n",
       "      <td>0</td>\n",
       "    </tr>\n",
       "    <tr>\n",
       "      <th>ADA</th>\n",
       "      <td>223</td>\n",
       "      <td>0</td>\n",
       "      <td>0</td>\n",
       "      <td>313</td>\n",
       "      <td>0</td>\n",
       "      <td>2</td>\n",
       "      <td>0</td>\n",
       "      <td>120</td>\n",
       "      <td>166</td>\n",
       "      <td>0</td>\n",
       "      <td>...</td>\n",
       "      <td>571</td>\n",
       "      <td>0</td>\n",
       "      <td>0</td>\n",
       "      <td>0</td>\n",
       "      <td>0</td>\n",
       "      <td>0</td>\n",
       "      <td>0</td>\n",
       "      <td>0</td>\n",
       "      <td>0</td>\n",
       "      <td>0</td>\n",
       "    </tr>\n",
       "    <tr>\n",
       "      <th>CDH2</th>\n",
       "      <td>0</td>\n",
       "      <td>0</td>\n",
       "      <td>0</td>\n",
       "      <td>0</td>\n",
       "      <td>0</td>\n",
       "      <td>0</td>\n",
       "      <td>0</td>\n",
       "      <td>0</td>\n",
       "      <td>0</td>\n",
       "      <td>0</td>\n",
       "      <td>...</td>\n",
       "      <td>0</td>\n",
       "      <td>0</td>\n",
       "      <td>0</td>\n",
       "      <td>0</td>\n",
       "      <td>0</td>\n",
       "      <td>0</td>\n",
       "      <td>0</td>\n",
       "      <td>0</td>\n",
       "      <td>0</td>\n",
       "      <td>0</td>\n",
       "    </tr>\n",
       "    <tr>\n",
       "      <th>AKT3</th>\n",
       "      <td>57</td>\n",
       "      <td>0</td>\n",
       "      <td>0</td>\n",
       "      <td>524</td>\n",
       "      <td>1</td>\n",
       "      <td>0</td>\n",
       "      <td>0</td>\n",
       "      <td>0</td>\n",
       "      <td>0</td>\n",
       "      <td>0</td>\n",
       "      <td>...</td>\n",
       "      <td>0</td>\n",
       "      <td>0</td>\n",
       "      <td>0</td>\n",
       "      <td>0</td>\n",
       "      <td>1</td>\n",
       "      <td>0</td>\n",
       "      <td>0</td>\n",
       "      <td>0</td>\n",
       "      <td>0</td>\n",
       "      <td>0</td>\n",
       "    </tr>\n",
       "  </tbody>\n",
       "</table>\n",
       "<p>5 rows × 9055 columns</p>\n",
       "</div>"
      ],
      "text/plain": [
       "      NTH10.0616A  NTH17.0616A  NTH2.0616A  PTC10.0616A  PTC1.0616A  \\\n",
       "A1BG            0            0           0            0           0   \n",
       "NAT2            0            0           0            0           0   \n",
       "ADA           223            0           0          313           0   \n",
       "CDH2            0            0           0            0           0   \n",
       "AKT3           57            0           0          524           1   \n",
       "\n",
       "      PTC11.0616A  PTC12.0616A  PTC14.0616A  PTC17.0616A  PTC18.0616A  ...  \\\n",
       "A1BG            0            0            0           15            0  ...   \n",
       "NAT2            0            0            0            0            0  ...   \n",
       "ADA             2            0          120          166            0  ...   \n",
       "CDH2            0            0            0            0            0  ...   \n",
       "AKT3            0            0            0            0            0  ...   \n",
       "\n",
       "      TTY39.20171219  TTY40.20171219  TTY46.20171219  TTY48.20171219  \\\n",
       "A1BG               0               0               0               0   \n",
       "NAT2               0               0               1               0   \n",
       "ADA              571               0               0               0   \n",
       "CDH2               0               0               0               0   \n",
       "AKT3               0               0               0               0   \n",
       "\n",
       "      TTY59.20171219  TTY60.20171219  TTY6.20171219  TTY65.20171219  \\\n",
       "A1BG               0               0              0               0   \n",
       "NAT2               0               0              0               0   \n",
       "ADA                0               0              0               0   \n",
       "CDH2               0               0              0               0   \n",
       "AKT3               1               0              0               0   \n",
       "\n",
       "      TTY7.20171219  TTY8.20171219  \n",
       "A1BG              0              0  \n",
       "NAT2              1              0  \n",
       "ADA               0              0  \n",
       "CDH2              0              0  \n",
       "AKT3              0              0  \n",
       "\n",
       "[5 rows x 9055 columns]"
      ]
     },
     "execution_count": 3,
     "metadata": {},
     "output_type": "execute_result"
    }
   ],
   "source": [
    "data_file_path = '/Users/elise/Desktop/Thèse/scRNAseq/Data_sc/Guo_lung_2018/GSE99254_NSCLC.TCell.S9055.count.labeled.txt'\n",
    "data = pd.read_csv(data_file_path, index_col=0, header=0, sep=\" \")\n",
    "print(data.shape)\n",
    "print(np.mean(np.sum(data,axis=0)))\n",
    "print(np.mean(np.sum(data!=0,axis=0)))\n",
    "data.head(5)"
   ]
  },
  {
   "cell_type": "code",
   "execution_count": 4,
   "metadata": {},
   "outputs": [],
   "source": [
    "scentropy = scEntropy.scEntropy(data, ref_vec=None, option='predefined')"
   ]
  },
  {
   "cell_type": "code",
   "execution_count": 5,
   "metadata": {},
   "outputs": [
    {
     "data": {
      "image/png": "[encoded data removed]",
      "text/plain": [
       "<Figure size 432x288 with 1 Axes>"
      ]
     },
     "metadata": {
      "needs_background": "light"
     },
     "output_type": "display_data"
    }
   ],
   "source": [
    "plt.plot(scentropy)\n",
    "plt.show;"
   ]
  },
  {
   "cell_type": "code",
   "execution_count": 6,
   "metadata": {},
   "outputs": [],
   "source": [
    "np.savetxt('/Users/elise/Desktop/Thèse/scRNAseq/Data_sc/Guo_lung_2018/GSE99254_NSCLC.TCell.S9055_scentropy_v1.csv',\n",
    "             scentropy)"
   ]
  },
  {
   "cell_type": "code",
   "execution_count": 7,
   "metadata": {},
   "outputs": [
    {
     "data": {
      "image/png": "[encoded data removed]",
      "text/plain": [
       "<Figure size 432x288 with 1 Axes>"
      ]
     },
     "metadata": {
      "needs_background": "light"
     },
     "output_type": "display_data"
    }
   ],
   "source": [
    "plt.hist(scentropy)\n",
    "plt.show;"
   ]
  },
  {
   "cell_type": "code",
   "execution_count": null,
   "metadata": {},
   "outputs": [],
   "source": []
  }
 ],
 "metadata": {
  "kernelspec": {
   "display_name": "Python 3",
   "language": "python",
   "name": "python3"
  },
  "language_info": {
   "codemirror_mode": {
    "name": "ipython",
    "version": 3
   },
   "file_extension": ".py",
   "mimetype": "text/x-python",
   "name": "python",
   "nbconvert_exporter": "python",
   "pygments_lexer": "ipython3",
   "version": "3.7.2"
  }
 },
 "nbformat": 4,
 "nbformat_minor": 2
}
