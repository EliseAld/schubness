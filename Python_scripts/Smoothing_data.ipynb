{
 "cells": [
  {
   "cell_type": "code",
   "execution_count": 5,
   "metadata": {
    "collapsed": true,
    "jupyter": {
     "outputs_hidden": true
    }
   },
   "outputs": [
    {
     "name": "stdout",
     "output_type": "stream",
     "text": [
      "Collecting geosketch\n",
      "  Downloading https://files.pythonhosted.org/packages/46/9a/1819a9838e7001b6770743a14f7564f7c4112568748102d5112ade70c6ba/geosketch-1.0.tar.gz\n",
      "Collecting fbpca>=1.0\n",
      "  Downloading https://files.pythonhosted.org/packages/a7/a5/2085d0645a4bb4f0b606251b0b7466c61326e4a471d445c1c3761a2d07bc/fbpca-1.0.tar.gz\n",
      "Requirement already satisfied: numpy>=1.12.0 in /home/utilisateur/.local/lib/python3.7/site-packages (from geosketch) (1.17.4)\n",
      "Requirement already satisfied: scikit-learn>=0.20rc1 in /home/utilisateur/anaconda3/lib/python3.7/site-packages (from geosketch) (0.21.3)\n",
      "Requirement already satisfied: scipy>=0.17.0 in /home/utilisateur/.local/lib/python3.7/site-packages (from scikit-learn>=0.20rc1->geosketch) (1.2.0)\n",
      "Requirement already satisfied: joblib>=0.11 in /home/utilisateur/.local/lib/python3.7/site-packages (from scikit-learn>=0.20rc1->geosketch) (0.14.1)\n",
      "Building wheels for collected packages: geosketch, fbpca\n",
      "  Building wheel for geosketch (setup.py) ... \u001b[?25ldone\n",
      "\u001b[?25h  Created wheel for geosketch: filename=geosketch-1.0-cp37-none-any.whl size=7237 sha256=bd1e410d3e6bbc3a2f281301f958583d3f11fd6237f33b8e080408bffa5fcde0\n",
      "  Stored in directory: /home/utilisateur/.cache/pip/wheels/e8/bc/0c/b12c3566c2d605fe880bf658e935f5c66e00f484b9465c7b26\n",
      "  Building wheel for fbpca (setup.py) ... \u001b[?25ldone\n",
      "\u001b[?25h  Created wheel for fbpca: filename=fbpca-1.0-cp37-none-any.whl size=11376 sha256=f4b2ccea773a0fb191092a01ca7ed803a31a9e47c7ec5675828d7ea8894326b7\n",
      "  Stored in directory: /home/utilisateur/.cache/pip/wheels/53/a2/dd/9b66cf53dbc58cec1e613d216689e5fa946d3e7805c30f60dc\n",
      "Successfully built geosketch fbpca\n",
      "Installing collected packages: fbpca, geosketch\n",
      "Successfully installed fbpca-1.0 geosketch-1.0\n",
      "Requirement already satisfied: magic-impute in /home/utilisateur/.local/lib/python3.7/site-packages (2.0.3)\n",
      "Requirement already satisfied: matplotlib in /home/utilisateur/.local/lib/python3.7/site-packages (from magic-impute) (3.1.2)\n",
      "Requirement already satisfied: scipy>=1.1.0 in /home/utilisateur/.local/lib/python3.7/site-packages (from magic-impute) (1.2.0)\n",
      "Requirement already satisfied: numpy>=1.14.0 in /home/utilisateur/.local/lib/python3.7/site-packages (from magic-impute) (1.17.4)\n",
      "Requirement already satisfied: pandas>=0.25 in /home/utilisateur/.local/lib/python3.7/site-packages (from magic-impute) (0.25.3)\n",
      "Requirement already satisfied: scikit-learn>=0.19.1 in /home/utilisateur/anaconda3/lib/python3.7/site-packages (from magic-impute) (0.21.3)\n",
      "Requirement already satisfied: graphtools>=1.4.0 in /home/utilisateur/.local/lib/python3.7/site-packages (from magic-impute) (1.4.1)\n",
      "Requirement already satisfied: future in /home/utilisateur/anaconda3/lib/python3.7/site-packages (from magic-impute) (0.18.2)\n",
      "Requirement already satisfied: scprep>=1.0 in /home/utilisateur/.local/lib/python3.7/site-packages (from magic-impute) (1.0.3)\n",
      "Requirement already satisfied: tasklogger>=1.0.0 in /home/utilisateur/.local/lib/python3.7/site-packages (from magic-impute) (1.0.0)\n",
      "Requirement already satisfied: cycler>=0.10 in /home/utilisateur/anaconda3/lib/python3.7/site-packages (from matplotlib->magic-impute) (0.10.0)\n",
      "Requirement already satisfied: python-dateutil>=2.1 in /home/utilisateur/anaconda3/lib/python3.7/site-packages (from matplotlib->magic-impute) (2.8.1)\n",
      "Requirement already satisfied: pyparsing!=2.0.4,!=2.1.2,!=2.1.6,>=2.0.1 in /home/utilisateur/anaconda3/lib/python3.7/site-packages (from matplotlib->magic-impute) (2.4.5)\n",
      "Requirement already satisfied: kiwisolver>=1.0.1 in /home/utilisateur/anaconda3/lib/python3.7/site-packages (from matplotlib->magic-impute) (1.1.0)\n",
      "Requirement already satisfied: pytz>=2017.2 in /home/utilisateur/anaconda3/lib/python3.7/site-packages (from pandas>=0.25->magic-impute) (2019.3)\n",
      "Requirement already satisfied: joblib>=0.11 in /home/utilisateur/.local/lib/python3.7/site-packages (from scikit-learn>=0.19.1->magic-impute) (0.14.1)\n",
      "Requirement already satisfied: pygsp>=0.5.1 in /home/utilisateur/.local/lib/python3.7/site-packages (from graphtools>=1.4.0->magic-impute) (0.5.1)\n",
      "Requirement already satisfied: decorator>=4.3.0 in /home/utilisateur/anaconda3/lib/python3.7/site-packages (from scprep>=1.0->magic-impute) (4.4.1)\n",
      "Requirement already satisfied: six in /home/utilisateur/anaconda3/lib/python3.7/site-packages (from cycler>=0.10->matplotlib->magic-impute) (1.13.0)\n",
      "Requirement already satisfied: setuptools in /home/utilisateur/anaconda3/lib/python3.7/site-packages (from kiwisolver>=1.0.1->matplotlib->magic-impute) (42.0.2.post20191203)\n"
     ]
    }
   ],
   "source": [
    "!pip install geosketch\n",
    "!pip install magic-impute"
   ]
  },
  {
   "cell_type": "code",
   "execution_count": 6,
   "metadata": {},
   "outputs": [],
   "source": [
    "import magic\n",
    "import geosketch\n",
    "from fbpca import pca\n",
    "import pandas as pd\n",
    "import matplotlib.pyplot as plt"
   ]
  },
  {
   "cell_type": "code",
   "execution_count": null,
   "metadata": {},
   "outputs": [
    {
     "name": "stdout",
     "output_type": "stream",
     "text": [
      "Calculating MAGIC...\n",
      "  Running MAGIC on 500 cells and 197 genes.\n",
      "  Calculating graph and diffusion operator...\n",
      "    Calculating PCA...\n"
     ]
    },
    {
     "name": "stderr",
     "output_type": "stream",
     "text": [
      "/home/utilisateur/.local/lib/python3.7/site-packages/magic/magic.py:472: UserWarning: Input matrix contains unexpressed genes. Please remove them prior to running MAGIC.\n",
      "  \"Input matrix contains unexpressed genes. \"\n"
     ]
    },
    {
     "name": "stdout",
     "output_type": "stream",
     "text": [
      "    Calculated PCA in 0.55 seconds.\n",
      "    Calculating KNN search...\n",
      "    Calculated KNN search in 0.12 seconds.\n",
      "    Calculating affinities...\n",
      "    Calculated affinities in 0.05 seconds.\n",
      "  Calculated graph and diffusion operator in 0.74 seconds.\n",
      "  Calculating imputation...\n",
      "Calculated MAGIC in 0.75 seconds.\n"
     ]
    },
    {
     "name": "stderr",
     "output_type": "stream",
     "text": [
      "/home/utilisateur/.local/lib/python3.7/site-packages/graphtools/graphs.py:291: RuntimeWarning: Detected zero distance between 20 pairs of samples. Consider removing duplicates to avoid errors in downstream processing.\n",
      "  RuntimeWarning,\n"
     ]
    },
    {
     "data": {
      "image/png": "[encoded data removed]",
      "text/plain": [
       "<Figure size 432x288 with 1 Axes>"
      ]
     },
     "metadata": {
      "needs_background": "light"
     },
     "output_type": "display_data"
    }
   ],
   "source": [
    "# Magic example\n",
    "X = pd.read_csv(\"../data/test_data.csv\")\n",
    "magic_operator = magic.MAGIC()\n",
    "X_magic = magic_operator.fit_transform(X, genes=['VIM', 'CDH1', 'ZEB1'])\n",
    "plt.scatter(X_magic['VIM'], X_magic['CDH1'], c=X_magic['ZEB1'], s=1, cmap='inferno')\n",
    "plt.show()\n",
    "magic.plot.animate_magic(X, gene_x='VIM', gene_y='CDH1', gene_color='ZEB1', operator=magic_operator)"
   ]
  },
  {
   "cell_type": "code",
   "execution_count": 12,
   "metadata": {},
   "outputs": [
    {
     "ename": "AttributeError",
     "evalue": "'numpy.ndarray' object has no attribute 'to_numpy'",
     "output_type": "error",
     "traceback": [
      "\u001b[0;31m---------------------------------------------------------------------------\u001b[0m",
      "\u001b[0;31mAttributeError\u001b[0m                            Traceback (most recent call last)",
      "\u001b[0;32m<ipython-input-12-9ab27c96b264>\u001b[0m in \u001b[0;36m<module>\u001b[0;34m\u001b[0m\n\u001b[0;32m----> 1\u001b[0;31m \u001b[0mX\u001b[0m\u001b[0;34m=\u001b[0m\u001b[0mX\u001b[0m\u001b[0;34m.\u001b[0m\u001b[0mto_numpy\u001b[0m\u001b[0;34m(\u001b[0m\u001b[0;34m)\u001b[0m\u001b[0;34m\u001b[0m\u001b[0;34m\u001b[0m\u001b[0m\n\u001b[0m\u001b[1;32m      2\u001b[0m \u001b[0;31m# Compute PCs.\u001b[0m\u001b[0;34m\u001b[0m\u001b[0;34m\u001b[0m\u001b[0;34m\u001b[0m\u001b[0m\n\u001b[1;32m      3\u001b[0m \u001b[0mU\u001b[0m\u001b[0;34m,\u001b[0m \u001b[0ms\u001b[0m\u001b[0;34m,\u001b[0m \u001b[0mVt\u001b[0m \u001b[0;34m=\u001b[0m \u001b[0mpca\u001b[0m\u001b[0;34m(\u001b[0m\u001b[0mX\u001b[0m\u001b[0;34m,\u001b[0m \u001b[0mk\u001b[0m\u001b[0;34m=\u001b[0m\u001b[0;36m100\u001b[0m\u001b[0;34m)\u001b[0m \u001b[0;31m# E.g., 100 PCs.\u001b[0m\u001b[0;34m\u001b[0m\u001b[0;34m\u001b[0m\u001b[0m\n\u001b[1;32m      4\u001b[0m \u001b[0mX_dimred\u001b[0m \u001b[0;34m=\u001b[0m \u001b[0mU\u001b[0m\u001b[0;34m[\u001b[0m\u001b[0;34m:\u001b[0m\u001b[0;34m,\u001b[0m \u001b[0;34m:\u001b[0m\u001b[0;36m100\u001b[0m\u001b[0;34m]\u001b[0m \u001b[0;34m*\u001b[0m \u001b[0ms\u001b[0m\u001b[0;34m[\u001b[0m\u001b[0;34m:\u001b[0m\u001b[0;36m100\u001b[0m\u001b[0;34m]\u001b[0m\u001b[0;34m\u001b[0m\u001b[0;34m\u001b[0m\u001b[0m\n\u001b[1;32m      5\u001b[0m \u001b[0;31m# Sketch.\u001b[0m\u001b[0;34m\u001b[0m\u001b[0;34m\u001b[0m\u001b[0;34m\u001b[0m\u001b[0m\n",
      "\u001b[0;31mAttributeError\u001b[0m: 'numpy.ndarray' object has no attribute 'to_numpy'"
     ]
    }
   ],
   "source": [
    "X_np=X.to_numpy()\n",
    "# Compute PCs.\n",
    "U, s, Vt = pca(X_np, k=100) # E.g., 100 PCs.\n",
    "X_dimred = U[:, :100] * s[:100]\n",
    "# Sketch.\n",
    "N = 20000 # Number of samples to obtain from the data set.\n",
    "sketch_index = geosketch.gs(X_dimred, N, replace=False)\n",
    "\n",
    "X_sketch = X_dimred[sketch_index]"
   ]
  },
  {
   "cell_type": "code",
   "execution_count": null,
   "metadata": {},
   "outputs": [],
   "source": []
  }
 ],
 "metadata": {
  "kernelspec": {
   "display_name": "Python 3",
   "language": "python",
   "name": "python3"
  },
  "language_info": {
   "codemirror_mode": {
    "name": "ipython",
    "version": 3
   },
   "file_extension": ".py",
   "mimetype": "text/x-python",
   "name": "python",
   "nbconvert_exporter": "python",
   "pygments_lexer": "ipython3",
   "version": "3.7.4"
  }
 },
 "nbformat": 4,
 "nbformat_minor": 4
}
