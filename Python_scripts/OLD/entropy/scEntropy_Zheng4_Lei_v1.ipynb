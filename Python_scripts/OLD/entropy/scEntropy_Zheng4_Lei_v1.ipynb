{
 "cells": [
  {
   "cell_type": "code",
   "execution_count": 1,
   "metadata": {},
   "outputs": [],
   "source": [
    "# https://github.com/jzlei/scEntropy"
   ]
  },
  {
   "cell_type": "code",
   "execution_count": 2,
   "metadata": {},
   "outputs": [],
   "source": [
    "import scEntropy.scEntropy as scEntropy \n",
    "import pandas as pd\n",
    "import os\n",
    "import matplotlib.pyplot as plt\n",
    "import numpy as np"
   ]
  },
  {
   "cell_type": "code",
   "execution_count": 3,
   "metadata": {},
   "outputs": [
    {
     "name": "stdout",
     "output_type": "stream",
     "text": [
      "(12885, 3992)\n",
      "1353.6400300601204\n",
      "522.9473947895791\n"
     ]
    },
    {
     "data": {
      "text/html": [
       "<div>\n",
       "<style scoped>\n",
       "    .dataframe tbody tr th:only-of-type {\n",
       "        vertical-align: middle;\n",
       "    }\n",
       "\n",
       "    .dataframe tbody tr th {\n",
       "        vertical-align: top;\n",
       "    }\n",
       "\n",
       "    .dataframe thead th {\n",
       "        text-align: right;\n",
       "    }\n",
       "</style>\n",
       "<table border=\"1\" class=\"dataframe\">\n",
       "  <thead>\n",
       "    <tr style=\"text-align: right;\">\n",
       "      <th></th>\n",
       "      <th>b.cells1147</th>\n",
       "      <th>b.cells6276</th>\n",
       "      <th>b.cells6144</th>\n",
       "      <th>b.cells6285</th>\n",
       "      <th>b.cells8679</th>\n",
       "      <th>b.cells6455</th>\n",
       "      <th>b.cells96</th>\n",
       "      <th>b.cells2344</th>\n",
       "      <th>b.cells6713</th>\n",
       "      <th>b.cells5182</th>\n",
       "      <th>...</th>\n",
       "      <th>regulatory.t9768</th>\n",
       "      <th>regulatory.t2795</th>\n",
       "      <th>regulatory.t8428</th>\n",
       "      <th>regulatory.t52</th>\n",
       "      <th>regulatory.t5542</th>\n",
       "      <th>regulatory.t65</th>\n",
       "      <th>regulatory.t783</th>\n",
       "      <th>regulatory.t5413</th>\n",
       "      <th>regulatory.t1084</th>\n",
       "      <th>regulatory.t9696</th>\n",
       "    </tr>\n",
       "  </thead>\n",
       "  <tbody>\n",
       "    <tr>\n",
       "      <th>ENSG00000237683</th>\n",
       "      <td>0</td>\n",
       "      <td>0</td>\n",
       "      <td>0</td>\n",
       "      <td>0</td>\n",
       "      <td>0</td>\n",
       "      <td>0</td>\n",
       "      <td>0</td>\n",
       "      <td>0</td>\n",
       "      <td>0</td>\n",
       "      <td>0</td>\n",
       "      <td>...</td>\n",
       "      <td>0</td>\n",
       "      <td>0</td>\n",
       "      <td>0</td>\n",
       "      <td>0</td>\n",
       "      <td>0</td>\n",
       "      <td>0</td>\n",
       "      <td>0</td>\n",
       "      <td>0</td>\n",
       "      <td>0</td>\n",
       "      <td>0</td>\n",
       "    </tr>\n",
       "    <tr>\n",
       "      <th>ENSG00000228327</th>\n",
       "      <td>1</td>\n",
       "      <td>0</td>\n",
       "      <td>0</td>\n",
       "      <td>0</td>\n",
       "      <td>0</td>\n",
       "      <td>0</td>\n",
       "      <td>0</td>\n",
       "      <td>0</td>\n",
       "      <td>0</td>\n",
       "      <td>0</td>\n",
       "      <td>...</td>\n",
       "      <td>0</td>\n",
       "      <td>0</td>\n",
       "      <td>0</td>\n",
       "      <td>0</td>\n",
       "      <td>0</td>\n",
       "      <td>0</td>\n",
       "      <td>0</td>\n",
       "      <td>0</td>\n",
       "      <td>0</td>\n",
       "      <td>0</td>\n",
       "    </tr>\n",
       "    <tr>\n",
       "      <th>ENSG00000237491</th>\n",
       "      <td>0</td>\n",
       "      <td>0</td>\n",
       "      <td>0</td>\n",
       "      <td>0</td>\n",
       "      <td>0</td>\n",
       "      <td>0</td>\n",
       "      <td>0</td>\n",
       "      <td>0</td>\n",
       "      <td>0</td>\n",
       "      <td>0</td>\n",
       "      <td>...</td>\n",
       "      <td>0</td>\n",
       "      <td>0</td>\n",
       "      <td>0</td>\n",
       "      <td>0</td>\n",
       "      <td>0</td>\n",
       "      <td>0</td>\n",
       "      <td>0</td>\n",
       "      <td>0</td>\n",
       "      <td>0</td>\n",
       "      <td>0</td>\n",
       "    </tr>\n",
       "    <tr>\n",
       "      <th>ENSG00000225880</th>\n",
       "      <td>0</td>\n",
       "      <td>0</td>\n",
       "      <td>0</td>\n",
       "      <td>0</td>\n",
       "      <td>0</td>\n",
       "      <td>0</td>\n",
       "      <td>0</td>\n",
       "      <td>0</td>\n",
       "      <td>0</td>\n",
       "      <td>0</td>\n",
       "      <td>...</td>\n",
       "      <td>0</td>\n",
       "      <td>0</td>\n",
       "      <td>0</td>\n",
       "      <td>1</td>\n",
       "      <td>0</td>\n",
       "      <td>0</td>\n",
       "      <td>0</td>\n",
       "      <td>0</td>\n",
       "      <td>0</td>\n",
       "      <td>0</td>\n",
       "    </tr>\n",
       "    <tr>\n",
       "      <th>ENSG00000188976</th>\n",
       "      <td>0</td>\n",
       "      <td>0</td>\n",
       "      <td>0</td>\n",
       "      <td>0</td>\n",
       "      <td>0</td>\n",
       "      <td>0</td>\n",
       "      <td>0</td>\n",
       "      <td>0</td>\n",
       "      <td>0</td>\n",
       "      <td>0</td>\n",
       "      <td>...</td>\n",
       "      <td>0</td>\n",
       "      <td>0</td>\n",
       "      <td>0</td>\n",
       "      <td>0</td>\n",
       "      <td>0</td>\n",
       "      <td>0</td>\n",
       "      <td>0</td>\n",
       "      <td>0</td>\n",
       "      <td>0</td>\n",
       "      <td>0</td>\n",
       "    </tr>\n",
       "  </tbody>\n",
       "</table>\n",
       "<p>5 rows × 3992 columns</p>\n",
       "</div>"
      ],
      "text/plain": [
       "                 b.cells1147  b.cells6276  b.cells6144  b.cells6285  \\\n",
       "ENSG00000237683            0            0            0            0   \n",
       "ENSG00000228327            1            0            0            0   \n",
       "ENSG00000237491            0            0            0            0   \n",
       "ENSG00000225880            0            0            0            0   \n",
       "ENSG00000188976            0            0            0            0   \n",
       "\n",
       "                 b.cells8679  b.cells6455  b.cells96  b.cells2344  \\\n",
       "ENSG00000237683            0            0          0            0   \n",
       "ENSG00000228327            0            0          0            0   \n",
       "ENSG00000237491            0            0          0            0   \n",
       "ENSG00000225880            0            0          0            0   \n",
       "ENSG00000188976            0            0          0            0   \n",
       "\n",
       "                 b.cells6713  b.cells5182  ...  regulatory.t9768  \\\n",
       "ENSG00000237683            0            0  ...                 0   \n",
       "ENSG00000228327            0            0  ...                 0   \n",
       "ENSG00000237491            0            0  ...                 0   \n",
       "ENSG00000225880            0            0  ...                 0   \n",
       "ENSG00000188976            0            0  ...                 0   \n",
       "\n",
       "                 regulatory.t2795  regulatory.t8428  regulatory.t52  \\\n",
       "ENSG00000237683                 0                 0               0   \n",
       "ENSG00000228327                 0                 0               0   \n",
       "ENSG00000237491                 0                 0               0   \n",
       "ENSG00000225880                 0                 0               1   \n",
       "ENSG00000188976                 0                 0               0   \n",
       "\n",
       "                 regulatory.t5542  regulatory.t65  regulatory.t783  \\\n",
       "ENSG00000237683                 0               0                0   \n",
       "ENSG00000228327                 0               0                0   \n",
       "ENSG00000237491                 0               0                0   \n",
       "ENSG00000225880                 0               0                0   \n",
       "ENSG00000188976                 0               0                0   \n",
       "\n",
       "                 regulatory.t5413  regulatory.t1084  regulatory.t9696  \n",
       "ENSG00000237683                 0                 0                 0  \n",
       "ENSG00000228327                 0                 0                 0  \n",
       "ENSG00000237491                 0                 0                 0  \n",
       "ENSG00000225880                 0                 0                 0  \n",
       "ENSG00000188976                 0                 0                 0  \n",
       "\n",
       "[5 rows x 3992 columns]"
      ]
     },
     "execution_count": 3,
     "metadata": {},
     "output_type": "execute_result"
    }
   ],
   "source": [
    "data_file_path = '/Users/elise/Desktop/GitHub/Hubness_sc/data/Zheng4/data.csv'\n",
    "data = pd.read_csv(data_file_path, index_col=0, header=0, sep=\";\")\n",
    "print(data.shape)\n",
    "print(np.mean(np.sum(data,axis=0)))\n",
    "print(np.mean(np.sum(data!=0,axis=0)))\n",
    "data.head(5)"
   ]
  },
  {
   "cell_type": "code",
   "execution_count": 4,
   "metadata": {},
   "outputs": [],
   "source": [
    "scentropy = scEntropy.scEntropy(data, ref_vec=None, option='predefined')"
   ]
  },
  {
   "cell_type": "code",
   "execution_count": 5,
   "metadata": {},
   "outputs": [
    {
     "data": {
      "image/png": "[encoded data removed]",
      "text/plain": [
       "<Figure size 432x288 with 1 Axes>"
      ]
     },
     "metadata": {
      "needs_background": "light"
     },
     "output_type": "display_data"
    }
   ],
   "source": [
    "plt.plot(scentropy)\n",
    "plt.show;"
   ]
  },
  {
   "cell_type": "code",
   "execution_count": 6,
   "metadata": {},
   "outputs": [],
   "source": [
    "np.savetxt('/Users/elise/Desktop/GitHub/Hubness_sc/data/Zheng4/entropy_lei/zheng4_scentropy_v1.csv',\n",
    "             scentropy)"
   ]
  },
  {
   "cell_type": "code",
   "execution_count": 7,
   "metadata": {},
   "outputs": [
    {
     "data": {
      "image/png": "[encoded data removed]",
      "text/plain": [
       "<Figure size 432x288 with 1 Axes>"
      ]
     },
     "metadata": {
      "needs_background": "light"
     },
     "output_type": "display_data"
    }
   ],
   "source": [
    "plt.hist(scentropy)\n",
    "plt.show;"
   ]
  },
  {
   "cell_type": "code",
   "execution_count": null,
   "metadata": {},
   "outputs": [],
   "source": []
  }
 ],
 "metadata": {
  "kernelspec": {
   "display_name": "Python 3",
   "language": "python",
   "name": "python3"
  },
  "language_info": {
   "codemirror_mode": {
    "name": "ipython",
    "version": 3
   },
   "file_extension": ".py",
   "mimetype": "text/x-python",
   "name": "python",
   "nbconvert_exporter": "python",
   "pygments_lexer": "ipython3",
   "version": "3.7.2"
  }
 },
 "nbformat": 4,
 "nbformat_minor": 2
}
