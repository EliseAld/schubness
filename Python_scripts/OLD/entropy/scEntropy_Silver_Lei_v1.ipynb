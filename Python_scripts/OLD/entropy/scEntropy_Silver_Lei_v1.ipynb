{
 "cells": [
  {
   "cell_type": "code",
   "execution_count": 1,
   "metadata": {},
   "outputs": [],
   "source": [
    "# https://github.com/jzlei/scEntropy"
   ]
  },
  {
   "cell_type": "code",
   "execution_count": 2,
   "metadata": {},
   "outputs": [],
   "source": [
    "import scEntropy.scEntropy as scEntropy \n",
    "import pandas as pd\n",
    "import os\n",
    "import matplotlib.pyplot as plt\n",
    "import numpy as np"
   ]
  },
  {
   "cell_type": "code",
   "execution_count": 3,
   "metadata": {},
   "outputs": [
    {
     "name": "stdout",
     "output_type": "stream",
     "text": [
      "(15827, 2584)\n",
      "2576.7929566563466\n",
      "913.8405572755418\n"
     ]
    },
    {
     "data": {
      "text/html": [
       "<div>\n",
       "<style scoped>\n",
       "    .dataframe tbody tr th:only-of-type {\n",
       "        vertical-align: middle;\n",
       "    }\n",
       "\n",
       "    .dataframe tbody tr th {\n",
       "        vertical-align: top;\n",
       "    }\n",
       "\n",
       "    .dataframe thead th {\n",
       "        text-align: right;\n",
       "    }\n",
       "</style>\n",
       "<table border=\"1\" class=\"dataframe\">\n",
       "  <thead>\n",
       "    <tr style=\"text-align: right;\">\n",
       "      <th></th>\n",
       "      <th>AAACATACAACCAC-1</th>\n",
       "      <th>AAACATTGAGCTAC-1</th>\n",
       "      <th>AAACATTGATCAGC-1</th>\n",
       "      <th>AAACCGTGCTTCCG-1</th>\n",
       "      <th>AAACCGTGTATGCG-1</th>\n",
       "      <th>AAACGCACTGGTAC-1</th>\n",
       "      <th>AAACGCTGACCAGT-1</th>\n",
       "      <th>AAACGCTGGTTCTT-1</th>\n",
       "      <th>AAACGCTGTAGCCA-1</th>\n",
       "      <th>AAACGCTGTTTCTG-1</th>\n",
       "      <th>...</th>\n",
       "      <th>TTTCAGTGTCACGA-1</th>\n",
       "      <th>TTTCAGTGTCTATC-1</th>\n",
       "      <th>TTTCAGTGTGCAGT-1</th>\n",
       "      <th>TTTCCAGAGGTGAG-1</th>\n",
       "      <th>TTTCGAACACCTGA-1</th>\n",
       "      <th>TTTCGAACTCTCAT-1</th>\n",
       "      <th>TTTCTACTGAGGCA-1</th>\n",
       "      <th>TTTCTACTTCCTCG-1</th>\n",
       "      <th>TTTGCATGAGAGGC-1</th>\n",
       "      <th>TTTGCATGCCTCAC-1</th>\n",
       "    </tr>\n",
       "  </thead>\n",
       "  <tbody>\n",
       "    <tr>\n",
       "      <th>ENSG00000279457</th>\n",
       "      <td>0</td>\n",
       "      <td>0</td>\n",
       "      <td>0</td>\n",
       "      <td>0</td>\n",
       "      <td>0</td>\n",
       "      <td>0</td>\n",
       "      <td>0</td>\n",
       "      <td>0</td>\n",
       "      <td>0</td>\n",
       "      <td>0</td>\n",
       "      <td>...</td>\n",
       "      <td>0</td>\n",
       "      <td>0</td>\n",
       "      <td>0</td>\n",
       "      <td>0</td>\n",
       "      <td>0</td>\n",
       "      <td>0</td>\n",
       "      <td>0</td>\n",
       "      <td>0</td>\n",
       "      <td>0</td>\n",
       "      <td>0</td>\n",
       "    </tr>\n",
       "    <tr>\n",
       "      <th>ENSG00000228463</th>\n",
       "      <td>0</td>\n",
       "      <td>0</td>\n",
       "      <td>0</td>\n",
       "      <td>0</td>\n",
       "      <td>0</td>\n",
       "      <td>0</td>\n",
       "      <td>0</td>\n",
       "      <td>0</td>\n",
       "      <td>0</td>\n",
       "      <td>0</td>\n",
       "      <td>...</td>\n",
       "      <td>0</td>\n",
       "      <td>0</td>\n",
       "      <td>0</td>\n",
       "      <td>0</td>\n",
       "      <td>0</td>\n",
       "      <td>0</td>\n",
       "      <td>0</td>\n",
       "      <td>0</td>\n",
       "      <td>0</td>\n",
       "      <td>0</td>\n",
       "    </tr>\n",
       "    <tr>\n",
       "      <th>ENSG00000237094</th>\n",
       "      <td>0</td>\n",
       "      <td>0</td>\n",
       "      <td>0</td>\n",
       "      <td>0</td>\n",
       "      <td>0</td>\n",
       "      <td>0</td>\n",
       "      <td>0</td>\n",
       "      <td>0</td>\n",
       "      <td>0</td>\n",
       "      <td>0</td>\n",
       "      <td>...</td>\n",
       "      <td>0</td>\n",
       "      <td>0</td>\n",
       "      <td>0</td>\n",
       "      <td>0</td>\n",
       "      <td>0</td>\n",
       "      <td>0</td>\n",
       "      <td>0</td>\n",
       "      <td>0</td>\n",
       "      <td>0</td>\n",
       "      <td>0</td>\n",
       "    </tr>\n",
       "    <tr>\n",
       "      <th>ENSG00000225972</th>\n",
       "      <td>1</td>\n",
       "      <td>0</td>\n",
       "      <td>0</td>\n",
       "      <td>2</td>\n",
       "      <td>0</td>\n",
       "      <td>0</td>\n",
       "      <td>0</td>\n",
       "      <td>1</td>\n",
       "      <td>0</td>\n",
       "      <td>0</td>\n",
       "      <td>...</td>\n",
       "      <td>0</td>\n",
       "      <td>0</td>\n",
       "      <td>2</td>\n",
       "      <td>1</td>\n",
       "      <td>1</td>\n",
       "      <td>0</td>\n",
       "      <td>0</td>\n",
       "      <td>0</td>\n",
       "      <td>0</td>\n",
       "      <td>0</td>\n",
       "    </tr>\n",
       "    <tr>\n",
       "      <th>ENSG00000225630</th>\n",
       "      <td>0</td>\n",
       "      <td>0</td>\n",
       "      <td>0</td>\n",
       "      <td>0</td>\n",
       "      <td>0</td>\n",
       "      <td>0</td>\n",
       "      <td>0</td>\n",
       "      <td>1</td>\n",
       "      <td>0</td>\n",
       "      <td>0</td>\n",
       "      <td>...</td>\n",
       "      <td>0</td>\n",
       "      <td>0</td>\n",
       "      <td>0</td>\n",
       "      <td>0</td>\n",
       "      <td>0</td>\n",
       "      <td>0</td>\n",
       "      <td>0</td>\n",
       "      <td>0</td>\n",
       "      <td>0</td>\n",
       "      <td>0</td>\n",
       "    </tr>\n",
       "  </tbody>\n",
       "</table>\n",
       "<p>5 rows × 2584 columns</p>\n",
       "</div>"
      ],
      "text/plain": [
       "                 AAACATACAACCAC-1  AAACATTGAGCTAC-1  AAACATTGATCAGC-1  \\\n",
       "ENSG00000279457                 0                 0                 0   \n",
       "ENSG00000228463                 0                 0                 0   \n",
       "ENSG00000237094                 0                 0                 0   \n",
       "ENSG00000225972                 1                 0                 0   \n",
       "ENSG00000225630                 0                 0                 0   \n",
       "\n",
       "                 AAACCGTGCTTCCG-1  AAACCGTGTATGCG-1  AAACGCACTGGTAC-1  \\\n",
       "ENSG00000279457                 0                 0                 0   \n",
       "ENSG00000228463                 0                 0                 0   \n",
       "ENSG00000237094                 0                 0                 0   \n",
       "ENSG00000225972                 2                 0                 0   \n",
       "ENSG00000225630                 0                 0                 0   \n",
       "\n",
       "                 AAACGCTGACCAGT-1  AAACGCTGGTTCTT-1  AAACGCTGTAGCCA-1  \\\n",
       "ENSG00000279457                 0                 0                 0   \n",
       "ENSG00000228463                 0                 0                 0   \n",
       "ENSG00000237094                 0                 0                 0   \n",
       "ENSG00000225972                 0                 1                 0   \n",
       "ENSG00000225630                 0                 1                 0   \n",
       "\n",
       "                 AAACGCTGTTTCTG-1  ...  TTTCAGTGTCACGA-1  TTTCAGTGTCTATC-1  \\\n",
       "ENSG00000279457                 0  ...                 0                 0   \n",
       "ENSG00000228463                 0  ...                 0                 0   \n",
       "ENSG00000237094                 0  ...                 0                 0   \n",
       "ENSG00000225972                 0  ...                 0                 0   \n",
       "ENSG00000225630                 0  ...                 0                 0   \n",
       "\n",
       "                 TTTCAGTGTGCAGT-1  TTTCCAGAGGTGAG-1  TTTCGAACACCTGA-1  \\\n",
       "ENSG00000279457                 0                 0                 0   \n",
       "ENSG00000228463                 0                 0                 0   \n",
       "ENSG00000237094                 0                 0                 0   \n",
       "ENSG00000225972                 2                 1                 1   \n",
       "ENSG00000225630                 0                 0                 0   \n",
       "\n",
       "                 TTTCGAACTCTCAT-1  TTTCTACTGAGGCA-1  TTTCTACTTCCTCG-1  \\\n",
       "ENSG00000279457                 0                 0                 0   \n",
       "ENSG00000228463                 0                 0                 0   \n",
       "ENSG00000237094                 0                 0                 0   \n",
       "ENSG00000225972                 0                 0                 0   \n",
       "ENSG00000225630                 0                 0                 0   \n",
       "\n",
       "                 TTTGCATGAGAGGC-1  TTTGCATGCCTCAC-1  \n",
       "ENSG00000279457                 0                 0  \n",
       "ENSG00000228463                 0                 0  \n",
       "ENSG00000237094                 0                 0  \n",
       "ENSG00000225972                 0                 0  \n",
       "ENSG00000225630                 0                 0  \n",
       "\n",
       "[5 rows x 2584 columns]"
      ]
     },
     "execution_count": 3,
     "metadata": {},
     "output_type": "execute_result"
    }
   ],
   "source": [
    "data_file_path = '/Users/elise/Desktop/GitHub/Hubness_sc/data/Silver/data.csv'\n",
    "data = pd.read_csv(data_file_path, index_col=0, header=0, sep=\";\")\n",
    "print(data.shape)\n",
    "print(np.mean(np.sum(data,axis=0)))\n",
    "print(np.mean(np.sum(data!=0,axis=0)))\n",
    "data.head(5)"
   ]
  },
  {
   "cell_type": "code",
   "execution_count": 4,
   "metadata": {},
   "outputs": [],
   "source": [
    "scentropy = scEntropy.scEntropy(data, ref_vec=None, option='predefined')"
   ]
  },
  {
   "cell_type": "code",
   "execution_count": 5,
   "metadata": {},
   "outputs": [
    {
     "data": {
      "image/png": "[encoded data removed]",
      "text/plain": [
       "<Figure size 432x288 with 1 Axes>"
      ]
     },
     "metadata": {
      "needs_background": "light"
     },
     "output_type": "display_data"
    }
   ],
   "source": [
    "plt.plot(scentropy)\n",
    "plt.show;"
   ]
  },
  {
   "cell_type": "code",
   "execution_count": 6,
   "metadata": {},
   "outputs": [],
   "source": [
    "np.savetxt('/Users/elise/Desktop/GitHub/Hubness_sc/data/Silver/entropy_lei/silver_scentropy_v1.csv',\n",
    "             scentropy)"
   ]
  },
  {
   "cell_type": "code",
   "execution_count": 7,
   "metadata": {},
   "outputs": [
    {
     "data": {
      "image/png": "[encoded data removed]",
      "text/plain": [
       "<Figure size 432x288 with 1 Axes>"
      ]
     },
     "metadata": {
      "needs_background": "light"
     },
     "output_type": "display_data"
    }
   ],
   "source": [
    "plt.hist(scentropy)\n",
    "plt.show;"
   ]
  },
  {
   "cell_type": "code",
   "execution_count": null,
   "metadata": {},
   "outputs": [],
   "source": []
  }
 ],
 "metadata": {
  "kernelspec": {
   "display_name": "Python 3",
   "language": "python",
   "name": "python3"
  },
  "language_info": {
   "codemirror_mode": {
    "name": "ipython",
    "version": 3
   },
   "file_extension": ".py",
   "mimetype": "text/x-python",
   "name": "python",
   "nbconvert_exporter": "python",
   "pygments_lexer": "ipython3",
   "version": "3.7.2"
  }
 },
 "nbformat": 4,
 "nbformat_minor": 2
}
