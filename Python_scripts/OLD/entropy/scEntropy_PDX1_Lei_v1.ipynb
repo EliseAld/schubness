{
 "cells": [
  {
   "cell_type": "code",
   "execution_count": 1,
   "metadata": {},
   "outputs": [],
   "source": [
    "# https://github.com/jzlei/scEntropy"
   ]
  },
  {
   "cell_type": "code",
   "execution_count": 2,
   "metadata": {},
   "outputs": [],
   "source": [
    "import scEntropy.scEntropy as scEntropy \n",
    "import pandas as pd\n",
    "import os\n",
    "import matplotlib.pyplot as plt\n",
    "import numpy as np"
   ]
  },
  {
   "cell_type": "code",
   "execution_count": 4,
   "metadata": {},
   "outputs": [
    {
     "name": "stdout",
     "output_type": "stream",
     "text": [
      "(11288, 13319)\n",
      "12065.53555071702\n",
      "2628.183422178842\n"
     ]
    },
    {
     "data": {
      "text/html": [
       "<div>\n",
       "<style scoped>\n",
       "    .dataframe tbody tr th:only-of-type {\n",
       "        vertical-align: middle;\n",
       "    }\n",
       "\n",
       "    .dataframe tbody tr th {\n",
       "        vertical-align: top;\n",
       "    }\n",
       "\n",
       "    .dataframe thead th {\n",
       "        text-align: right;\n",
       "    }\n",
       "</style>\n",
       "<table border=\"1\" class=\"dataframe\">\n",
       "  <thead>\n",
       "    <tr style=\"text-align: right;\">\n",
       "      <th></th>\n",
       "      <th>AAACCTGCAAGCGAGT.1_1</th>\n",
       "      <th>AAACCTGCACCGAATT.1_1</th>\n",
       "      <th>AAACCTGCAGCCACCA.1_1</th>\n",
       "      <th>AAACGGGAGAATGTGT.1_1</th>\n",
       "      <th>AAACGGGGTATATGGA.1_1</th>\n",
       "      <th>AAACGGGTCTTGAGAC.1_1</th>\n",
       "      <th>AAAGATGAGCGCCTCA.1_1</th>\n",
       "      <th>AAAGATGCACCTCGTT.1_1</th>\n",
       "      <th>AAAGATGGTTCAGACT.1_1</th>\n",
       "      <th>AAAGCAAAGTGAACGC.1_1</th>\n",
       "      <th>...</th>\n",
       "      <th>TTTCCTCTCTTTCCTC_8</th>\n",
       "      <th>TTTGCGCAGCGTGAGT_8</th>\n",
       "      <th>TTTGCGCCATTGGCGC_8</th>\n",
       "      <th>TTTGCGCGTCTCCACT_8</th>\n",
       "      <th>TTTGGTTCATGGTTGT_8</th>\n",
       "      <th>TTTGGTTGTGGTTTCA_8</th>\n",
       "      <th>TTTGGTTGTTCCCGAG_8</th>\n",
       "      <th>TTTGTCAGTCAGATAA_8</th>\n",
       "      <th>TTTGTCAGTCCTGCTT_8</th>\n",
       "      <th>TTTGTCAGTTCCAACA_8</th>\n",
       "    </tr>\n",
       "  </thead>\n",
       "  <tbody>\n",
       "    <tr>\n",
       "      <th>LINC00115</th>\n",
       "      <td>0</td>\n",
       "      <td>0</td>\n",
       "      <td>0</td>\n",
       "      <td>0</td>\n",
       "      <td>0</td>\n",
       "      <td>0</td>\n",
       "      <td>0</td>\n",
       "      <td>0</td>\n",
       "      <td>0</td>\n",
       "      <td>0</td>\n",
       "      <td>...</td>\n",
       "      <td>0</td>\n",
       "      <td>0</td>\n",
       "      <td>0</td>\n",
       "      <td>0</td>\n",
       "      <td>0</td>\n",
       "      <td>0</td>\n",
       "      <td>0</td>\n",
       "      <td>0</td>\n",
       "      <td>0</td>\n",
       "      <td>0</td>\n",
       "    </tr>\n",
       "    <tr>\n",
       "      <th>FAM41C</th>\n",
       "      <td>0</td>\n",
       "      <td>0</td>\n",
       "      <td>0</td>\n",
       "      <td>0</td>\n",
       "      <td>0</td>\n",
       "      <td>0</td>\n",
       "      <td>0</td>\n",
       "      <td>0</td>\n",
       "      <td>0</td>\n",
       "      <td>0</td>\n",
       "      <td>...</td>\n",
       "      <td>0</td>\n",
       "      <td>0</td>\n",
       "      <td>0</td>\n",
       "      <td>0</td>\n",
       "      <td>0</td>\n",
       "      <td>0</td>\n",
       "      <td>0</td>\n",
       "      <td>0</td>\n",
       "      <td>0</td>\n",
       "      <td>0</td>\n",
       "    </tr>\n",
       "    <tr>\n",
       "      <th>SAMD11</th>\n",
       "      <td>0</td>\n",
       "      <td>0</td>\n",
       "      <td>0</td>\n",
       "      <td>0</td>\n",
       "      <td>0</td>\n",
       "      <td>0</td>\n",
       "      <td>2</td>\n",
       "      <td>1</td>\n",
       "      <td>0</td>\n",
       "      <td>0</td>\n",
       "      <td>...</td>\n",
       "      <td>0</td>\n",
       "      <td>0</td>\n",
       "      <td>1</td>\n",
       "      <td>0</td>\n",
       "      <td>0</td>\n",
       "      <td>0</td>\n",
       "      <td>0</td>\n",
       "      <td>0</td>\n",
       "      <td>0</td>\n",
       "      <td>1</td>\n",
       "    </tr>\n",
       "    <tr>\n",
       "      <th>NOC2L</th>\n",
       "      <td>1</td>\n",
       "      <td>1</td>\n",
       "      <td>0</td>\n",
       "      <td>1</td>\n",
       "      <td>2</td>\n",
       "      <td>0</td>\n",
       "      <td>0</td>\n",
       "      <td>1</td>\n",
       "      <td>0</td>\n",
       "      <td>0</td>\n",
       "      <td>...</td>\n",
       "      <td>1</td>\n",
       "      <td>0</td>\n",
       "      <td>0</td>\n",
       "      <td>1</td>\n",
       "      <td>1</td>\n",
       "      <td>0</td>\n",
       "      <td>0</td>\n",
       "      <td>1</td>\n",
       "      <td>0</td>\n",
       "      <td>1</td>\n",
       "    </tr>\n",
       "    <tr>\n",
       "      <th>KLHL17</th>\n",
       "      <td>0</td>\n",
       "      <td>0</td>\n",
       "      <td>0</td>\n",
       "      <td>0</td>\n",
       "      <td>0</td>\n",
       "      <td>0</td>\n",
       "      <td>0</td>\n",
       "      <td>0</td>\n",
       "      <td>0</td>\n",
       "      <td>0</td>\n",
       "      <td>...</td>\n",
       "      <td>0</td>\n",
       "      <td>0</td>\n",
       "      <td>0</td>\n",
       "      <td>0</td>\n",
       "      <td>0</td>\n",
       "      <td>0</td>\n",
       "      <td>0</td>\n",
       "      <td>0</td>\n",
       "      <td>0</td>\n",
       "      <td>1</td>\n",
       "    </tr>\n",
       "  </tbody>\n",
       "</table>\n",
       "<p>5 rows × 13319 columns</p>\n",
       "</div>"
      ],
      "text/plain": [
       "           AAACCTGCAAGCGAGT.1_1  AAACCTGCACCGAATT.1_1  AAACCTGCAGCCACCA.1_1  \\\n",
       "LINC00115                     0                     0                     0   \n",
       "FAM41C                        0                     0                     0   \n",
       "SAMD11                        0                     0                     0   \n",
       "NOC2L                         1                     1                     0   \n",
       "KLHL17                        0                     0                     0   \n",
       "\n",
       "           AAACGGGAGAATGTGT.1_1  AAACGGGGTATATGGA.1_1  AAACGGGTCTTGAGAC.1_1  \\\n",
       "LINC00115                     0                     0                     0   \n",
       "FAM41C                        0                     0                     0   \n",
       "SAMD11                        0                     0                     0   \n",
       "NOC2L                         1                     2                     0   \n",
       "KLHL17                        0                     0                     0   \n",
       "\n",
       "           AAAGATGAGCGCCTCA.1_1  AAAGATGCACCTCGTT.1_1  AAAGATGGTTCAGACT.1_1  \\\n",
       "LINC00115                     0                     0                     0   \n",
       "FAM41C                        0                     0                     0   \n",
       "SAMD11                        2                     1                     0   \n",
       "NOC2L                         0                     1                     0   \n",
       "KLHL17                        0                     0                     0   \n",
       "\n",
       "           AAAGCAAAGTGAACGC.1_1  ...  TTTCCTCTCTTTCCTC_8  TTTGCGCAGCGTGAGT_8  \\\n",
       "LINC00115                     0  ...                   0                   0   \n",
       "FAM41C                        0  ...                   0                   0   \n",
       "SAMD11                        0  ...                   0                   0   \n",
       "NOC2L                         0  ...                   1                   0   \n",
       "KLHL17                        0  ...                   0                   0   \n",
       "\n",
       "           TTTGCGCCATTGGCGC_8  TTTGCGCGTCTCCACT_8  TTTGGTTCATGGTTGT_8  \\\n",
       "LINC00115                   0                   0                   0   \n",
       "FAM41C                      0                   0                   0   \n",
       "SAMD11                      1                   0                   0   \n",
       "NOC2L                       0                   1                   1   \n",
       "KLHL17                      0                   0                   0   \n",
       "\n",
       "           TTTGGTTGTGGTTTCA_8  TTTGGTTGTTCCCGAG_8  TTTGTCAGTCAGATAA_8  \\\n",
       "LINC00115                   0                   0                   0   \n",
       "FAM41C                      0                   0                   0   \n",
       "SAMD11                      0                   0                   0   \n",
       "NOC2L                       0                   0                   1   \n",
       "KLHL17                      0                   0                   0   \n",
       "\n",
       "           TTTGTCAGTCCTGCTT_8  TTTGTCAGTTCCAACA_8  \n",
       "LINC00115                   0                   0  \n",
       "FAM41C                      0                   0  \n",
       "SAMD11                      0                   1  \n",
       "NOC2L                       0                   1  \n",
       "KLHL17                      0                   1  \n",
       "\n",
       "[5 rows x 13319 columns]"
      ]
     },
     "execution_count": 4,
     "metadata": {},
     "output_type": "execute_result"
    }
   ],
   "source": [
    "data_file_path = '/Users/elise/Desktop/GitHub/Hubness_sc/data/Ewing_PDX_initial/pdx1_raw_merged.txt'\n",
    "data = pd.read_csv(data_file_path, index_col=0, header=0, sep=\" \")\n",
    "print(data.shape)\n",
    "print(np.mean(np.sum(data,axis=0)))\n",
    "print(np.mean(np.sum(data!=0,axis=0)))\n",
    "data.head(5)"
   ]
  },
  {
   "cell_type": "code",
   "execution_count": 6,
   "metadata": {},
   "outputs": [],
   "source": [
    "scentropy = scEntropy.scEntropy(data, ref_vec=None, option='predefined')"
   ]
  },
  {
   "cell_type": "code",
   "execution_count": 7,
   "metadata": {},
   "outputs": [
    {
     "data": {
      "image/png": "[encoded data removed]",
      "text/plain": [
       "<Figure size 432x288 with 1 Axes>"
      ]
     },
     "metadata": {
      "needs_background": "light"
     },
     "output_type": "display_data"
    }
   ],
   "source": [
    "plt.plot(scentropy)\n",
    "plt.show;"
   ]
  },
  {
   "cell_type": "code",
   "execution_count": 8,
   "metadata": {},
   "outputs": [],
   "source": [
    "np.savetxt('/Users/elise/Desktop/GitHub/Hubness_sc/data/Ewing_PDX_initial/entropy_lei/pdx_raw_merged_scentropy_v1.csv',\n",
    "             scentropy)"
   ]
  },
  {
   "cell_type": "code",
   "execution_count": 9,
   "metadata": {},
   "outputs": [
    {
     "data": {
      "image/png": "[encoded data removed]",
      "text/plain": [
       "<Figure size 432x288 with 1 Axes>"
      ]
     },
     "metadata": {
      "needs_background": "light"
     },
     "output_type": "display_data"
    }
   ],
   "source": [
    "plt.hist(scentropy)\n",
    "plt.show;"
   ]
  },
  {
   "cell_type": "code",
   "execution_count": null,
   "metadata": {},
   "outputs": [],
   "source": []
  }
 ],
 "metadata": {
  "kernelspec": {
   "display_name": "Python 3",
   "language": "python",
   "name": "python3"
  },
  "language_info": {
   "codemirror_mode": {
    "name": "ipython",
    "version": 3
   },
   "file_extension": ".py",
   "mimetype": "text/x-python",
   "name": "python",
   "nbconvert_exporter": "python",
   "pygments_lexer": "ipython3",
   "version": "3.7.2"
  }
 },
 "nbformat": 4,
 "nbformat_minor": 2
}
