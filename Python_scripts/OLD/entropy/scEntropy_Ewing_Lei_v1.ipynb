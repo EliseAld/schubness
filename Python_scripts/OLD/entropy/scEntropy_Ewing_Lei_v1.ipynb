{
 "cells": [
  {
   "cell_type": "code",
   "execution_count": 23,
   "metadata": {},
   "outputs": [],
   "source": [
    "# https://github.com/jzlei/scEntropy"
   ]
  },
  {
   "cell_type": "code",
   "execution_count": 24,
   "metadata": {},
   "outputs": [],
   "source": [
    "import scEntropy.scEntropy as scEntropy \n",
    "import pandas as pd\n",
    "import os\n",
    "import matplotlib.pyplot as plt\n",
    "import numpy as np"
   ]
  },
  {
   "cell_type": "code",
   "execution_count": 40,
   "metadata": {},
   "outputs": [
    {
     "name": "stdout",
     "output_type": "stream",
     "text": [
      "(20502, 383)\n",
      "959449.4607101837\n",
      "7883.135770234987\n"
     ]
    },
    {
     "data": {
      "text/html": [
       "<div>\n",
       "<style scoped>\n",
       "    .dataframe tbody tr th:only-of-type {\n",
       "        vertical-align: middle;\n",
       "    }\n",
       "\n",
       "    .dataframe tbody tr th {\n",
       "        vertical-align: top;\n",
       "    }\n",
       "\n",
       "    .dataframe thead th {\n",
       "        text-align: right;\n",
       "    }\n",
       "</style>\n",
       "<table border=\"1\" class=\"dataframe\">\n",
       "  <thead>\n",
       "    <tr style=\"text-align: right;\">\n",
       "      <th></th>\n",
       "      <th>A267T01</th>\n",
       "      <th>A267T02</th>\n",
       "      <th>A267T03</th>\n",
       "      <th>A267T04</th>\n",
       "      <th>A267T05</th>\n",
       "      <th>A267T06</th>\n",
       "      <th>A267T07</th>\n",
       "      <th>A267T08</th>\n",
       "      <th>A267T09</th>\n",
       "      <th>A267T10</th>\n",
       "      <th>...</th>\n",
       "      <th>A296U183</th>\n",
       "      <th>A296U184</th>\n",
       "      <th>A296U185</th>\n",
       "      <th>A296U186</th>\n",
       "      <th>A296U187</th>\n",
       "      <th>A296U188</th>\n",
       "      <th>A296U189</th>\n",
       "      <th>A296U190</th>\n",
       "      <th>A296U191</th>\n",
       "      <th>A296U192</th>\n",
       "    </tr>\n",
       "  </thead>\n",
       "  <tbody>\n",
       "    <tr>\n",
       "      <th>TSPAN6</th>\n",
       "      <td>64.662</td>\n",
       "      <td>216.302</td>\n",
       "      <td>0.803</td>\n",
       "      <td>119.207</td>\n",
       "      <td>0.000</td>\n",
       "      <td>77.163</td>\n",
       "      <td>0.000</td>\n",
       "      <td>49.529</td>\n",
       "      <td>119.525</td>\n",
       "      <td>0.000</td>\n",
       "      <td>...</td>\n",
       "      <td>71.984</td>\n",
       "      <td>111.130</td>\n",
       "      <td>0.000</td>\n",
       "      <td>128.286</td>\n",
       "      <td>1.449</td>\n",
       "      <td>123.825</td>\n",
       "      <td>102.603</td>\n",
       "      <td>95.641</td>\n",
       "      <td>108.748</td>\n",
       "      <td>27.872</td>\n",
       "    </tr>\n",
       "    <tr>\n",
       "      <th>TNMD</th>\n",
       "      <td>0.000</td>\n",
       "      <td>0.000</td>\n",
       "      <td>0.000</td>\n",
       "      <td>0.000</td>\n",
       "      <td>0.000</td>\n",
       "      <td>0.000</td>\n",
       "      <td>0.000</td>\n",
       "      <td>0.000</td>\n",
       "      <td>0.000</td>\n",
       "      <td>0.000</td>\n",
       "      <td>...</td>\n",
       "      <td>0.000</td>\n",
       "      <td>0.000</td>\n",
       "      <td>0.000</td>\n",
       "      <td>0.000</td>\n",
       "      <td>0.000</td>\n",
       "      <td>0.000</td>\n",
       "      <td>0.000</td>\n",
       "      <td>0.000</td>\n",
       "      <td>0.000</td>\n",
       "      <td>0.000</td>\n",
       "    </tr>\n",
       "    <tr>\n",
       "      <th>DPM1</th>\n",
       "      <td>73.605</td>\n",
       "      <td>192.095</td>\n",
       "      <td>41.759</td>\n",
       "      <td>20.992</td>\n",
       "      <td>142.477</td>\n",
       "      <td>174.011</td>\n",
       "      <td>385.838</td>\n",
       "      <td>35.726</td>\n",
       "      <td>178.875</td>\n",
       "      <td>204.184</td>\n",
       "      <td>...</td>\n",
       "      <td>111.086</td>\n",
       "      <td>113.353</td>\n",
       "      <td>163.004</td>\n",
       "      <td>185.821</td>\n",
       "      <td>215.832</td>\n",
       "      <td>82.806</td>\n",
       "      <td>7.961</td>\n",
       "      <td>72.802</td>\n",
       "      <td>98.966</td>\n",
       "      <td>178.251</td>\n",
       "    </tr>\n",
       "    <tr>\n",
       "      <th>SCYL3</th>\n",
       "      <td>0.000</td>\n",
       "      <td>0.000</td>\n",
       "      <td>0.000</td>\n",
       "      <td>0.000</td>\n",
       "      <td>0.000</td>\n",
       "      <td>2.362</td>\n",
       "      <td>0.000</td>\n",
       "      <td>0.000</td>\n",
       "      <td>0.000</td>\n",
       "      <td>0.000</td>\n",
       "      <td>...</td>\n",
       "      <td>0.000</td>\n",
       "      <td>0.000</td>\n",
       "      <td>0.000</td>\n",
       "      <td>27.212</td>\n",
       "      <td>10.140</td>\n",
       "      <td>0.000</td>\n",
       "      <td>0.000</td>\n",
       "      <td>2.855</td>\n",
       "      <td>0.000</td>\n",
       "      <td>0.000</td>\n",
       "    </tr>\n",
       "    <tr>\n",
       "      <th>C1orf112</th>\n",
       "      <td>0.000</td>\n",
       "      <td>0.000</td>\n",
       "      <td>0.000</td>\n",
       "      <td>0.000</td>\n",
       "      <td>0.000</td>\n",
       "      <td>0.000</td>\n",
       "      <td>48.116</td>\n",
       "      <td>0.000</td>\n",
       "      <td>0.000</td>\n",
       "      <td>0.000</td>\n",
       "      <td>...</td>\n",
       "      <td>121.751</td>\n",
       "      <td>6.112</td>\n",
       "      <td>4.055</td>\n",
       "      <td>3.110</td>\n",
       "      <td>0.000</td>\n",
       "      <td>29.902</td>\n",
       "      <td>23.882</td>\n",
       "      <td>12.134</td>\n",
       "      <td>13.809</td>\n",
       "      <td>114.081</td>\n",
       "    </tr>\n",
       "  </tbody>\n",
       "</table>\n",
       "<p>5 rows × 383 columns</p>\n",
       "</div>"
      ],
      "text/plain": [
       "          A267T01  A267T02  A267T03  A267T04  A267T05  A267T06  A267T07  \\\n",
       "TSPAN6     64.662  216.302    0.803  119.207    0.000   77.163    0.000   \n",
       "TNMD        0.000    0.000    0.000    0.000    0.000    0.000    0.000   \n",
       "DPM1       73.605  192.095   41.759   20.992  142.477  174.011  385.838   \n",
       "SCYL3       0.000    0.000    0.000    0.000    0.000    2.362    0.000   \n",
       "C1orf112    0.000    0.000    0.000    0.000    0.000    0.000   48.116   \n",
       "\n",
       "          A267T08  A267T09  A267T10  ...  A296U183  A296U184  A296U185  \\\n",
       "TSPAN6     49.529  119.525    0.000  ...    71.984   111.130     0.000   \n",
       "TNMD        0.000    0.000    0.000  ...     0.000     0.000     0.000   \n",
       "DPM1       35.726  178.875  204.184  ...   111.086   113.353   163.004   \n",
       "SCYL3       0.000    0.000    0.000  ...     0.000     0.000     0.000   \n",
       "C1orf112    0.000    0.000    0.000  ...   121.751     6.112     4.055   \n",
       "\n",
       "          A296U186  A296U187  A296U188  A296U189  A296U190  A296U191  A296U192  \n",
       "TSPAN6     128.286     1.449   123.825   102.603    95.641   108.748    27.872  \n",
       "TNMD         0.000     0.000     0.000     0.000     0.000     0.000     0.000  \n",
       "DPM1       185.821   215.832    82.806     7.961    72.802    98.966   178.251  \n",
       "SCYL3       27.212    10.140     0.000     0.000     2.855     0.000     0.000  \n",
       "C1orf112     3.110     0.000    29.902    23.882    12.134    13.809   114.081  \n",
       "\n",
       "[5 rows x 383 columns]"
      ]
     },
     "execution_count": 40,
     "metadata": {},
     "output_type": "execute_result"
    }
   ],
   "source": [
    "data_file_path = '/Users/elise/Desktop/Thèse/scRNAseq/Data_sc/Andrei_Ewing/ASP14_TS_u.txt'\n",
    "data = pd.read_csv(data_file_path, index_col=0, header=0, sep=\"\\t\")\n",
    "data = data.drop(labels=\"Unnamed: 383\",axis=1)\n",
    "print(data.shape)\n",
    "print(np.mean(np.sum(data,axis=0)))\n",
    "print(np.mean(np.sum(data!=0,axis=0)))\n",
    "data.head(5)"
   ]
  },
  {
   "cell_type": "code",
   "execution_count": 41,
   "metadata": {},
   "outputs": [],
   "source": [
    "scentropy = scEntropy.scEntropy(data, ref_vec=None, option='predefined')"
   ]
  },
  {
   "cell_type": "code",
   "execution_count": 42,
   "metadata": {},
   "outputs": [
    {
     "data": {
      "image/png": "[encoded data removed]",
      "text/plain": [
       "<Figure size 432x288 with 1 Axes>"
      ]
     },
     "metadata": {
      "needs_background": "light"
     },
     "output_type": "display_data"
    }
   ],
   "source": [
    "plt.plot(scentropy)\n",
    "plt.show;"
   ]
  },
  {
   "cell_type": "code",
   "execution_count": 43,
   "metadata": {},
   "outputs": [],
   "source": [
    "np.savetxt('/Users/elise/Desktop/GitHub/Hubness_sc/data/Ewing/entropy_lei/scentropy_v1.csv',\n",
    "             scentropy)"
   ]
  },
  {
   "cell_type": "code",
   "execution_count": 44,
   "metadata": {},
   "outputs": [
    {
     "data": {
      "image/png": "[encoded data removed]",
      "text/plain": [
       "<Figure size 432x288 with 1 Axes>"
      ]
     },
     "metadata": {
      "needs_background": "light"
     },
     "output_type": "display_data"
    }
   ],
   "source": [
    "plt.hist(scentropy)\n",
    "plt.show;"
   ]
  },
  {
   "cell_type": "code",
   "execution_count": null,
   "metadata": {},
   "outputs": [],
   "source": []
  }
 ],
 "metadata": {
  "kernelspec": {
   "display_name": "Python 3",
   "language": "python",
   "name": "python3"
  },
  "language_info": {
   "codemirror_mode": {
    "name": "ipython",
    "version": 3
   },
   "file_extension": ".py",
   "mimetype": "text/x-python",
   "name": "python",
   "nbconvert_exporter": "python",
   "pygments_lexer": "ipython3",
   "version": "3.7.2"
  }
 },
 "nbformat": 4,
 "nbformat_minor": 2
}
