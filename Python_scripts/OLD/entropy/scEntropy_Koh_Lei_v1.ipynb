{
 "cells": [
  {
   "cell_type": "code",
   "execution_count": 10,
   "metadata": {},
   "outputs": [],
   "source": [
    "# https://github.com/jzlei/scEntropy"
   ]
  },
  {
   "cell_type": "code",
   "execution_count": 11,
   "metadata": {},
   "outputs": [],
   "source": [
    "import scEntropy.scEntropy as scEntropy \n",
    "import pandas as pd\n",
    "import os\n",
    "import matplotlib.pyplot as plt\n",
    "import numpy as np"
   ]
  },
  {
   "cell_type": "code",
   "execution_count": 17,
   "metadata": {},
   "outputs": [
    {
     "name": "stdout",
     "output_type": "stream",
     "text": [
      "(41410, 531)\n",
      "1529690.639572144\n",
      "14280.037664783427\n"
     ]
    },
    {
     "data": {
      "text/html": [
       "<div>\n",
       "<style scoped>\n",
       "    .dataframe tbody tr th:only-of-type {\n",
       "        vertical-align: middle;\n",
       "    }\n",
       "\n",
       "    .dataframe tbody tr th {\n",
       "        vertical-align: top;\n",
       "    }\n",
       "\n",
       "    .dataframe thead th {\n",
       "        text-align: right;\n",
       "    }\n",
       "</style>\n",
       "<table border=\"1\" class=\"dataframe\">\n",
       "  <thead>\n",
       "    <tr style=\"text-align: right;\">\n",
       "      <th></th>\n",
       "      <th>SRR3952323</th>\n",
       "      <th>SRR3952325</th>\n",
       "      <th>SRR3952326</th>\n",
       "      <th>SRR3952327</th>\n",
       "      <th>SRR3952328</th>\n",
       "      <th>SRR3952329</th>\n",
       "      <th>SRR3952330</th>\n",
       "      <th>SRR3952331</th>\n",
       "      <th>SRR3952337</th>\n",
       "      <th>SRR3952341</th>\n",
       "      <th>...</th>\n",
       "      <th>SRR3952962</th>\n",
       "      <th>SRR3952963</th>\n",
       "      <th>SRR3952964</th>\n",
       "      <th>SRR3952965</th>\n",
       "      <th>SRR3952966</th>\n",
       "      <th>SRR3952967</th>\n",
       "      <th>SRR3952968</th>\n",
       "      <th>SRR3952969</th>\n",
       "      <th>SRR3952970</th>\n",
       "      <th>SRR3952971</th>\n",
       "    </tr>\n",
       "  </thead>\n",
       "  <tbody>\n",
       "    <tr>\n",
       "      <th>ENSG00000000003.14</th>\n",
       "      <td>1017.765125</td>\n",
       "      <td>502.322114</td>\n",
       "      <td>86.312587</td>\n",
       "      <td>1611.581845</td>\n",
       "      <td>354.394592</td>\n",
       "      <td>453.155077</td>\n",
       "      <td>470.544988</td>\n",
       "      <td>1403.446163</td>\n",
       "      <td>1043.620459</td>\n",
       "      <td>1863.557277</td>\n",
       "      <td>...</td>\n",
       "      <td>361.507875</td>\n",
       "      <td>590.054325</td>\n",
       "      <td>344.213405</td>\n",
       "      <td>545.268883</td>\n",
       "      <td>300.386886</td>\n",
       "      <td>792.276508</td>\n",
       "      <td>808.681836</td>\n",
       "      <td>851.766789</td>\n",
       "      <td>126.481617</td>\n",
       "      <td>857.712591</td>\n",
       "    </tr>\n",
       "    <tr>\n",
       "      <th>ENSG00000000005.5</th>\n",
       "      <td>0.000000</td>\n",
       "      <td>65.330638</td>\n",
       "      <td>5.709521</td>\n",
       "      <td>0.000000</td>\n",
       "      <td>0.000000</td>\n",
       "      <td>0.000000</td>\n",
       "      <td>2.460141</td>\n",
       "      <td>3.934356</td>\n",
       "      <td>7.085120</td>\n",
       "      <td>0.000000</td>\n",
       "      <td>...</td>\n",
       "      <td>0.000000</td>\n",
       "      <td>0.000000</td>\n",
       "      <td>2.069823</td>\n",
       "      <td>0.000000</td>\n",
       "      <td>0.000000</td>\n",
       "      <td>0.000000</td>\n",
       "      <td>0.000000</td>\n",
       "      <td>0.000000</td>\n",
       "      <td>0.000000</td>\n",
       "      <td>0.000000</td>\n",
       "    </tr>\n",
       "    <tr>\n",
       "      <th>ENSG00000000419.12</th>\n",
       "      <td>155.186062</td>\n",
       "      <td>80.469985</td>\n",
       "      <td>24.434636</td>\n",
       "      <td>109.751983</td>\n",
       "      <td>36.957313</td>\n",
       "      <td>55.291467</td>\n",
       "      <td>186.203348</td>\n",
       "      <td>211.417336</td>\n",
       "      <td>293.104599</td>\n",
       "      <td>57.097599</td>\n",
       "      <td>...</td>\n",
       "      <td>67.622981</td>\n",
       "      <td>61.936012</td>\n",
       "      <td>87.196726</td>\n",
       "      <td>55.706175</td>\n",
       "      <td>98.742423</td>\n",
       "      <td>94.197297</td>\n",
       "      <td>57.393172</td>\n",
       "      <td>99.928404</td>\n",
       "      <td>65.800163</td>\n",
       "      <td>78.118042</td>\n",
       "    </tr>\n",
       "    <tr>\n",
       "      <th>ENSG00000000457.13</th>\n",
       "      <td>93.307070</td>\n",
       "      <td>1062.272015</td>\n",
       "      <td>0.954344</td>\n",
       "      <td>353.999268</td>\n",
       "      <td>520.693332</td>\n",
       "      <td>268.455005</td>\n",
       "      <td>22.855000</td>\n",
       "      <td>9.841623</td>\n",
       "      <td>340.791526</td>\n",
       "      <td>1.714117</td>\n",
       "      <td>...</td>\n",
       "      <td>3.902057</td>\n",
       "      <td>4.029723</td>\n",
       "      <td>1.587288</td>\n",
       "      <td>224.538365</td>\n",
       "      <td>5.654849</td>\n",
       "      <td>1.668967</td>\n",
       "      <td>3.125470</td>\n",
       "      <td>4.813100</td>\n",
       "      <td>64.243033</td>\n",
       "      <td>1.598266</td>\n",
       "    </tr>\n",
       "    <tr>\n",
       "      <th>ENSG00000000460.16</th>\n",
       "      <td>17.702689</td>\n",
       "      <td>16.048471</td>\n",
       "      <td>2.045149</td>\n",
       "      <td>7.929418</td>\n",
       "      <td>166.640474</td>\n",
       "      <td>68.443011</td>\n",
       "      <td>63.573807</td>\n",
       "      <td>288.154557</td>\n",
       "      <td>292.263457</td>\n",
       "      <td>2.205068</td>\n",
       "      <td>...</td>\n",
       "      <td>0.658463</td>\n",
       "      <td>3.164779</td>\n",
       "      <td>9.374777</td>\n",
       "      <td>115.426104</td>\n",
       "      <td>242.747152</td>\n",
       "      <td>122.660587</td>\n",
       "      <td>0.000000</td>\n",
       "      <td>62.309628</td>\n",
       "      <td>277.557187</td>\n",
       "      <td>0.692828</td>\n",
       "    </tr>\n",
       "  </tbody>\n",
       "</table>\n",
       "<p>5 rows × 531 columns</p>\n",
       "</div>"
      ],
      "text/plain": [
       "                     SRR3952323   SRR3952325  SRR3952326   SRR3952327  \\\n",
       "ENSG00000000003.14  1017.765125   502.322114   86.312587  1611.581845   \n",
       "ENSG00000000005.5      0.000000    65.330638    5.709521     0.000000   \n",
       "ENSG00000000419.12   155.186062    80.469985   24.434636   109.751983   \n",
       "ENSG00000000457.13    93.307070  1062.272015    0.954344   353.999268   \n",
       "ENSG00000000460.16    17.702689    16.048471    2.045149     7.929418   \n",
       "\n",
       "                    SRR3952328  SRR3952329  SRR3952330   SRR3952331  \\\n",
       "ENSG00000000003.14  354.394592  453.155077  470.544988  1403.446163   \n",
       "ENSG00000000005.5     0.000000    0.000000    2.460141     3.934356   \n",
       "ENSG00000000419.12   36.957313   55.291467  186.203348   211.417336   \n",
       "ENSG00000000457.13  520.693332  268.455005   22.855000     9.841623   \n",
       "ENSG00000000460.16  166.640474   68.443011   63.573807   288.154557   \n",
       "\n",
       "                     SRR3952337   SRR3952341  ...  SRR3952962  SRR3952963  \\\n",
       "ENSG00000000003.14  1043.620459  1863.557277  ...  361.507875  590.054325   \n",
       "ENSG00000000005.5      7.085120     0.000000  ...    0.000000    0.000000   \n",
       "ENSG00000000419.12   293.104599    57.097599  ...   67.622981   61.936012   \n",
       "ENSG00000000457.13   340.791526     1.714117  ...    3.902057    4.029723   \n",
       "ENSG00000000460.16   292.263457     2.205068  ...    0.658463    3.164779   \n",
       "\n",
       "                    SRR3952964  SRR3952965  SRR3952966  SRR3952967  \\\n",
       "ENSG00000000003.14  344.213405  545.268883  300.386886  792.276508   \n",
       "ENSG00000000005.5     2.069823    0.000000    0.000000    0.000000   \n",
       "ENSG00000000419.12   87.196726   55.706175   98.742423   94.197297   \n",
       "ENSG00000000457.13    1.587288  224.538365    5.654849    1.668967   \n",
       "ENSG00000000460.16    9.374777  115.426104  242.747152  122.660587   \n",
       "\n",
       "                    SRR3952968  SRR3952969  SRR3952970  SRR3952971  \n",
       "ENSG00000000003.14  808.681836  851.766789  126.481617  857.712591  \n",
       "ENSG00000000005.5     0.000000    0.000000    0.000000    0.000000  \n",
       "ENSG00000000419.12   57.393172   99.928404   65.800163   78.118042  \n",
       "ENSG00000000457.13    3.125470    4.813100   64.243033    1.598266  \n",
       "ENSG00000000460.16    0.000000   62.309628  277.557187    0.692828  \n",
       "\n",
       "[5 rows x 531 columns]"
      ]
     },
     "execution_count": 17,
     "metadata": {},
     "output_type": "execute_result"
    }
   ],
   "source": [
    "data_file_path = '/Users/elise/Desktop/GitHub/Hubness_sc/data/Koh/data.csv'\n",
    "data = pd.read_csv(data_file_path, index_col=0, header=0, sep=\";\", decimal=\",\")\n",
    "print(data.shape)\n",
    "print(np.mean(np.sum(data,axis=0)))\n",
    "print(np.mean(np.sum(data!=0,axis=0)))\n",
    "data.head(5)"
   ]
  },
  {
   "cell_type": "code",
   "execution_count": 18,
   "metadata": {},
   "outputs": [],
   "source": [
    "scentropy = scEntropy.scEntropy(data, ref_vec=None, option='predefined')"
   ]
  },
  {
   "cell_type": "code",
   "execution_count": 19,
   "metadata": {},
   "outputs": [
    {
     "data": {
      "image/png": "[encoded data removed]",
      "text/plain": [
       "<Figure size 432x288 with 1 Axes>"
      ]
     },
     "metadata": {
      "needs_background": "light"
     },
     "output_type": "display_data"
    }
   ],
   "source": [
    "plt.plot(scentropy)\n",
    "plt.show;"
   ]
  },
  {
   "cell_type": "code",
   "execution_count": 20,
   "metadata": {},
   "outputs": [],
   "source": [
    "np.savetxt('/Users/elise/Desktop/GitHub/Hubness_sc/data/Koh/entropy_lei/koh_scentropy_v1.csv',\n",
    "             scentropy)"
   ]
  },
  {
   "cell_type": "code",
   "execution_count": 21,
   "metadata": {},
   "outputs": [
    {
     "data": {
      "image/png": "[encoded data removed]",
      "text/plain": [
       "<Figure size 432x288 with 1 Axes>"
      ]
     },
     "metadata": {
      "needs_background": "light"
     },
     "output_type": "display_data"
    }
   ],
   "source": [
    "plt.hist(scentropy)\n",
    "plt.show;"
   ]
  },
  {
   "cell_type": "code",
   "execution_count": null,
   "metadata": {},
   "outputs": [],
   "source": []
  }
 ],
 "metadata": {
  "kernelspec": {
   "display_name": "Python 3",
   "language": "python",
   "name": "python3"
  },
  "language_info": {
   "codemirror_mode": {
    "name": "ipython",
    "version": 3
   },
   "file_extension": ".py",
   "mimetype": "text/x-python",
   "name": "python",
   "nbconvert_exporter": "python",
   "pygments_lexer": "ipython3",
   "version": "3.7.2"
  }
 },
 "nbformat": 4,
 "nbformat_minor": 2
}
