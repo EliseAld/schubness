{
 "cells": [
  {
   "cell_type": "code",
   "execution_count": 11,
   "metadata": {},
   "outputs": [],
   "source": [
    "# https://github.com/jzlei/scEntropy"
   ]
  },
  {
   "cell_type": "code",
   "execution_count": 12,
   "metadata": {},
   "outputs": [],
   "source": [
    "import scEntropy.scEntropy as scEntropy \n",
    "import pandas as pd\n",
    "import os\n",
    "import matplotlib.pyplot as plt\n",
    "import numpy as np"
   ]
  },
  {
   "cell_type": "code",
   "execution_count": 13,
   "metadata": {},
   "outputs": [
    {
     "name": "stdout",
     "output_type": "stream",
     "text": [
      "(11857, 12338)\n",
      "3891.9594328074213\n",
      "6425.792754093046\n"
     ]
    },
    {
     "data": {
      "text/html": [
       "<div>\n",
       "<style scoped>\n",
       "    .dataframe tbody tr th:only-of-type {\n",
       "        vertical-align: middle;\n",
       "    }\n",
       "\n",
       "    .dataframe tbody tr th {\n",
       "        vertical-align: top;\n",
       "    }\n",
       "\n",
       "    .dataframe thead th {\n",
       "        text-align: right;\n",
       "    }\n",
       "</style>\n",
       "<table border=\"1\" class=\"dataframe\">\n",
       "  <thead>\n",
       "    <tr style=\"text-align: right;\">\n",
       "      <th></th>\n",
       "      <th>AAACCTGCAAGCGAGT.1</th>\n",
       "      <th>AAACGGGAGAATGTGT.1</th>\n",
       "      <th>AAACGGGGTATATGGA.1</th>\n",
       "      <th>AAAGATGAGCGCCTCA.1</th>\n",
       "      <th>AAAGATGCACCTCGTT.1</th>\n",
       "      <th>AAAGCAACACATGTGT.1</th>\n",
       "      <th>AAAGCAACACGAAACG.1</th>\n",
       "      <th>AAAGCAATCACCACCT.1</th>\n",
       "      <th>AAAGCAATCGGCTACG.1</th>\n",
       "      <th>AAAGCAATCGTAGGAG.1</th>\n",
       "      <th>...</th>\n",
       "      <th>TTTGCGCAGCCATCGC</th>\n",
       "      <th>TTTGCGCCATTGGCGC</th>\n",
       "      <th>TTTGCGCGTCTCCACT</th>\n",
       "      <th>TTTGGTTCATGGTTGT</th>\n",
       "      <th>TTTGTCAAGAAACGCC</th>\n",
       "      <th>TTTGTCAAGATCTGAA</th>\n",
       "      <th>TTTGTCAGTCAGATAA</th>\n",
       "      <th>TTTGTCAGTCCTGCTT</th>\n",
       "      <th>TTTGTCAGTCGCGTGT</th>\n",
       "      <th>TTTGTCAGTTCCAACA</th>\n",
       "    </tr>\n",
       "  </thead>\n",
       "  <tbody>\n",
       "    <tr>\n",
       "      <th>LINC00115</th>\n",
       "      <td>0.000000</td>\n",
       "      <td>0.000000</td>\n",
       "      <td>0.000000</td>\n",
       "      <td>0.000000</td>\n",
       "      <td>0.000000</td>\n",
       "      <td>0.000000</td>\n",
       "      <td>0.000000</td>\n",
       "      <td>0.270704</td>\n",
       "      <td>0.000000</td>\n",
       "      <td>0.000000</td>\n",
       "      <td>...</td>\n",
       "      <td>0.000000</td>\n",
       "      <td>0.000000</td>\n",
       "      <td>0.240701</td>\n",
       "      <td>0.000000</td>\n",
       "      <td>0.00000</td>\n",
       "      <td>0.00000</td>\n",
       "      <td>0.000000</td>\n",
       "      <td>0.000000</td>\n",
       "      <td>0.000000</td>\n",
       "      <td>0.000000</td>\n",
       "    </tr>\n",
       "    <tr>\n",
       "      <th>FAM41C</th>\n",
       "      <td>0.000000</td>\n",
       "      <td>0.000000</td>\n",
       "      <td>0.000000</td>\n",
       "      <td>0.000000</td>\n",
       "      <td>0.000000</td>\n",
       "      <td>0.000000</td>\n",
       "      <td>0.000000</td>\n",
       "      <td>0.000000</td>\n",
       "      <td>0.220684</td>\n",
       "      <td>0.000000</td>\n",
       "      <td>...</td>\n",
       "      <td>0.000000</td>\n",
       "      <td>0.000000</td>\n",
       "      <td>0.217938</td>\n",
       "      <td>0.000000</td>\n",
       "      <td>0.00000</td>\n",
       "      <td>0.00000</td>\n",
       "      <td>0.000000</td>\n",
       "      <td>0.000000</td>\n",
       "      <td>0.000000</td>\n",
       "      <td>0.000000</td>\n",
       "    </tr>\n",
       "    <tr>\n",
       "      <th>SAMD11</th>\n",
       "      <td>0.471373</td>\n",
       "      <td>0.739027</td>\n",
       "      <td>0.842172</td>\n",
       "      <td>0.691065</td>\n",
       "      <td>0.568102</td>\n",
       "      <td>0.674496</td>\n",
       "      <td>0.471373</td>\n",
       "      <td>0.723704</td>\n",
       "      <td>0.809273</td>\n",
       "      <td>0.570311</td>\n",
       "      <td>...</td>\n",
       "      <td>0.000000</td>\n",
       "      <td>0.255445</td>\n",
       "      <td>0.000000</td>\n",
       "      <td>0.000000</td>\n",
       "      <td>0.00000</td>\n",
       "      <td>0.56927</td>\n",
       "      <td>0.000000</td>\n",
       "      <td>0.370044</td>\n",
       "      <td>0.324666</td>\n",
       "      <td>0.497933</td>\n",
       "    </tr>\n",
       "    <tr>\n",
       "      <th>NOC2L</th>\n",
       "      <td>1.040130</td>\n",
       "      <td>0.428648</td>\n",
       "      <td>0.813244</td>\n",
       "      <td>0.622487</td>\n",
       "      <td>0.667893</td>\n",
       "      <td>0.733473</td>\n",
       "      <td>0.925025</td>\n",
       "      <td>0.709091</td>\n",
       "      <td>0.755430</td>\n",
       "      <td>0.325098</td>\n",
       "      <td>...</td>\n",
       "      <td>0.514605</td>\n",
       "      <td>0.774811</td>\n",
       "      <td>0.496577</td>\n",
       "      <td>0.509846</td>\n",
       "      <td>0.74484</td>\n",
       "      <td>0.35183</td>\n",
       "      <td>0.380048</td>\n",
       "      <td>0.797988</td>\n",
       "      <td>0.761092</td>\n",
       "      <td>0.403176</td>\n",
       "    </tr>\n",
       "    <tr>\n",
       "      <th>KLHL17</th>\n",
       "      <td>0.000000</td>\n",
       "      <td>0.000000</td>\n",
       "      <td>0.000000</td>\n",
       "      <td>0.000000</td>\n",
       "      <td>0.000000</td>\n",
       "      <td>0.000000</td>\n",
       "      <td>0.000000</td>\n",
       "      <td>0.000000</td>\n",
       "      <td>0.206178</td>\n",
       "      <td>0.000000</td>\n",
       "      <td>...</td>\n",
       "      <td>0.000000</td>\n",
       "      <td>0.000000</td>\n",
       "      <td>0.000000</td>\n",
       "      <td>0.000000</td>\n",
       "      <td>0.00000</td>\n",
       "      <td>0.00000</td>\n",
       "      <td>0.000000</td>\n",
       "      <td>0.000000</td>\n",
       "      <td>0.000000</td>\n",
       "      <td>0.229338</td>\n",
       "    </tr>\n",
       "  </tbody>\n",
       "</table>\n",
       "<p>5 rows × 12338 columns</p>\n",
       "</div>"
      ],
      "text/plain": [
       "           AAACCTGCAAGCGAGT.1  AAACGGGAGAATGTGT.1  AAACGGGGTATATGGA.1  \\\n",
       "LINC00115            0.000000            0.000000            0.000000   \n",
       "FAM41C               0.000000            0.000000            0.000000   \n",
       "SAMD11               0.471373            0.739027            0.842172   \n",
       "NOC2L                1.040130            0.428648            0.813244   \n",
       "KLHL17               0.000000            0.000000            0.000000   \n",
       "\n",
       "           AAAGATGAGCGCCTCA.1  AAAGATGCACCTCGTT.1  AAAGCAACACATGTGT.1  \\\n",
       "LINC00115            0.000000            0.000000            0.000000   \n",
       "FAM41C               0.000000            0.000000            0.000000   \n",
       "SAMD11               0.691065            0.568102            0.674496   \n",
       "NOC2L                0.622487            0.667893            0.733473   \n",
       "KLHL17               0.000000            0.000000            0.000000   \n",
       "\n",
       "           AAAGCAACACGAAACG.1  AAAGCAATCACCACCT.1  AAAGCAATCGGCTACG.1  \\\n",
       "LINC00115            0.000000            0.270704            0.000000   \n",
       "FAM41C               0.000000            0.000000            0.220684   \n",
       "SAMD11               0.471373            0.723704            0.809273   \n",
       "NOC2L                0.925025            0.709091            0.755430   \n",
       "KLHL17               0.000000            0.000000            0.206178   \n",
       "\n",
       "           AAAGCAATCGTAGGAG.1  ...  TTTGCGCAGCCATCGC  TTTGCGCCATTGGCGC  \\\n",
       "LINC00115            0.000000  ...          0.000000          0.000000   \n",
       "FAM41C               0.000000  ...          0.000000          0.000000   \n",
       "SAMD11               0.570311  ...          0.000000          0.255445   \n",
       "NOC2L                0.325098  ...          0.514605          0.774811   \n",
       "KLHL17               0.000000  ...          0.000000          0.000000   \n",
       "\n",
       "           TTTGCGCGTCTCCACT  TTTGGTTCATGGTTGT  TTTGTCAAGAAACGCC  \\\n",
       "LINC00115          0.240701          0.000000           0.00000   \n",
       "FAM41C             0.217938          0.000000           0.00000   \n",
       "SAMD11             0.000000          0.000000           0.00000   \n",
       "NOC2L              0.496577          0.509846           0.74484   \n",
       "KLHL17             0.000000          0.000000           0.00000   \n",
       "\n",
       "           TTTGTCAAGATCTGAA  TTTGTCAGTCAGATAA  TTTGTCAGTCCTGCTT  \\\n",
       "LINC00115           0.00000          0.000000          0.000000   \n",
       "FAM41C              0.00000          0.000000          0.000000   \n",
       "SAMD11              0.56927          0.000000          0.370044   \n",
       "NOC2L               0.35183          0.380048          0.797988   \n",
       "KLHL17              0.00000          0.000000          0.000000   \n",
       "\n",
       "           TTTGTCAGTCGCGTGT  TTTGTCAGTTCCAACA  \n",
       "LINC00115          0.000000          0.000000  \n",
       "FAM41C             0.000000          0.000000  \n",
       "SAMD11             0.324666          0.497933  \n",
       "NOC2L              0.761092          0.403176  \n",
       "KLHL17             0.000000          0.229338  \n",
       "\n",
       "[5 rows x 12338 columns]"
      ]
     },
     "execution_count": 13,
     "metadata": {},
     "output_type": "execute_result"
    }
   ],
   "source": [
    "data_file_path = '/Users/elise/Desktop/GitHub/Hubness_sc/data/Ewing_PDX_normalized/pdx3_merged.txt'\n",
    "data = pd.read_csv(data_file_path, index_col=0, header=0, sep=\" \")\n",
    "print(data.shape)\n",
    "print(np.mean(np.sum(data,axis=0)))\n",
    "print(np.mean(np.sum(data!=0,axis=0)))\n",
    "data.head(5)"
   ]
  },
  {
   "cell_type": "code",
   "execution_count": 14,
   "metadata": {},
   "outputs": [],
   "source": [
    "scentropy = scEntropy.scEntropy(data, ref_vec=None, option='predefined')"
   ]
  },
  {
   "cell_type": "code",
   "execution_count": 15,
   "metadata": {},
   "outputs": [
    {
     "data": {
      "image/png": "[encoded data removed]",
      "text/plain": [
       "<Figure size 432x288 with 1 Axes>"
      ]
     },
     "metadata": {
      "needs_background": "light"
     },
     "output_type": "display_data"
    }
   ],
   "source": [
    "plt.plot(scentropy)\n",
    "plt.show;"
   ]
  },
  {
   "cell_type": "code",
   "execution_count": 16,
   "metadata": {},
   "outputs": [],
   "source": [
    "np.savetxt('/Users/elise/Desktop/GitHub/Hubness_sc/data/Ewing_PDX_normalized/entropy_lei/pdx3_merged_scentropy_v1.csv',\n",
    "             scentropy)"
   ]
  },
  {
   "cell_type": "code",
   "execution_count": 17,
   "metadata": {},
   "outputs": [
    {
     "data": {
      "image/png": "[encoded data removed]",
      "text/plain": [
       "<Figure size 432x288 with 1 Axes>"
      ]
     },
     "metadata": {
      "needs_background": "light"
     },
     "output_type": "display_data"
    }
   ],
   "source": [
    "plt.hist(scentropy)\n",
    "plt.show;"
   ]
  },
  {
   "cell_type": "code",
   "execution_count": null,
   "metadata": {},
   "outputs": [],
   "source": []
  }
 ],
 "metadata": {
  "kernelspec": {
   "display_name": "Python 3",
   "language": "python",
   "name": "python3"
  },
  "language_info": {
   "codemirror_mode": {
    "name": "ipython",
    "version": 3
   },
   "file_extension": ".py",
   "mimetype": "text/x-python",
   "name": "python",
   "nbconvert_exporter": "python",
   "pygments_lexer": "ipython3",
   "version": "3.7.2"
  }
 },
 "nbformat": 4,
 "nbformat_minor": 2
}
